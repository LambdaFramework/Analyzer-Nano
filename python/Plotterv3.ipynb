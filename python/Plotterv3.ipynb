{
 "cells": [
  {
   "cell_type": "markdown",
   "metadata": {},
   "source": [
    "# Simple Plotter"
   ]
  },
  {
   "cell_type": "code",
   "execution_count": 1,
   "metadata": {},
   "outputs": [
    {
     "name": "stdout",
     "output_type": "stream",
     "text": [
      "Welcome to JupyROOT 6.12/06\n"
     ]
    },
    {
     "data": {
      "text/plain": [
       "0L"
      ]
     },
     "execution_count": 1,
     "metadata": {},
     "output_type": "execute_result"
    }
   ],
   "source": [
    "import os, multiprocessing, sys\n",
    "import copy\n",
    "import math\n",
    "from array import array\n",
    "from ROOT import ROOT, gROOT, gStyle, gRandom, TSystemDirectory\n",
    "from ROOT import TFile, TChain, TTree, TCut, TH1, TH1F, TH2F, THStack, TGraph, TGraphAsymmErrors\n",
    "from ROOT import TStyle, TCanvas, TPad\n",
    "from ROOT import TLegend, TLatex, TText, TLine, TBox\n",
    "import time\n",
    "\n",
    "cwd=os.getcwd()\n",
    "sys.path.append(cwd+\"/Utils/\")\n",
    "\n",
    "from drawLambda import *\n",
    "from variables import *\n",
    "from selections_SSLep import *\n",
    "from samplesVH import *\n",
    "\n",
    "gROOT.SetBatch(True)\n",
    "gStyle.SetOptStat(0)\n",
    "gROOT.Macro('functions.C')"
   ]
  },
  {
   "cell_type": "markdown",
   "metadata": {},
   "source": [
    "# Environment Path and Options"
   ]
  },
  {
   "cell_type": "code",
   "execution_count": 2,
   "metadata": {},
   "outputs": [],
   "source": [
    "NTUPLEDIR   = \"/Users/shoh/Projects/CMS/PhD/Analysis/SSL/datav8-skim/\"\n",
    "LUMI        = 35800. # pb-1                                                                                                                \n",
    "data = [\"data_obs\"]\n",
    "#back = [ \"ttV\", \"WJetsToLNu\", \"TTbar-SL\", \"WW\", \"WZ\", \"ST\", \"TTbar-DiLep\", \"DYJetsToLL\" ]                                                 \n",
    "back = [ \"ttV\" , \"WW\" ,\"WZ\" , \"TTbar-SL\", \"ST\", \"TTbar-DiLep\", \"WJetsToLNu\" , \"DYJetsToLL\" ]\n",
    "sign=[]\n",
    "BLIND=False\n",
    "POISSON= False\n",
    "SIGNAL      = 1.\n",
    "RATIO       = 4\n",
    "jobs        = []"
   ]
  },
  {
   "cell_type": "markdown",
   "metadata": {},
   "source": [
    "# Selection option"
   ]
  },
  {
   "cell_type": "code",
   "execution_count": 3,
   "metadata": {},
   "outputs": [
    {
     "name": "stdout",
     "output_type": "stream",
     "text": [
      "CHOOSE SELECTION\n"
     ]
    },
    {
     "data": {
      "text/html": [
       "<div>\n",
       "<style>\n",
       "    .dataframe thead tr:only-child th {\n",
       "        text-align: right;\n",
       "    }\n",
       "\n",
       "    .dataframe thead th {\n",
       "        text-align: left;\n",
       "    }\n",
       "\n",
       "    .dataframe tbody tr th {\n",
       "        vertical-align: top;\n",
       "    }\n",
       "</style>\n",
       "<table border=\"1\" class=\"dataframe\">\n",
       "  <thead>\n",
       "    <tr style=\"text-align: right;\">\n",
       "      <th></th>\n",
       "      <th>Selection Region</th>\n",
       "      <th>Description</th>\n",
       "    </tr>\n",
       "  </thead>\n",
       "  <tbody>\n",
       "    <tr>\n",
       "      <th>0</th>\n",
       "      <td>Shoot</td>\n",
       "      <td>(( (HLT_IsoMu22 || HLT_IsoMu22_eta2p1 || HLT_IsoTkMu22_eta2p1 || HLT_IsoMu24 || HLT_IsoTkMu24 || HLT_Mu45_eta2p1 || HLT_Mu50) ) &amp;&amp; ( (( nJet&gt;2 ) &amp;&amp; ( 1==1 &amp;&amp; (Muon_charge[0]!=Muon_charge[0]) &amp;&amp; abs(Jet_eta)&lt;2.5 &amp;&amp; Jet_pt&gt;30 )) ))</td>\n",
       "    </tr>\n",
       "    <tr>\n",
       "      <th>1</th>\n",
       "      <td>SSSF</td>\n",
       "      <td>(( (HLT_IsoMu22 || HLT_IsoMu22_eta2p1 || HLT_IsoTkMu22_eta2p1 || HLT_IsoMu24 || HLT_IsoTkMu24 || HLT_Mu45_eta2p1 || HLT_Mu50) ) &amp;&amp; ( (( nJet&gt;2 ) &amp;&amp; ( 1==1 &amp;&amp; (Muon_charge[0]==Muon_charge[1]) )) ))</td>\n",
       "    </tr>\n",
       "    <tr>\n",
       "      <th>2</th>\n",
       "      <td>SSOF</td>\n",
       "      <td>(( (HLT_IsoMu22 || HLT_IsoMu22_eta2p1 || HLT_IsoTkMu22_eta2p1 || HLT_IsoMu24 || HLT_IsoTkMu24 || HLT_Mu45_eta2p1 || HLT_Mu50) ) &amp;&amp; ( (( nJet&gt;2 ) &amp;&amp; ( 1==1 &amp;&amp; (Muon_charge[0]==Electron_charge[0]) )) ))</td>\n",
       "    </tr>\n",
       "    <tr>\n",
       "      <th>3</th>\n",
       "      <td>Trigger</td>\n",
       "      <td>(( (HLT_IsoMu22 || HLT_IsoMu22_eta2p1 || HLT_IsoTkMu22_eta2p1 || HLT_IsoMu24 || HLT_IsoTkMu24 || HLT_Mu45_eta2p1 || HLT_Mu50) ) &amp;&amp; ( 1==1 ))</td>\n",
       "    </tr>\n",
       "    <tr>\n",
       "      <th>4</th>\n",
       "      <td>OSZmass</td>\n",
       "      <td>(( (( (HLT_IsoMu22 || HLT_IsoMu22_eta2p1 || HLT_IsoTkMu22_eta2p1 || HLT_IsoMu24 || HLT_IsoTkMu24 || HLT_Mu45_eta2p1 || HLT_Mu50) ) &amp;&amp; ( (( nJet&gt;2 ) &amp;&amp; ( 1==1 &amp;&amp; (Muon_charge[0]!=Muon_charge[1]) &amp;&amp; nMuon==2 )) )) ) &amp;&amp; ( 60 &lt; invariantMass(Muon_pt[0], Muon_eta[0], Muon_phi[0], Muon_mass[0], Muon_pt[1], Muon_eta[1], Muon_phi[1], Muon_mass[1]) &amp;&amp; invariantMass(Muon_pt[0], Muon_eta[0], Muon_phi[0], Muon_mass[0], Muon_pt[1], Muon_eta[1], Muon_phi[1], Muon_mass[1]) &lt; 120 ))</td>\n",
       "    </tr>\n",
       "    <tr>\n",
       "      <th>5</th>\n",
       "      <td>OSSF</td>\n",
       "      <td>(( (HLT_IsoMu22 || HLT_IsoMu22_eta2p1 || HLT_IsoTkMu22_eta2p1 || HLT_IsoMu24 || HLT_IsoTkMu24 || HLT_Mu45_eta2p1 || HLT_Mu50) ) &amp;&amp; ( (( nJet&gt;2 ) &amp;&amp; ( (Muon_charge[0]!=Muon_charge[1]) &amp;&amp; Muon_pt[0]&gt;30 &amp;&amp; Muon_pt[1]&gt;15 &amp;&amp; Muon_pfRelIso03_all[0]&lt;0.1 )) ))</td>\n",
       "    </tr>\n",
       "    <tr>\n",
       "      <th>6</th>\n",
       "      <td>OSOF</td>\n",
       "      <td>(( (HLT_IsoMu22 || HLT_IsoMu22_eta2p1 || HLT_IsoTkMu22_eta2p1 || HLT_IsoMu24 || HLT_IsoTkMu24 || HLT_Mu45_eta2p1 || HLT_Mu50) ) &amp;&amp; ( (( nJet&gt;2 ) &amp;&amp; ( 1==1 &amp;&amp; ( Muon_charge[0]!=Electron_charge[0] ) &amp;&amp; Muon_pt[0]&gt;27 &amp;&amp; Electron_pt[0]&gt;25 &amp;&amp; Muon_pfRelIso03_all[0]&lt;0.1 &amp;&amp; Muon_mediumId[0]==1 &amp;&amp; Electron_pfRelIso03_all[0]&lt;0.1 )) ))</td>\n",
       "    </tr>\n",
       "  </tbody>\n",
       "</table>\n",
       "</div>"
      ],
      "text/plain": [
       "  Selection Region  \\\n",
       "0            Shoot   \n",
       "1             SSSF   \n",
       "2             SSOF   \n",
       "3          Trigger   \n",
       "4          OSZmass   \n",
       "5             OSSF   \n",
       "6             OSOF   \n",
       "\n",
       "                                                                                                                                                                                                                                                                                                                                                                                                                                                                               Description  \n",
       "0                                                                                                                                                                                                                                                    (( (HLT_IsoMu22 || HLT_IsoMu22_eta2p1 || HLT_IsoTkMu22_eta2p1 || HLT_IsoMu24 || HLT_IsoTkMu24 || HLT_Mu45_eta2p1 || HLT_Mu50) ) && ( (( nJet>2 ) && ( 1==1 && (Muon_charge[0]!=Muon_charge[0]) && abs(Jet_eta)<2.5 && Jet_pt>30 )) ))  \n",
       "1                                                                                                                                                                                                                                                                                     (( (HLT_IsoMu22 || HLT_IsoMu22_eta2p1 || HLT_IsoTkMu22_eta2p1 || HLT_IsoMu24 || HLT_IsoTkMu24 || HLT_Mu45_eta2p1 || HLT_Mu50) ) && ( (( nJet>2 ) && ( 1==1 && (Muon_charge[0]==Muon_charge[1]) )) ))  \n",
       "2                                                                                                                                                                                                                                                                                 (( (HLT_IsoMu22 || HLT_IsoMu22_eta2p1 || HLT_IsoTkMu22_eta2p1 || HLT_IsoMu24 || HLT_IsoTkMu24 || HLT_Mu45_eta2p1 || HLT_Mu50) ) && ( (( nJet>2 ) && ( 1==1 && (Muon_charge[0]==Electron_charge[0]) )) ))  \n",
       "3                                                                                                                                                                                                                                                                                                                                             (( (HLT_IsoMu22 || HLT_IsoMu22_eta2p1 || HLT_IsoTkMu22_eta2p1 || HLT_IsoMu24 || HLT_IsoTkMu24 || HLT_Mu45_eta2p1 || HLT_Mu50) ) && ( 1==1 ))  \n",
       "4  (( (( (HLT_IsoMu22 || HLT_IsoMu22_eta2p1 || HLT_IsoTkMu22_eta2p1 || HLT_IsoMu24 || HLT_IsoTkMu24 || HLT_Mu45_eta2p1 || HLT_Mu50) ) && ( (( nJet>2 ) && ( 1==1 && (Muon_charge[0]!=Muon_charge[1]) && nMuon==2 )) )) ) && ( 60 < invariantMass(Muon_pt[0], Muon_eta[0], Muon_phi[0], Muon_mass[0], Muon_pt[1], Muon_eta[1], Muon_phi[1], Muon_mass[1]) && invariantMass(Muon_pt[0], Muon_eta[0], Muon_phi[0], Muon_mass[0], Muon_pt[1], Muon_eta[1], Muon_phi[1], Muon_mass[1]) < 120 ))  \n",
       "5                                                                                                                                                                                                                             (( (HLT_IsoMu22 || HLT_IsoMu22_eta2p1 || HLT_IsoTkMu22_eta2p1 || HLT_IsoMu24 || HLT_IsoTkMu24 || HLT_Mu45_eta2p1 || HLT_Mu50) ) && ( (( nJet>2 ) && ( (Muon_charge[0]!=Muon_charge[1]) && Muon_pt[0]>30 && Muon_pt[1]>15 && Muon_pfRelIso03_all[0]<0.1 )) ))  \n",
       "6                                                                                                                                                  (( (HLT_IsoMu22 || HLT_IsoMu22_eta2p1 || HLT_IsoTkMu22_eta2p1 || HLT_IsoMu24 || HLT_IsoTkMu24 || HLT_Mu45_eta2p1 || HLT_Mu50) ) && ( (( nJet>2 ) && ( 1==1 && ( Muon_charge[0]!=Electron_charge[0] ) && Muon_pt[0]>27 && Electron_pt[0]>25 && Muon_pfRelIso03_all[0]<0.1 && Muon_mediumId[0]==1 && Electron_pfRelIso03_all[0]<0.1 )) ))  "
      ]
     },
     "metadata": {},
     "output_type": "display_data"
    }
   ],
   "source": [
    "import pandas as pd\n",
    "from collections import OrderedDict\n",
    "from IPython.display import display, HTML\n",
    "pd.set_option('display.max_colwidth',10000)\n",
    "ALLTABLE={}\n",
    "TABLE=[]\n",
    "#Selection=['OSSF','OSOF','SSSF','SSOF']\n",
    "for sel in selection:\n",
    "    TABLE.append(OrderedDict({\n",
    "        'Selection Region' : sel,\n",
    "        'Description' : selection[sel]\n",
    "    }))\n",
    "\n",
    "ALLTABLE=pd.DataFrame(TABLE)\n",
    "print \"CHOOSE SELECTION\"\n",
    "display(ALLTABLE)"
   ]
  },
  {
   "cell_type": "code",
   "execution_count": 4,
   "metadata": {},
   "outputs": [
    {
     "name": "stdout",
     "output_type": "stream",
     "text": [
      "Selected (( (HLT_IsoMu22 || HLT_IsoMu22_eta2p1 || HLT_IsoTkMu22_eta2p1 || HLT_IsoMu24 || HLT_IsoTkMu24 || HLT_Mu45_eta2p1 || HLT_Mu50) ) && ( (( nJet>2 ) && ( (Muon_charge[0]!=Muon_charge[1]) && Muon_pt[0]>30 && Muon_pt[1]>15 && Muon_pfRelIso03_all[0]<0.1 )) ))\n"
     ]
    }
   ],
   "source": [
    "#var=\"MHTju_pt\"\n",
    "var=\"Zmass\"\n",
    "cr=\"OSSF\"\n",
    "cut=selection[cr]\n",
    "primaryDataset = getPrimaryDataset(cut)\n",
    "print \"Selected\", selection[cr]"
   ]
  },
  {
   "cell_type": "code",
   "execution_count": 5,
   "metadata": {},
   "outputs": [
    {
     "name": "stdout",
     "output_type": "stream",
     "text": [
      "DATA, NO HLT :  SingleMuonRun2016B-03Feb2017_ver1-v1\n",
      "DATA, NO HLT :  SingleMuonRun2016B-03Feb2017_ver2-v2\n",
      "DATA, NO HLT :  SingleMuonRun2016C-03Feb2017-v1\n",
      "DATA, NO HLT :  SingleMuonRun2016D-03Feb2017-v1\n",
      "DATA, NO HLT :  SingleMuonRun2016E-03Feb2017-v1\n",
      "DATA, NO HLT :  SingleMuonRun2016F-03Feb2017-v1\n",
      "DATA, NO HLT :  SingleMuonRun2016G-03Feb2017-v1\n",
      "DATA, NO HLT :  SingleMuonRun2016H-03Feb2017_ver2-v1\n",
      "DATA, NO HLT :  SingleMuonRun2016H-03Feb2017_ver3-v1\n",
      "MC, With HLT :  TTWJetsToLNu_TuneCUETP8M1_13TeV-amcatnloFXFX-madspin-pythia8_ext1-v3\n",
      "MC, With HLT :  TTZToLLNuNu_M-10_TuneCUETP8M1_13TeV-amcatnlo-pythia8_ext1-v1\n",
      "MC, With HLT :  ttHToNonbb_M125_TuneCUETP8M2_ttHtranche3_13TeV-powheg-pythia8-v1\n",
      "MC, With HLT :  WW_TuneCUETP8M1_13TeV-pythia8_ext1-v1\n",
      "MC, With HLT :  WZTo3LNu_TuneCUETP8M1_13TeV-powheg-pythia8-v1\n",
      "MC, With HLT :  TTJets_SingleLeptFromT_TuneCUETP8M1_13TeV-madgraphMLM-pythia8_ext1-v1\n",
      "MC, With HLT :  TTJets_SingleLeptFromTbar_TuneCUETP8M1_13TeV-madgraphMLM-pythia8_ext1-v1\n",
      "MC, With HLT :  ST_s-channel_4f_leptonDecays_13TeV-amcatnlo-pythia8_TuneCUETP8M1-v1\n",
      "MC, With HLT :  ST_t-channel_antitop_4f_inclusiveDecays_13TeV-powhegV2-madspin-pythia8_TuneCUETP8M1-v1\n",
      "MC, With HLT :  ST_t-channel_top_4f_inclusiveDecays_13TeV-powhegV2-madspin-pythia8_TuneCUETP8M1-v1\n",
      "MC, With HLT :  ST_tW_antitop_5f_inclusiveDecays_13TeV-powheg-pythia8_TuneCUETP8M2T4-v1\n",
      "MC, With HLT :  ST_tW_top_5f_inclusiveDecays_13TeV-powheg-pythia8_TuneCUETP8M2T4-v1\n",
      "MC, With HLT :  TTJets_DiLept_TuneCUETP8M1_13TeV-madgraphMLM-pythia8_ext1-v1\n",
      "MC, With HLT :  WJetsToLNu_TuneCUETP8M1_13TeV-amcatnloFXFX-pythia8-v1\n",
      "MC, With HLT :  DYJetsToLL_M-10to50_TuneCUETP8M1_13TeV-amcatnloFXFX-pythia8-v1\n",
      "MC, With HLT :  DYJetsToLL_M-50_TuneCUETP8M1_13TeV-madgraphMLM-pythia8_ext1-v2\n",
      "  Ratio:\t1.018 +- 0.001\n",
      "Sample                  Events          Entries         %\n",
      "--------------------------------------------------------------------------------\n",
      "data_obs             \t3778047.00 \t3778047    \t101.84     %\n",
      "--------------------------------------------------------------------------------\n",
      "TTbar-DiLep          \t148809.64  \t1063208    \t4.01       %\n",
      "WJetsToLNu           \t81527.73   \t813        \t2.20       %\n",
      "TTbar-SL             \t125327.47  \t465367     \t3.38       %\n",
      "ST                   \t2656.97    \t21511      \t0.07       %\n",
      "WW                   \t3434.65    \t6489       \t0.09       %\n",
      "ttV                  \t857.89     \t150455     \t0.02       %\n",
      "DYJetsToLL           \t3346305.09 \t751643     \t90.21      %\n",
      "WZ                   \t735.71     \t55521      \t0.02       %\n",
      "--------------------------------------------------------------------------------\n",
      "BkgSum               \t3709655.13 \t2515007    \t100.00     %\n",
      "--------------------------------------------------------------------------------\n",
      "--------------------------------------------------------------------------------\n",
      "DATA, NO HLT :  SingleMuonRun2016B-03Feb2017_ver1-v1\n",
      "DATA, NO HLT :  SingleMuonRun2016B-03Feb2017_ver2-v2\n",
      "DATA, NO HLT :  SingleMuonRun2016C-03Feb2017-v1\n",
      "DATA, NO HLT :  SingleMuonRun2016D-03Feb2017-v1\n",
      "DATA, NO HLT :  SingleMuonRun2016E-03Feb2017-v1\n",
      "DATA, NO HLT :  SingleMuonRun2016F-03Feb2017-v1\n",
      "DATA, NO HLT :  SingleMuonRun2016G-03Feb2017-v1\n",
      "DATA, NO HLT :  SingleMuonRun2016H-03Feb2017_ver2-v1\n",
      "DATA, NO HLT :  SingleMuonRun2016H-03Feb2017_ver3-v1\n",
      "MC, With HLT :  TTWJetsToLNu_TuneCUETP8M1_13TeV-amcatnloFXFX-madspin-pythia8_ext1-v3\n",
      "MC, With HLT :  TTZToLLNuNu_M-10_TuneCUETP8M1_13TeV-amcatnlo-pythia8_ext1-v1\n",
      "MC, With HLT :  ttHToNonbb_M125_TuneCUETP8M2_ttHtranche3_13TeV-powheg-pythia8-v1\n",
      "MC, With HLT :  WW_TuneCUETP8M1_13TeV-pythia8_ext1-v1\n",
      "MC, With HLT :  WZTo3LNu_TuneCUETP8M1_13TeV-powheg-pythia8-v1\n",
      "MC, With HLT :  TTJets_SingleLeptFromT_TuneCUETP8M1_13TeV-madgraphMLM-pythia8_ext1-v1\n",
      "MC, With HLT :  TTJets_SingleLeptFromTbar_TuneCUETP8M1_13TeV-madgraphMLM-pythia8_ext1-v1\n",
      "MC, With HLT :  ST_s-channel_4f_leptonDecays_13TeV-amcatnlo-pythia8_TuneCUETP8M1-v1\n",
      "MC, With HLT :  ST_t-channel_antitop_4f_inclusiveDecays_13TeV-powhegV2-madspin-pythia8_TuneCUETP8M1-v1\n",
      "MC, With HLT :  ST_t-channel_top_4f_inclusiveDecays_13TeV-powhegV2-madspin-pythia8_TuneCUETP8M1-v1\n",
      "MC, With HLT :  ST_tW_antitop_5f_inclusiveDecays_13TeV-powheg-pythia8_TuneCUETP8M2T4-v1\n",
      "MC, With HLT :  ST_tW_top_5f_inclusiveDecays_13TeV-powheg-pythia8_TuneCUETP8M2T4-v1\n",
      "MC, With HLT :  TTJets_DiLept_TuneCUETP8M1_13TeV-madgraphMLM-pythia8_ext1-v1\n",
      "MC, With HLT :  WJetsToLNu_TuneCUETP8M1_13TeV-amcatnloFXFX-pythia8-v1\n",
      "MC, With HLT :  DYJetsToLL_M-10to50_TuneCUETP8M1_13TeV-amcatnloFXFX-pythia8-v1\n",
      "MC, With HLT :  DYJetsToLL_M-50_TuneCUETP8M1_13TeV-madgraphMLM-pythia8_ext1-v2\n",
      "  Ratio:\t1.019 +- 0.001\n",
      "Sample                  Events          Entries         %\n",
      "--------------------------------------------------------------------------------\n",
      "data_obs             \t3778047.00 \t3778047    \t101.89     %\n",
      "--------------------------------------------------------------------------------\n",
      "TTbar-DiLep          \t148825.21  \t1063208    \t4.01       %\n",
      "WJetsToLNu           \t81527.78   \t813        \t2.20       %\n",
      "TTbar-SL             \t125354.44  \t465367     \t3.38       %\n",
      "ST                   \t2656.98    \t21511      \t0.07       %\n",
      "WW                   \t3434.63    \t6489       \t0.09       %\n",
      "ttV                  \t857.92     \t150455     \t0.02       %\n",
      "DYJetsToLL           \t3344718.33 \t751643     \t90.20      %\n",
      "WZ                   \t735.73     \t55521      \t0.02       %\n",
      "--------------------------------------------------------------------------------\n",
      "BkgSum               \t3708111.05 \t2515007    \t100.00     %\n",
      "--------------------------------------------------------------------------------\n",
      "--------------------------------------------------------------------------------\n"
     ]
    },
    {
     "name": "stderr",
     "output_type": "stream",
     "text": [
      "Info in <TCanvas::MakeDefCanvas>:  created default TCanvas with name c1\n",
      "Warning in <TCanvas::Constructor>: Deleting canvas with same name: c1\n",
      "Warning in <TROOT::Append>: Replacing existing TH1: SingleMuonRun2016B-03Feb2017_ver1-v1 (Potential memory leak).\n",
      "Warning in <TROOT::Append>: Replacing existing TH1: TTWJetsToLNu_TuneCUETP8M1_13TeV-amcatnloFXFX-madspin-pythia8_ext1-v3 (Potential memory leak).\n",
      "Warning in <TROOT::Append>: Replacing existing TH1: WW_TuneCUETP8M1_13TeV-pythia8_ext1-v1 (Potential memory leak).\n",
      "Warning in <TROOT::Append>: Replacing existing TH1: WZTo3LNu_TuneCUETP8M1_13TeV-powheg-pythia8-v1 (Potential memory leak).\n",
      "Warning in <TROOT::Append>: Replacing existing TH1: TTJets_SingleLeptFromT_TuneCUETP8M1_13TeV-madgraphMLM-pythia8_ext1-v1 (Potential memory leak).\n",
      "Warning in <TROOT::Append>: Replacing existing TH1: ST_s-channel_4f_leptonDecays_13TeV-amcatnlo-pythia8_TuneCUETP8M1-v1 (Potential memory leak).\n",
      "Warning in <TROOT::Append>: Replacing existing TH1: TTJets_DiLept_TuneCUETP8M1_13TeV-madgraphMLM-pythia8_ext1-v1 (Potential memory leak).\n",
      "Warning in <TROOT::Append>: Replacing existing TH1: WJetsToLNu_TuneCUETP8M1_13TeV-amcatnloFXFX-pythia8-v1 (Potential memory leak).\n",
      "Warning in <TROOT::Append>: Replacing existing TH1: DYJetsToLL_M-10to50_TuneCUETP8M1_13TeV-amcatnloFXFX-pythia8-v1 (Potential memory leak).\n",
      "Warning in <TCanvas::Constructor>: Deleting canvas with same name: c1\n",
      "Info in <TH1F::Chi2TestX>: There is a bin in h2 with less than 10 effective events.\n",
      "\n"
     ]
    }
   ],
   "source": [
    "CANVAS=[]\n",
    "for var in ['Zmass','Muon_pt[0]']:\n",
    "    \n",
    "    if not BLIND:\n",
    "        processes=data+back\n",
    "    elif BLIND:\n",
    "        processes=back\n",
    "\n",
    "    if not sign:\n",
    "        Histlist=ProjectDraw(var, cut, LUMI, processes, primaryDataset, NTUPLEDIR)\n",
    "    else:\n",
    "        Histlist=ProjectDraw(var, cut, LUMI, processes, primaryDataset, NTUPLEDIR)\n",
    "    if len(back)>0:\n",
    "    #If data_obs present, dummy BkgSum == first background process                                                                                                                                    \n",
    "        Histlist['BkgSum'] = Histlist['data_obs'].Clone(\"BkgSum\") if 'data_obs' in Histlist else Histlist[back[0]].Clone(\"BkgSum\")\n",
    "        Histlist['BkgSum'].Reset(\"MICES\")\n",
    "        Histlist['BkgSum'].SetFillStyle(3003)\n",
    "        Histlist['BkgSum'].SetFillColor(1)\n",
    "    for i, s in enumerate(back): Histlist['BkgSum'].Add(Histlist[s])\n",
    "\n",
    "    if len(back)==0 and len(data)==0:\n",
    "        for i, s in enumerate(sign):\n",
    "            Histlist[s].Scale(1./Histlist[s].Integral())\n",
    "            Histlist[s].SetFillStyle(0)\n",
    "            \n",
    "    if len(data+back)>0:\n",
    "        out = draw(Histlist, data if not BLIND else [], back, sign, SIGNAL, RATIO, POISSON, variable[var]['log'])\n",
    "        out[0].cd(1)\n",
    "        drawCMS(LUMI, \"Preliminary\")\n",
    "        out[0].Update()\n",
    "        printTable(Histlist, sign)\n",
    "    else:\n",
    "        out = drawSignal(Histlist, sign, variable[var]['log'])\n",
    "        out[0].cd(1)\n",
    "        drawCMS(LUMI, \"Simulation\")\n",
    "        out[0].Update()\n",
    "    CANVAS.append(out[0])"
   ]
  },
  {
   "cell_type": "code",
   "execution_count": 6,
   "metadata": {},
   "outputs": [],
   "source": [
    "#ROOT.enableJSVis()\n",
    "#ROOT>disableJSVis()"
   ]
  },
  {
   "cell_type": "code",
   "execution_count": 10,
   "metadata": {},
   "outputs": [
    {
     "ename": "AttributeError",
     "evalue": "'PyROOT_NoneType' object has no attribute 'Draw'",
     "output_type": "error",
     "traceback": [
      "\u001b[0;31m\u001b[0m",
      "\u001b[0;31mAttributeError\u001b[0mTraceback (most recent call last)",
      "\u001b[0;32m<ipython-input-10-4677a20e7876>\u001b[0m in \u001b[0;36m<module>\u001b[0;34m()\u001b[0m\n\u001b[0;32m----> 1\u001b[0;31m \u001b[0mCANVAS\u001b[0m\u001b[0;34m[\u001b[0m\u001b[0;36m0\u001b[0m\u001b[0;34m]\u001b[0m\u001b[0;34m.\u001b[0m\u001b[0mDraw\u001b[0m\u001b[0;34m(\u001b[0m\u001b[0;34m)\u001b[0m\u001b[0;34m\u001b[0m\u001b[0m\n\u001b[0m",
      "\u001b[0;31mAttributeError\u001b[0m: 'PyROOT_NoneType' object has no attribute 'Draw'"
     ]
    }
   ],
   "source": [
    "CANVAS[0].Draw()"
   ]
  },
  {
   "cell_type": "code",
   "execution_count": null,
   "metadata": {},
   "outputs": [],
   "source": []
  }
 ],
 "metadata": {
  "kernelspec": {
   "display_name": "Python 2",
   "language": "python",
   "name": "python2"
  },
  "language_info": {
   "codemirror_mode": {
    "name": "ipython",
    "version": 2
   },
   "file_extension": ".py",
   "mimetype": "text/x-python",
   "name": "python",
   "nbconvert_exporter": "python",
   "pygments_lexer": "ipython2",
   "version": "2.7.10"
  }
 },
 "nbformat": 4,
 "nbformat_minor": 2
}

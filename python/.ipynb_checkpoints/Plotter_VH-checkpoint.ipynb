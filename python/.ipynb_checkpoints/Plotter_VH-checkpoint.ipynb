{
 "cells": [
  {
   "cell_type": "markdown",
   "metadata": {},
   "source": [
    "# Simple Plotter"
   ]
  },
  {
   "cell_type": "code",
   "execution_count": 1,
   "metadata": {
    "ExecuteTime": {
     "end_time": "2018-11-25T13:25:34.234581Z",
     "start_time": "2018-11-25T13:25:30.590417Z"
    }
   },
   "outputs": [
    {
     "name": "stdout",
     "output_type": "stream",
     "text": [
      "Welcome to JupyROOT 6.12/06\n"
     ]
    }
   ],
   "source": [
    "import os, multiprocessing, sys\n",
    "import copy\n",
    "import math\n",
    "from array import array\n",
    "from ROOT import ROOT, gROOT, gStyle, gRandom, TSystemDirectory\n",
    "from ROOT import TFile, TChain, TTree, TCut, TH1, TH1F, TH2F, THStack, TGraph, TGraphAsymmErrors\n",
    "from ROOT import TStyle, TCanvas, TPad\n",
    "from ROOT import TLegend, TLatex, TText, TLine, TBox\n",
    "import time\n",
    "\n",
    "cwd=os.getcwd()\n",
    "sys.path.append(cwd+\"/Utils/\")\n",
    "\n",
    "from drawLambda import *\n",
    "from variables import *\n",
    "from selections_SSLep import *\n",
    "from samplesVH import *\n",
    "\n",
    "gROOT.SetBatch(True)\n",
    "gStyle.SetOptStat(0)\n",
    "gROOT.Macro('functions.C')\n",
    "%jsroot"
   ]
  },
  {
   "cell_type": "markdown",
   "metadata": {},
   "source": [
    "# Environment Path and Options"
   ]
  },
  {
   "cell_type": "code",
   "execution_count": 2,
   "metadata": {
    "ExecuteTime": {
     "end_time": "2018-11-25T13:25:34.303079Z",
     "start_time": "2018-11-25T13:25:34.238669Z"
    }
   },
   "outputs": [],
   "source": [
    "#NTUPLEDIR   = \"/Users/shoh/Projects/CMS/PhD/Analysis/SSL/datav7-skim-MC/\"\n",
    "#NTUPLEDIR   = \"/Users/shoh/Projects/CMS/PhD/Analysis/SSL/datav8-skim/\" ##Zmass decent agreement but low event at tail\n",
    "#NTUPLEDIR   = \"/Users/shoh/Projects/CMS/PhD/Analysis/SSL/VHv9-skim_reprocess_v1/\" ##Zmass BAD\n",
    "#NTUPLEDIR   = \"/Users/shoh/Projects/CMS/PhD/Analysis/SSL/dataset-v09-VH-reprocess/\"\n",
    "#NTUPLEDIR   = \"/Users/shoh/Projects/CMS/PhD/Analysis/SSL/dataset-v10-VH/\"\n",
    "#NTUPLEDIR   = \"/Users/shoh/Projects/CMS/PhD/Analysis/SSL/dataset-v11-VH/\"\n",
    "NTUPLEDIR   = \"/Users/shoh/Projects/CMS/PhD/Analysis/SSL/dataset-v12-VH/\"\n",
    "\n",
    "LUMI        = 35800. # pb-1                                                                                                                \n",
    "data = [\"data_obs\"]\n",
    "#back = [ \"ttV\", \"WJetsToLNu\", \"TTbar-SL\", \"WW\", \"WZ\", \"ST\", \"TTbar-DiLep\", \"DYJetsToLL_Pt\" ]   #DYJetsToLL\n",
    "#\"VVV\", \"WHWW\", \"VGamma\", \n",
    "back = [\"VVV\", \"ttV\" , \"WW\", \"WZ\", \"TTbar-SL\", \"ST\", \"TTbar-DiLep\", \"WJetsToLNu_HT\", \"DYJetsToLL\" ] #WJetsToLNu, \"VVV\"\n",
    "sign=[]\n",
    "BLIND=False\n",
    "POISSON= False\n",
    "SIGNAL      = 1.\n",
    "RATIO       = 4\n",
    "jobs        = []"
   ]
  },
  {
   "cell_type": "markdown",
   "metadata": {},
   "source": [
    "# Selection option"
   ]
  },
  {
   "cell_type": "code",
   "execution_count": 3,
   "metadata": {
    "ExecuteTime": {
     "end_time": "2018-11-25T13:25:35.391757Z",
     "start_time": "2018-11-25T13:25:34.313880Z"
    }
   },
   "outputs": [
    {
     "name": "stdout",
     "output_type": "stream",
     "text": [
      "CHOOSE SELECTION\n"
     ]
    },
    {
     "data": {
      "text/html": [
       "<div>\n",
       "<style>\n",
       "    .dataframe thead tr:only-child th {\n",
       "        text-align: right;\n",
       "    }\n",
       "\n",
       "    .dataframe thead th {\n",
       "        text-align: left;\n",
       "    }\n",
       "\n",
       "    .dataframe tbody tr th {\n",
       "        vertical-align: top;\n",
       "    }\n",
       "</style>\n",
       "<table border=\"1\" class=\"dataframe\">\n",
       "  <thead>\n",
       "    <tr style=\"text-align: right;\">\n",
       "      <th></th>\n",
       "      <th>Selection Region</th>\n",
       "      <th>Description</th>\n",
       "    </tr>\n",
       "  </thead>\n",
       "  <tbody>\n",
       "    <tr>\n",
       "      <th>0</th>\n",
       "      <td>OSemu</td>\n",
       "      <td>(( (HLT_IsoMu22 || HLT_IsoMu22_eta2p1 || HLT_IsoTkMu22_eta2p1 || HLT_IsoMu24 || HLT_IsoTkMu24 || HLT_Mu45_eta2p1 || HLT_Mu50) ) &amp;&amp; ( (( 1==1 ) &amp;&amp; ( nGoodMuon==1 &amp;&amp; nGoodElectron==1 &amp;&amp; Muon_mediumId[0]==1 &amp;&amp; Electron_cutBased[0]==4 &amp;&amp; MuonJet_MindR[0]&gt;0.4 &amp;&amp; ElecJet_MindR[0]&gt;0.4 &amp;&amp; (Muon_charge[0]!=Electron_charge[0]) &amp;&amp; Muon_pt[0]&gt;27 &amp;&amp; Electron_pt[0]&gt;25 &amp;&amp; Muon_pfRelIso03_all[0]&lt;0.1 &amp;&amp; Electron_pfRelIso03_all[0]&lt;0.1 )) ))</td>\n",
       "    </tr>\n",
       "    <tr>\n",
       "      <th>1</th>\n",
       "      <td>SSmumu2b</td>\n",
       "      <td>(( (HLT_IsoMu22 || HLT_IsoMu22_eta2p1 || HLT_IsoTkMu22_eta2p1 || HLT_IsoMu24 || HLT_IsoTkMu24 || HLT_Mu45_eta2p1 || HLT_Mu50) ) &amp;&amp; ( (( 1==1 ) &amp;&amp; ( (Muon_charge[0]==Muon_charge[1]) &amp;&amp; Muon_pt[0]&gt;25 &amp;&amp; Muon_pt[1]&gt;15 &amp;&amp; Muon_pfRelIso03_all[0]&lt;0.1 &amp;&amp; Jet_btagCSVV2[1]&gt;0.8 )) ))</td>\n",
       "    </tr>\n",
       "    <tr>\n",
       "      <th>2</th>\n",
       "      <td>Trigger</td>\n",
       "      <td>(( (HLT_IsoMu22 || HLT_IsoMu22_eta2p1 || HLT_IsoTkMu22_eta2p1 || HLT_IsoMu24 || HLT_IsoTkMu24 || HLT_Mu45_eta2p1 || HLT_Mu50) ) &amp;&amp; ( 1==1 ))</td>\n",
       "    </tr>\n",
       "    <tr>\n",
       "      <th>3</th>\n",
       "      <td>OSmumu</td>\n",
       "      <td>(( (HLT_IsoMu22 || HLT_IsoMu22_eta2p1 || HLT_IsoTkMu22_eta2p1 || HLT_IsoMu24 || HLT_IsoTkMu24 || HLT_Mu45_eta2p1 || HLT_Mu50) ) &amp;&amp; ( (( 1==1 ) &amp;&amp; ( nGoodMuon==2 &amp;&amp; nGoodElectron==0 &amp;&amp; Muon_mediumId[0]==1 &amp;&amp; Muon_mediumId[1]==1 &amp;&amp; MuonJet_MindR[0]&gt;0.4 &amp;&amp; MuonJet_MindR[1]&gt;0.4 &amp;&amp; (Muon_charge[0]!=Muon_charge[1]) &amp;&amp; Muon_pt[0]&gt;30 &amp;&amp; Muon_pt[1]&gt;15 &amp;&amp; Muon_pfRelIso03_all[0]&lt;0.15 &amp;&amp; Muon_pfRelIso03_all[1]&lt;0.15 )) ))</td>\n",
       "    </tr>\n",
       "    <tr>\n",
       "      <th>4</th>\n",
       "      <td>SSmumu</td>\n",
       "      <td>(( (HLT_IsoMu22 || HLT_IsoMu22_eta2p1 || HLT_IsoTkMu22_eta2p1 || HLT_IsoMu24 || HLT_IsoTkMu24 || HLT_Mu45_eta2p1 || HLT_Mu50) ) &amp;&amp; ( (( 1==1 ) &amp;&amp; ( nGoodMuon==2 &amp;&amp; nGoodElectron==0 &amp;&amp; Muon_mediumId[0]==1 &amp;&amp; Muon_mediumId[1]==1 &amp;&amp; MuonJet_MindR[0]&gt;0.4 &amp;&amp; MuonJet_MindR[1]&gt;0.4 &amp;&amp; (Muon_charge[0]==Muon_charge[1]) &amp;&amp; Muon_pt[0]&gt;25 &amp;&amp; Muon_pt[1]&gt;15 &amp;&amp; Muon_pfRelIso03_all[0]&lt;0.1 )) ))</td>\n",
       "    </tr>\n",
       "    <tr>\n",
       "      <th>5</th>\n",
       "      <td>SSmumu1b</td>\n",
       "      <td>(( (HLT_IsoMu22 || HLT_IsoMu22_eta2p1 || HLT_IsoTkMu22_eta2p1 || HLT_IsoMu24 || HLT_IsoTkMu24 || HLT_Mu45_eta2p1 || HLT_Mu50) ) &amp;&amp; ( (( 1==1 ) &amp;&amp; ( (Muon_charge[0]==Muon_charge[1]) &amp;&amp; Muon_pt[0]&gt;25 &amp;&amp; Muon_pt[1]&gt;15 &amp;&amp; Muon_pfRelIso03_all[0]&lt;0.1 &amp;&amp; Jet_btagCSVV2[0]&gt;0.8 )) ))</td>\n",
       "    </tr>\n",
       "    <tr>\n",
       "      <th>6</th>\n",
       "      <td>DiLepTT</td>\n",
       "      <td>(( (( (HLT_IsoMu22 || HLT_IsoMu22_eta2p1 || HLT_IsoTkMu22_eta2p1 || HLT_IsoMu24 || HLT_IsoTkMu24 || HLT_Mu45_eta2p1 || HLT_Mu50) ) &amp;&amp; ( (( 1==1 ) &amp;&amp; ( Muon_pt[0]&gt;24 &amp;&amp; Electron_pt[0]&gt;20 )) )) ) &amp;&amp; ( invariantMass(Electron_pt[0], Electron_eta[0], Electron_phi[0], Electron_mass[0], Muon_pt[0], Muon_eta[0], Muon_phi[0], Muon_mass[0])&gt;15 ))</td>\n",
       "    </tr>\n",
       "    <tr>\n",
       "      <th>7</th>\n",
       "      <td>OSee</td>\n",
       "      <td>(( (HLT_Ele25_WPTight_Gsf || HLT_Ele27_eta2p1_WPLoose_Gsf || HLT_Ele105_CaloIdVT_GsfTrkIdT) ) &amp;&amp; ( (( 1==1 ) &amp;&amp; ( (Electron_charge[0]!=Electron_charge[1]) &amp;&amp; Electron_pt[0]&gt;25 &amp;&amp; Electron_pt[1]&gt;17 &amp;&amp; Electron_pfRelIso03_all[0]&lt;0.1 &amp;&amp; Electron_pfRelIso03_all[1]&lt;0.1 )) ))</td>\n",
       "    </tr>\n",
       "  </tbody>\n",
       "</table>\n",
       "</div>"
      ],
      "text/plain": [
       "  Selection Region  \\\n",
       "0            OSemu   \n",
       "1         SSmumu2b   \n",
       "2          Trigger   \n",
       "3           OSmumu   \n",
       "4           SSmumu   \n",
       "5         SSmumu1b   \n",
       "6          DiLepTT   \n",
       "7             OSee   \n",
       "\n",
       "                                                                                                                                                                                                                                                                                                                                                                                                                                  Description  \n",
       "0  (( (HLT_IsoMu22 || HLT_IsoMu22_eta2p1 || HLT_IsoTkMu22_eta2p1 || HLT_IsoMu24 || HLT_IsoTkMu24 || HLT_Mu45_eta2p1 || HLT_Mu50) ) && ( (( 1==1 ) && ( nGoodMuon==1 && nGoodElectron==1 && Muon_mediumId[0]==1 && Electron_cutBased[0]==4 && MuonJet_MindR[0]>0.4 && ElecJet_MindR[0]>0.4 && (Muon_charge[0]!=Electron_charge[0]) && Muon_pt[0]>27 && Electron_pt[0]>25 && Muon_pfRelIso03_all[0]<0.1 && Electron_pfRelIso03_all[0]<0.1 )) ))  \n",
       "1                                                                                                                                                          (( (HLT_IsoMu22 || HLT_IsoMu22_eta2p1 || HLT_IsoTkMu22_eta2p1 || HLT_IsoMu24 || HLT_IsoTkMu24 || HLT_Mu45_eta2p1 || HLT_Mu50) ) && ( (( 1==1 ) && ( (Muon_charge[0]==Muon_charge[1]) && Muon_pt[0]>25 && Muon_pt[1]>15 && Muon_pfRelIso03_all[0]<0.1 && Jet_btagCSVV2[1]>0.8 )) ))  \n",
       "2                                                                                                                                                                                                                                                                                                (( (HLT_IsoMu22 || HLT_IsoMu22_eta2p1 || HLT_IsoTkMu22_eta2p1 || HLT_IsoMu24 || HLT_IsoTkMu24 || HLT_Mu45_eta2p1 || HLT_Mu50) ) && ( 1==1 ))  \n",
       "3                (( (HLT_IsoMu22 || HLT_IsoMu22_eta2p1 || HLT_IsoTkMu22_eta2p1 || HLT_IsoMu24 || HLT_IsoTkMu24 || HLT_Mu45_eta2p1 || HLT_Mu50) ) && ( (( 1==1 ) && ( nGoodMuon==2 && nGoodElectron==0 && Muon_mediumId[0]==1 && Muon_mediumId[1]==1 && MuonJet_MindR[0]>0.4 && MuonJet_MindR[1]>0.4 && (Muon_charge[0]!=Muon_charge[1]) && Muon_pt[0]>30 && Muon_pt[1]>15 && Muon_pfRelIso03_all[0]<0.15 && Muon_pfRelIso03_all[1]<0.15 )) ))  \n",
       "4                                                (( (HLT_IsoMu22 || HLT_IsoMu22_eta2p1 || HLT_IsoTkMu22_eta2p1 || HLT_IsoMu24 || HLT_IsoTkMu24 || HLT_Mu45_eta2p1 || HLT_Mu50) ) && ( (( 1==1 ) && ( nGoodMuon==2 && nGoodElectron==0 && Muon_mediumId[0]==1 && Muon_mediumId[1]==1 && MuonJet_MindR[0]>0.4 && MuonJet_MindR[1]>0.4 && (Muon_charge[0]==Muon_charge[1]) && Muon_pt[0]>25 && Muon_pt[1]>15 && Muon_pfRelIso03_all[0]<0.1 )) ))  \n",
       "5                                                                                                                                                          (( (HLT_IsoMu22 || HLT_IsoMu22_eta2p1 || HLT_IsoTkMu22_eta2p1 || HLT_IsoMu24 || HLT_IsoTkMu24 || HLT_Mu45_eta2p1 || HLT_Mu50) ) && ( (( 1==1 ) && ( (Muon_charge[0]==Muon_charge[1]) && Muon_pt[0]>25 && Muon_pt[1]>15 && Muon_pfRelIso03_all[0]<0.1 && Jet_btagCSVV2[0]>0.8 )) ))  \n",
       "6                                                                                          (( (( (HLT_IsoMu22 || HLT_IsoMu22_eta2p1 || HLT_IsoTkMu22_eta2p1 || HLT_IsoMu24 || HLT_IsoTkMu24 || HLT_Mu45_eta2p1 || HLT_Mu50) ) && ( (( 1==1 ) && ( Muon_pt[0]>24 && Electron_pt[0]>20 )) )) ) && ( invariantMass(Electron_pt[0], Electron_eta[0], Electron_phi[0], Electron_mass[0], Muon_pt[0], Muon_eta[0], Muon_phi[0], Muon_mass[0])>15 ))  \n",
       "7                                                                                                                                                              (( (HLT_Ele25_WPTight_Gsf || HLT_Ele27_eta2p1_WPLoose_Gsf || HLT_Ele105_CaloIdVT_GsfTrkIdT) ) && ( (( 1==1 ) && ( (Electron_charge[0]!=Electron_charge[1]) && Electron_pt[0]>25 && Electron_pt[1]>17 && Electron_pfRelIso03_all[0]<0.1 && Electron_pfRelIso03_all[1]<0.1 )) ))  "
      ]
     },
     "metadata": {},
     "output_type": "display_data"
    }
   ],
   "source": [
    "import pandas as pd\n",
    "from collections import OrderedDict\n",
    "from IPython.display import display, HTML\n",
    "pd.set_option('display.max_colwidth',10000)\n",
    "ALLTABLE={}\n",
    "TABLE=[]\n",
    "#Selection=['OSSF','OSOF','SSSF','SSOF']\n",
    "for sel in selection:\n",
    "    TABLE.append(OrderedDict({\n",
    "        'Selection Region' : sel,\n",
    "        'Description' : selection[sel]\n",
    "    }))\n",
    "\n",
    "ALLTABLE=pd.DataFrame(TABLE)\n",
    "print \"CHOOSE SELECTION\"\n",
    "display(ALLTABLE)"
   ]
  },
  {
   "cell_type": "code",
   "execution_count": 4,
   "metadata": {
    "ExecuteTime": {
     "end_time": "2018-11-25T13:25:35.412874Z",
     "start_time": "2018-11-25T13:25:35.397319Z"
    }
   },
   "outputs": [
    {
     "name": "stdout",
     "output_type": "stream",
     "text": [
      "Selected (( (HLT_IsoMu22 || HLT_IsoMu22_eta2p1 || HLT_IsoTkMu22_eta2p1 || HLT_IsoMu24 || HLT_IsoTkMu24 || HLT_Mu45_eta2p1 || HLT_Mu50) ) && ( (( 1==1 ) && ( nGoodMuon==2 && nGoodElectron==0 && Muon_mediumId[0]==1 && Muon_mediumId[1]==1 && MuonJet_MindR[0]>0.4 && MuonJet_MindR[1]>0.4 && (Muon_charge[0]==Muon_charge[1]) && Muon_pt[0]>25 && Muon_pt[1]>15 && Muon_pfRelIso03_all[0]<0.1 )) ))\n"
     ]
    }
   ],
   "source": [
    "#var=\"MHTju_pt\"\n",
    "#var=\"Jet_jetId[0]\"\n",
    "var=\"Zmass\"\n",
    "#var=\"nGoodJet\"\n",
    "#var=\"nJet\"\n",
    "#var=\"nElectron\"\n",
    "#var=\"Zpt\"\n",
    "#var=\"MuonJet_MindR[0]\"\n",
    "cr=\"SSmumu\"\n",
    "#cr=\"Trigger\"\n",
    "primaryDataset = getPrimaryDataset(selection[cr])\n",
    "print \"Selected\", selection[cr]"
   ]
  },
  {
   "cell_type": "code",
   "execution_count": 5,
   "metadata": {
    "ExecuteTime": {
     "end_time": "2018-11-25T13:27:41.151397Z",
     "start_time": "2018-11-25T13:25:35.418749Z"
    },
    "scrolled": true
   },
   "outputs": [
    {
     "name": "stdout",
     "output_type": "stream",
     "text": [
      "Inv( \u001b[92mMuon^(+/-)\u001b[0m , \u001b[92mMuon^(+/-)\u001b[0m )\n",
      "VAR =  invariantMass(Muon_pt[0], Muon_eta[0], Muon_phi[0], Muon_mass[0], Muon_pt[1], Muon_eta[1], Muon_phi[1], Muon_mass[1])\n",
      "\u001b[94mDATA, NO HLT :  SingleMuonRun2016B-03Feb2017_ver1-v1\u001b[0m\n",
      "\u001b[94mDATA, NO HLT :  SingleMuonRun2016B-03Feb2017_ver2-v2\u001b[0m\n",
      "\u001b[94mDATA, NO HLT :  SingleMuonRun2016C-03Feb2017-v1\u001b[0m\n",
      "\u001b[94mDATA, NO HLT :  SingleMuonRun2016D-03Feb2017-v1\u001b[0m\n",
      "\u001b[94mDATA, NO HLT :  SingleMuonRun2016E-03Feb2017-v1\u001b[0m\n",
      "\u001b[94mDATA, NO HLT :  SingleMuonRun2016F-03Feb2017-v1\u001b[0m\n",
      "\u001b[94mDATA, NO HLT :  SingleMuonRun2016G-03Feb2017-v1\u001b[0m\n",
      "\u001b[94mDATA, NO HLT :  SingleMuonRun2016H-03Feb2017_ver2-v1\u001b[0m\n",
      "\u001b[94mDATA, NO HLT :  SingleMuonRun2016H-03Feb2017_ver3-v1\u001b[0m\n",
      "\u001b[35mMC, With HLT :  WWW_4F_TuneCUETP8M1_13TeV-amcatnlo-pythia8-v1\u001b[0m\n",
      "\u001b[35mMC, With HLT :  ZZZ_TuneCUETP8M1_13TeV-amcatnlo-pythia8-v1\u001b[0m\n",
      "\u001b[35mMC, With HLT :  WWZ_TuneCUETP8M1_13TeV-amcatnlo-pythia8-v1\u001b[0m\n",
      "\u001b[35mMC, With HLT :  TTWJetsToLNu_TuneCUETP8M1_13TeV-amcatnloFXFX-madspin-pythia8_ext1-v3\u001b[0m\n",
      "\u001b[35mMC, With HLT :  TTZToLLNuNu_M-10_TuneCUETP8M1_13TeV-amcatnlo-pythia8_ext1-v1\u001b[0m\n",
      "\u001b[35mMC, With HLT :  ttHToNonbb_M125_TuneCUETP8M2_ttHtranche3_13TeV-powheg-pythia8-v1\u001b[0m\n",
      "\u001b[35mMC, With HLT :  WpWpJJ_13TeV-powheg-pythia8_TuneCUETP8M1-v1\u001b[0m\n",
      "\u001b[35mMC, With HLT :  WmWmJJ_13TeV-powheg-pythia8_TuneCUETP8M1-v1\u001b[0m\n",
      "\u001b[35mMC, With HLT :  WZTo3LNu_TuneCUETP8M1_13TeV-amcatnloFXFX-pythia8-v1\u001b[0m\n",
      "\u001b[35mMC, With HLT :  TTJets_SingleLeptFromT_TuneCUETP8M1_13TeV-madgraphMLM-pythia8_ext1-v1\u001b[0m\n",
      "\u001b[35mMC, With HLT :  TTJets_SingleLeptFromTbar_TuneCUETP8M1_13TeV-madgraphMLM-pythia8_ext1-v1\u001b[0m\n",
      "\u001b[35mMC, With HLT :  ST_s-channel_4f_leptonDecays_13TeV-amcatnlo-pythia8_TuneCUETP8M1-v1\u001b[0m\n",
      "\u001b[35mMC, With HLT :  ST_t-channel_antitop_4f_inclusiveDecays_13TeV-powhegV2-madspin-pythia8_TuneCUETP8M1-v1\u001b[0m\n",
      "\u001b[35mMC, With HLT :  ST_t-channel_top_4f_inclusiveDecays_13TeV-powhegV2-madspin-pythia8_TuneCUETP8M1-v1\u001b[0m\n",
      "\u001b[35mMC, With HLT :  ST_tW_antitop_5f_inclusiveDecays_13TeV-powheg-pythia8_TuneCUETP8M2T4-v1\u001b[0m\n",
      "\u001b[35mMC, With HLT :  ST_tW_top_5f_inclusiveDecays_13TeV-powheg-pythia8_TuneCUETP8M2T4-v1\u001b[0m\n",
      "\u001b[35mMC, With HLT :  TTJets_DiLept_TuneCUETP8M1_13TeV-madgraphMLM-pythia8_ext1-v1\u001b[0m\n",
      "\u001b[35mMC, With HLT :  WJetsToLNu_HT-70To100_TuneCUETP8M1_13TeV-madgraphMLM-pythia8-v1\u001b[0m\n",
      "\u001b[35mMC, With HLT :  WJetsToLNu_HT-100To200_TuneCUETP8M1_13TeV-madgraphMLM-pythia8_ext2-v1\u001b[0m\n",
      "\u001b[35mMC, With HLT :  WJetsToLNu_HT-200To400_TuneCUETP8M1_13TeV-madgraphMLM-pythia8_ext2-v1\u001b[0m\n",
      "\u001b[35mMC, With HLT :  WJetsToLNu_HT-400To600_TuneCUETP8M1_13TeV-madgraphMLM-pythia8_ext1-v1\u001b[0m\n",
      "\u001b[35mMC, With HLT :  WJetsToLNu_HT-600To800_TuneCUETP8M1_13TeV-madgraphMLM-pythia8_ext1-v1\u001b[0m\n",
      "\u001b[35mMC, With HLT :  WJetsToLNu_HT-800To1200_TuneCUETP8M1_13TeV-madgraphMLM-pythia8_ext1-v1\u001b[0m\n",
      "\u001b[35mMC, With HLT :  DYJetsToLL_M-10to50_TuneCUETP8M1_13TeV-amcatnloFXFX-pythia8-v1\u001b[0m\n",
      "\u001b[35mMC, With HLT :  DYJetsToLL_M-50_TuneCUETP8M1_13TeV-madgraphMLM-pythia8_ext1-v2\u001b[0m\n"
     ]
    },
    {
     "name": "stderr",
     "output_type": "stream",
     "text": [
      "Info in <TCanvas::MakeDefCanvas>:  created default TCanvas with name c1\n"
     ]
    }
   ],
   "source": [
    "if not BLIND:\n",
    "    processes=data+back\n",
    "elif BLIND:\n",
    "    processes=back\n",
    "\n",
    "if not sign:\n",
    "    Histlist=ProjectDraw(var, cr, LUMI, processes, primaryDataset, NTUPLEDIR)\n",
    "else:\n",
    "    Histlist=ProjectDraw(var, cr, LUMI, processes, primaryDataset, NTUPLEDIR)"
   ]
  },
  {
   "cell_type": "code",
   "execution_count": 6,
   "metadata": {
    "ExecuteTime": {
     "end_time": "2018-11-25T13:27:41.177963Z",
     "start_time": "2018-11-25T13:27:41.159182Z"
    }
   },
   "outputs": [],
   "source": [
    "if len(back)>0:\n",
    "    #If data_obs present, dummy BkgSum == first background process                                                                        \\\n",
    "                                                                                                                                           \n",
    "    Histlist['BkgSum'] = Histlist['data_obs'].Clone(\"BkgSum\") if 'data_obs' in Histlist else Histlist[back[0]].Clone(\"BkgSum\")\n",
    "    Histlist['BkgSum'].Reset(\"MICES\")\n",
    "    Histlist['BkgSum'].SetFillStyle(3003)\n",
    "    Histlist['BkgSum'].SetFillColor(1)\n",
    "    for i, s in enumerate(back): Histlist['BkgSum'].Add(Histlist[s])\n",
    "\n",
    "if len(back)==0 and len(data)==0:\n",
    "    for i, s in enumerate(sign):\n",
    "        Histlist[s].Scale(1./Histlist[s].Integral())\n",
    "        Histlist[s].SetFillStyle(0)"
   ]
  },
  {
   "cell_type": "code",
   "execution_count": 7,
   "metadata": {
    "ExecuteTime": {
     "end_time": "2018-11-25T13:27:41.528951Z",
     "start_time": "2018-11-25T13:27:41.183509Z"
    }
   },
   "outputs": [
    {
     "name": "stdout",
     "output_type": "stream",
     "text": [
      "  Ratio:\t1.225 +- 0.006\n",
      "Sample                  Events          Entries         %\n",
      "--------------------------------------------------------------------------------\n",
      "data_obs             \t84519.00   \t84519      \t122.52     %\n",
      "--------------------------------------------------------------------------------\n",
      "WJetsToLNu_HT        \t11995.17   \t21345      \t17.39      %\n",
      "VVV                  \t21.36      \t762        \t0.03       %\n",
      "TTbar-DiLep          \t11499.25   \t82156      \t16.67      %\n",
      "TTbar-SL             \t42572.49   \t322870     \t61.71      %\n",
      "ttV                  \t132.07     \t26137      \t0.19       %\n",
      "WW                   \t37.78      \t7332       \t0.05       %\n",
      "ST                   \t1160.31    \t9658       \t1.68       %\n",
      "DYJetsToLL           \t1336.41    \t281        \t1.94       %\n",
      "WZ                   \t230.83     \t17420      \t0.33       %\n",
      "--------------------------------------------------------------------------------\n",
      "BkgSum               \t68985.67   \t487961     \t100.00     %\n",
      "--------------------------------------------------------------------------------\n",
      "--------------------------------------------------------------------------------\n"
     ]
    },
    {
     "name": "stderr",
     "output_type": "stream",
     "text": [
      "Warning in <TCanvas::Constructor>: Deleting canvas with same name: c1\n",
      "Info in <TH1F::Chi2TestX>: There is a bin in h2 with less than 10 effective events.\n",
      "\n"
     ]
    }
   ],
   "source": [
    "if len(data+back)>0:\n",
    "    out = draw(Histlist, data if not BLIND else [], back, sign, SIGNAL, RATIO, POISSON, variable[var]['log'])\n",
    "    out[0].cd(1)\n",
    "    drawCMS(LUMI, \"Preliminary\")\n",
    "    out[0].Update()\n",
    "    printTable(Histlist, sign)\n",
    "else:\n",
    "    out = drawSignal(Histlist, sign, variable[var]['log'])\n",
    "    out[0].cd(1)\n",
    "    drawCMS(LUMI, \"Simulation\")\n",
    "    out[0].Update()"
   ]
  },
  {
   "cell_type": "code",
   "execution_count": 8,
   "metadata": {
    "ExecuteTime": {
     "end_time": "2018-11-25T13:27:41.659917Z",
     "start_time": "2018-11-25T13:27:41.536191Z"
    },
    "scrolled": false
   },
   "outputs": [
    {
     "data": {
      "text/html": [
       "\n",
       "<div id=\"root_plot_1\"\n",
       "     style=\"width: 796px; height: 772px\">\n",
       "</div>\n",
       "\n",
       "<script>\n",
       " requirejs.config({\n",
       "     paths: {\n",
       "       'JSRootCore' : 'https://root.cern.ch/js/notebook//scripts/JSRootCore',\n",
       "     }\n",
       "   });\n",
       " require(['JSRootCore'],\n",
       "     function(Core) {\n",
       "       var obj = Core.JSONR_unref({\"_typename\":\"TCanvas\",\"fUniqueID\":0,\"fBits\":53673992,\"fLineColor\":1,\"fLineStyle\":1,\"fLineWidth\":1,\"fFillColor\":0,\"fFillStyle\":1001,\"fLeftMargin\":0.1,\"fRightMargin\":0.1,\"fBottomMargin\":0.1,\"fTopMargin\":0.1,\"fXfile\":2,\"fYfile\":2,\"fAfile\":1,\"fXstat\":0.99,\"fYstat\":0.99,\"fAstat\":2,\"fFrameFillColor\":0,\"fFrameLineColor\":1,\"fFrameFillStyle\":1001,\"fFrameLineStyle\":1,\"fFrameLineWidth\":1,\"fFrameBorderSize\":1,\"fFrameBorderMode\":0,\"fX1\":0,\"fY1\":0,\"fX2\":1,\"fY2\":1,\"fXtoAbsPixelk\":5e-5,\"fXtoPixelk\":5e-5,\"fXtoPixel\":796,\"fYtoAbsPixelk\":772.00005,\"fYtoPixelk\":772.00005,\"fYtoPixel\":-772,\"fUtoAbsPixelk\":5e-5,\"fUtoPixelk\":5e-5,\"fUtoPixel\":796,\"fVtoAbsPixelk\":772.00005,\"fVtoPixelk\":772,\"fVtoPixel\":-772,\"fAbsPixeltoXk\":0,\"fPixeltoXk\":0,\"fPixeltoX\":0.00125628140703518,\"fAbsPixeltoYk\":1,\"fPixeltoYk\":0,\"fPixeltoY\":-0.00129533678756477,\"fXlowNDC\":0,\"fYlowNDC\":0,\"fXUpNDC\":0,\"fYUpNDC\":0,\"fWNDC\":1,\"fHNDC\":1,\"fAbsXlowNDC\":0,\"fAbsYlowNDC\":0,\"fAbsWNDC\":1,\"fAbsHNDC\":1,\"fUxmin\":0,\"fUymin\":0,\"fUxmax\":1,\"fUymax\":1,\"fTheta\":30,\"fPhi\":30,\"fAspectRatio\":0,\"fNumber\":0,\"fTickx\":0,\"fTicky\":0,\"fLogx\":0,\"fLogy\":0,\"fLogz\":0,\"fPadPaint\":0,\"fCrosshair\":0,\"fCrosshairPos\":0,\"fBorderSize\":2,\"fBorderMode\":0,\"fModified\":false,\"fGridx\":false,\"fGridy\":false,\"fAbsCoord\":false,\"fEditable\":true,\"fFixedAspectRatio\":false,\"fPrimitives\":{\"_typename\":\"TList\",\"name\":\"TList\",\"arr\":[{\"_typename\":\"TPad\",\"fUniqueID\":0,\"fBits\":50331657,\"fLineColor\":1,\"fLineStyle\":1,\"fLineWidth\":1,\"fFillColor\":0,\"fFillStyle\":1001,\"fLeftMargin\":0.1,\"fRightMargin\":0.05,\"fBottomMargin\":0.01,\"fTopMargin\":0.06,\"fXfile\":2,\"fYfile\":2,\"fAfile\":1,\"fXstat\":0.99,\"fYstat\":0.99,\"fAstat\":2,\"fFrameFillColor\":0,\"fFrameLineColor\":1,\"fFrameFillStyle\":1001,\"fFrameLineStyle\":1,\"fFrameLineWidth\":1,\"fFrameBorderSize\":1,\"fFrameBorderMode\":0,\"fX1\":-23.5294131052948,\"fY1\":-0.475797772660102,\"fX2\":211.764706552647,\"fY2\":3.89692255943693,\"fXtoAbsPixelk\":79.6000538549305,\"fXtoPixelk\":79.6000538549305,\"fXtoPixel\":3.38299997108802,\"fYtoAbsPixelk\":515.998785467246,\"fYtoPixelk\":515.998785467246,\"fYtoPixel\":-132.411852582927,\"fUtoAbsPixelk\":5e-5,\"fUtoPixelk\":5e-5,\"fUtoPixel\":796,\"fVtoAbsPixelk\":579.00005,\"fVtoPixelk\":579,\"fVtoPixel\":-579,\"fAbsPixeltoXk\":-23.5294131052948,\"fPixeltoXk\":-23.5294131052948,\"fPixeltoX\":0.295595627710983,\"fAbsPixeltoYk\":3.89692255943693,\"fPixeltoYk\":-0.475797772660102,\"fPixeltoY\":-0.00755219401053028,\"fXlowNDC\":0,\"fYlowNDC\":0.25,\"fXUpNDC\":0,\"fYUpNDC\":0,\"fWNDC\":1,\"fHNDC\":0.75,\"fAbsXlowNDC\":0,\"fAbsYlowNDC\":0.25,\"fAbsWNDC\":1,\"fAbsHNDC\":0.75,\"fUxmin\":0,\"fUymin\":-0.432070570560856,\"fUxmax\":200,\"fUymax\":3.63455934684145,\"fTheta\":30,\"fPhi\":30,\"fAspectRatio\":0,\"fNumber\":1,\"fTickx\":1,\"fTicky\":1,\"fLogx\":0,\"fLogy\":1,\"fLogz\":0,\"fPadPaint\":0,\"fCrosshair\":0,\"fCrosshairPos\":0,\"fBorderSize\":2,\"fBorderMode\":0,\"fModified\":false,\"fGridx\":false,\"fGridy\":false,\"fAbsCoord\":false,\"fEditable\":true,\"fFixedAspectRatio\":false,\"fPrimitives\":{\"_typename\":\"TList\",\"name\":\"TList\",\"arr\":[{\"_typename\":\"TFrame\",\"fUniqueID\":0,\"fBits\":50331656,\"fLineColor\":1,\"fLineStyle\":1,\"fLineWidth\":1,\"fFillColor\":0,\"fFillStyle\":1001,\"fX1\":0,\"fY1\":-0.432070570560856,\"fX2\":200,\"fY2\":3.63455934684145,\"fBorderSize\":1,\"fBorderMode\":0},{\"_typename\":\"THStack\",\"fUniqueID\":0,\"fBits\":50331656,\"fName\":\"Bkg\",\"fTitle\":\";m_{Z} (GeV);Events\",\"fHists\":{\"_typename\":\"TList\",\"name\":\"TList\",\"arr\":[{\"_typename\":\"TH1F\",\"fUniqueID\":0,\"fBits\":50332168,\"fName\":\"WWW_4F_TuneCUETP8M1_13TeV-amcatnlo-pythia8-v1\",\"fTitle\":\"\",\"fLineColor\":602,\"fLineStyle\":1,\"fLineWidth\":1,\"fFillColor\":46,\"fFillStyle\":1001,\"fMarkerColor\":1,\"fMarkerStyle\":1,\"fMarkerSize\":1,\"fNcells\":102,\"fXaxis\":{\"_typename\":\"TAxis\",\"fUniqueID\":0,\"fBits\":50331648,\"fName\":\"xaxis\",\"fTitle\":\"m_{Z} (GeV)\",\"fNdivisions\":510,\"fAxisColor\":1,\"fLabelColor\":1,\"fLabelFont\":42,\"fLabelOffset\":0.005,\"fLabelSize\":0.035,\"fTickLength\":0.03,\"fTitleOffset\":1,\"fTitleSize\":0.035,\"fTitleColor\":1,\"fTitleFont\":42,\"fNbins\":100,\"fXmin\":0,\"fXmax\":200,\"fXbins\":[],\"fFirst\":0,\"fLast\":0,\"fBits2\":0,\"fTimeDisplay\":false,\"fTimeFormat\":\"\",\"fLabels\":null,\"fModLabs\":null},\"fYaxis\":{\"_typename\":\"TAxis\",\"fUniqueID\":0,\"fBits\":50331648,\"fName\":\"yaxis\",\"fTitle\":\"\",\"fNdivisions\":510,\"fAxisColor\":1,\"fLabelColor\":1,\"fLabelFont\":42,\"fLabelOffset\":0.005,\"fLabelSize\":0.035,\"fTickLength\":0.03,\"fTitleOffset\":0,\"fTitleSize\":0.035,\"fTitleColor\":1,\"fTitleFont\":42,\"fNbins\":1,\"fXmin\":0,\"fXmax\":1,\"fXbins\":[],\"fFirst\":0,\"fLast\":0,\"fBits2\":0,\"fTimeDisplay\":false,\"fTimeFormat\":\"\",\"fLabels\":null,\"fModLabs\":null},\"fZaxis\":{\"_typename\":\"TAxis\",\"fUniqueID\":0,\"fBits\":50331648,\"fName\":\"zaxis\",\"fTitle\":\"\",\"fNdivisions\":510,\"fAxisColor\":1,\"fLabelColor\":1,\"fLabelFont\":42,\"fLabelOffset\":0.005,\"fLabelSize\":0.035,\"fTickLength\":0.03,\"fTitleOffset\":1,\"fTitleSize\":0.035,\"fTitleColor\":1,\"fTitleFont\":42,\"fNbins\":1,\"fXmin\":0,\"fXmax\":1,\"fXbins\":[],\"fFirst\":0,\"fLast\":0,\"fBits2\":0,\"fTimeDisplay\":false,\"fTimeFormat\":\"\",\"fLabels\":null,\"fModLabs\":null},\"fBarOffset\":0,\"fBarWidth\":1000,\"fEntries\":764,\"fTsumw\":0,\"fTsumw2\":0.494753600733459,\"fTsumwx\":1667.13947942272,\"fTsumwx2\":202794.069836906,\"fMaximum\":-1111,\"fMinimum\":-1111,\"fNormFactor\":0,\"fContour\":[],\"fSumw2\":[0,0,0,0.0019364316560597,0,5.589592949824e-4,9.72248151520638e-4,9.68215828029852e-4,0,0.00402659839754514,0.00402256607405436,0.00499078190208421,4.03232349078606e-6,0.0036133095410069,0.00264509371297705,0.0024953909510421,0.00595899773011406,0.00346360677907196,0.0030543502460245,0.00473526045446249,0.0055537735205574,0.00443182260710181,0.00830468591922122,0.00707691632007886,0.00402659839754514,0.00942260450918602,0.00514048466401916,0.00458152536903676,0.0109497796321983,0.00580929496817911,0.00901738029962935,0.00570347628249234,0.0131896491356187,0.00845438868115617,0.00387286331211941,0.00540407075862245,0.00540003843513166,0.00540810308211323,0.00692721355814391,0.0110994823941332,0.0115087389271807,0.00763990793855205,0.00637631891014309,0.00998559612765921,0.00652198934858725,0.00830468591922122,0.0137047243543529,0.00540810308211323,0.00651795702509646,0.00928499871772343,0.00886364521420362,0.0074902051766171,0.00651795702509646,0.00748617285312632,0.00692721355814391,0.00789542938617377,0.00499078190208421,0.00610870049204901,0.0055537735205574,0.0030543502460245,0.00636825426316151,0.00290464748408956,0.00499078190208421,0.00249942327453289,0.0109497796321983,0.00595899773011406,0.00402659839754514,0.0019364316560597,0.0019364316560597,0.00443182260710181,0.0044358549305926,0.00152717512301225,0.00290464748408956,0.00484511146364005,0.00290464748408956,0.00540003843513166,0.0036133095410069,0.00208613441799465,0.00346360677907196,0.00692721355814391,9.68215828029852e-4,0.00290464748408956,0.00346360677907196,0.00499078190208421,0.00499078190208421,0.00540003843513166,0.00443182260710181,0.0024953909510421,0.00290464748408956,0.00346360677907196,0.00402256607405436,0.0036133095410069,0.00443182260710181,0.00677751079620897,0.00734050241468215,0.00290464748408956,0.00290464748408956,0.0019364316560597,9.68215828029852e-4,0.0019364316560597,0.137236798058221,0],\"fOption\":\"\",\"fFunctions\":{\"_typename\":\"TList\",\"name\":\"TList\",\"arr\":[],\"opt\":[]},\"fBufferSize\":0,\"fBuffer\":[],\"fBinStatErrOpt\":0,\"fArray\":[0,0,0,0.06223233,0,0.02364232,0.03312423,0.03111617,0,0.1426412,0.1406331,0.1717493,0.002008065,0.1331593,0.1020431,0.08587465,0.2028655,0.1169908,0.109517,0.182452,0.1973997,0.148107,0.2725717,0.2501501,0.1426412,0.3198563,0.1879178,0.1642755,0.3746148,0.186697,0.3143905,0.2135682,0.4711921,0.2887402,0.1244647,0.1812312,0.1792232,0.1832393,0.2339816,0.3907833,0.3982571,0.2758005,0.2143555,0.3455067,0.2285159,0.2725717,0.4517948,0.1832393,0.2265078,0.309712,0.296214,0.2596321,0.2265078,0.257624,0.2339816,0.2650978,0.1717493,0.219034,0.1973997,0.109517,0.2103393,0.0933485,0.1717493,0.08788271,0.3746148,0.2028655,0.1426412,0.06223233,0.06223233,0.148107,0.150115,0.05475849,0.0933485,0.1575889,0.0933485,0.1792232,0.1331593,0.07840081,0.1169908,0.2339816,0.03111617,0.0933485,0.1169908,0.1717493,0.1717493,0.1792232,0.148107,0.08587465,0.0933485,0.1169908,0.1406331,0.1331593,0.148107,0.2178132,0.2434636,0.0933485,0.0933485,0.06223233,0.03111617,0.06223233,4.575152,0]},{\"_typename\":\"TH1F\",\"fUniqueID\":0,\"fBits\":50332168,\"fName\":\"TTWJetsToLNu_TuneCUETP8M1_13TeV-amcatnloFXFX-madspin-pythia8_ext1-v3\",\"fTitle\":\"\",\"fLineColor\":602,\"fLineStyle\":1,\"fLineWidth\":1,\"fFillColor\":38,\"fFillStyle\":1001,\"fMarkerColor\":1,\"fMarkerStyle\":1,\"fMarkerSize\":1,\"fNcells\":102,\"fXaxis\":{\"_typename\":\"TAxis\",\"fUniqueID\":0,\"fBits\":50331648,\"fName\":\"xaxis\",\"fTitle\":\"m_{Z} (GeV)\",\"fNdivisions\":510,\"fAxisColor\":1,\"fLabelColor\":1,\"fLabelFont\":42,\"fLabelOffset\":0.005,\"fLabelSize\":0.035,\"fTickLength\":0.03,\"fTitleOffset\":1,\"fTitleSize\":0.035,\"fTitleColor\":1,\"fTitleFont\":42,\"fNbins\":100,\"fXmin\":0,\"fXmax\":200,\"fXbins\":[],\"fFirst\":0,\"fLast\":0,\"fBits2\":0,\"fTimeDisplay\":false,\"fTimeFormat\":\"\",\"fLabels\":null,\"fModLabs\":null},\"fYaxis\":{\"_typename\":\"TAxis\",\"fUniqueID\":0,\"fBits\":50331648,\"fName\":\"yaxis\",\"fTitle\":\"\",\"fNdivisions\":510,\"fAxisColor\":1,\"fLabelColor\":1,\"fLabelFont\":42,\"fLabelOffset\":0.005,\"fLabelSize\":0.035,\"fTickLength\":0.03,\"fTitleOffset\":0,\"fTitleSize\":0.035,\"fTitleColor\":1,\"fTitleFont\":42,\"fNbins\":1,\"fXmin\":0,\"fXmax\":1,\"fXbins\":[],\"fFirst\":0,\"fLast\":0,\"fBits2\":0,\"fTimeDisplay\":false,\"fTimeFormat\":\"\",\"fLabels\":null,\"fModLabs\":null},\"fZaxis\":{\"_typename\":\"TAxis\",\"fUniqueID\":0,\"fBits\":50331648,\"fName\":\"zaxis\",\"fTitle\":\"\",\"fNdivisions\":510,\"fAxisColor\":1,\"fLabelColor\":1,\"fLabelFont\":42,\"fLabelOffset\":0.005,\"fLabelSize\":0.035,\"fTickLength\":0.03,\"fTitleOffset\":1,\"fTitleSize\":0.035,\"fTitleColor\":1,\"fTitleFont\":42,\"fNbins\":1,\"fXmin\":0,\"fXmax\":1,\"fXbins\":[],\"fFirst\":0,\"fLast\":0,\"fBits2\":0,\"fTimeDisplay\":false,\"fTimeFormat\":\"\",\"fLabels\":null,\"fModLabs\":null},\"fBarOffset\":0,\"fBarWidth\":1000,\"fEntries\":26139,\"fTsumw\":0,\"fTsumw2\":2.63421147589797,\"fTsumwx\":10271.757696712,\"fTsumwx2\":1155241.9584309,\"fMaximum\":-1111,\"fMinimum\":-1111,\"fNormFactor\":0,\"fContour\":[],\"fSumw2\":[0,2.32766071678884e-6,0.00211463639365786,0.00512326157795034,0.00314381102149769,0.00615210368283062,0.0122376120159373,0.00662957691152289,0.00485390267975668,0.00531541480639097,0.0124907077037897,0.0176475388933155,0.0266647688492449,0.0127047922402219,0.0176961932105624,0.0256169881430089,0.0321643411257094,0.024637132878335,0.0260004931741409,0.0311564479672802,0.0326803718103703,0.023233990420036,0.0362624335586725,0.037889515069698,0.040994768635227,0.0349152457153921,0.0335747083313026,0.0519521054732293,0.0448967175642351,0.0427497204783478,0.0370988051194907,0.0508656461385327,0.0456887576062805,0.0465229074715358,0.046904084841951,0.0335300442895702,0.0527366186596973,0.0459368502424016,0.048703141646039,0.0448364249434042,0.0411442377523544,0.048682086734434,0.0413003573286726,0.0321846250262414,0.0455203194731211,0.0505007471857968,0.0460663679819565,0.0438977721110372,0.037252581827754,0.0367817590582526,0.0529533329651296,0.038989366080592,0.0316584974803022,0.0368347209666353,0.0419516646083544,0.0307542004779218,0.041359954488908,0.041815148679311,0.0318782196997085,0.0332297303414629,0.0250702593809163,0.0344447250541739,0.0237856766118454,0.0253692128225091,0.0231833257576937,0.0281028110109576,0.0252233862505986,0.0146898804796486,0.0176302476994194,0.0235692644146964,0.0187783145394469,0.0182512046319673,0.0198101493509631,0.0175643173956145,0.0278217986018419,0.0187110541438038,0.0155755561962947,0.0222723782961225,0.0144165160986023,0.0200954693512147,0.011279688059255,0.0149119303597717,0.0186057801656192,0.0149125954056908,0.0153035219070866,0.0121680239595774,0.0250036488238542,0.0188695013808388,0.0119669078185673,0.0110739165968113,0.0166859419767402,0.0167565276019787,0.012227636327151,0.0151636807484478,0.00840092834481507,0.00615476386650695,0.0120964407654603,0.00997448886669255,0.0186600721658402,0.0103727308731983,0.509868703211696,0],\"fOption\":\"\",\"fFunctions\":{\"_typename\":\"TList\",\"name\":\"TList\",\"arr\":[],\"opt\":[]},\"fBufferSize\":0,\"fBuffer\":[],\"fBinStatErrOpt\":0,\"fArray\":[0,0.004036536,0.09027498,0.207983,0.139714,0.2568454,0.5044178,0.3413628,0.3078327,0.3646709,0.6605756,0.7846684,1.122799,0.7131904,0.9049339,1.1832,1.488187,1.25518,1.175084,1.475653,1.497463,1.194504,1.795782,1.748165,1.963119,1.725927,1.667605,2.2654,2.107107,1.924822,1.829511,2.222834,2.028067,2.093835,2.081683,1.554259,2.351304,2.033444,2.191653,1.966659,1.86779,2.119249,1.783993,1.523362,1.948397,2.121111,1.903515,1.82588,1.599546,1.526562,2.124269,1.707741,1.318579,1.512193,1.709219,1.27327,1.639025,1.684907,1.238866,1.316217,1.084796,1.369256,1.017294,1.036268,0.9286473,1.101891,0.9958096,0.6491311,0.7546828,0.9606431,0.7978721,0.7334907,0.8519242,0.7465631,1.039427,0.7874457,0.6621479,0.8718053,0.5999293,0.7797537,0.4723249,0.573454,0.6752064,0.5746073,0.6152527,0.4899549,0.9333916,0.7076854,0.4598292,0.434126,0.6041009,0.6202937,0.4871183,0.5851737,0.3673964,0.2614586,0.4720321,0.3690709,0.6631435,0.4224025,18.54755,0]},{\"_typename\":\"TH1F\",\"fUniqueID\":0,\"fBits\":50332168,\"fName\":\"WpWpJJ_13TeV-powheg-pythia8_TuneCUETP8M1-v1\",\"fTitle\":\"\",\"fLineColor\":602,\"fLineStyle\":1,\"fLineWidth\":1,\"fFillColor\":7,\"fFillStyle\":1001,\"fMarkerColor\":1,\"fMarkerStyle\":1,\"fMarkerSize\":1,\"fNcells\":102,\"fXaxis\":{\"_typename\":\"TAxis\",\"fUniqueID\":0,\"fBits\":50331648,\"fName\":\"xaxis\",\"fTitle\":\"m_{Z} (GeV)\",\"fNdivisions\":510,\"fAxisColor\":1,\"fLabelColor\":1,\"fLabelFont\":42,\"fLabelOffset\":0.005,\"fLabelSize\":0.035,\"fTickLength\":0.03,\"fTitleOffset\":1,\"fTitleSize\":0.035,\"fTitleColor\":1,\"fTitleFont\":42,\"fNbins\":100,\"fXmin\":0,\"fXmax\":200,\"fXbins\":[],\"fFirst\":0,\"fLast\":0,\"fBits2\":0,\"fTimeDisplay\":false,\"fTimeFormat\":\"\",\"fLabels\":null,\"fModLabs\":null},\"fYaxis\":{\"_typename\":\"TAxis\",\"fUniqueID\":0,\"fBits\":50331648,\"fName\":\"yaxis\",\"fTitle\":\"\",\"fNdivisions\":510,\"fAxisColor\":1,\"fLabelColor\":1,\"fLabelFont\":42,\"fLabelOffset\":0.005,\"fLabelSize\":0.035,\"fTickLength\":0.03,\"fTitleOffset\":0,\"fTitleSize\":0.035,\"fTitleColor\":1,\"fTitleFont\":42,\"fNbins\":1,\"fXmin\":0,\"fXmax\":1,\"fXbins\":[],\"fFirst\":0,\"fLast\":0,\"fBits2\":0,\"fTimeDisplay\":false,\"fTimeFormat\":\"\",\"fLabels\":null,\"fModLabs\":null},\"fZaxis\":{\"_typename\":\"TAxis\",\"fUniqueID\":0,\"fBits\":50331648,\"fName\":\"zaxis\",\"fTitle\":\"\",\"fNdivisions\":510,\"fAxisColor\":1,\"fLabelColor\":1,\"fLabelFont\":42,\"fLabelOffset\":0.005,\"fLabelSize\":0.035,\"fTickLength\":0.03,\"fTitleOffset\":1,\"fTitleSize\":0.035,\"fTitleColor\":1,\"fTitleFont\":42,\"fNbins\":1,\"fXmin\":0,\"fXmax\":1,\"fXbins\":[],\"fFirst\":0,\"fLast\":0,\"fBits2\":0,\"fTimeDisplay\":false,\"fTimeFormat\":\"\",\"fLabels\":null,\"fModLabs\":null},\"fBarOffset\":0,\"fBarWidth\":1000,\"fEntries\":7334,\"fTsumw\":0,\"fTsumw2\":0.194202213330559,\"fTsumwx\":2880.38514901126,\"fTsumwx2\":348843.463987569,\"fMaximum\":-1111,\"fMinimum\":-1111,\"fNormFactor\":0,\"fContour\":[],\"fSumw2\":[0,0,8.72336014487346e-5,1.5371971558111e-4,3.53178057978237e-4,2.47869146135298e-4,1.5371971558111e-4,3.53178057978237e-4,4.47327488532425e-4,1.81383032002922e-4,0.00112869246498924,0.0012935716618591,0.00132815080738637,0.00108295383817322,0.00134198246559727,0.00130048749096456,0.00199301194871012,0.00145687938346782,0.00158985161173257,0.00129891601570341,0.0020552544106592,0.00217439498071305,0.00264246995656183,0.00234886218361051,0.00313977972409357,0.00219357099276826,0.00320626583822594,0.00282809664074805,0.00258557184845706,0.00311478858459391,0.00368125664318018,0.00280577767817055,0.00276695488045998,0.00340839635754522,0.00328233995838593,0.00307172213470005,0.00287650744448622,0.0032270133255423,0.00355520024402088,0.00323660133156991,0.0030828816159888,0.00324351716067536,0.00257865601935161,0.00279618967214294,0.00200527213165989,0.00327809630620263,0.00324084498375321,0.00349562995899396,0.00216323549942429,0.00262439464616762,0.00354136858580998,0.00268820858337785,0.00261056298795672,0.00297222835030155,0.00236803819566573,0.00264938578566728,0.00277811436174873,0.00279886184906509,0.00274086303929932,0.00247067493058651,0.00277277000790443,0.00205792658758135,0.00217015132852975,0.00213557218300248,0.00242226412684834,0.0023211988671887,0.00179622578323515,0.00176431881463004,0.00179889796015731,0.00197760881523807,0.00131007549699216,0.00189037521378934,0.00235577801271597,0.00186538407428968,0.00171590801089187,0.00175473080860243,0.00142921606704601,0.00203450692334284,9.74972749408131e-4,0.00102605573006846,0.00116327161051651,0.00164250606765404,0.00132815080738637,0.00103029938225175,0.00123242990157104,0.00111061715459504,0.00166058137804825,0.00128241218057035,0.0010095518949354,0.00187387137865628,0.00162867440944314,0.00122975772464888,0.00144729137744021,0.00136697360509693,0.00120901023733252,0.00118134692091071,0.00113560829409469,9.9572023672449e-4,9.29234122592114e-4,0.00118134692091071,0.0568156237783226,0],\"fOption\":\"\",\"fFunctions\":{\"_typename\":\"TList\",\"name\":\"TList\",\"arr\":[],\"opt\":[]},\"fBufferSize\":0,\"fBuffer\":[],\"fBinStatErrOpt\":0,\"fArray\":[0,0,0.01604329,0.02419719,0.0486589,0.04287028,0.02419719,0.0486589,0.06733198,0.03471638,0.1722746,0.1835874,0.1967364,0.1720102,0.201996,0.1862172,0.2782754,0.2285584,0.2448662,0.2198755,0.3019435,0.3129917,0.3882132,0.3450783,0.4402955,0.3545394,0.4484494,0.4074153,0.4008331,0.4479204,0.5263007,0.4331842,0.4355495,0.4910552,0.4773772,0.4657999,0.4258239,0.4563388,0.5126226,0.4771127,0.4529154,0.4797424,0.3982033,0.4124104,0.3171933,0.4928914,0.4615984,0.5070985,0.3258762,0.3984678,0.507363,0.3884777,0.3932082,0.4108387,0.386626,0.390843,0.422665,0.4305544,0.391372,0.3742706,0.386377,0.3200876,0.328506,0.315357,0.355862,0.3345591,0.2719577,0.2769528,0.2901018,0.3066741,0.206991,0.2906308,0.3477081,0.2982557,0.2585442,0.256179,0.2180392,0.2940542,0.1480775,0.1846301,0.1854236,0.2477605,0.1967364,0.1691158,0.2117216,0.1825293,0.2375059,0.1964719,0.1612265,0.2672272,0.242501,0.1935776,0.2077846,0.1943711,0.1856882,0.175169,0.1749045,0.1559668,0.147813,0.175169,8.895621,0]},{\"_typename\":\"TH1F\",\"fUniqueID\":0,\"fBits\":50332168,\"fName\":\"WZTo3LNu_TuneCUETP8M1_13TeV-amcatnloFXFX-pythia8-v1\",\"fTitle\":\"\",\"fLineColor\":602,\"fLineStyle\":1,\"fLineWidth\":1,\"fFillColor\":602,\"fFillStyle\":1001,\"fMarkerColor\":1,\"fMarkerStyle\":1,\"fMarkerSize\":1,\"fNcells\":102,\"fXaxis\":{\"_typename\":\"TAxis\",\"fUniqueID\":0,\"fBits\":50331656,\"fName\":\"xaxis\",\"fTitle\":\"m_{Z} (GeV)\",\"fNdivisions\":510,\"fAxisColor\":1,\"fLabelColor\":1,\"fLabelFont\":42,\"fLabelOffset\":0.005,\"fLabelSize\":0.035,\"fTickLength\":0.03,\"fTitleOffset\":1,\"fTitleSize\":0.035,\"fTitleColor\":1,\"fTitleFont\":42,\"fNbins\":100,\"fXmin\":0,\"fXmax\":200,\"fXbins\":[],\"fFirst\":0,\"fLast\":0,\"fBits2\":0,\"fTimeDisplay\":false,\"fTimeFormat\":\"\",\"fLabels\":null,\"fModLabs\":null},\"fYaxis\":{\"_typename\":\"TAxis\",\"fUniqueID\":0,\"fBits\":50331648,\"fName\":\"yaxis\",\"fTitle\":\"\",\"fNdivisions\":510,\"fAxisColor\":1,\"fLabelColor\":1,\"fLabelFont\":42,\"fLabelOffset\":0.005,\"fLabelSize\":0.035,\"fTickLength\":0.03,\"fTitleOffset\":0,\"fTitleSize\":0.035,\"fTitleColor\":1,\"fTitleFont\":42,\"fNbins\":1,\"fXmin\":0,\"fXmax\":1,\"fXbins\":[],\"fFirst\":0,\"fLast\":0,\"fBits2\":0,\"fTimeDisplay\":false,\"fTimeFormat\":\"\",\"fLabels\":null,\"fModLabs\":null},\"fZaxis\":{\"_typename\":\"TAxis\",\"fUniqueID\":0,\"fBits\":50331648,\"fName\":\"zaxis\",\"fTitle\":\"\",\"fNdivisions\":510,\"fAxisColor\":1,\"fLabelColor\":1,\"fLabelFont\":42,\"fLabelOffset\":0.005,\"fLabelSize\":0.035,\"fTickLength\":0.03,\"fTitleOffset\":1,\"fTitleSize\":0.035,\"fTitleColor\":1,\"fTitleFont\":42,\"fNbins\":1,\"fXmin\":0,\"fXmax\":1,\"fXbins\":[],\"fFirst\":0,\"fLast\":0,\"fBits2\":0,\"fTimeDisplay\":false,\"fTimeFormat\":\"\",\"fLabels\":null,\"fModLabs\":null},\"fBarOffset\":0,\"fBarWidth\":1000,\"fEntries\":17422,\"fTsumw\":0,\"fTsumw2\":2.76198929944617,\"fTsumwx\":17510.9443807795,\"fTsumwx2\":1886035.58647539,\"fMaximum\":-1111,\"fMinimum\":-1111,\"fNormFactor\":0,\"fContour\":[],\"fSumw2\":[0,0.00140469894441011,0.00351174736102528,0.00842819366646068,0.0114131789233322,0.0175587368051264,0.0172075620690239,0.0210704841661517,0.0172075620690239,0.024582231527177,0.0259869304715871,0.0237042946869207,0.0261625178396384,0.0293230904645611,0.0258113431035359,0.0286207409923561,0.0284451536243048,0.0331860125616889,0.0377512841310217,0.0331860125616889,0.0352930609783041,0.0352930609783041,0.0445991914850209,0.0461794777974822,0.0482865262140974,0.0474085893738411,0.0553100209361478,0.0468818272696873,0.0537297346236865,0.0544320840958915,0.0479353514779948,0.0533785598875839,0.0533785598875839,0.0453015409572259,0.0526762104153789,0.0567147198805579,0.05004239989461,0.0481109388460461,0.0510959241029175,0.0532029725195327,0.046706239901636,0.0403850946517906,0.0474085893738411,0.0514470988390201,0.0433700799086621,0.0431944925406108,0.0498668125265587,0.0440724293808671,0.0388048083393293,0.0328348378255864,0.0382780462351755,0.0321324883533814,0.0331860125616889,0.0323080757214326,0.0324836630894839,0.0317813136172788,0.0302010273048175,0.0268648673118434,0.03055220204092,0.0302010273048175,0.0242310567910745,0.0224751831105618,0.0244066441591257,0.0309033767770225,0.0265136925757409,0.021246071534203,0.0184366736453828,0.0182610862773315,0.0226507704786131,0.0163296252287676,0.0205437220619979,0.0189634357495365,0.0200169599578441,0.0198413725897929,0.0156272757565625,0.0165052125968188,0.0131690526038448,0.0133446399718961,0.0177343241731777,0.0156272757565625,0.0138714020760499,0.0122911157635885,0.0122911157635885,0.0112375915552809,0.0121155283955372,0.0129934652357936,0.0133446399718961,0.0115887662913834,0.0128178778677423,0.0103596547150246,0.0100084799789221,0.00965730524281954,0.00825260629840942,0.00877936840256321,0.00965730524281954,0.00948171787476827,0.00667231998594804,0.0073746694581531,0.00877936840256321,0.00719908209010183,0.303239384624536,0],\"fOption\":\"\",\"fFunctions\":{\"_typename\":\"TList\",\"name\":\"TList\",\"arr\":[],\"opt\":[]},\"fBufferSize\":0,\"fBuffer\":[],\"fBinStatErrOpt\":0,\"fArray\":[0,0.1060075,0.2650187,0.6360452,0.8613113,1.325094,1.298593,1.590113,1.298593,1.855132,1.96114,1.788878,1.974391,2.212906,1.947889,2.159903,2.146652,2.504424,2.848946,2.504424,2.663434,2.663434,3.365728,3.484985,3.643995,3.577741,4.174028,3.537989,4.054771,4.107774,3.617494,4.028269,4.028269,3.418731,3.975266,4.280035,3.776504,3.630744,3.856009,4.015018,3.524738,3.047708,3.577741,3.88251,3.272972,3.259721,3.763253,3.325975,2.928451,2.477922,2.888698,2.424919,2.504424,2.43817,2.451421,2.398417,2.27916,2.027394,2.305662,2.27916,1.82863,1.696121,1.841881,2.332163,2.000893,1.603364,1.391349,1.378098,1.709372,1.232338,1.550361,1.431102,1.510608,1.497357,1.179334,1.245589,0.9938208,1.007072,1.338345,1.179334,1.046825,0.9275661,0.9275661,0.8480604,0.9143151,0.9805698,1.007072,0.8745623,0.9673189,0.7818056,0.7553037,0.7288018,0.6227943,0.6625471,0.7288018,0.7155509,0.5035357,0.5565395,0.6625471,0.5432886,22.88426,0]},{\"_typename\":\"TH1F\",\"fUniqueID\":0,\"fBits\":50332168,\"fName\":\"TTJets_SingleLeptFromT_TuneCUETP8M1_13TeV-madgraphMLM-pythia8_ext1-v1\",\"fTitle\":\"\",\"fLineColor\":798,\"fLineStyle\":1,\"fLineWidth\":1,\"fFillColor\":798,\"fFillStyle\":1001,\"fMarkerColor\":1,\"fMarkerStyle\":1,\"fMarkerSize\":1,\"fNcells\":102,\"fXaxis\":{\"_typename\":\"TAxis\",\"fUniqueID\":0,\"fBits\":50331648,\"fName\":\"xaxis\",\"fTitle\":\"m_{Z} (GeV)\",\"fNdivisions\":510,\"fAxisColor\":1,\"fLabelColor\":1,\"fLabelFont\":42,\"fLabelOffset\":0.005,\"fLabelSize\":0.035,\"fTickLength\":0.03,\"fTitleOffset\":1,\"fTitleSize\":0.035,\"fTitleColor\":1,\"fTitleFont\":42,\"fNbins\":100,\"fXmin\":0,\"fXmax\":200,\"fXbins\":[],\"fFirst\":0,\"fLast\":0,\"fBits2\":0,\"fTimeDisplay\":false,\"fTimeFormat\":\"\",\"fLabels\":null,\"fModLabs\":null},\"fYaxis\":{\"_typename\":\"TAxis\",\"fUniqueID\":0,\"fBits\":50331648,\"fName\":\"yaxis\",\"fTitle\":\"\",\"fNdivisions\":510,\"fAxisColor\":1,\"fLabelColor\":1,\"fLabelFont\":42,\"fLabelOffset\":0.005,\"fLabelSize\":0.035,\"fTickLength\":0.03,\"fTitleOffset\":0,\"fTitleSize\":0.035,\"fTitleColor\":1,\"fTitleFont\":42,\"fNbins\":1,\"fXmin\":0,\"fXmax\":1,\"fXbins\":[],\"fFirst\":0,\"fLast\":0,\"fBits2\":0,\"fTimeDisplay\":false,\"fTimeFormat\":\"\",\"fLabels\":null,\"fModLabs\":null},\"fZaxis\":{\"_typename\":\"TAxis\",\"fUniqueID\":0,\"fBits\":50331648,\"fName\":\"zaxis\",\"fTitle\":\"\",\"fNdivisions\":510,\"fAxisColor\":1,\"fLabelColor\":1,\"fLabelFont\":42,\"fLabelOffset\":0.005,\"fLabelSize\":0.035,\"fTickLength\":0.03,\"fTitleOffset\":1,\"fTitleSize\":0.035,\"fTitleColor\":1,\"fTitleFont\":42,\"fNbins\":1,\"fXmin\":0,\"fXmax\":1,\"fXbins\":[],\"fFirst\":0,\"fLast\":0,\"fBits2\":0,\"fTimeDisplay\":false,\"fTimeFormat\":\"\",\"fLabels\":null,\"fModLabs\":null},\"fBarOffset\":0,\"fBarWidth\":1000,\"fEntries\":322872,\"fTsumw\":0,\"fTsumw2\":5449.70010180434,\"fTsumwx\":3157313.1173937,\"fTsumwx2\":301746040.336605,\"fMaximum\":-1111,\"fMinimum\":-1111,\"fNormFactor\":0,\"fContour\":[],\"fSumw2\":[0,0.590421382150488,0.295210691075244,0.540075156820313,1.86756878975707,5.34802611660265,10.3776630785808,18.7405365990215,26.347646839762,33.0423278906816,39.006333079254,45.8239166355124,51.5036667194277,57.0157953068041,63.0051589306344,67.8702231493722,72.461047304938,79.5830156761048,85.2889929768684,92.1198395824726,96.9529497229518,107.692381893301,113.17828326383,122.139684254103,126.889752800621,133.409945694095,135.212865036963,136.449952278629,138.129299589129,140.348351411264,137.068509831431,135.373819127158,132.979238975364,129.452153703515,124.590337492638,122.07302622613,121.790680075276,116.287155711984,109.487294775769,107.32880347501,105.921018119569,98.2959860042232,94.5396785422441,89.6554530221259,87.9308168206779,83.9701753313604,81.5287679800014,76.3740206770379,73.0123769300189,69.9303015984599,67.9603306588001,65.8893683866379,63.2022556518812,58.1974072254139,55.4429669356558,53.1370556119528,50.3101586694665,49.0059152634226,47.9593291000021,44.5081477433029,41.1160882266433,40.4605471251371,38.9359567709537,36.7556260607025,35.0877324730242,32.3455868237405,31.5158285826945,31.3313253837646,29.0007251518318,27.3836480619501,26.3779629821221,25.5147402181367,24.2860300820567,23.6024524371798,22.3228261760221,19.9914567897804,21.2923525606836,19.670218136419,18.6665416376754,17.8349740701065,17.5988852190709,16.1414231653277,14.5037460927285,14.7927596499261,14.3192428937986,14.038805696749,12.9674309978178,11.9550785116456,12.1445394176776,10.6772615770108,10.9364292643149,10.078734107179,9.26461814174821,8.89541248932692,8.85384187870623,7.37711889630186,7.5580034421859,7.75747938970292,7.54055184004769,7.03089245286829,172.770981949645,0],\"fOption\":\"\",\"fFunctions\":{\"_typename\":\"TList\",\"name\":\"TList\",\"arr\":[],\"opt\":[]},\"fBufferSize\":0,\"fBuffer\":[],\"fBinStatErrOpt\":0,\"fArray\":[0,4.479729,2.239864,4.091092,14.13389,40.64505,78.63284,142.1125,199.827,250.5224,295.9426,347.3677,390.3259,432.253,477.7034,514.6063,549.217,603.5759,646.8972,698.7021,735.0226,816.4785,858.0425,926.0993,962.1049,1011.677,1025.302,1034.275,1047.1,1064.342,1039.19,1026.505,1008.396,981.5101,944.8173,925.3851,922.9963,881.8269,830.1394,813.7157,802.9069,745.1904,716.7101,679.8004,666.7355,636.8871,618.1384,578.9506,553.4827,529.9977,515.2775,499.3835,479.3076,441.4132,420.5547,402.847,381.7796,371.4294,363.5061,337.3033,311.6542,306.8615,295.2144,278.5101,266.1218,245.1781,238.8021,237.5093,219.8398,207.6442,199.876,193.3731,184.0343,178.9376,169.2739,151.4037,161.4118,149.0652,141.5024,135.1854,133.4993,122.3703,109.899,112.1154,108.6063,106.2905,98.27347,90.67796,91.98946,80.9553,82.92668,76.37889,70.26006,67.41002,67.18655,55.91873,57.32963,58.81102,57.13163,53.22178,1310.033,0]},{\"_typename\":\"TH1F\",\"fUniqueID\":0,\"fBits\":50332168,\"fName\":\"ST_s-channel_4f_leptonDecays_13TeV-amcatnlo-pythia8_TuneCUETP8M1-v1\",\"fTitle\":\"\",\"fLineColor\":801,\"fLineStyle\":1,\"fLineWidth\":1,\"fFillColor\":801,\"fFillStyle\":1001,\"fMarkerColor\":1,\"fMarkerStyle\":1,\"fMarkerSize\":1,\"fNcells\":102,\"fXaxis\":{\"_typename\":\"TAxis\",\"fUniqueID\":0,\"fBits\":50331648,\"fName\":\"xaxis\",\"fTitle\":\"m_{Z} (GeV)\",\"fNdivisions\":510,\"fAxisColor\":1,\"fLabelColor\":1,\"fLabelFont\":42,\"fLabelOffset\":0.005,\"fLabelSize\":0.035,\"fTickLength\":0.03,\"fTitleOffset\":1,\"fTitleSize\":0.035,\"fTitleColor\":1,\"fTitleFont\":42,\"fNbins\":100,\"fXmin\":0,\"fXmax\":200,\"fXbins\":[],\"fFirst\":0,\"fLast\":0,\"fBits2\":0,\"fTimeDisplay\":false,\"fTimeFormat\":\"\",\"fLabels\":null,\"fModLabs\":null},\"fYaxis\":{\"_typename\":\"TAxis\",\"fUniqueID\":0,\"fBits\":50331648,\"fName\":\"yaxis\",\"fTitle\":\"\",\"fNdivisions\":510,\"fAxisColor\":1,\"fLabelColor\":1,\"fLabelFont\":42,\"fLabelOffset\":0.005,\"fLabelSize\":0.035,\"fTickLength\":0.03,\"fTitleOffset\":0,\"fTitleSize\":0.035,\"fTitleColor\":1,\"fTitleFont\":42,\"fNbins\":1,\"fXmin\":0,\"fXmax\":1,\"fXbins\":[],\"fFirst\":0,\"fLast\":0,\"fBits2\":0,\"fTimeDisplay\":false,\"fTimeFormat\":\"\",\"fLabels\":null,\"fModLabs\":null},\"fZaxis\":{\"_typename\":\"TAxis\",\"fUniqueID\":0,\"fBits\":50331648,\"fName\":\"zaxis\",\"fTitle\":\"\",\"fNdivisions\":510,\"fAxisColor\":1,\"fLabelColor\":1,\"fLabelFont\":42,\"fLabelOffset\":0.005,\"fLabelSize\":0.035,\"fTickLength\":0.03,\"fTitleOffset\":1,\"fTitleSize\":0.035,\"fTitleColor\":1,\"fTitleFont\":42,\"fNbins\":1,\"fXmin\":0,\"fXmax\":1,\"fXbins\":[],\"fFirst\":0,\"fLast\":0,\"fBits2\":0,\"fTimeDisplay\":false,\"fTimeFormat\":\"\",\"fLabels\":null,\"fModLabs\":null},\"fBarOffset\":0,\"fBarWidth\":1000,\"fEntries\":9660,\"fTsumw\":0,\"fTsumw2\":142.157437441343,\"fTsumwx\":85822.1196790389,\"fTsumwx2\":8239467.2805006,\"fMaximum\":-1111,\"fMinimum\":-1111,\"fNormFactor\":0,\"fContour\":[],\"fSumw2\":[0,0.00762829393908778,0,0,0.0649754226530439,0.126923633318483,0.30146836253415,0.397230544841491,0.454386376490161,1.02199507500856,0.797545278998504,0.886326761488303,0.93829879716559,1.37457446979601,1.39401651540543,1.65686927279584,1.69798940765831,1.73394219388577,2.46925724038598,2.04526286335585,2.40167694296679,2.71225861241451,3.4628272870252,3.2897378158005,3.54626754595771,3.69419464309684,4.10680646784645,3.95415585994835,3.9637431925549,3.86122277293438,3.69797650725463,4.1661529197351,3.26465768035853,4.14891470422979,3.09283886366084,3.383856007375,2.87113970288358,2.60547868457628,2.85366524363185,2.92743748601912,2.82880702927789,3.07562868219325,2.65359596972025,2.33348340670513,1.99528074296856,2.20976998734911,2.02880002120223,1.81037345063914,1.67047052042764,1.711105994306,1.51900706791736,1.40190055485043,1.67291914939598,1.20959948739466,1.43213134610672,1.3851942176604,1.12174359961395,1.19209411530366,1.17105496241453,1.14805540859144,1.14925605953237,0.784884989407076,0.767977056866242,0.993158063319917,0.721312611361897,0.833040369686473,0.996432901344559,0.712715779227672,0.753887009822136,0.742049339702724,0.914433680384439,0.716230201110805,0.727727828268995,0.381500923754135,0.586038552524216,0.534218243315312,0.464932956590039,0.386790532690556,0.542683055151371,0.45979611792245,0.589306567792322,0.500439062913512,0.578718633723177,0.368262193987924,0.355998169701732,0.411371965878987,0.342759582780001,0.371533944812381,0.222536638068862,0.339453040715442,0.313971322322667,0.333798079313055,0.331176614366045,0.202275231821265,0.296192366333722,0.388490819618075,0.236458148641003,0.230806922794968,0.275001486976205,0.157956799587808,5.53799165256732,0],\"fOption\":\"\",\"fFunctions\":{\"_typename\":\"TList\",\"name\":\"TList\",\"arr\":[],\"opt\":[]},\"fBufferSize\":0,\"fBuffer\":[],\"fBinStatErrOpt\":0,\"fArray\":[0,0.0873401,0,0,0.5493467,0.9781584,2.373928,2.988887,3.575566,7.52134,6.337637,6.958937,7.177527,10.95414,10.86692,13.18888,13.38161,13.68464,19.29496,16.05719,19.61357,21.5491,26.9341,26.31028,28.90482,29.20745,32.73149,31.61549,31.78704,30.04289,29.17274,32.76925,25.3835,32.18702,25.04781,27.21521,22.64501,20.86325,22.40401,22.77574,22.08799,23.7478,20.0903,18.5311,15.89226,17.19526,15.59189,14.43673,13.1178,13.3084,11.80204,11.2736,12.40214,9.567036,11.34231,10.69829,8.778168,9.57093,9.04897,8.60249,8.739601,6.629201,6.252568,7.730596,5.651204,6.79635,7.526225,5.520437,6.049002,5.540493,7.320126,5.614432,5.682803,3.097788,4.605764,4.171702,3.9812,3.08939,3.966026,3.67643,4.636274,4.07171,4.320832,2.781859,2.870267,3.278271,2.783046,2.91471,1.779919,2.56404,2.144325,2.530703,2.691569,1.63691,2.431968,3.118591,1.738425,1.807428,2.125479,1.107256,43.11598,0]},{\"_typename\":\"TH1F\",\"fUniqueID\":0,\"fBits\":50332168,\"fName\":\"TTJets_DiLept_TuneCUETP8M1_13TeV-madgraphMLM-pythia8_ext1-v1\",\"fTitle\":\"\",\"fLineColor\":798,\"fLineStyle\":1,\"fLineWidth\":1,\"fFillColor\":41,\"fFillStyle\":1001,\"fMarkerColor\":1,\"fMarkerStyle\":1,\"fMarkerSize\":1,\"fNcells\":102,\"fXaxis\":{\"_typename\":\"TAxis\",\"fUniqueID\":0,\"fBits\":50331648,\"fName\":\"xaxis\",\"fTitle\":\"m_{Z} (GeV)\",\"fNdivisions\":510,\"fAxisColor\":1,\"fLabelColor\":1,\"fLabelFont\":42,\"fLabelOffset\":0.005,\"fLabelSize\":0.035,\"fTickLength\":0.03,\"fTitleOffset\":1,\"fTitleSize\":0.035,\"fTitleColor\":1,\"fTitleFont\":42,\"fNbins\":100,\"fXmin\":0,\"fXmax\":200,\"fXbins\":[],\"fFirst\":0,\"fLast\":0,\"fBits2\":0,\"fTimeDisplay\":false,\"fTimeFormat\":\"\",\"fLabels\":null,\"fModLabs\":null},\"fYaxis\":{\"_typename\":\"TAxis\",\"fUniqueID\":0,\"fBits\":50331648,\"fName\":\"yaxis\",\"fTitle\":\"\",\"fNdivisions\":510,\"fAxisColor\":1,\"fLabelColor\":1,\"fLabelFont\":42,\"fLabelOffset\":0.005,\"fLabelSize\":0.035,\"fTickLength\":0.03,\"fTitleOffset\":0,\"fTitleSize\":0.035,\"fTitleColor\":1,\"fTitleFont\":42,\"fNbins\":1,\"fXmin\":0,\"fXmax\":1,\"fXbins\":[],\"fFirst\":0,\"fLast\":0,\"fBits2\":0,\"fTimeDisplay\":false,\"fTimeFormat\":\"\",\"fLabels\":null,\"fModLabs\":null},\"fZaxis\":{\"_typename\":\"TAxis\",\"fUniqueID\":0,\"fBits\":50331648,\"fName\":\"zaxis\",\"fTitle\":\"\",\"fNdivisions\":510,\"fAxisColor\":1,\"fLabelColor\":1,\"fLabelFont\":42,\"fLabelOffset\":0.005,\"fLabelSize\":0.035,\"fTickLength\":0.03,\"fTitleOffset\":1,\"fTitleSize\":0.035,\"fTitleColor\":1,\"fTitleFont\":42,\"fNbins\":1,\"fXmin\":0,\"fXmax\":1,\"fXbins\":[],\"fFirst\":0,\"fLast\":0,\"fBits2\":0,\"fTimeDisplay\":false,\"fTimeFormat\":\"\",\"fLabels\":null,\"fModLabs\":null},\"fBarOffset\":0,\"fBarWidth\":1000,\"fEntries\":82158,\"fTsumw\":0,\"fTsumw2\":1558.59395774548,\"fTsumwx\":851730.188708805,\"fTsumwx2\":81271135.9650541,\"fMaximum\":-1111,\"fMinimum\":-1111,\"fNormFactor\":0,\"fContour\":[],\"fSumw2\":[0,0.0783646215367259,0.13713808768927,0.0783646215367259,0.39182310768363,1.46933665381361,3.40886103684759,5.36797657526572,7.13118055984203,9.81516884747494,11.0885939474468,13.3415768166277,13.9489026335374,15.7904712396505,15.3594658211985,17.5928575349951,20.4923485318538,23.1371545087181,24.4693530748424,26.604789011718,28.3288106855259,30.3662908454807,32.4037710054355,35.969361285357,37.3211510068656,37.7521564253177,38.7121230391427,37.5170625607075,39.6329073421993,41.200199772934,39.1039461468264,39.6720896529677,35.8909966638202,37.4386979391707,34.8918477392268,35.7930408868993,34.5587980976957,32.6584560254299,32.560500248509,31.6984894116049,28.9165453470513,29.4846888531925,27.9565787332265,26.4088774578762,25.5860489317407,25.3901373778989,23.9795741902379,22.4906463810402,21.4327239902944,20.3160281333962,19.1405588103453,18.1022275749838,18.2001833519047,16.926758251933,15.3986481319668,15.0460073350516,13.7921733904639,14.340725741221,12.9889360197124,13.047709485865,12.8126156212548,11.8722401628141,11.3432789674411,10.6184062182264,9.48211920594384,9.24702534133366,8.56133490288729,8.79642876749747,9.01193147672347,7.81687099828837,7.18995402599457,7.36627442445221,6.87649553984768,6.48467243216405,6.36712549985896,5.89693777063861,5.6030704398759,5.46593235218663,4.89778884604537,5.34838541988154,4.87819769066119,4.87819769066119,4.17291609683067,3.93782223222049,4.29046302913576,3.52640796915268,3.72231952299449,3.62436374607359,3.33049641531086,3.09540255070068,2.89949099685886,2.70357944301705,2.54685019994359,2.44889442302269,2.27257402456505,2.44889442302269,2.40971211225432,2.13543593687578,2.3313474907176,1.97870669380233,52.719799138834,0],\"fOption\":\"\",\"fFunctions\":{\"_typename\":\"TList\",\"name\":\"TList\",\"arr\":[],\"opt\":[]},\"fBufferSize\":0,\"fBuffer\":[],\"fBinStatErrOpt\":0,\"fArray\":[0,0.5598736,0.9797788,0.5598736,2.799368,10.49764,24.35456,38.35144,50.94864,70.12437,79.22235,95.31877,99.65781,112.8149,109.7356,125.692,146.4074,165.3032,174.8211,190.0777,202.395,216.9517,231.5085,256.9827,266.6395,269.7185,276.5762,268.039,283.154,294.3503,279.3753,283.4339,256.4229,267.4792,249.2845,255.7231,246.9051,233.3281,232.6282,226.4696,206.594,210.6531,199.7355,188.678,182.7993,181.3996,171.3219,160.6842,153.1259,145.1477,136.7496,129.3312,130.0311,120.9331,110.0155,107.4961,98.53806,102.4572,92.79933,93.21924,91.53961,84.82111,81.04195,75.8631,67.7449,66.06528,61.16637,62.846,64.38565,55.84755,51.36855,52.62827,49.12905,46.32967,45.48986,42.1306,40.03107,39.05129,34.99219,38.21148,34.85222,34.85222,29.81334,28.13372,30.65316,25.19437,26.59406,25.89421,23.79468,22.11506,20.71537,19.31568,18.19593,17.49608,16.23636,17.49608,17.21614,15.25658,16.65627,14.13683,376.6444,0]},{\"_typename\":\"TH1F\",\"fUniqueID\":0,\"fBits\":50332168,\"fName\":\"WJetsToLNu_HT-70To100_TuneCUETP8M1_13TeV-madgraphMLM-pythia8-v1\",\"fTitle\":\"\",\"fLineColor\":881,\"fLineStyle\":1,\"fLineWidth\":1,\"fFillColor\":881,\"fFillStyle\":1001,\"fMarkerColor\":1,\"fMarkerStyle\":1,\"fMarkerSize\":1,\"fNcells\":102,\"fXaxis\":{\"_typename\":\"TAxis\",\"fUniqueID\":0,\"fBits\":50331648,\"fName\":\"xaxis\",\"fTitle\":\"m_{Z} (GeV)\",\"fNdivisions\":510,\"fAxisColor\":1,\"fLabelColor\":1,\"fLabelFont\":42,\"fLabelOffset\":0.005,\"fLabelSize\":0.035,\"fTickLength\":0.03,\"fTitleOffset\":1,\"fTitleSize\":0.035,\"fTitleColor\":1,\"fTitleFont\":42,\"fNbins\":100,\"fXmin\":0,\"fXmax\":200,\"fXbins\":[],\"fFirst\":0,\"fLast\":0,\"fBits2\":0,\"fTimeDisplay\":false,\"fTimeFormat\":\"\",\"fLabels\":null,\"fModLabs\":null},\"fYaxis\":{\"_typename\":\"TAxis\",\"fUniqueID\":0,\"fBits\":50331648,\"fName\":\"yaxis\",\"fTitle\":\"\",\"fNdivisions\":510,\"fAxisColor\":1,\"fLabelColor\":1,\"fLabelFont\":42,\"fLabelOffset\":0.005,\"fLabelSize\":0.035,\"fTickLength\":0.03,\"fTitleOffset\":0,\"fTitleSize\":0.035,\"fTitleColor\":1,\"fTitleFont\":42,\"fNbins\":1,\"fXmin\":0,\"fXmax\":1,\"fXbins\":[],\"fFirst\":0,\"fLast\":0,\"fBits2\":0,\"fTimeDisplay\":false,\"fTimeFormat\":\"\",\"fLabels\":null,\"fModLabs\":null},\"fZaxis\":{\"_typename\":\"TAxis\",\"fUniqueID\":0,\"fBits\":50331648,\"fName\":\"zaxis\",\"fTitle\":\"\",\"fNdivisions\":510,\"fAxisColor\":1,\"fLabelColor\":1,\"fLabelFont\":42,\"fLabelOffset\":0.005,\"fLabelSize\":0.035,\"fTickLength\":0.03,\"fTitleOffset\":1,\"fTitleSize\":0.035,\"fTitleColor\":1,\"fTitleFont\":42,\"fNbins\":1,\"fXmin\":0,\"fXmax\":1,\"fXbins\":[],\"fFirst\":0,\"fLast\":0,\"fBits2\":0,\"fTimeDisplay\":false,\"fTimeFormat\":\"\",\"fLabels\":null,\"fModLabs\":null},\"fBarOffset\":0,\"fBarWidth\":1000,\"fEntries\":21347,\"fTsumw\":0,\"fTsumw2\":39879.6714630902,\"fTsumwx\":965669.171028096,\"fTsumwx2\":101551152.243979,\"fMaximum\":-1111,\"fMinimum\":-1111,\"fNormFactor\":0,\"fContour\":[],\"fSumw2\":[0,723.335257645348,31.5790207420157,182.48740915348,9.35287446855422,3.85024015103812,33.6690204582831,33.7793399356346,57.8549018699209,283.684199940282,244.98011170603,105.296896601402,60.8196510082307,118.27918862924,320.205744066987,154.152882286818,603.248510097268,571.360659426872,355.971280274438,187.443475098137,341.41192261441,986.482968792957,639.790040461219,286.46911506291,566.727122886214,883.975115916213,1676.00268550863,621.79060246099,958.247273756708,793.110480682147,1107.01603439989,886.549126786562,1298.09894707586,984.056740291907,825.341244221428,1320.13530240998,798.820007366462,608.693784255704,1482.38249120145,1108.15516034954,1168.22693313981,718.981574528828,397.611393752184,710.917854334583,662.212543153642,350.253027432886,1039.43391047701,642.316577311623,230.931997978534,658.770089431093,423.93383224026,432.667187034393,495.678368244023,578.936328203228,247.872177390523,763.896782440427,427.975536201528,203.636039057722,337.051188447005,131.236533003938,239.822203784182,312.981487698547,327.810556019013,327.324256907836,112.631521889779,279.53597821641,351.25088960617,360.356783851041,433.822655600647,277.709670229449,101.083127340144,115.749911357523,192.179793239222,335.611292705706,272.124729667207,233.173666644394,313.0513860935,110.691039336038,113.839730701176,105.355062180843,120.421361096975,49.2434125373458,227.694560818923,48.4791078924376,63.9950563515741,67.9733604770068,85.9973198469034,42.0107076097877,36.0724375074104,87.8932527162163,217.688349687523,42.6847434170693,28.1543421055375,25.9292171712497,211.290057970558,204.051318448432,225.926922762773,24.6298579337483,201.932698761422,39.2613366361067,1277.92715579741,0],\"fOption\":\"\",\"fFunctions\":{\"_typename\":\"TList\",\"name\":\"TList\",\"arr\":[],\"opt\":[]},\"fBufferSize\":0,\"fBuffer\":[],\"fBinStatErrOpt\":0,\"fArray\":[0,69.99236,11.86537,17.49522,3.130098,3.315653,13.94234,18.82294,26.64469,61.50959,47.10819,50.82093,39.84713,61.23464,83.676,68.63819,91.98413,125.0858,100.047,94.81524,103.9542,193.4516,159.9027,139.3343,202.3613,220.6871,308.0841,222.1483,235.1073,234.2829,265.4136,267.6743,280.1606,250.5901,247.3839,286.716,243.099,220.3636,293.0258,245.5054,285.8595,204.9499,186.4749,203.5155,184.9325,170.7723,231.5317,167.5013,127.7438,179.6876,149.2811,145.0694,169.7798,147.6458,115.9014,168.999,138.3234,107.9415,111.8488,86.0276,115.2265,93.41896,99.96338,93.72337,70.37782,86.58801,113.337,99.38486,82.19621,83.71004,60.55841,61.36134,88.27842,97.18281,72.6933,54.9531,87.39938,59.59373,60.93584,54.8263,66.98871,36.37233,48.56643,30.13087,34.79545,36.0969,47.32365,29.10211,23.81815,46.97595,44.10233,23.70431,21.34299,20.89533,39.88852,32.28888,46.91538,18.63741,36.50791,25.36172,756.636,0]},{\"_typename\":\"TH1F\",\"fUniqueID\":0,\"fBits\":50332168,\"fName\":\"DYJetsToLL_M-10to50_TuneCUETP8M1_13TeV-amcatnloFXFX-pythia8-v1\",\"fTitle\":\"\",\"fLineColor\":418,\"fLineStyle\":1,\"fLineWidth\":1,\"fFillColor\":418,\"fFillStyle\":1001,\"fMarkerColor\":1,\"fMarkerStyle\":1,\"fMarkerSize\":1,\"fNcells\":102,\"fXaxis\":{\"_typename\":\"TAxis\",\"fUniqueID\":0,\"fBits\":50331648,\"fName\":\"xaxis\",\"fTitle\":\"m_{Z} (GeV)\",\"fNdivisions\":510,\"fAxisColor\":1,\"fLabelColor\":1,\"fLabelFont\":42,\"fLabelOffset\":0.005,\"fLabelSize\":0.035,\"fTickLength\":0.03,\"fTitleOffset\":1,\"fTitleSize\":0.035,\"fTitleColor\":1,\"fTitleFont\":42,\"fNbins\":100,\"fXmin\":0,\"fXmax\":200,\"fXbins\":[],\"fFirst\":0,\"fLast\":0,\"fBits2\":0,\"fTimeDisplay\":false,\"fTimeFormat\":\"\",\"fLabels\":null,\"fModLabs\":null},\"fYaxis\":{\"_typename\":\"TAxis\",\"fUniqueID\":0,\"fBits\":50331648,\"fName\":\"yaxis\",\"fTitle\":\"\",\"fNdivisions\":510,\"fAxisColor\":1,\"fLabelColor\":1,\"fLabelFont\":42,\"fLabelOffset\":0.005,\"fLabelSize\":0.035,\"fTickLength\":0.03,\"fTitleOffset\":0,\"fTitleSize\":0.035,\"fTitleColor\":1,\"fTitleFont\":42,\"fNbins\":1,\"fXmin\":0,\"fXmax\":1,\"fXbins\":[],\"fFirst\":0,\"fLast\":0,\"fBits2\":0,\"fTimeDisplay\":false,\"fTimeFormat\":\"\",\"fLabels\":null,\"fModLabs\":null},\"fZaxis\":{\"_typename\":\"TAxis\",\"fUniqueID\":0,\"fBits\":50331648,\"fName\":\"zaxis\",\"fTitle\":\"\",\"fNdivisions\":510,\"fAxisColor\":1,\"fLabelColor\":1,\"fLabelFont\":42,\"fLabelOffset\":0.005,\"fLabelSize\":0.035,\"fTickLength\":0.03,\"fTitleOffset\":1,\"fTitleSize\":0.035,\"fTitleColor\":1,\"fTitleFont\":42,\"fNbins\":1,\"fXmin\":0,\"fXmax\":1,\"fXbins\":[],\"fFirst\":0,\"fLast\":0,\"fBits2\":0,\"fTimeDisplay\":false,\"fTimeFormat\":\"\",\"fLabels\":null,\"fModLabs\":null},\"fBarOffset\":0,\"fBarWidth\":1000,\"fEntries\":283,\"fTsumw\":0,\"fTsumw2\":7058.51398900485,\"fTsumwx\":107393.755548346,\"fTsumwx2\":10644830.3682615,\"fMaximum\":-1111,\"fMinimum\":-1111,\"fNormFactor\":0,\"fContour\":[],\"fSumw2\":[0,19.2634637098282,0,0,0,0,19.2634637098282,19.2634637098282,0,171.029584449075,0,19.2634637098282,38.5269274196565,0,19.2634637098282,57.7903911294847,38.5269274196565,19.2634637098282,115.580782258969,57.7903911294847,77.0538548393129,171.029584449075,57.7903911294847,115.580782258969,154.107709678626,96.3173185491411,267.346902998216,154.107709678626,476.903414866948,134.844245968798,248.083439288388,173.371173388454,248.083439288388,134.844245968798,154.107709678626,173.371173388454,96.3173185491411,192.634637098282,115.580782258969,77.0538548393129,248.083439288388,115.580782258969,57.7903911294847,77.0538548393129,342.059168898151,57.7903911294847,19.2634637098282,171.029584449075,77.0538548393129,38.5269274196565,38.5269274196565,77.0538548393129,77.0538548393129,209.556511868732,19.2634637098282,77.0538548393129,96.3173185491411,38.5269274196565,77.0538548393129,19.2634637098282,38.5269274196565,96.3173185491411,115.580782258969,209.556511868732,57.7903911294847,57.7903911294847,19.2634637098282,19.2634637098282,0,38.5269274196565,57.7903911294847,19.2634637098282,38.5269274196565,19.2634637098282,19.2634637098282,38.5269274196565,77.0538548393129,38.5269274196565,0,19.2634637098282,0,38.5269274196565,19.2634637098282,19.2634637098282,0,0,19.2634637098282,0,0,19.2634637098282,19.2634637098282,0,19.2634637098282,0,19.2634637098282,38.5269274196565,0,0,0,0,96.3173185491411,0],\"fOption\":\"\",\"fFunctions\":{\"_typename\":\"TList\",\"name\":\"TList\",\"arr\":[],\"opt\":[]},\"fBufferSize\":0,\"fBuffer\":[],\"fBinStatErrOpt\":0,\"fArray\":[0,4.389016,0,0,0,0,4.389016,4.389016,0,16.70835,0,4.389016,8.778032,0,4.389016,13.16705,8.778032,4.389016,26.3341,13.16705,17.55606,16.70835,13.16705,26.3341,35.11213,21.94508,38.65343,35.11213,64.13982,30.72311,34.26442,39.50114,34.26442,30.72311,35.11213,39.50114,21.94508,43.89016,26.3341,17.55606,34.26442,26.3341,13.16705,17.55606,33.41671,13.16705,4.389016,16.70835,17.55606,8.778032,8.778032,17.55606,17.55606,25.48639,4.389016,17.55606,21.94508,8.778032,17.55606,4.389016,8.778032,21.94508,26.3341,25.48639,13.16705,13.16705,4.389016,4.389016,0,8.778032,13.16705,4.389016,8.778032,4.389016,4.389016,8.778032,17.55606,8.778032,0,4.389016,0,8.778032,4.389016,4.389016,0,0,4.389016,0,0,4.389016,4.389016,0,4.389016,0,4.389016,8.778032,0,0,0,0,21.94508,0]}],\"opt\":[\"\",\"\",\"\",\"\",\"\",\"\",\"\",\"\",\"\"]},\"fHistogram\":{\"_typename\":\"TH1F\",\"fUniqueID\":0,\"fBits\":50332160,\"fName\":\"Bkg\",\"fTitle\":\"\",\"fLineColor\":602,\"fLineStyle\":1,\"fLineWidth\":1,\"fFillColor\":0,\"fFillStyle\":1001,\"fMarkerColor\":1,\"fMarkerStyle\":1,\"fMarkerSize\":1,\"fNcells\":102,\"fXaxis\":{\"_typename\":\"TAxis\",\"fUniqueID\":0,\"fBits\":50331656,\"fName\":\"xaxis\",\"fTitle\":\"m_{Z} (GeV)\",\"fNdivisions\":510,\"fAxisColor\":1,\"fLabelColor\":1,\"fLabelFont\":42,\"fLabelOffset\":0.010368,\"fLabelSize\":0.042,\"fTickLength\":0.03,\"fTitleOffset\":1.2,\"fTitleSize\":0.0504,\"fTitleColor\":1,\"fTitleFont\":42,\"fNbins\":100,\"fXmin\":0,\"fXmax\":200,\"fXbins\":[],\"fFirst\":0,\"fLast\":0,\"fBits2\":0,\"fTimeDisplay\":false,\"fTimeFormat\":\"\",\"fLabels\":null,\"fModLabs\":null},\"fYaxis\":{\"_typename\":\"TAxis\",\"fUniqueID\":0,\"fBits\":50331656,\"fName\":\"yaxis\",\"fTitle\":\"Events\",\"fNdivisions\":510,\"fAxisColor\":1,\"fLabelColor\":1,\"fLabelFont\":42,\"fLabelOffset\":0.005,\"fLabelSize\":0.042,\"fTickLength\":0.03,\"fTitleOffset\":0,\"fTitleSize\":0.0504,\"fTitleColor\":1,\"fTitleFont\":42,\"fNbins\":1,\"fXmin\":0,\"fXmax\":1,\"fXbins\":[],\"fFirst\":0,\"fLast\":0,\"fBits2\":0,\"fTimeDisplay\":false,\"fTimeFormat\":\"\",\"fLabels\":null,\"fModLabs\":null},\"fZaxis\":{\"_typename\":\"TAxis\",\"fUniqueID\":0,\"fBits\":50331648,\"fName\":\"zaxis\",\"fTitle\":\"\",\"fNdivisions\":510,\"fAxisColor\":1,\"fLabelColor\":1,\"fLabelFont\":42,\"fLabelOffset\":0.005,\"fLabelSize\":0.035,\"fTickLength\":0.03,\"fTitleOffset\":1,\"fTitleSize\":0.035,\"fTitleColor\":1,\"fTitleFont\":42,\"fNbins\":1,\"fXmin\":0,\"fXmax\":1,\"fXbins\":[],\"fFirst\":0,\"fLast\":0,\"fBits2\":0,\"fTimeDisplay\":false,\"fTimeFormat\":\"\",\"fLabels\":null,\"fModLabs\":null},\"fBarOffset\":0,\"fBarWidth\":1000,\"fEntries\":0,\"fTsumw\":0,\"fTsumw2\":0,\"fTsumwx\":0,\"fTsumwx2\":0,\"fMaximum\":4310.81461758817,\"fMinimum\":0.369768089535522,\"fNormFactor\":0,\"fContour\":[],\"fSumw2\":[],\"fOption\":\"\",\"fFunctions\":{\"_typename\":\"TList\",\"name\":\"TList\",\"arr\":[],\"opt\":[]},\"fBufferSize\":0,\"fBuffer\":[],\"fBinStatErrOpt\":0,\"fArray\":[0,0,0,0,0,0,0,0,0,0,0,0,0,0,0,0,0,0,0,0,0,0,0,0,0,0,0,0,0,0,0,0,0,0,0,0,0,0,0,0,0,0,0,0,0,0,0,0,0,0,0,0,0,0,0,0,0,0,0,0,0,0,0,0,0,0,0,0,0,0,0,0,0,0,0,0,0,0,0,0,0,0,0,0,0,0,0,0,0,0,0,0,0,0,0,0,0,0,0,0,0,0]},\"fMaximum\":-1111,\"fMinimum\":1},{\"_typename\":\"TH1F\",\"fUniqueID\":0,\"fBits\":50332168,\"fName\":\"BkgSum\",\"fTitle\":\"\",\"fLineColor\":1,\"fLineStyle\":1,\"fLineWidth\":1,\"fFillColor\":1,\"fFillStyle\":3003,\"fMarkerColor\":1,\"fMarkerStyle\":0,\"fMarkerSize\":1,\"fNcells\":102,\"fXaxis\":{\"_typename\":\"TAxis\",\"fUniqueID\":0,\"fBits\":50331656,\"fName\":\"xaxis\",\"fTitle\":\"m_{Z} (GeV)\",\"fNdivisions\":510,\"fAxisColor\":1,\"fLabelColor\":1,\"fLabelFont\":42,\"fLabelOffset\":0.010368,\"fLabelSize\":0.042,\"fTickLength\":0.03,\"fTitleOffset\":1.2,\"fTitleSize\":0.0504,\"fTitleColor\":1,\"fTitleFont\":42,\"fNbins\":100,\"fXmin\":0,\"fXmax\":200,\"fXbins\":[],\"fFirst\":0,\"fLast\":0,\"fBits2\":0,\"fTimeDisplay\":false,\"fTimeFormat\":\"\",\"fLabels\":null,\"fModLabs\":null},\"fYaxis\":{\"_typename\":\"TAxis\",\"fUniqueID\":0,\"fBits\":50331656,\"fName\":\"yaxis\",\"fTitle\":\"Events \\/ 2.0 GeV\",\"fNdivisions\":510,\"fAxisColor\":1,\"fLabelColor\":1,\"fLabelFont\":42,\"fLabelOffset\":0.005,\"fLabelSize\":0.042,\"fTickLength\":0.03,\"fTitleOffset\":0,\"fTitleSize\":0.0504,\"fTitleColor\":1,\"fTitleFont\":42,\"fNbins\":1,\"fXmin\":0,\"fXmax\":1,\"fXbins\":[],\"fFirst\":0,\"fLast\":0,\"fBits2\":0,\"fTimeDisplay\":false,\"fTimeFormat\":\"\",\"fLabels\":null,\"fModLabs\":null},\"fZaxis\":{\"_typename\":\"TAxis\",\"fUniqueID\":0,\"fBits\":50331648,\"fName\":\"zaxis\",\"fTitle\":\"\",\"fNdivisions\":510,\"fAxisColor\":1,\"fLabelColor\":1,\"fLabelFont\":42,\"fLabelOffset\":0.005,\"fLabelSize\":0.035,\"fTickLength\":0.03,\"fTitleOffset\":1,\"fTitleSize\":0.035,\"fTitleColor\":1,\"fTitleFont\":42,\"fNbins\":1,\"fXmin\":0,\"fXmax\":1,\"fXbins\":[],\"fFirst\":0,\"fLast\":0,\"fBits2\":0,\"fTimeDisplay\":false,\"fTimeFormat\":\"\",\"fLabels\":null,\"fModLabs\":null},\"fBarOffset\":0,\"fBarWidth\":1000,\"fEntries\":487963,\"fTsumw\":0,\"fTsumw2\":54094.7221056756,\"fTsumwx\":5200258.57906391,\"fTsumwx2\":507045541.273131,\"fMaximum\":-1111,\"fMinimum\":-1111,\"fNormFactor\":0,\"fContour\":[],\"fSumw2\":[0,743.276542679408,32.0170831381363,183.121490538453,11.6921519566508,10.8190442237019,67.0510477880259,77.5775688195552,91.8106244382523,498.627381830286,295.916212908444,184.659816712003,165.791606047838,192.506753791575,419.275343656546,299.121256981043,736.495384265804,695.140979147012,583.848061804667,366.074134322167,546.224797265887,1298.34861786221,846.717121927914,563.542175448511,888.688451591256,1155.24267123845,2121.47861453057,953.925726393653,1616.98880055121,1113.4706064962,1535.06763896733,1239.24511533486,1718.4323036053,1290.04443984109,1142.13071349411,1654.8551194759,1054.46899935589,952.982194681473,1742.97501520788,1327.27612104267,1554.07918502229,965.518610933892,580.649302048492,906.465936570268,1119.88127620804,519.718779280931,1166.34739512812,914.118076203948,404.18616284128,789.335978567159,551.184292589979,595.195838658372,655.881554266573,864.906206234593,339.493118093532,910.591974773672,589.596260288271,306.779289175658,476.295088426747,209.272865134348,333.485533451712,462.478361007282,494.493904327245,585.308866703874,215.776146371686,379.809650959798,411.637432587001,420.497369208586,472.633215586819,352.225474370112,193.400937125159,168.651252101769,262.642061643858,385.387498394156,320.712253235294,298.165577903769,417.499384024371,174.7806454366,137.983333659848,148.305357512978,143.515033152074,109.32215007558,266.24909400555,86.8735869466457,82.9944027063165,85.9816182535726,122.337734353105,57.9959198831231,51.798708963533,121.295604643941,251.134050643287,55.8321119466889,59.5868101280337,37.5078868489729,242.002737696231,252.812472483178,236.153905482384,34.7738614933396,212.108936469683,48.4495821739054,1606.28040759727,0],\"fOption\":\"\",\"fFunctions\":{\"_typename\":\"TList\",\"name\":\"TList\",\"arr\":[],\"opt\":[]},\"fBufferSize\":0,\"fBuffer\":[],\"fBinStatErrOpt\":0,\"fArray\":[0,79.61836,15.45635,23.07664,21.66239,57.08496,125.553,208.6761,282.6696,408.7832,431.5454,507.7842,549.0823,620.4879,689.5278,738.9077,813.8842,916.1438,971.7728,1017.202,1083.202,1269.458,1295.377,1380.889,1501.313,1559.214,1687.825,1597.565,1668.225,1660.409,1653.704,1656.782,1611.591,1568.782,1508.304,1541.022,1464.323,1406.576,1411.326,1332.872,1357.957,1216.798,1142.152,1114.245,1089.543,1025.568,1047.553,944.1234,870.1066,881.632,827.7048,807.3946,813.5193,749.6644,666.9841,711.9241,653.8769,604.5388,598.8926,533.6208,539.448,517.1547,512.1658,485.0852,426.7228,421.0375,428.0224,412.016,375.287,364.1681,334.9955,319.8762,338.7062,332.6367,299.0225,263.9056,312.3867,261.8289,243.5998,238.6664,241.7122,208.2868,198.9051,179.3144,178.8382,172.6923,181.6893,150.4536,143.0639,158.5995,156.0203,123.6054,118.3454,109.0982,131.6578,118.8458,124.4434,95.65626,113.9259,95.03069,2563.277,0]},{\"_typename\":\"TH1F\",\"fUniqueID\":0,\"fBits\":50332168,\"fName\":\"SingleMuonRun2016B-03Feb2017_ver1-v1\",\"fTitle\":\"\",\"fLineColor\":1,\"fLineStyle\":1,\"fLineWidth\":1,\"fFillColor\":0,\"fFillStyle\":1,\"fMarkerColor\":1,\"fMarkerStyle\":20,\"fMarkerSize\":1.25,\"fNcells\":102,\"fXaxis\":{\"_typename\":\"TAxis\",\"fUniqueID\":0,\"fBits\":50331648,\"fName\":\"xaxis\",\"fTitle\":\"m_{Z} (GeV)\",\"fNdivisions\":510,\"fAxisColor\":1,\"fLabelColor\":1,\"fLabelFont\":42,\"fLabelOffset\":0.005,\"fLabelSize\":0.035,\"fTickLength\":0.03,\"fTitleOffset\":1,\"fTitleSize\":0.035,\"fTitleColor\":1,\"fTitleFont\":42,\"fNbins\":100,\"fXmin\":0,\"fXmax\":200,\"fXbins\":[],\"fFirst\":0,\"fLast\":0,\"fBits2\":0,\"fTimeDisplay\":false,\"fTimeFormat\":\"\",\"fLabels\":null,\"fModLabs\":null},\"fYaxis\":{\"_typename\":\"TAxis\",\"fUniqueID\":0,\"fBits\":50331648,\"fName\":\"yaxis\",\"fTitle\":\"\",\"fNdivisions\":510,\"fAxisColor\":1,\"fLabelColor\":1,\"fLabelFont\":42,\"fLabelOffset\":0.005,\"fLabelSize\":0.035,\"fTickLength\":0.03,\"fTitleOffset\":0,\"fTitleSize\":0.035,\"fTitleColor\":1,\"fTitleFont\":42,\"fNbins\":1,\"fXmin\":0,\"fXmax\":1,\"fXbins\":[],\"fFirst\":0,\"fLast\":0,\"fBits2\":0,\"fTimeDisplay\":false,\"fTimeFormat\":\"\",\"fLabels\":null,\"fModLabs\":null},\"fZaxis\":{\"_typename\":\"TAxis\",\"fUniqueID\":0,\"fBits\":50331648,\"fName\":\"zaxis\",\"fTitle\":\"\",\"fNdivisions\":510,\"fAxisColor\":1,\"fLabelColor\":1,\"fLabelFont\":42,\"fLabelOffset\":0.005,\"fLabelSize\":0.035,\"fTickLength\":0.03,\"fTitleOffset\":1,\"fTitleSize\":0.035,\"fTitleColor\":1,\"fTitleFont\":42,\"fNbins\":1,\"fXmin\":0,\"fXmax\":1,\"fXbins\":[],\"fFirst\":0,\"fLast\":0,\"fBits2\":0,\"fTimeDisplay\":false,\"fTimeFormat\":\"\",\"fLabels\":null,\"fModLabs\":null},\"fBarOffset\":0,\"fBarWidth\":1000,\"fEntries\":84521,\"fTsumw\":0,\"fTsumw2\":81491,\"fTsumwx\":6162622.97630301,\"fTsumwx2\":593073905.872688,\"fMaximum\":-1111,\"fMinimum\":-1111,\"fNormFactor\":0,\"fContour\":[],\"fSumw2\":[0,766,398,169,156,218,273,372,412,507,570,577,671,732,746,861,920,1022,1069,1271,1332,1460,1741,1849,1936,2049,2046,2144,2081,2136,2109,1986,1962,1985,1870,1873,1817,1688,1627,1513,1553,1390,1407,1331,1323,1168,1150,1055,1089,1048,1000,926,850,864,822,813,772,674,655,630,641,603,544,524,545,467,455,442,440,432,415,423,344,348,335,326,301,297,300,296,266,223,243,238,190,195,199,164,198,176,193,158,154,150,124,132,127,118,106,100,3153,0],\"fOption\":\"\",\"fFunctions\":{\"_typename\":\"TList\",\"name\":\"TList\",\"arr\":[],\"opt\":[]},\"fBufferSize\":0,\"fBuffer\":[],\"fBinStatErrOpt\":0,\"fArray\":[0,766,398,169,156,218,273,372,412,507,570,577,671,732,746,861,920,1022,1069,1271,1332,1460,1741,1849,1936,2049,2046,2144,2081,2136,2109,1986,1962,1985,1870,1873,1817,1688,1627,1513,1553,1390,1407,1331,1323,1168,1150,1055,1089,1048,1000,926,850,864,822,813,772,674,655,630,641,603,544,524,545,467,455,442,440,432,415,423,344,348,335,326,301,297,300,296,266,223,243,238,190,195,199,164,198,176,193,158,154,150,124,132,127,118,106,100,3153,0]},{\"_typename\":\"TLegend\",\"fUniqueID\":0,\"fBits\":50331656,\"fLineColor\":1,\"fLineStyle\":1,\"fLineWidth\":1,\"fFillColor\":0,\"fFillStyle\":0,\"fX1\":141.176470655265,\"fY1\":1.05465434357386,\"fX2\":200.00000056975,\"fY2\":3.45965052622723,\"fX1NDC\":0.7,\"fY1NDC\":0.35,\"fX2NDC\":0.95,\"fY2NDC\":0.9,\"fBorderSize\":0,\"fInit\":1,\"fShadowColor\":1,\"fCornerRadius\":0,\"fOption\":\"brNDC\",\"fName\":\"TPave\",\"fTextAngle\":0,\"fTextSize\":0,\"fTextAlign\":12,\"fTextColor\":1,\"fTextFont\":42,\"fPrimitives\":{\"_typename\":\"TList\",\"name\":\"TList\",\"arr\":[{\"_typename\":\"TLegendEntry\",\"fUniqueID\":0,\"fBits\":50331656,\"fTextAngle\":0,\"fTextSize\":0,\"fTextAlign\":0,\"fTextColor\":0,\"fTextFont\":42,\"fLineColor\":1,\"fLineStyle\":1,\"fLineWidth\":1,\"fFillColor\":0,\"fFillStyle\":0,\"fMarkerColor\":1,\"fMarkerStyle\":20,\"fMarkerSize\":1.25,\"fObject\":{\"$ref\":62},\"fLabel\":\"Data\",\"fOption\":\"pl\"},{\"_typename\":\"TLegendEntry\",\"fUniqueID\":0,\"fBits\":50331656,\"fTextAngle\":0,\"fTextSize\":0,\"fTextAlign\":0,\"fTextColor\":0,\"fTextFont\":42,\"fLineColor\":418,\"fLineStyle\":1,\"fLineWidth\":1,\"fFillColor\":418,\"fFillStyle\":1001,\"fMarkerColor\":1,\"fMarkerStyle\":21,\"fMarkerSize\":1,\"fObject\":{\"$ref\":47},\"fLabel\":\"Z(ll) + jets\",\"fOption\":\"f\"},{\"_typename\":\"TLegendEntry\",\"fUniqueID\":0,\"fBits\":50331656,\"fTextAngle\":0,\"fTextSize\":0,\"fTextAlign\":0,\"fTextColor\":0,\"fTextFont\":42,\"fLineColor\":881,\"fLineStyle\":1,\"fLineWidth\":1,\"fFillColor\":881,\"fFillStyle\":1001,\"fMarkerColor\":1,\"fMarkerStyle\":21,\"fMarkerSize\":1,\"fObject\":{\"$ref\":42},\"fLabel\":\"W(l#nu) + jets\",\"fOption\":\"f\"},{\"_typename\":\"TLegendEntry\",\"fUniqueID\":0,\"fBits\":50331656,\"fTextAngle\":0,\"fTextSize\":0,\"fTextAlign\":0,\"fTextColor\":0,\"fTextFont\":42,\"fLineColor\":798,\"fLineStyle\":1,\"fLineWidth\":1,\"fFillColor\":41,\"fFillStyle\":1001,\"fMarkerColor\":1,\"fMarkerStyle\":21,\"fMarkerSize\":1,\"fObject\":{\"$ref\":37},\"fLabel\":\"t#bar{t} di-lept\",\"fOption\":\"f\"},{\"_typename\":\"TLegendEntry\",\"fUniqueID\":0,\"fBits\":50331656,\"fTextAngle\":0,\"fTextSize\":0,\"fTextAlign\":0,\"fTextColor\":0,\"fTextFont\":42,\"fLineColor\":801,\"fLineStyle\":1,\"fLineWidth\":1,\"fFillColor\":801,\"fFillStyle\":1001,\"fMarkerColor\":1,\"fMarkerStyle\":21,\"fMarkerSize\":1,\"fObject\":{\"$ref\":32},\"fLabel\":\"Single-t\",\"fOption\":\"f\"},{\"_typename\":\"TLegendEntry\",\"fUniqueID\":0,\"fBits\":50331656,\"fTextAngle\":0,\"fTextSize\":0,\"fTextAlign\":0,\"fTextColor\":0,\"fTextFont\":42,\"fLineColor\":798,\"fLineStyle\":1,\"fLineWidth\":1,\"fFillColor\":798,\"fFillStyle\":1001,\"fMarkerColor\":1,\"fMarkerStyle\":21,\"fMarkerSize\":1,\"fObject\":{\"$ref\":27},\"fLabel\":\"t#bar{t} sing.lept\",\"fOption\":\"f\"},{\"_typename\":\"TLegendEntry\",\"fUniqueID\":0,\"fBits\":50331656,\"fTextAngle\":0,\"fTextSize\":0,\"fTextAlign\":0,\"fTextColor\":0,\"fTextFont\":42,\"fLineColor\":602,\"fLineStyle\":1,\"fLineWidth\":1,\"fFillColor\":602,\"fFillStyle\":1001,\"fMarkerColor\":1,\"fMarkerStyle\":21,\"fMarkerSize\":1,\"fObject\":{\"$ref\":22},\"fLabel\":\"WZ\",\"fOption\":\"f\"},{\"_typename\":\"TLegendEntry\",\"fUniqueID\":0,\"fBits\":50331656,\"fTextAngle\":0,\"fTextSize\":0,\"fTextAlign\":0,\"fTextColor\":0,\"fTextFont\":42,\"fLineColor\":602,\"fLineStyle\":1,\"fLineWidth\":1,\"fFillColor\":7,\"fFillStyle\":1001,\"fMarkerColor\":1,\"fMarkerStyle\":21,\"fMarkerSize\":1,\"fObject\":{\"$ref\":17},\"fLabel\":\"W+W-\",\"fOption\":\"f\"},{\"_typename\":\"TLegendEntry\",\"fUniqueID\":0,\"fBits\":50331656,\"fTextAngle\":0,\"fTextSize\":0,\"fTextAlign\":0,\"fTextColor\":0,\"fTextFont\":42,\"fLineColor\":602,\"fLineStyle\":1,\"fLineWidth\":1,\"fFillColor\":38,\"fFillStyle\":1001,\"fMarkerColor\":1,\"fMarkerStyle\":21,\"fMarkerSize\":1,\"fObject\":{\"$ref\":12},\"fLabel\":\"ttW,ttZ,ttH\",\"fOption\":\"f\"},{\"_typename\":\"TLegendEntry\",\"fUniqueID\":0,\"fBits\":50331656,\"fTextAngle\":0,\"fTextSize\":0,\"fTextAlign\":0,\"fTextColor\":0,\"fTextFont\":42,\"fLineColor\":602,\"fLineStyle\":1,\"fLineWidth\":1,\"fFillColor\":46,\"fFillStyle\":1001,\"fMarkerColor\":1,\"fMarkerStyle\":21,\"fMarkerSize\":1,\"fObject\":{\"$ref\":7},\"fLabel\":\"WWW,WWZ\",\"fOption\":\"f\"},{\"_typename\":\"TLegendEntry\",\"fUniqueID\":0,\"fBits\":50331656,\"fTextAngle\":0,\"fTextSize\":0,\"fTextAlign\":0,\"fTextColor\":0,\"fTextFont\":42,\"fLineColor\":1,\"fLineStyle\":1,\"fLineWidth\":1,\"fFillColor\":1,\"fFillStyle\":3003,\"fMarkerColor\":1,\"fMarkerStyle\":21,\"fMarkerSize\":1,\"fObject\":{\"$ref\":57},\"fLabel\":\"MC stat.\",\"fOption\":\"f\"}],\"opt\":[\"pl\",\"f\",\"f\",\"f\",\"f\",\"f\",\"f\",\"f\",\"f\",\"f\",\"f\"]},\"fEntrySeparation\":0.1,\"fMargin\":0.25,\"fNColumns\":1,\"fColumnSeparation\":0},{\"_typename\":\"TLatex\",\"fUniqueID\":0,\"fBits\":50348041,\"fName\":\"\",\"fTitle\":\"35.8 fb^{-1}  (13 TeV)\",\"fTextAngle\":0,\"fTextSize\":0.04,\"fTextAlign\":33,\"fTextColor\":1,\"fTextFont\":42,\"fX\":0.95,\"fY\":0.985,\"fLineColor\":1,\"fLineStyle\":1,\"fLineWidth\":2,\"fLimitFactorSize\":3,\"fOriginSize\":0.04},{\"_typename\":\"TLatex\",\"fUniqueID\":0,\"fBits\":50348041,\"fName\":\"\",\"fTitle\":\"CMS\",\"fTextAngle\":0,\"fTextSize\":0.05,\"fTextAlign\":11,\"fTextColor\":1,\"fTextFont\":62,\"fX\":0.15,\"fY\":0.87,\"fLineColor\":1,\"fLineStyle\":1,\"fLineWidth\":2,\"fLimitFactorSize\":3,\"fOriginSize\":0.04},{\"_typename\":\"TLatex\",\"fUniqueID\":0,\"fBits\":50348041,\"fName\":\"\",\"fTitle\":\"Preliminary\",\"fTextAngle\":0,\"fTextSize\":0.04,\"fTextAlign\":11,\"fTextColor\":1,\"fTextFont\":52,\"fX\":0.15,\"fY\":0.83,\"fLineColor\":1,\"fLineStyle\":1,\"fLineWidth\":2,\"fLimitFactorSize\":3,\"fOriginSize\":0.04}],\"opt\":[\"\",\"hist\",\"SAME, E2\",\"SAME, PE\",\"\",\"\",\"\",\"\"]},\"fExecs\":{\"_typename\":\"TList\",\"name\":\"TList\",\"arr\":[],\"opt\":[]},\"fName\":\"TopPad\",\"fTitle\":\"\",\"fNumPaletteColor\":0,\"fNextPaletteColor\":0},{\"_typename\":\"TPad\",\"fUniqueID\":0,\"fBits\":50331657,\"fLineColor\":1,\"fLineStyle\":1,\"fLineWidth\":1,\"fFillColor\":0,\"fFillStyle\":1001,\"fLeftMargin\":0.1,\"fRightMargin\":0.05,\"fBottomMargin\":0.4,\"fTopMargin\":0.04,\"fXfile\":2,\"fYfile\":2,\"fAfile\":1,\"fXstat\":0.99,\"fYstat\":0.99,\"fAstat\":2,\"fFrameFillColor\":0,\"fFrameLineColor\":1,\"fFrameFillStyle\":1001,\"fFrameLineStyle\":1,\"fFrameLineWidth\":1,\"fFrameBorderSize\":1,\"fFrameBorderMode\":0,\"fX1\":-23.5294131052948,\"fY1\":-1.42857144377669,\"fX2\":211.764706552647,\"fY2\":2.14285713905583,\"fXtoAbsPixelk\":79.6000538549305,\"fXtoPixelk\":79.6000538549305,\"fXtoPixel\":3.38299997108802,\"fYtoAbsPixelk\":694.800049424815,\"fYtoPixelk\":115.800049424815,\"fYtoPixel\":-54.0399998274446,\"fUtoAbsPixelk\":5e-5,\"fUtoPixelk\":5e-5,\"fUtoPixel\":796,\"fVtoAbsPixelk\":772.00005,\"fVtoPixelk\":193,\"fVtoPixel\":-193,\"fAbsPixeltoXk\":-23.5294131052948,\"fPixeltoXk\":-23.5294131052948,\"fPixeltoX\":0.295595627710983,\"fAbsPixeltoYk\":12.8571428875534,\"fPixeltoYk\":-1.42857144377669,\"fPixeltoY\":-0.0185048113100131,\"fXlowNDC\":0,\"fYlowNDC\":0,\"fXUpNDC\":0,\"fYUpNDC\":0,\"fWNDC\":1,\"fHNDC\":0.25,\"fAbsXlowNDC\":0,\"fAbsYlowNDC\":0,\"fAbsWNDC\":1,\"fAbsHNDC\":0.25,\"fUxmin\":0,\"fUymin\":0,\"fUxmax\":200,\"fUymax\":2,\"fTheta\":30,\"fPhi\":30,\"fAspectRatio\":0,\"fNumber\":2,\"fTickx\":1,\"fTicky\":1,\"fLogx\":0,\"fLogy\":0,\"fLogz\":0,\"fPadPaint\":0,\"fCrosshair\":0,\"fCrosshairPos\":0,\"fBorderSize\":2,\"fBorderMode\":0,\"fModified\":false,\"fGridx\":false,\"fGridy\":false,\"fAbsCoord\":false,\"fEditable\":true,\"fFixedAspectRatio\":false,\"fPrimitives\":{\"_typename\":\"TList\",\"name\":\"TList\",\"arr\":[{\"_typename\":\"TFrame\",\"fUniqueID\":0,\"fBits\":50331656,\"fLineColor\":1,\"fLineStyle\":1,\"fLineWidth\":1,\"fFillColor\":0,\"fFillStyle\":1001,\"fX1\":0,\"fY1\":0,\"fX2\":200,\"fY2\":2,\"fBorderSize\":1,\"fBorderMode\":0},{\"_typename\":\"TH1F\",\"fUniqueID\":0,\"fBits\":50332168,\"fName\":\"BkgErr;\",\"fTitle\":\"\",\"fLineColor\":1,\"fLineStyle\":1,\"fLineWidth\":1,\"fFillColor\":1,\"fFillStyle\":3003,\"fMarkerColor\":1,\"fMarkerStyle\":0,\"fMarkerSize\":1,\"fNcells\":102,\"fXaxis\":{\"_typename\":\"TAxis\",\"fUniqueID\":0,\"fBits\":50331656,\"fName\":\"xaxis\",\"fTitle\":\"m_{Z} (GeV)\",\"fNdivisions\":510,\"fAxisColor\":1,\"fLabelColor\":1,\"fLabelFont\":42,\"fLabelOffset\":0.031104,\"fLabelSize\":0.126,\"fTickLength\":0.03,\"fTitleOffset\":1.2,\"fTitleSize\":0.1512,\"fTitleColor\":1,\"fTitleFont\":42,\"fNbins\":100,\"fXmin\":0,\"fXmax\":200,\"fXbins\":[],\"fFirst\":0,\"fLast\":0,\"fBits2\":0,\"fTimeDisplay\":false,\"fTimeFormat\":\"\",\"fLabels\":null,\"fModLabs\":null},\"fYaxis\":{\"_typename\":\"TAxis\",\"fUniqueID\":0,\"fBits\":50331656,\"fName\":\"yaxis\",\"fTitle\":\"Data \\/ Bkg\",\"fNdivisions\":505,\"fAxisColor\":1,\"fLabelColor\":1,\"fLabelFont\":42,\"fLabelOffset\":0.005,\"fLabelSize\":0.126,\"fTickLength\":0.03,\"fTitleOffset\":0,\"fTitleSize\":0.1512,\"fTitleColor\":1,\"fTitleFont\":42,\"fNbins\":1,\"fXmin\":0,\"fXmax\":1,\"fXbins\":[],\"fFirst\":0,\"fLast\":0,\"fBits2\":0,\"fTimeDisplay\":false,\"fTimeFormat\":\"\",\"fLabels\":null,\"fModLabs\":null},\"fZaxis\":{\"_typename\":\"TAxis\",\"fUniqueID\":0,\"fBits\":50331648,\"fName\":\"zaxis\",\"fTitle\":\"\",\"fNdivisions\":510,\"fAxisColor\":1,\"fLabelColor\":1,\"fLabelFont\":42,\"fLabelOffset\":0.005,\"fLabelSize\":0.035,\"fTickLength\":0.03,\"fTitleOffset\":1,\"fTitleSize\":0.035,\"fTitleColor\":1,\"fTitleFont\":42,\"fNbins\":1,\"fXmin\":0,\"fXmax\":1,\"fXbins\":[],\"fFirst\":0,\"fLast\":0,\"fBits2\":0,\"fTimeDisplay\":false,\"fTimeFormat\":\"\",\"fLabels\":null,\"fModLabs\":null},\"fBarOffset\":0,\"fBarWidth\":1000,\"fEntries\":488063,\"fTsumw\":0,\"fTsumw2\":54094.7221056756,\"fTsumwx\":5200258.57906391,\"fTsumwx2\":507045541.273131,\"fMaximum\":2,\"fMinimum\":0,\"fNormFactor\":0,\"fContour\":[],\"fSumw2\":[0,0.117252995135567,0.134019458335391,0.343869926364464,0.0249161861613941,0.00332005698269077,0.00425354780051956,0.00178152091697757,0.00114903851826493,0.00298393923069391,0.00158897021510809,7.16166522464911e-4,5.49905026183658e-4,5.00010818837349e-4,8.81852192680551e-4,5.47856661781498e-4,0.00111184652228291,8.28219780628375e-4,6.18258848433125e-4,3.53797590861462e-4,4.65535472111381e-4,8.05664801745556e-4,5.04598468612579e-4,2.95534905951797e-4,3.94282285050752e-4,4.75184262413157e-4,7.44704500272915e-4,3.73764042835321e-4,5.81028868112117e-4,4.03876723913656e-4,5.61321965800688e-4,4.51467697348038e-4,6.61641884206083e-4,5.24178840349491e-4,5.02039385791185e-4,6.96854941985184e-4,4.91767510072967e-4,4.81679957673151e-4,8.75057661846463e-4,7.4710978660092e-4,8.42755120057108e-4,6.52114385880026e-4,4.45108638951511e-4,7.30113199166953e-4,9.43371755927461e-4,4.94128385354844e-4,0.00106285967873011,0.00102552161312463,5.33871192771273e-4,0.00101551698086464,8.04536799702781e-4,9.13036655813607e-4,9.91036487652389e-4,0.00153898814955271,7.63132540892224e-4,0.00179662096215676,0.00137899515633243,8.39416789049397e-4,0.00132793908146634,7.34932477270516e-4,0.00114598208285232,0.00172922069626854,0.00188512364496218,0.00248741924740581,0.00118498173533136,0.00214251805161502,0.00224688995863137,0.0024770520846672,0.00335580785616853,0.00265593264379829,0.00172337818674445,0.00164826039391205,0.0022893804360049,0.00348303152979783,0.00358680635263423,0.0042811482042966,0.00427829656582849,0.00254951819212511,0.00232526716855685,0.00260360080470467,0.00245640743612193,0.00251990854209622,0.00672970680291323,0.00270182604123967,0.00259494463206782,0.00288310003427154,0.00370596790928133,0.00256207763237475,0.0025308045531547,0.00482215691589635,0.0103167661518347,0.0036543404564738,0.00425449157664249,0.00315128062016427,0.0139613447278318,0.0178990723515854,0.0152493547037679,0.0038003723364904,0.0163423310856155,0.00536490841756288,2.44472677940196e-4,0],\"fOption\":\"\",\"fFunctions\":{\"_typename\":\"TList\",\"name\":\"TList\",\"arr\":[],\"opt\":[]},\"fBufferSize\":0,\"fBuffer\":[],\"fBinStatErrOpt\":0,\"fArray\":[0,1,1,1,1,1,1,1,1,1,1,1,1,1,1,1,1,1,1,1,1,1,1,1,1,1,1,1,1,1,1,1,1,1,1,1,1,1,1,1,1,1,1,1,1,1,1,1,1,1,1,1,1,1,1,1,1,1,1,1,1,1,1,1,1,1,1,1,1,1,1,1,1,1,1,1,1,1,1,1,1,1,1,1,1,1,1,1,1,1,1,1,1,1,1,1,1,1,1,1,1,0]},{\"_typename\":\"TH1F\",\"fUniqueID\":0,\"fBits\":50332168,\"fName\":\"errLine\",\"fTitle\":\"\",\"fLineColor\":1,\"fLineStyle\":1,\"fLineWidth\":1,\"fFillColor\":1,\"fFillStyle\":0,\"fMarkerColor\":1,\"fMarkerStyle\":0,\"fMarkerSize\":1,\"fNcells\":102,\"fXaxis\":{\"_typename\":\"TAxis\",\"fUniqueID\":0,\"fBits\":50331656,\"fName\":\"xaxis\",\"fTitle\":\"m_{Z} (GeV)\",\"fNdivisions\":510,\"fAxisColor\":1,\"fLabelColor\":1,\"fLabelFont\":42,\"fLabelOffset\":0.031104,\"fLabelSize\":0.126,\"fTickLength\":0.03,\"fTitleOffset\":1.2,\"fTitleSize\":0.1512,\"fTitleColor\":1,\"fTitleFont\":42,\"fNbins\":100,\"fXmin\":0,\"fXmax\":200,\"fXbins\":[],\"fFirst\":0,\"fLast\":0,\"fBits2\":0,\"fTimeDisplay\":false,\"fTimeFormat\":\"\",\"fLabels\":null,\"fModLabs\":null},\"fYaxis\":{\"_typename\":\"TAxis\",\"fUniqueID\":0,\"fBits\":50331656,\"fName\":\"yaxis\",\"fTitle\":\"Data \\/ Bkg\",\"fNdivisions\":505,\"fAxisColor\":1,\"fLabelColor\":1,\"fLabelFont\":42,\"fLabelOffset\":0.005,\"fLabelSize\":0.126,\"fTickLength\":0.03,\"fTitleOffset\":0,\"fTitleSize\":0.1512,\"fTitleColor\":1,\"fTitleFont\":42,\"fNbins\":1,\"fXmin\":0,\"fXmax\":1,\"fXbins\":[],\"fFirst\":0,\"fLast\":0,\"fBits2\":0,\"fTimeDisplay\":false,\"fTimeFormat\":\"\",\"fLabels\":null,\"fModLabs\":null},\"fZaxis\":{\"_typename\":\"TAxis\",\"fUniqueID\":0,\"fBits\":50331648,\"fName\":\"zaxis\",\"fTitle\":\"\",\"fNdivisions\":510,\"fAxisColor\":1,\"fLabelColor\":1,\"fLabelFont\":42,\"fLabelOffset\":0.005,\"fLabelSize\":0.035,\"fTickLength\":0.03,\"fTitleOffset\":1,\"fTitleSize\":0.035,\"fTitleColor\":1,\"fTitleFont\":42,\"fNbins\":1,\"fXmin\":0,\"fXmax\":1,\"fXbins\":[],\"fFirst\":0,\"fLast\":0,\"fBits2\":0,\"fTimeDisplay\":false,\"fTimeFormat\":\"\",\"fLabels\":null,\"fModLabs\":null},\"fBarOffset\":0,\"fBarWidth\":1000,\"fEntries\":488063,\"fTsumw\":0,\"fTsumw2\":54094.7221056756,\"fTsumwx\":5200258.57906391,\"fTsumwx2\":507045541.273131,\"fMaximum\":2,\"fMinimum\":0,\"fNormFactor\":0,\"fContour\":[],\"fSumw2\":[0,0.117252995135567,0.134019458335391,0.343869926364464,0.0249161861613941,0.00332005698269077,0.00425354780051956,0.00178152091697757,0.00114903851826493,0.00298393923069391,0.00158897021510809,7.16166522464911e-4,5.49905026183658e-4,5.00010818837349e-4,8.81852192680551e-4,5.47856661781498e-4,0.00111184652228291,8.28219780628375e-4,6.18258848433125e-4,3.53797590861462e-4,4.65535472111381e-4,8.05664801745556e-4,5.04598468612579e-4,2.95534905951797e-4,3.94282285050752e-4,4.75184262413157e-4,7.44704500272915e-4,3.73764042835321e-4,5.81028868112117e-4,4.03876723913656e-4,5.61321965800688e-4,4.51467697348038e-4,6.61641884206083e-4,5.24178840349491e-4,5.02039385791185e-4,6.96854941985184e-4,4.91767510072967e-4,4.81679957673151e-4,8.75057661846463e-4,7.4710978660092e-4,8.42755120057108e-4,6.52114385880026e-4,4.45108638951511e-4,7.30113199166953e-4,9.43371755927461e-4,4.94128385354844e-4,0.00106285967873011,0.00102552161312463,5.33871192771273e-4,0.00101551698086464,8.04536799702781e-4,9.13036655813607e-4,9.91036487652389e-4,0.00153898814955271,7.63132540892224e-4,0.00179662096215676,0.00137899515633243,8.39416789049397e-4,0.00132793908146634,7.34932477270516e-4,0.00114598208285232,0.00172922069626854,0.00188512364496218,0.00248741924740581,0.00118498173533136,0.00214251805161502,0.00224688995863137,0.0024770520846672,0.00335580785616853,0.00265593264379829,0.00172337818674445,0.00164826039391205,0.0022893804360049,0.00348303152979783,0.00358680635263423,0.0042811482042966,0.00427829656582849,0.00254951819212511,0.00232526716855685,0.00260360080470467,0.00245640743612193,0.00251990854209622,0.00672970680291323,0.00270182604123967,0.00259494463206782,0.00288310003427154,0.00370596790928133,0.00256207763237475,0.0025308045531547,0.00482215691589635,0.0103167661518347,0.0036543404564738,0.00425449157664249,0.00315128062016427,0.0139613447278318,0.0178990723515854,0.0152493547037679,0.0038003723364904,0.0163423310856155,0.00536490841756288,2.44472677940196e-4,0],\"fOption\":\"\",\"fFunctions\":{\"_typename\":\"TList\",\"name\":\"TList\",\"arr\":[],\"opt\":[]},\"fBufferSize\":0,\"fBuffer\":[],\"fBinStatErrOpt\":0,\"fArray\":[0,1,1,1,1,1,1,1,1,1,1,1,1,1,1,1,1,1,1,1,1,1,1,1,1,1,1,1,1,1,1,1,1,1,1,1,1,1,1,1,1,1,1,1,1,1,1,1,1,1,1,1,1,1,1,1,1,1,1,1,1,1,1,1,1,1,1,1,1,1,1,1,1,1,1,1,1,1,1,1,1,1,1,1,1,1,1,1,1,1,1,1,1,1,1,1,1,1,1,1,1,0]},{\"_typename\":\"TH1F\",\"fUniqueID\":0,\"fBits\":50332168,\"fName\":\"Residues\",\"fTitle\":\"\",\"fLineColor\":1,\"fLineStyle\":1,\"fLineWidth\":1,\"fFillColor\":0,\"fFillStyle\":1,\"fMarkerColor\":1,\"fMarkerStyle\":20,\"fMarkerSize\":1.25,\"fNcells\":102,\"fXaxis\":{\"_typename\":\"TAxis\",\"fUniqueID\":0,\"fBits\":50331656,\"fName\":\"xaxis\",\"fTitle\":\"m_{Z} (GeV)\",\"fNdivisions\":510,\"fAxisColor\":1,\"fLabelColor\":1,\"fLabelFont\":42,\"fLabelOffset\":0.015,\"fLabelSize\":0.105,\"fTickLength\":0.03,\"fTitleOffset\":1,\"fTitleSize\":0.105,\"fTitleColor\":1,\"fTitleFont\":42,\"fNbins\":100,\"fXmin\":0,\"fXmax\":200,\"fXbins\":[],\"fFirst\":0,\"fLast\":0,\"fBits2\":0,\"fTimeDisplay\":false,\"fTimeFormat\":\"\",\"fLabels\":null,\"fModLabs\":null},\"fYaxis\":{\"_typename\":\"TAxis\",\"fUniqueID\":0,\"fBits\":50331656,\"fName\":\"yaxis\",\"fTitle\":\"\",\"fNdivisions\":505,\"fAxisColor\":1,\"fLabelColor\":1,\"fLabelFont\":42,\"fLabelOffset\":0.005,\"fLabelSize\":0.105,\"fTickLength\":0.03,\"fTitleOffset\":0,\"fTitleSize\":0.105,\"fTitleColor\":1,\"fTitleFont\":42,\"fNbins\":1,\"fXmin\":0,\"fXmax\":1,\"fXbins\":[],\"fFirst\":0,\"fLast\":0,\"fBits2\":0,\"fTimeDisplay\":false,\"fTimeFormat\":\"\",\"fLabels\":null,\"fModLabs\":null},\"fZaxis\":{\"_typename\":\"TAxis\",\"fUniqueID\":0,\"fBits\":50331648,\"fName\":\"zaxis\",\"fTitle\":\"\",\"fNdivisions\":510,\"fAxisColor\":1,\"fLabelColor\":1,\"fLabelFont\":42,\"fLabelOffset\":0.005,\"fLabelSize\":0.035,\"fTickLength\":0.03,\"fTitleOffset\":1,\"fTitleSize\":0.035,\"fTitleColor\":1,\"fTitleFont\":42,\"fNbins\":1,\"fXmin\":0,\"fXmax\":1,\"fXbins\":[],\"fFirst\":0,\"fLast\":0,\"fBits2\":0,\"fTimeDisplay\":false,\"fTimeFormat\":\"\",\"fLabels\":null,\"fModLabs\":null},\"fBarOffset\":0,\"fBarWidth\":1000,\"fEntries\":84621,\"fTsumw\":0,\"fTsumw2\":81491,\"fTsumwx\":6162622.97630301,\"fTsumwx2\":593073905.872688,\"fMaximum\":2,\"fMinimum\":0,\"fNormFactor\":0,\"fContour\":[],\"fSumw2\":[0,0.120837654784679,1.66597763410719,0.317352252784286,0.332438806439434,0.0668980001616941,0.0173184251081787,0.00854275006551378,0.00515630813341808,0.00303404354652295,0.00306070767028854,0.00223778021022694,0.00222560285991057,0.00190127313551406,0.00156904465214293,0.00157696778408418,0.0013888733349225,0.00121765316848511,0.00113200462964991,0.00122837615615086,0.00113523452607098,9.05974400377373e-4,0.00103754360352866,9.69659530220554e-4,8.58940501017497e-4,8.42812144950267e-4,7.1820917595982e-4,8.40055033286981e-4,7.47760945610225e-4,7.74767360042127e-4,7.71189487565533e-4,7.23516950632422e-4,7.55421888944249e-4,8.0655748434675e-4,8.21984419416771e-4,7.8871515154246e-4,8.47385334560227e-4,8.53190933776095e-4,8.16832601386653e-4,8.51651807190801e-4,8.42169893312042e-4,9.38810486000357e-4,0.00107856472537786,0.00107205425916838,0.00111447602492121,0.00111048893575286,0.00104796275590375,0.00118357281188376,0.00143841076805052,0.00134830012167701,0.00145965117387928,0.00142049370706148,0.0012843492990842,0.00153737567337201,0.00184773980732235,0.00160406953135788,0.00180561569398036,0.00184421483386169,0.00182617902114736,0.00221245817217242,0.00220271778360275,0.00225463539002965,0.00207385218277791,0.00222687158829609,0.0029929862805277,0.00263436152181957,0.00248358106004171,0.00260371907554028,0.00312410429064083,0.00325746712151556,0.0036980273111919,0.00413405852572076,0.00299855577227991,0.00314513308662123,0.00374659875327842,0.00468080294315908,0.00308447704497501,0.00433232696429096,0.0050555391877015,0.00519648009428885,0.00455286365238172,0.00514021727983727,0.00614206316538237,0.00740195749267228,0.00594063532016191,0.00653865928674343,0.00602829223417172,0.0072450050375308,0.00967397279877017,0.00699695277243627,0.00792857783404424,0.0103414642934191,0.0109955827706692,0.0126024719795054,0.00715366595738355,0.00934557352808807,0.00820087240743509,0.0128960062658488,0.00816696893543118,0.0110731778827442,4.79880318467222e-4,0],\"fOption\":\"\",\"fFunctions\":{\"_typename\":\"TList\",\"name\":\"TList\",\"arr\":[],\"opt\":[]},\"fBufferSize\":0,\"fBuffer\":[],\"fBinStatErrOpt\":0,\"fArray\":[0,9.620896,25.74993,7.323423,7.20142,3.818869,2.17438,1.782667,1.457532,1.240266,1.320834,1.13631,1.222039,1.179717,1.0819,1.165234,1.130382,1.115545,1.100051,1.249506,1.229688,1.150097,1.34401,1.338992,1.289538,1.314124,1.212211,1.342042,1.247434,1.28643,1.275319,1.19871,1.217431,1.265313,1.239803,1.215427,1.240846,1.200078,1.152817,1.135143,1.14363,1.142343,1.231885,1.194531,1.21427,1.138881,1.097797,1.117439,1.251571,1.188705,1.20816,1.146899,1.044843,1.152516,1.232413,1.141976,1.18065,1.114899,1.093685,1.180614,1.188252,1.165995,1.062156,1.080222,1.277176,1.109165,1.063028,1.072774,1.172436,1.186265,1.238823,1.322387,1.015629,1.046187,1.120317,1.23529,0.9635495,1.134328,1.231528,1.240225,1.100482,1.070639,1.221688,1.327278,1.062413,1.129176,1.095276,1.090037,1.383997,1.109713,1.237019,1.278261,1.301276,1.374908,0.9418358,1.110682,1.020544,1.233584,0.9304293,1.052292,1.230066,0]},{\"_typename\":\"TLatex\",\"fUniqueID\":0,\"fBits\":50348041,\"fName\":\"\",\"fTitle\":\"Data\\/Bkg = 1.225 #pm 0.006\",\"fTextAngle\":0,\"fTextSize\":0.08,\"fTextAlign\":11,\"fTextColor\":1,\"fTextFont\":62,\"fX\":0.15,\"fY\":0.85,\"fLineColor\":1,\"fLineStyle\":1,\"fLineWidth\":2,\"fLimitFactorSize\":3,\"fOriginSize\":0.04},{\"_typename\":\"TLatex\",\"fUniqueID\":0,\"fBits\":50348041,\"fName\":\"\",\"fTitle\":\"#chi^{2}\\/ndf = 18.82,   K-S = 0.000\",\"fTextAngle\":0,\"fTextSize\":0.08,\"fTextAlign\":11,\"fTextColor\":1,\"fTextFont\":62,\"fX\":0.45,\"fY\":0.85,\"fLineColor\":1,\"fLineStyle\":1,\"fLineWidth\":2,\"fLimitFactorSize\":3,\"fOriginSize\":0.04},{\"_typename\":\"TLatex\",\"fUniqueID\":0,\"fBits\":50348041,\"fName\":\"\",\"fTitle\":\"rel. Yield= 122.517\",\"fTextAngle\":0,\"fTextSize\":0.08,\"fTextAlign\":11,\"fTextColor\":1,\"fTextFont\":62,\"fX\":0.75,\"fY\":0.85,\"fLineColor\":1,\"fLineStyle\":1,\"fLineWidth\":2,\"fLimitFactorSize\":3,\"fOriginSize\":0.04}],\"opt\":[\"\",\"E2\",\"SAME, HIST\",\"SAME, PE0\",\"\",\"\",\"\"]},\"fExecs\":{\"_typename\":\"TList\",\"name\":\"TList\",\"arr\":[],\"opt\":[]},\"fName\":\"BotPad\",\"fTitle\":\"\",\"fNumPaletteColor\":0,\"fNextPaletteColor\":0}],\"opt\":[\"\",\"\"]},\"fExecs\":null,\"fName\":\"c1\",\"fTitle\":\"m_{Z} (GeV)\",\"fNumPaletteColor\":0,\"fNextPaletteColor\":0,\"fDISPLAY\":\"$DISPLAY\",\"fDoubleBuffer\":0,\"fRetained\":true,\"fXsizeUser\":0,\"fYsizeUser\":0,\"fXsizeReal\":20,\"fYsizeReal\":20,\"fWindowTopX\":0,\"fWindowTopY\":0,\"fWindowWidth\":0,\"fWindowHeight\":0,\"fCw\":796,\"fCh\":772,\"fCatt\":{\"_typename\":\"TAttCanvas\",\"fXBetween\":2,\"fYBetween\":2,\"fTitleFromTop\":1.2,\"fXdate\":0.2,\"fYdate\":0.3,\"fAdate\":1},\"kMoveOpaque\":true,\"kResizeOpaque\":true,\"fHighLightColor\":2,\"fBatch\":true,\"kShowEventStatus\":false,\"kAutoExec\":true,\"kMenuBar\":true});\n",
       "       Core.draw(\"root_plot_1\", obj, \"\");\n",
       "     }\n",
       " );\n",
       "</script>\n"
      ],
      "text/plain": [
       "<IPython.core.display.HTML object>"
      ]
     },
     "metadata": {},
     "output_type": "display_data"
    }
   ],
   "source": [
    "out[0].Draw()"
   ]
  },
  {
   "cell_type": "markdown",
   "metadata": {},
   "source": [
    "## NOTES:\n",
    "\n",
    "### Physics Object:\n",
    "\n",
    "- Jet: cleaning from muon and electron:\n",
    "    - Jet:\n",
    "        - puID>4\n",
    "        - pt>30\n",
    "        - |eta|<2.5\n",
    "    - Muon:\n",
    "        - MediumID\n",
    "        - pt>5\n",
    "        - DeltaR>0.4\n",
    "    - Electron:\n",
    "        - Cutbase>4\n",
    "        - pt>15\n",
    "        - DeltaR>0.4\n",
    "        \n",
    "        \n",
    "        \n",
    "\n",
    "- OSmumu -> With jet cleaning and kinematics requirement on the jet, quality cut on muon, Zmass look stable, but 30% more data\n",
    "\n",
    "- SSmumu -> MHTju_pt = data (180057) ; BkgSum (233304) = Data more ; nJet = data (180057) ; BkgSum (233281)"
   ]
  },
  {
   "cell_type": "markdown",
   "metadata": {
    "ExecuteTime": {
     "end_time": "2018-11-22T13:56:10.931402Z",
     "start_time": "2018-11-22T13:56:10.911399Z"
    }
   },
   "source": [
    "## Ugo's Presentation\n",
    "\n",
    "- in jet cleaning, there is a subtlety, do not kill jet which come from a bjet. that, depend on the fraction of energy in the jet.\n",
    "    - Charged Electromagnetic Energy Fraction: __Jet_chEmEF__\n",
    "    - Charged Hadron Energy Energy Fraction: __Jet_chHEF__\n",
    "    - Neutral Electromagnetic Energy Fraction: __Jet_neEmEF__\n",
    "    - Neutral Hadron Energy Fraction: __Jet_neHEF__\n",
    "    \n",
    "## Preselection at Production level\n",
    "\n",
    "- ( __Muon_pt[0]>25__ && __Muon_pt[1]>8__ && __Muon_pfRelIso03_all[0]<0.15__ ) || \n",
    "- ( __Electron_pt[0]>20__ && __Muon_pt[0]>20__ && __Electron_cutBased[0]>2__ && __Electron_pfRelIso03_all[0]<0.1__ && __Muon_pfRelIso03_all[0]<0.15__ )"
   ]
  },
  {
   "cell_type": "code",
   "execution_count": null,
   "metadata": {},
   "outputs": [],
   "source": []
  }
 ],
 "metadata": {
  "kernelspec": {
   "display_name": "Python 2",
   "language": "python",
   "name": "python2"
  },
  "language_info": {
   "codemirror_mode": {
    "name": "ipython",
    "version": 2
   },
   "file_extension": ".py",
   "mimetype": "text/x-python",
   "name": "python",
   "nbconvert_exporter": "python",
   "pygments_lexer": "ipython2",
   "version": "2.7.10"
  },
  "varInspector": {
   "cols": {
    "lenName": 16,
    "lenType": 16,
    "lenVar": 40
   },
   "kernels_config": {
    "python": {
     "delete_cmd_postfix": "",
     "delete_cmd_prefix": "del ",
     "library": "var_list.py",
     "varRefreshCmd": "print(var_dic_list())"
    },
    "r": {
     "delete_cmd_postfix": ") ",
     "delete_cmd_prefix": "rm(",
     "library": "var_list.r",
     "varRefreshCmd": "cat(var_dic_list()) "
    }
   },
   "types_to_exclude": [
    "module",
    "function",
    "builtin_function_or_method",
    "instance",
    "_Feature"
   ],
   "window_display": false
  }
 },
 "nbformat": 4,
 "nbformat_minor": 2
}

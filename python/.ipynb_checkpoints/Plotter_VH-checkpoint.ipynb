{
 "cells": [
  {
   "cell_type": "markdown",
   "metadata": {},
   "source": [
    "# Simple Plotter"
   ]
  },
  {
   "cell_type": "code",
   "execution_count": 1,
   "metadata": {
    "ExecuteTime": {
     "end_time": "2018-11-17T22:16:21.427850Z",
     "start_time": "2018-11-17T22:16:16.383683Z"
    }
   },
   "outputs": [
    {
     "name": "stdout",
     "output_type": "stream",
     "text": [
      "Welcome to JupyROOT 6.12/06\n"
     ]
    }
   ],
   "source": [
    "import os, multiprocessing, sys\n",
    "import copy\n",
    "import math\n",
    "from array import array\n",
    "from ROOT import ROOT, gROOT, gStyle, gRandom, TSystemDirectory\n",
    "from ROOT import TFile, TChain, TTree, TCut, TH1, TH1F, TH2F, THStack, TGraph, TGraphAsymmErrors\n",
    "from ROOT import TStyle, TCanvas, TPad\n",
    "from ROOT import TLegend, TLatex, TText, TLine, TBox\n",
    "import time\n",
    "\n",
    "cwd=os.getcwd()\n",
    "sys.path.append(cwd+\"/Utils/\")\n",
    "\n",
    "from drawLambda import *\n",
    "from variables import *\n",
    "from selections_SSLep import *\n",
    "from samplesVH import *\n",
    "\n",
    "gROOT.SetBatch(True)\n",
    "gStyle.SetOptStat(0)\n",
    "gROOT.Macro('functions.C')\n",
    "%jsroot"
   ]
  },
  {
   "cell_type": "markdown",
   "metadata": {},
   "source": [
    "# Environment Path and Options"
   ]
  },
  {
   "cell_type": "code",
   "execution_count": 2,
   "metadata": {
    "ExecuteTime": {
     "end_time": "2018-11-17T22:16:21.445252Z",
     "start_time": "2018-11-17T22:16:21.433321Z"
    }
   },
   "outputs": [],
   "source": [
    "NTUPLEDIR   = \"/Users/shoh/Projects/CMS/PhD/Analysis/SSL/datav8-skim/\"\n",
    "#NTUPLEDIR   = \"/Users/shoh/Projects/CMS/PhD/Analysis/SSL/VHv9-skim_reprocess/\"\n",
    "LUMI        = 35800. # pb-1                                                                                                                \n",
    "data = [\"data_obs\"]\n",
    "#back = [ \"ttV\", \"WJetsToLNu\", \"TTbar-SL\", \"WW\", \"WZ\", \"ST\", \"TTbar-DiLep\", \"DYJetsToLL_Pt\" ]   #DYJetsToLL                                              \n",
    "back = [ \"ttV\" ,\"VV\", \"VVV\", \"WJetsToLNu\" , \"TTbar-SL\", \"ST\", \"TTbar-DiLep\" , \"DYJetsToLL\" ] #WJetsToLNu, \"VVV\"\n",
    "sign=[]\n",
    "BLIND=False\n",
    "POISSON= False\n",
    "SIGNAL      = 1.\n",
    "RATIO       = 4\n",
    "jobs        = []"
   ]
  },
  {
   "cell_type": "markdown",
   "metadata": {},
   "source": [
    "# Selection option"
   ]
  },
  {
   "cell_type": "code",
   "execution_count": 3,
   "metadata": {
    "ExecuteTime": {
     "end_time": "2018-11-17T22:16:22.892517Z",
     "start_time": "2018-11-17T22:16:21.450815Z"
    }
   },
   "outputs": [
    {
     "name": "stdout",
     "output_type": "stream",
     "text": [
      "CHOOSE SELECTION\n"
     ]
    },
    {
     "data": {
      "text/html": [
       "<div>\n",
       "<style>\n",
       "    .dataframe thead tr:only-child th {\n",
       "        text-align: right;\n",
       "    }\n",
       "\n",
       "    .dataframe thead th {\n",
       "        text-align: left;\n",
       "    }\n",
       "\n",
       "    .dataframe tbody tr th {\n",
       "        vertical-align: top;\n",
       "    }\n",
       "</style>\n",
       "<table border=\"1\" class=\"dataframe\">\n",
       "  <thead>\n",
       "    <tr style=\"text-align: right;\">\n",
       "      <th></th>\n",
       "      <th>Selection Region</th>\n",
       "      <th>Description</th>\n",
       "    </tr>\n",
       "  </thead>\n",
       "  <tbody>\n",
       "    <tr>\n",
       "      <th>0</th>\n",
       "      <td>OSemu</td>\n",
       "      <td>(( (HLT_IsoMu22 || HLT_IsoMu22_eta2p1 || HLT_IsoTkMu22_eta2p1 || HLT_IsoMu24 || HLT_IsoTkMu24 || HLT_Mu45_eta2p1 || HLT_Mu50) ) &amp;&amp; ( (( 1==1 ) &amp;&amp; ( (Muon_charge[0]!=Electron_charge[0]) &amp;&amp; Muon_pt[0]&gt;27 &amp;&amp; Electron_pt[0]&gt;25 &amp;&amp; Muon_pfRelIso03_all[0]&lt;0.1 &amp;&amp; Muon_mediumId[0]&gt;0 &amp;&amp; Electron_cutBased[0]&gt;0 &amp;&amp; Electron_pfRelIso03_all[0]&lt;0.1 )) ))</td>\n",
       "    </tr>\n",
       "    <tr>\n",
       "      <th>1</th>\n",
       "      <td>SSmumu2b</td>\n",
       "      <td>(( (HLT_IsoMu22 || HLT_IsoMu22_eta2p1 || HLT_IsoTkMu22_eta2p1 || HLT_IsoMu24 || HLT_IsoTkMu24 || HLT_Mu45_eta2p1 || HLT_Mu50) ) &amp;&amp; ( (( 1==1 ) &amp;&amp; ( (Muon_charge[0]==Muon_charge[1]) &amp;&amp; Muon_pt[0]&gt;25 &amp;&amp; Muon_pt[1]&gt;15 &amp;&amp; Muon_pfRelIso03_all[0]&lt;0.1 &amp;&amp; Jet_btagCSVV2[1]&gt;0.8 )) ))</td>\n",
       "    </tr>\n",
       "    <tr>\n",
       "      <th>2</th>\n",
       "      <td>Trigger</td>\n",
       "      <td>(( (HLT_IsoMu22 || HLT_IsoMu22_eta2p1 || HLT_IsoTkMu22_eta2p1 || HLT_IsoMu24 || HLT_IsoTkMu24 || HLT_Mu45_eta2p1 || HLT_Mu50) ) &amp;&amp; ( 1==1 ))</td>\n",
       "    </tr>\n",
       "    <tr>\n",
       "      <th>3</th>\n",
       "      <td>OSmumu</td>\n",
       "      <td>(( (HLT_IsoMu22 || HLT_IsoMu22_eta2p1 || HLT_IsoTkMu22_eta2p1 || HLT_IsoMu24 || HLT_IsoTkMu24 || HLT_Mu45_eta2p1 || HLT_Mu50) ) &amp;&amp; ( (( 1==1 ) &amp;&amp; ( (Muon_charge[0]!=Muon_charge[1]) &amp;&amp; Muon_pt[0]&gt;17 &amp;&amp; Muon_pt[1]&gt;8 &amp;&amp; Muon_mediumId[0]&gt;0 &amp;&amp; Muon_mediumId[1]&gt;0 &amp;&amp; Muon_pfRelIso03_all[0]&lt;0.15 &amp;&amp; Muon_pfRelIso03_all[1]&lt;0.15 )) ))</td>\n",
       "    </tr>\n",
       "    <tr>\n",
       "      <th>4</th>\n",
       "      <td>SSmumu</td>\n",
       "      <td>(( (HLT_IsoMu22 || HLT_IsoMu22_eta2p1 || HLT_IsoTkMu22_eta2p1 || HLT_IsoMu24 || HLT_IsoTkMu24 || HLT_Mu45_eta2p1 || HLT_Mu50) ) &amp;&amp; ( (( 1==1 ) &amp;&amp; ( (Muon_charge[0]==Muon_charge[1]) &amp;&amp; Muon_pt[0]&gt;25 &amp;&amp; Muon_pt[1]&gt;15 &amp;&amp; Muon_pfRelIso03_all[0]&lt;0.1 )) ))</td>\n",
       "    </tr>\n",
       "    <tr>\n",
       "      <th>5</th>\n",
       "      <td>SSmumu1b</td>\n",
       "      <td>(( (HLT_IsoMu22 || HLT_IsoMu22_eta2p1 || HLT_IsoTkMu22_eta2p1 || HLT_IsoMu24 || HLT_IsoTkMu24 || HLT_Mu45_eta2p1 || HLT_Mu50) ) &amp;&amp; ( (( 1==1 ) &amp;&amp; ( (Muon_charge[0]==Muon_charge[1]) &amp;&amp; Muon_pt[0]&gt;25 &amp;&amp; Muon_pt[1]&gt;15 &amp;&amp; Muon_pfRelIso03_all[0]&lt;0.1 &amp;&amp; Jet_btagCSVV2[0]&gt;0.8 )) ))</td>\n",
       "    </tr>\n",
       "    <tr>\n",
       "      <th>6</th>\n",
       "      <td>DiLepTT</td>\n",
       "      <td>(( (( (HLT_IsoMu22 || HLT_IsoMu22_eta2p1 || HLT_IsoTkMu22_eta2p1 || HLT_IsoMu24 || HLT_IsoTkMu24 || HLT_Mu45_eta2p1 || HLT_Mu50) ) &amp;&amp; ( (( 1==1 ) &amp;&amp; ( Muon_pt[0]&gt;24 &amp;&amp; Electron_pt[0]&gt;20 )) )) ) &amp;&amp; ( invariantMass(Electron_pt[0], Electron_eta[0], Electron_phi[0], Electron_mass[0], Muon_pt[0], Muon_eta[0], Muon_phi[0], Muon_mass[0])&gt;15 ))</td>\n",
       "    </tr>\n",
       "    <tr>\n",
       "      <th>7</th>\n",
       "      <td>OSee</td>\n",
       "      <td>(( (HLT_Ele25_WPTight_Gsf || HLT_Ele27_eta2p1_WPLoose_Gsf || HLT_Ele105_CaloIdVT_GsfTrkIdT) ) &amp;&amp; ( (( 1==1 ) &amp;&amp; ( (Electron_charge[0]!=Electron_charge[1]) &amp;&amp; Electron_pt[0]&gt;25 &amp;&amp; Electron_pt[1]&gt;17 &amp;&amp; Electron_pfRelIso03_all[0]&lt;0.15 &amp;&amp; Electron_pfRelIso03_all[1]&lt;0.15 )) ))</td>\n",
       "    </tr>\n",
       "  </tbody>\n",
       "</table>\n",
       "</div>"
      ],
      "text/plain": [
       "  Selection Region  \\\n",
       "0            OSemu   \n",
       "1         SSmumu2b   \n",
       "2          Trigger   \n",
       "3           OSmumu   \n",
       "4           SSmumu   \n",
       "5         SSmumu1b   \n",
       "6          DiLepTT   \n",
       "7             OSee   \n",
       "\n",
       "                                                                                                                                                                                                                                                                                                                                            Description  \n",
       "0  (( (HLT_IsoMu22 || HLT_IsoMu22_eta2p1 || HLT_IsoTkMu22_eta2p1 || HLT_IsoMu24 || HLT_IsoTkMu24 || HLT_Mu45_eta2p1 || HLT_Mu50) ) && ( (( 1==1 ) && ( (Muon_charge[0]!=Electron_charge[0]) && Muon_pt[0]>27 && Electron_pt[0]>25 && Muon_pfRelIso03_all[0]<0.1 && Muon_mediumId[0]>0 && Electron_cutBased[0]>0 && Electron_pfRelIso03_all[0]<0.1 )) ))  \n",
       "1                                                                    (( (HLT_IsoMu22 || HLT_IsoMu22_eta2p1 || HLT_IsoTkMu22_eta2p1 || HLT_IsoMu24 || HLT_IsoTkMu24 || HLT_Mu45_eta2p1 || HLT_Mu50) ) && ( (( 1==1 ) && ( (Muon_charge[0]==Muon_charge[1]) && Muon_pt[0]>25 && Muon_pt[1]>15 && Muon_pfRelIso03_all[0]<0.1 && Jet_btagCSVV2[1]>0.8 )) ))  \n",
       "2                                                                                                                                                                                                          (( (HLT_IsoMu22 || HLT_IsoMu22_eta2p1 || HLT_IsoTkMu22_eta2p1 || HLT_IsoMu24 || HLT_IsoTkMu24 || HLT_Mu45_eta2p1 || HLT_Mu50) ) && ( 1==1 ))  \n",
       "3                 (( (HLT_IsoMu22 || HLT_IsoMu22_eta2p1 || HLT_IsoTkMu22_eta2p1 || HLT_IsoMu24 || HLT_IsoTkMu24 || HLT_Mu45_eta2p1 || HLT_Mu50) ) && ( (( 1==1 ) && ( (Muon_charge[0]!=Muon_charge[1]) && Muon_pt[0]>17 && Muon_pt[1]>8 && Muon_mediumId[0]>0 && Muon_mediumId[1]>0 && Muon_pfRelIso03_all[0]<0.15 && Muon_pfRelIso03_all[1]<0.15 )) ))  \n",
       "4                                                                                            (( (HLT_IsoMu22 || HLT_IsoMu22_eta2p1 || HLT_IsoTkMu22_eta2p1 || HLT_IsoMu24 || HLT_IsoTkMu24 || HLT_Mu45_eta2p1 || HLT_Mu50) ) && ( (( 1==1 ) && ( (Muon_charge[0]==Muon_charge[1]) && Muon_pt[0]>25 && Muon_pt[1]>15 && Muon_pfRelIso03_all[0]<0.1 )) ))  \n",
       "5                                                                    (( (HLT_IsoMu22 || HLT_IsoMu22_eta2p1 || HLT_IsoTkMu22_eta2p1 || HLT_IsoMu24 || HLT_IsoTkMu24 || HLT_Mu45_eta2p1 || HLT_Mu50) ) && ( (( 1==1 ) && ( (Muon_charge[0]==Muon_charge[1]) && Muon_pt[0]>25 && Muon_pt[1]>15 && Muon_pfRelIso03_all[0]<0.1 && Jet_btagCSVV2[0]>0.8 )) ))  \n",
       "6    (( (( (HLT_IsoMu22 || HLT_IsoMu22_eta2p1 || HLT_IsoTkMu22_eta2p1 || HLT_IsoMu24 || HLT_IsoTkMu24 || HLT_Mu45_eta2p1 || HLT_Mu50) ) && ( (( 1==1 ) && ( Muon_pt[0]>24 && Electron_pt[0]>20 )) )) ) && ( invariantMass(Electron_pt[0], Electron_eta[0], Electron_phi[0], Electron_mass[0], Muon_pt[0], Muon_eta[0], Muon_phi[0], Muon_mass[0])>15 ))  \n",
       "7                                                                      (( (HLT_Ele25_WPTight_Gsf || HLT_Ele27_eta2p1_WPLoose_Gsf || HLT_Ele105_CaloIdVT_GsfTrkIdT) ) && ( (( 1==1 ) && ( (Electron_charge[0]!=Electron_charge[1]) && Electron_pt[0]>25 && Electron_pt[1]>17 && Electron_pfRelIso03_all[0]<0.15 && Electron_pfRelIso03_all[1]<0.15 )) ))  "
      ]
     },
     "metadata": {},
     "output_type": "display_data"
    }
   ],
   "source": [
    "import pandas as pd\n",
    "from collections import OrderedDict\n",
    "from IPython.display import display, HTML\n",
    "pd.set_option('display.max_colwidth',10000)\n",
    "ALLTABLE={}\n",
    "TABLE=[]\n",
    "#Selection=['OSSF','OSOF','SSSF','SSOF']\n",
    "for sel in selection:\n",
    "    TABLE.append(OrderedDict({\n",
    "        'Selection Region' : sel,\n",
    "        'Description' : selection[sel]\n",
    "    }))\n",
    "\n",
    "ALLTABLE=pd.DataFrame(TABLE)\n",
    "print \"CHOOSE SELECTION\"\n",
    "display(ALLTABLE)"
   ]
  },
  {
   "cell_type": "code",
   "execution_count": 4,
   "metadata": {
    "ExecuteTime": {
     "end_time": "2018-11-17T22:16:22.920783Z",
     "start_time": "2018-11-17T22:16:22.901604Z"
    }
   },
   "outputs": [
    {
     "name": "stdout",
     "output_type": "stream",
     "text": [
      "Selected (( (HLT_IsoMu22 || HLT_IsoMu22_eta2p1 || HLT_IsoTkMu22_eta2p1 || HLT_IsoMu24 || HLT_IsoTkMu24 || HLT_Mu45_eta2p1 || HLT_Mu50) ) && ( (( 1==1 ) && ( (Muon_charge[0]!=Electron_charge[0]) && Muon_pt[0]>27 && Electron_pt[0]>25 && Muon_pfRelIso03_all[0]<0.1 && Muon_mediumId[0]>0 && Electron_cutBased[0]>0 && Electron_pfRelIso03_all[0]<0.1 )) ))\n"
     ]
    }
   ],
   "source": [
    "#var=\"MHTju_pt\"\n",
    "#var=\"Jet_jetId[0]\"\n",
    "var=\"Zmass\"\n",
    "#var=\"nJet\"\n",
    "#var=\"nElectron\"\n",
    "cr=\"OSemu\"\n",
    "#cr=\"Trigger\"\n",
    "#cut=selection[cr]\n",
    "primaryDataset = getPrimaryDataset(selection[cr])\n",
    "print \"Selected\", selection[cr]"
   ]
  },
  {
   "cell_type": "code",
   "execution_count": null,
   "metadata": {
    "ExecuteTime": {
     "start_time": "2018-11-17T22:16:16.395Z"
    },
    "scrolled": true
   },
   "outputs": [
    {
     "name": "stdout",
     "output_type": "stream",
     "text": [
      "\u001b[92mZmass: \u001b[0mInv( \u001b[92mElectron^(+/-)\u001b[0m , \u001b[91mMuon^(-/+)\u001b[0m )\n",
      "VAR =  invariantMass(Electron_pt[0], Electron_eta[0], Electron_phi[0], Electron_mass[0], Muon_pt[0], Muon_eta[0], Muon_phi[0], Muon_mass[0])\n",
      "\u001b[94mDATA, NO HLT :  SingleMuonRun2016B-03Feb2017_ver1-v1\u001b[0m\n",
      "\u001b[94mDATA, NO HLT :  SingleMuonRun2016B-03Feb2017_ver2-v2\u001b[0m\n",
      "\u001b[94mDATA, NO HLT :  SingleMuonRun2016C-03Feb2017-v1\u001b[0m\n",
      "\u001b[94mDATA, NO HLT :  SingleMuonRun2016D-03Feb2017-v1\u001b[0m\n",
      "\u001b[94mDATA, NO HLT :  SingleMuonRun2016E-03Feb2017-v1\u001b[0m\n",
      "\u001b[94mDATA, NO HLT :  SingleMuonRun2016F-03Feb2017-v1\u001b[0m\n",
      "\u001b[94mDATA, NO HLT :  SingleMuonRun2016G-03Feb2017-v1\u001b[0m\n",
      "\u001b[94mDATA, NO HLT :  SingleMuonRun2016H-03Feb2017_ver2-v1\u001b[0m\n",
      "\u001b[94mDATA, NO HLT :  SingleMuonRun2016H-03Feb2017_ver3-v1\u001b[0m\n",
      "\u001b[35mMC, With HLT :  TTWJetsToLNu_TuneCUETP8M1_13TeV-amcatnloFXFX-madspin-pythia8_ext1-v3\u001b[0m\n",
      "\u001b[35mMC, With HLT :  TTZToLLNuNu_M-10_TuneCUETP8M1_13TeV-amcatnlo-pythia8_ext1-v1\u001b[0m\n",
      "\u001b[35mMC, With HLT :  ttHToNonbb_M125_TuneCUETP8M2_ttHtranche3_13TeV-powheg-pythia8-v1\u001b[0m\n",
      "\u001b[35mMC, With HLT :  WW_TuneCUETP8M1_13TeV-pythia8_ext1-v1\u001b[0m\n",
      "\u001b[35mMC, With HLT :  WZTo3LNu_TuneCUETP8M1_13TeV-powheg-pythia8-v1\u001b[0m\n",
      "\u001b[35mMC, With HLT :  ZZTo2L2Nu_13TeV_powheg_pythia8-v1\u001b[0m\n",
      "\u001b[35mMC, With HLT :  ZZTo4L_13TeV-amcatnloFXFX-pythia8_ext1-v1\u001b[0m\n",
      "\u001b[35mMC, With HLT :  ZZTo2L2Q_13TeV_amcatnloFXFX_madspin_pythia8-v1\u001b[0m\n",
      "\u001b[35mMC, With HLT :  WWW_4F_TuneCUETP8M1_13TeV-amcatnlo-pythia8-v1\u001b[0m\n",
      "\u001b[35mMC, With HLT :  ZZZ_TuneCUETP8M1_13TeV-amcatnlo-pythia8-v1\u001b[0m\n",
      "\u001b[35mMC, With HLT :  WWZ_TuneCUETP8M1_13TeV-amcatnlo-pythia8-v1\u001b[0m\n",
      "\u001b[35mMC, With HLT :  WJetsToLNu_TuneCUETP8M1_13TeV-amcatnloFXFX-pythia8-v1\u001b[0m\n",
      "\u001b[35mMC, With HLT :  TTJets_SingleLeptFromT_TuneCUETP8M1_13TeV-madgraphMLM-pythia8_ext1-v1\u001b[0m\n",
      "\u001b[35mMC, With HLT :  TTJets_SingleLeptFromTbar_TuneCUETP8M1_13TeV-madgraphMLM-pythia8_ext1-v1\u001b[0m"
     ]
    }
   ],
   "source": [
    "if not BLIND:\n",
    "    processes=data+back\n",
    "elif BLIND:\n",
    "    processes=back\n",
    "\n",
    "if not sign:\n",
    "    Histlist=ProjectDraw(var, cr, LUMI, processes, primaryDataset, NTUPLEDIR)\n",
    "else:\n",
    "    Histlist=ProjectDraw(var, cr, LUMI, processes, primaryDataset, NTUPLEDIR)"
   ]
  },
  {
   "cell_type": "code",
   "execution_count": null,
   "metadata": {
    "ExecuteTime": {
     "start_time": "2018-11-17T22:16:16.402Z"
    }
   },
   "outputs": [],
   "source": [
    "if len(back)>0:\n",
    "    #If data_obs present, dummy BkgSum == first background process                                                                        \\\n",
    "                                                                                                                                           \n",
    "    Histlist['BkgSum'] = Histlist['data_obs'].Clone(\"BkgSum\") if 'data_obs' in Histlist else Histlist[back[0]].Clone(\"BkgSum\")\n",
    "    Histlist['BkgSum'].Reset(\"MICES\")\n",
    "    Histlist['BkgSum'].SetFillStyle(3003)\n",
    "    Histlist['BkgSum'].SetFillColor(1)\n",
    "    for i, s in enumerate(back): Histlist['BkgSum'].Add(Histlist[s])\n",
    "\n",
    "if len(back)==0 and len(data)==0:\n",
    "    for i, s in enumerate(sign):\n",
    "        Histlist[s].Scale(1./Histlist[s].Integral())\n",
    "        Histlist[s].SetFillStyle(0)"
   ]
  },
  {
   "cell_type": "code",
   "execution_count": null,
   "metadata": {
    "ExecuteTime": {
     "start_time": "2018-11-17T22:16:16.406Z"
    }
   },
   "outputs": [],
   "source": [
    "if len(data+back)>0:\n",
    "    out = draw(Histlist, data if not BLIND else [], back, sign, SIGNAL, RATIO, POISSON, variable[var]['log'])\n",
    "    out[0].cd(1)\n",
    "    drawCMS(LUMI, \"Preliminary\")\n",
    "    out[0].Update()\n",
    "    printTable(Histlist, sign)\n",
    "else:\n",
    "    out = drawSignal(Histlist, sign, variable[var]['log'])\n",
    "    out[0].cd(1)\n",
    "    drawCMS(LUMI, \"Simulation\")\n",
    "    out[0].Update()"
   ]
  },
  {
   "cell_type": "code",
   "execution_count": null,
   "metadata": {
    "ExecuteTime": {
     "start_time": "2018-11-17T22:16:16.425Z"
    },
    "scrolled": false
   },
   "outputs": [],
   "source": [
    "out[0].Draw()"
   ]
  },
  {
   "cell_type": "markdown",
   "metadata": {},
   "source": [
    "## NOTES:\n",
    "\n",
    "- OSmumu -> With jet cleaning and kinematics requirement on the jet, quality cut on muon, Zmass look stable, but 30% more data\n",
    "\n",
    "- SSmumu -> MHTju_pt = data (180057) ; BkgSum (233304) = Data more ; nJet = data (180057) ; BkgSum (233281)"
   ]
  },
  {
   "cell_type": "code",
   "execution_count": null,
   "metadata": {
    "ExecuteTime": {
     "start_time": "2018-11-17T22:16:16.428Z"
    }
   },
   "outputs": [],
   "source": [
    "### TOp up WJet HT and DY PT"
   ]
  }
 ],
 "metadata": {
  "kernelspec": {
   "display_name": "Python 2",
   "language": "python",
   "name": "python2"
  },
  "language_info": {
   "codemirror_mode": {
    "name": "ipython",
    "version": 2
   },
   "file_extension": ".py",
   "mimetype": "text/x-python",
   "name": "python",
   "nbconvert_exporter": "python",
   "pygments_lexer": "ipython2",
   "version": "2.7.10"
  },
  "varInspector": {
   "cols": {
    "lenName": 16,
    "lenType": 16,
    "lenVar": 40
   },
   "kernels_config": {
    "python": {
     "delete_cmd_postfix": "",
     "delete_cmd_prefix": "del ",
     "library": "var_list.py",
     "varRefreshCmd": "print(var_dic_list())"
    },
    "r": {
     "delete_cmd_postfix": ") ",
     "delete_cmd_prefix": "rm(",
     "library": "var_list.r",
     "varRefreshCmd": "cat(var_dic_list()) "
    }
   },
   "types_to_exclude": [
    "module",
    "function",
    "builtin_function_or_method",
    "instance",
    "_Feature"
   ],
   "window_display": false
  }
 },
 "nbformat": 4,
 "nbformat_minor": 2
}

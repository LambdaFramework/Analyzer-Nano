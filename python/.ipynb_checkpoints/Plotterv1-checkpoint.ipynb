{
 "cells": [
  {
   "cell_type": "markdown",
   "metadata": {},
   "source": [
    "# Simple Plotter"
   ]
  },
  {
   "cell_type": "code",
   "execution_count": 1,
   "metadata": {},
   "outputs": [
    {
     "name": "stdout",
     "output_type": "stream",
     "text": [
      "Welcome to JupyROOT 6.12/06\n"
     ]
    },
    {
     "data": {
      "text/plain": [
       "0L"
      ]
     },
     "execution_count": 1,
     "metadata": {},
     "output_type": "execute_result"
    }
   ],
   "source": [
    "import os, multiprocessing, sys\n",
    "import copy\n",
    "import math\n",
    "from array import array\n",
    "from ROOT import ROOT, gROOT, gStyle, gRandom, TSystemDirectory\n",
    "from ROOT import TFile, TChain, TTree, TCut, TH1, TH1F, TH2F, THStack, TGraph, TGraphAsymmErrors\n",
    "from ROOT import TStyle, TCanvas, TPad\n",
    "from ROOT import TLegend, TLatex, TText, TLine, TBox\n",
    "import time\n",
    "\n",
    "cwd=os.getcwd()\n",
    "sys.path.append(cwd+\"/Utils/\")\n",
    "\n",
    "from drawUtils import *\n",
    "from variables import *\n",
    "from selections_SSLep import *\n",
    "from samplesVH import *\n",
    "\n",
    "gROOT.SetBatch(True)\n",
    "gStyle.SetOptStat(0)\n",
    "gROOT.Macro('functions.C')"
   ]
  },
  {
   "cell_type": "markdown",
   "metadata": {},
   "source": [
    "# Environment Path and Options"
   ]
  },
  {
   "cell_type": "code",
   "execution_count": 2,
   "metadata": {},
   "outputs": [],
   "source": [
    "NTUPLEDIR   = \"/Users/shoh/Projects/CMS/PhD/Analysis/SSL/datav8-skim/\"\n",
    "LUMI        = 35800. # pb-1                                                                                                                \n",
    "data = [\"data_obs\"]\n",
    "#back = [ \"ttV\", \"WJetsToLNu\", \"TTbar-SL\", \"WW\", \"WZ\", \"ST\", \"TTbar-DiLep\", \"DYJetsToLL\" ]                                                 \n",
    "back = [ \"ttV\" , \"WW\" ,\"WZ\" , \"TTbar-SL\", \"ST\", \"TTbar-DiLep\", \"WJetsToLNu\" , \"DYJetsToLL\" ]\n",
    "sign=[]\n",
    "BLIND=False\n",
    "POISSON= False\n",
    "SIGNAL      = 1.\n",
    "RATIO       = 4\n",
    "jobs        = []"
   ]
  },
  {
   "cell_type": "markdown",
   "metadata": {},
   "source": [
    "# Selection option"
   ]
  },
  {
   "cell_type": "code",
   "execution_count": 3,
   "metadata": {},
   "outputs": [
    {
     "name": "stdout",
     "output_type": "stream",
     "text": [
      "CHOOSE SELECTION\n"
     ]
    },
    {
     "data": {
      "text/html": [
       "<div>\n",
       "<style>\n",
       "    .dataframe thead tr:only-child th {\n",
       "        text-align: right;\n",
       "    }\n",
       "\n",
       "    .dataframe thead th {\n",
       "        text-align: left;\n",
       "    }\n",
       "\n",
       "    .dataframe tbody tr th {\n",
       "        vertical-align: top;\n",
       "    }\n",
       "</style>\n",
       "<table border=\"1\" class=\"dataframe\">\n",
       "  <thead>\n",
       "    <tr style=\"text-align: right;\">\n",
       "      <th></th>\n",
       "      <th>Selection Region</th>\n",
       "      <th>Description</th>\n",
       "    </tr>\n",
       "  </thead>\n",
       "  <tbody>\n",
       "    <tr>\n",
       "      <th>0</th>\n",
       "      <td>Shoot</td>\n",
       "      <td>(( (HLT_IsoMu22 || HLT_IsoMu22_eta2p1 || HLT_IsoTkMu22_eta2p1 || HLT_IsoMu24 || HLT_IsoTkMu24 || HLT_Mu45_eta2p1 || HLT_Mu50) ) &amp;&amp; ( (( 1==1 ) &amp;&amp; ( 1==1 &amp;&amp; (Muon_charge[0]!=Muon_charge[0]) &amp;&amp; abs(Jet_eta)&lt;2.5 &amp;&amp; Jet_pt&gt;30 )) ))</td>\n",
       "    </tr>\n",
       "    <tr>\n",
       "      <th>1</th>\n",
       "      <td>SSOF</td>\n",
       "      <td>(( (HLT_IsoMu22 || HLT_IsoMu22_eta2p1 || HLT_IsoTkMu22_eta2p1 || HLT_IsoMu24 || HLT_IsoTkMu24 || HLT_Mu45_eta2p1 || HLT_Mu50) ) &amp;&amp; ( (( 1==1 ) &amp;&amp; ( 1==1 &amp;&amp; (Muon_charge[0]==Electron_charge[0]) )) ))</td>\n",
       "    </tr>\n",
       "    <tr>\n",
       "      <th>2</th>\n",
       "      <td>Trigger</td>\n",
       "      <td>(( (HLT_IsoMu22 || HLT_IsoMu22_eta2p1 || HLT_IsoTkMu22_eta2p1 || HLT_IsoMu24 || HLT_IsoTkMu24 || HLT_Mu45_eta2p1 || HLT_Mu50) ) &amp;&amp; ( 1==1 ))</td>\n",
       "    </tr>\n",
       "    <tr>\n",
       "      <th>3</th>\n",
       "      <td>DYdimuon</td>\n",
       "      <td>(( (HLT_IsoMu22 || HLT_IsoMu22_eta2p1 || HLT_IsoTkMu22_eta2p1 || HLT_IsoMu24 || HLT_IsoTkMu24 || HLT_Mu45_eta2p1 || HLT_Mu50) ) &amp;&amp; ( (( 1==1 ) &amp;&amp; ( nMuon==2 &amp;&amp; nElectron==0 &amp;&amp; (Muon_charge[0]!=Muon_charge[1]) &amp;&amp; Muon_pt[0]&gt; 17 &amp;&amp; Muon_pt[1]&gt;8 &amp;&amp; Muon_pfRelIso03_all[0]&lt;0.15 &amp;&amp; Muon_pfRelIso03_all[1]&lt;0.15 )) ))</td>\n",
       "    </tr>\n",
       "    <tr>\n",
       "      <th>4</th>\n",
       "      <td>diele</td>\n",
       "      <td>(( (HLT_Ele27_eta2p1_WPLoose_Gsf) ) &amp;&amp; ( 1==1 &amp;&amp; nMuon==0 &amp;&amp; nElectron==2 ))</td>\n",
       "    </tr>\n",
       "    <tr>\n",
       "      <th>5</th>\n",
       "      <td>OSZmass</td>\n",
       "      <td>(( (( (HLT_IsoMu22 || HLT_IsoMu22_eta2p1 || HLT_IsoTkMu22_eta2p1 || HLT_IsoMu24 || HLT_IsoTkMu24 || HLT_Mu45_eta2p1 || HLT_Mu50) ) &amp;&amp; ( (( 1==1 ) &amp;&amp; ( 1==1 &amp;&amp; (Muon_charge[0]!=Muon_charge[1]) &amp;&amp; nMuon==2 )) )) ) &amp;&amp; ( 60 &lt; invariantMass(Muon_pt[0], Muon_eta[0], Muon_phi[0], Muon_mass[0], Muon_pt[1], Muon_eta[1], Muon_phi[1], Muon_mass[1]) &amp;&amp; invariantMass(Muon_pt[0], Muon_eta[0], Muon_phi[0], Muon_mass[0], Muon_pt[1], Muon_eta[1], Muon_phi[1], Muon_mass[1]) &lt; 120 ))</td>\n",
       "    </tr>\n",
       "    <tr>\n",
       "      <th>6</th>\n",
       "      <td>test</td>\n",
       "      <td>1==1</td>\n",
       "    </tr>\n",
       "    <tr>\n",
       "      <th>7</th>\n",
       "      <td>OSSF</td>\n",
       "      <td>(( (HLT_IsoMu22 || HLT_IsoMu22_eta2p1 || HLT_IsoTkMu22_eta2p1 || HLT_IsoMu24 || HLT_IsoTkMu24 || HLT_Mu45_eta2p1 || HLT_Mu50) ) &amp;&amp; ( (( 1==1 ) &amp;&amp; ( 1==1 &amp;&amp; (Muon_charge[0]!=Muon_charge[1]) &amp;&amp; nMuon==2 )) ))</td>\n",
       "    </tr>\n",
       "    <tr>\n",
       "      <th>8</th>\n",
       "      <td>OSOF</td>\n",
       "      <td>(( (HLT_IsoMu22 || HLT_IsoMu22_eta2p1 || HLT_IsoTkMu22_eta2p1 || HLT_IsoMu24 || HLT_IsoTkMu24 || HLT_Mu45_eta2p1 || HLT_Mu50) ) &amp;&amp; ( (( 1==1 ) &amp;&amp; ( 1==1 &amp;&amp; ( Muon_charge[0]!=Electron_charge[0] ) &amp;&amp; Muon_pt[0]&gt;27 &amp;&amp; Electron_pt[0]&gt;25 &amp;&amp; Muon_pfRelIso03_all[0]&lt;0.1 &amp;&amp; Muon_mediumId[0]==1 &amp;&amp; Electron_pfRelIso03_all[0]&lt;0.1 )) ))</td>\n",
       "    </tr>\n",
       "    <tr>\n",
       "      <th>9</th>\n",
       "      <td>SSSF</td>\n",
       "      <td>(( (HLT_IsoMu22 || HLT_IsoMu22_eta2p1 || HLT_IsoTkMu22_eta2p1 || HLT_IsoMu24 || HLT_IsoTkMu24 || HLT_Mu45_eta2p1 || HLT_Mu50) ) &amp;&amp; ( (( 1==1 ) &amp;&amp; ( 1==1 &amp;&amp; (Muon_charge[0]==Muon_charge[1]) )) ))</td>\n",
       "    </tr>\n",
       "  </tbody>\n",
       "</table>\n",
       "</div>"
      ],
      "text/plain": [
       "  Selection Region  \\\n",
       "0            Shoot   \n",
       "1             SSOF   \n",
       "2          Trigger   \n",
       "3         DYdimuon   \n",
       "4            diele   \n",
       "5          OSZmass   \n",
       "6             test   \n",
       "7             OSSF   \n",
       "8             OSOF   \n",
       "9             SSSF   \n",
       "\n",
       "                                                                                                                                                                                                                                                                                                                                                                                                                                                                             Description  \n",
       "0                                                                                                                                                                                                                                                    (( (HLT_IsoMu22 || HLT_IsoMu22_eta2p1 || HLT_IsoTkMu22_eta2p1 || HLT_IsoMu24 || HLT_IsoTkMu24 || HLT_Mu45_eta2p1 || HLT_Mu50) ) && ( (( 1==1 ) && ( 1==1 && (Muon_charge[0]!=Muon_charge[0]) && abs(Jet_eta)<2.5 && Jet_pt>30 )) ))  \n",
       "1                                                                                                                                                                                                                                                                                 (( (HLT_IsoMu22 || HLT_IsoMu22_eta2p1 || HLT_IsoTkMu22_eta2p1 || HLT_IsoMu24 || HLT_IsoTkMu24 || HLT_Mu45_eta2p1 || HLT_Mu50) ) && ( (( 1==1 ) && ( 1==1 && (Muon_charge[0]==Electron_charge[0]) )) ))  \n",
       "2                                                                                                                                                                                                                                                                                                                                           (( (HLT_IsoMu22 || HLT_IsoMu22_eta2p1 || HLT_IsoTkMu22_eta2p1 || HLT_IsoMu24 || HLT_IsoTkMu24 || HLT_Mu45_eta2p1 || HLT_Mu50) ) && ( 1==1 ))  \n",
       "3                                                                                                                                                                 (( (HLT_IsoMu22 || HLT_IsoMu22_eta2p1 || HLT_IsoTkMu22_eta2p1 || HLT_IsoMu24 || HLT_IsoTkMu24 || HLT_Mu45_eta2p1 || HLT_Mu50) ) && ( (( 1==1 ) && ( nMuon==2 && nElectron==0 && (Muon_charge[0]!=Muon_charge[1]) && Muon_pt[0]> 17 && Muon_pt[1]>8 && Muon_pfRelIso03_all[0]<0.15 && Muon_pfRelIso03_all[1]<0.15 )) ))  \n",
       "4                                                                                                                                                                                                                                                                                                                                                                                                           (( (HLT_Ele27_eta2p1_WPLoose_Gsf) ) && ( 1==1 && nMuon==0 && nElectron==2 ))  \n",
       "5  (( (( (HLT_IsoMu22 || HLT_IsoMu22_eta2p1 || HLT_IsoTkMu22_eta2p1 || HLT_IsoMu24 || HLT_IsoTkMu24 || HLT_Mu45_eta2p1 || HLT_Mu50) ) && ( (( 1==1 ) && ( 1==1 && (Muon_charge[0]!=Muon_charge[1]) && nMuon==2 )) )) ) && ( 60 < invariantMass(Muon_pt[0], Muon_eta[0], Muon_phi[0], Muon_mass[0], Muon_pt[1], Muon_eta[1], Muon_phi[1], Muon_mass[1]) && invariantMass(Muon_pt[0], Muon_eta[0], Muon_phi[0], Muon_mass[0], Muon_pt[1], Muon_eta[1], Muon_phi[1], Muon_mass[1]) < 120 ))  \n",
       "6                                                                                                                                                                                                                                                                                                                                                                                                                                                                                   1==1  \n",
       "7                                                                                                                                                                                                                                                                         (( (HLT_IsoMu22 || HLT_IsoMu22_eta2p1 || HLT_IsoTkMu22_eta2p1 || HLT_IsoMu24 || HLT_IsoTkMu24 || HLT_Mu45_eta2p1 || HLT_Mu50) ) && ( (( 1==1 ) && ( 1==1 && (Muon_charge[0]!=Muon_charge[1]) && nMuon==2 )) ))  \n",
       "8                                                                                                                                                  (( (HLT_IsoMu22 || HLT_IsoMu22_eta2p1 || HLT_IsoTkMu22_eta2p1 || HLT_IsoMu24 || HLT_IsoTkMu24 || HLT_Mu45_eta2p1 || HLT_Mu50) ) && ( (( 1==1 ) && ( 1==1 && ( Muon_charge[0]!=Electron_charge[0] ) && Muon_pt[0]>27 && Electron_pt[0]>25 && Muon_pfRelIso03_all[0]<0.1 && Muon_mediumId[0]==1 && Electron_pfRelIso03_all[0]<0.1 )) ))  \n",
       "9                                                                                                                                                                                                                                                                                     (( (HLT_IsoMu22 || HLT_IsoMu22_eta2p1 || HLT_IsoTkMu22_eta2p1 || HLT_IsoMu24 || HLT_IsoTkMu24 || HLT_Mu45_eta2p1 || HLT_Mu50) ) && ( (( 1==1 ) && ( 1==1 && (Muon_charge[0]==Muon_charge[1]) )) ))  "
      ]
     },
     "metadata": {},
     "output_type": "display_data"
    }
   ],
   "source": [
    "import pandas as pd\n",
    "from collections import OrderedDict\n",
    "from IPython.display import display, HTML\n",
    "pd.set_option('display.max_colwidth',10000)\n",
    "ALLTABLE={}\n",
    "TABLE=[]\n",
    "#Selection=['OSSF','OSOF','SSSF','SSOF']\n",
    "for sel in selection:\n",
    "    TABLE.append(OrderedDict({\n",
    "        'Selection Region' : sel,\n",
    "        'Description' : selection[sel]\n",
    "    }))\n",
    "\n",
    "ALLTABLE=pd.DataFrame(TABLE)\n",
    "print \"CHOOSE SELECTION\"\n",
    "display(ALLTABLE)"
   ]
  },
  {
   "cell_type": "code",
   "execution_count": 4,
   "metadata": {},
   "outputs": [
    {
     "name": "stdout",
     "output_type": "stream",
     "text": [
      "Selected (( (HLT_IsoMu22 || HLT_IsoMu22_eta2p1 || HLT_IsoTkMu22_eta2p1 || HLT_IsoMu24 || HLT_IsoTkMu24 || HLT_Mu45_eta2p1 || HLT_Mu50) ) && ( (( 1==1 ) && ( 1==1 && (Muon_charge[0]!=Muon_charge[1]) && nMuon==2 )) ))\n"
     ]
    }
   ],
   "source": [
    "#var=\"MHTju_pt\"\n",
    "var=\"Zmass\"\n",
    "cr=\"OSSF\"\n",
    "cut=selection[cr]\n",
    "print \"Selected\", selection[cr]"
   ]
  },
  {
   "cell_type": "code",
   "execution_count": 5,
   "metadata": {},
   "outputs": [],
   "source": [
    "ths1 = THStack (\"Stacked\",\"Stacked\")\n",
    "histcarrier={}\n",
    "histlet={}\n",
    "if var==\"Zmass\":\n",
    "    VAR=\"invariantMass(Muon_pt[0], Muon_eta[0], Muon_phi[0], Muon_mass[0], Muon_pt[1], Muon_eta[1], Muon_phi[1], Muon_mass[1])\"\n",
    "else:\n",
    "    VAR=var\n",
    "pd = getPrimaryDataset(cut)"
   ]
  },
  {
   "cell_type": "code",
   "execution_count": 6,
   "metadata": {},
   "outputs": [
    {
     "name": "stdout",
     "output_type": "stream",
     "text": [
      "TAG:  data_obs\n",
      "0 SingleMuonRun2016B-03Feb2017_ver1-v1\n",
      "DATA, NO HLT :  SingleMuonRun2016B-03Feb2017_ver1-v1\n",
      "None\n",
      "1 SingleMuonRun2016B-03Feb2017_ver2-v2\n",
      "DATA, NO HLT :  SingleMuonRun2016B-03Feb2017_ver2-v2\n",
      "2 SingleMuonRun2016C-03Feb2017-v1\n",
      "DATA, NO HLT :  SingleMuonRun2016C-03Feb2017-v1\n",
      "3 SingleMuonRun2016D-03Feb2017-v1\n",
      "DATA, NO HLT :  SingleMuonRun2016D-03Feb2017-v1\n",
      "4 SingleMuonRun2016E-03Feb2017-v1\n",
      "DATA, NO HLT :  SingleMuonRun2016E-03Feb2017-v1\n",
      "5 SingleMuonRun2016F-03Feb2017-v1\n",
      "DATA, NO HLT :  SingleMuonRun2016F-03Feb2017-v1\n",
      "6 SingleMuonRun2016G-03Feb2017-v1\n",
      "DATA, NO HLT :  SingleMuonRun2016G-03Feb2017-v1\n",
      "7 SingleMuonRun2016H-03Feb2017_ver2-v1\n",
      "DATA, NO HLT :  SingleMuonRun2016H-03Feb2017_ver2-v1\n",
      "8 SingleMuonRun2016H-03Feb2017_ver3-v1\n",
      "DATA, NO HLT :  SingleMuonRun2016H-03Feb2017_ver3-v1\n",
      "TAG:  ttV\n",
      "0 TTWJetsToLNu_TuneCUETP8M1_13TeV-amcatnloFXFX-madspin-pythia8_ext1-v3\n",
      "MC, With HLT\n",
      "None\n",
      "1 TTZToLLNuNu_M-10_TuneCUETP8M1_13TeV-amcatnlo-pythia8_ext1-v1\n",
      "MC, With HLT\n",
      "2 ttHToNonbb_M125_TuneCUETP8M2_ttHtranche3_13TeV-powheg-pythia8-v1\n",
      "MC, With HLT\n",
      "TAG:  WW\n",
      "0 WW_TuneCUETP8M1_13TeV-pythia8_ext1-v1\n",
      "MC, With HLT\n",
      "None\n",
      "TAG:  WZ\n",
      "0 WZTo3LNu_TuneCUETP8M1_13TeV-powheg-pythia8-v1\n",
      "MC, With HLT\n",
      "None\n",
      "TAG:  TTbar-SL\n",
      "0 TTJets_SingleLeptFromT_TuneCUETP8M1_13TeV-madgraphMLM-pythia8_ext1-v1\n",
      "MC, With HLT\n",
      "None\n",
      "1 TTJets_SingleLeptFromTbar_TuneCUETP8M1_13TeV-madgraphMLM-pythia8_ext1-v1\n",
      "MC, With HLT\n",
      "TAG:  ST\n",
      "0 ST_s-channel_4f_leptonDecays_13TeV-amcatnlo-pythia8_TuneCUETP8M1-v1\n",
      "MC, With HLT\n",
      "None\n",
      "1 ST_t-channel_antitop_4f_inclusiveDecays_13TeV-powhegV2-madspin-pythia8_TuneCUETP8M1-v1\n",
      "MC, With HLT\n",
      "2 ST_t-channel_top_4f_inclusiveDecays_13TeV-powhegV2-madspin-pythia8_TuneCUETP8M1-v1\n",
      "MC, With HLT\n",
      "3 ST_tW_antitop_5f_inclusiveDecays_13TeV-powheg-pythia8_TuneCUETP8M2T4-v1\n",
      "MC, With HLT\n",
      "4 ST_tW_top_5f_inclusiveDecays_13TeV-powheg-pythia8_TuneCUETP8M2T4-v1\n",
      "MC, With HLT\n",
      "TAG:  TTbar-DiLep\n",
      "0 TTJets_DiLept_TuneCUETP8M1_13TeV-madgraphMLM-pythia8_ext1-v1\n",
      "MC, With HLT\n",
      "None\n",
      "TAG:  WJetsToLNu\n",
      "0 WJetsToLNu_TuneCUETP8M1_13TeV-amcatnloFXFX-pythia8-v1\n",
      "MC, With HLT\n",
      "None\n",
      "TAG:  DYJetsToLL\n",
      "0 DYJetsToLL_M-10to50_TuneCUETP8M1_13TeV-amcatnloFXFX-pythia8-v1\n",
      "MC, With HLT\n",
      "None\n",
      "1 DYJetsToLL_M-50_TuneCUETP8M1_13TeV-madgraphMLM-pythia8_ext1-v2\n",
      "MC, With HLT\n",
      "TH1.Print Name  = SingleMuonRun2016B-03Feb2017_ver1-v1, Entries= 8430, Total sum= 8401\n",
      "TH1.Print Name  = TTWJetsToLNu_TuneCUETP8M1_13TeV-amcatnloFXFX-madspin-pythia8_ext1-v3, Entries= 7253, Total sum= 202.097\n",
      "TH1.Print Name  = WW_TuneCUETP8M1_13TeV-pythia8_ext1-v1, Entries= 10177, Total sum= 4995.57\n",
      "TH1.Print Name  = WZTo3LNu_TuneCUETP8M1_13TeV-powheg-pythia8-v1, Entries= 57642, Total sum= 756.274\n",
      "TH1.Print Name  = TTJets_SingleLeptFromT_TuneCUETP8M1_13TeV-madgraphMLM-pythia8_ext1-v1, Entries= 410421, Total sum= 107881\n",
      "TH1.Print Name  = ST_s-channel_4f_leptonDecays_13TeV-amcatnlo-pythia8_TuneCUETP8M1-v1, Entries= 3863, Total sum= 475.143\n",
      "TH1.Print Name  = TTJets_DiLept_TuneCUETP8M1_13TeV-madgraphMLM-pythia8_ext1-v1, Entries= 1212696, Total sum= 160351\n",
      "TH1.Print Name  = WJetsToLNu_TuneCUETP8M1_13TeV-amcatnloFXFX-pythia8-v1, Entries= 2517, Total sum= 246489\n",
      "TH1.Print Name  = DYJetsToLL_M-10to50_TuneCUETP8M1_13TeV-amcatnloFXFX-pythia8-v1, Entries= 14724, Total sum= 181390\n"
     ]
    },
    {
     "name": "stderr",
     "output_type": "stream",
     "text": [
      "Info in <TCanvas::MakeDefCanvas>:  created default TCanvas with name c1\n"
     ]
    }
   ],
   "source": [
    "if not BLIND:\n",
    "    processes=data+back\n",
    "elif BLIND:\n",
    "    processes=back\n",
    "\n",
    "for TAG in (processes):\n",
    "    print \"TAG: \", TAG\n",
    "    ENUMLIST=[]\n",
    "    if 'data' in TAG:\n",
    "        for datalet in (samples['%s' %TAG]['files']):\n",
    "            if datalet in pd:\n",
    "                ENUMLIST.append(datalet)\n",
    "    elif not 'data' in TAG:\n",
    "        ENUMLIST=samples['%s' %TAG]['files']\n",
    "        \n",
    "    for num, bkgs in enumerate(ENUMLIST):\n",
    "        print num, bkgs\n",
    "        f = TFile.Open(NTUPLEDIR+bkgs+\".root\",\"READ\")\n",
    "        tree = f.Get(\"Events\")\n",
    "        gROOT.cd()\n",
    "        #Define histograms                                                                                                                 \n",
    "        nevents = sample[bkgs]['nevents']\n",
    "        xs = sample[bkgs]['xsec']\n",
    "        LumiMC = nevents/xs\n",
    "        Weight = float(LUMI) / float(LumiMC)\n",
    "        \n",
    "        if num==0:\n",
    "            if variable[var]['nbins']>0: histlet[TAG] = TH1F(bkgs, \";\"+variable[var]['title'], variable[var]['nbins'], variable[var]['min'\\\n",
    "], variable[var]['max'])\n",
    "            else: histlet[TAG]=TH1F(bkgs,\";\"+variable[var]['title'], len(variable[var]['bins'])-1, array('f', variable[var]['bins']))\n",
    "            histlet[TAG].Sumw2()\n",
    "            if 'data' in TAG:\n",
    "                print \"DATA, NO HLT : \", bkgs\n",
    "                subcut= cut.replace(muonTrigger,\"(1==1)\")\n",
    "                tree.Draw(\"%s >> %s\" %(VAR,bkgs),\"%s\" %subcut)\n",
    "            elif not 'data' in TAG:\n",
    "                print \"MC, With HLT\"\n",
    "                tree.Draw(\"%s >> %s\" %(VAR,bkgs),\"%s*(%s)\" %(Weight,cut))\n",
    "            print histlet[TAG].Print()\n",
    "        elif num>0:\n",
    "            if variable[var]['nbins']>0: histcarrier[bkgs] = TH1F(bkgs, \";\"+variable[var]['title'], variable[var]['nbins'], variable[var][\\\n",
    "'min'], variable[var]['max'])\n",
    "            else: histcarrier[bkgs]=TH1F(bkgs,\";\"+variable[var]['title'], len(variable[var]['bins'])-1, array('f', variable[var]['bins']))\n",
    "            histcarrier[bkgs].Sumw2()\n",
    "            if 'data' in TAG:\n",
    "                print \"DATA, NO HLT : \", bkgs\n",
    "                subcut= cut.replace(muonTrigger,\"(1==1)\")\n",
    "                tree.Draw(\"%s >> %s\" %(VAR,bkgs),\"%s\" %subcut)\n",
    "            elif not 'data' in TAG:\n",
    "                print \"MC, With HLT\"\n",
    "                tree.Draw(\"%s >> %s\" %(VAR,bkgs),\"%s*(%s)\" %(Weight,cut))\n",
    "            hnew = histcarrier[bkgs].Clone(bkgs)\n",
    "            histlet[TAG].Add(hnew)\n",
    "    histlet[TAG].SetFillColor(samples[TAG]['fillcolor'])\n",
    "    histlet[TAG].SetFillStyle(samples[TAG]['fillstyle'])\n",
    "    histlet[TAG].SetLineColor(samples[TAG]['linecolor'])\n",
    "    histlet[TAG].SetLineStyle(samples[TAG]['linestyle'])\n"
   ]
  },
  {
   "cell_type": "code",
   "execution_count": 7,
   "metadata": {},
   "outputs": [],
   "source": [
    "if len(back)>0:\n",
    "    #If data_obs present, dummy BkgSum == first background process                                                                        \\\n",
    "                                                                                                                                           \n",
    "    histlet['BkgSum'] = histlet['data_obs'].Clone(\"BkgSum\") if 'data_obs' in histlet else histlet[back[0]].Clone(\"BkgSum\")\n",
    "    histlet['BkgSum'].Reset(\"MICES\")\n",
    "    histlet['BkgSum'].SetFillStyle(3003)\n",
    "    histlet['BkgSum'].SetFillColor(1)\n",
    "    for i, s in enumerate(back): histlet['BkgSum'].Add(histlet[s])\n",
    "\n",
    "if len(back)==0 and len(data)==0:\n",
    "    for i, s in enumerate(sign):\n",
    "        histlet[s].Scale(1./histlet[s].Integral())\n",
    "        histlet[s].SetFillStyle(0)\n"
   ]
  },
  {
   "cell_type": "code",
   "execution_count": 8,
   "metadata": {},
   "outputs": [
    {
     "name": "stdout",
     "output_type": "stream",
     "text": [
      "  Ratio:\t1.164 +- 0.002\n"
     ]
    },
    {
     "name": "stderr",
     "output_type": "stream",
     "text": [
      "Warning in <TCanvas::Constructor>: Deleting canvas with same name: c1\n"
     ]
    }
   ],
   "source": [
    "if len(data+back)>0:\n",
    "    out = draw(histlet, data if not BLIND else [], back, sign, SIGNAL, RATIO, POISSON, variable[var]['log'])\n",
    "else:\n",
    "    out = drawSignal(histlet, sign, variable[var]['log'])\n",
    "\n",
    "out[0].cd(1)\n",
    "if len(data+back)>0:\n",
    "    drawCMS(LUMI, \"Preliminary\")\n",
    "else:\n",
    "    drawCMS(LUMI, \"Simulation\")"
   ]
  },
  {
   "cell_type": "code",
   "execution_count": 9,
   "metadata": {},
   "outputs": [
    {
     "name": "stdout",
     "output_type": "stream",
     "text": [
      "Sample                  Events          Entries         %\n",
      "--------------------------------------------------------------------------------\n",
      "data_obs             \t5082169.00 \t5082169    \t116.36     %\n",
      "--------------------------------------------------------------------------------\n",
      "TTbar-DiLep          \t169729.80  \t1212696    \t3.89       %\n",
      "WJetsToLNu           \t252405.08  \t2517       \t5.78       %\n",
      "TTbar-SL             \t217290.57  \t806826     \t4.98       %\n",
      "ST                   \t4551.59    \t37195      \t0.10       %\n",
      "WW                   \t5386.73    \t10177      \t0.12       %\n",
      "ttV                  \t699.35     \t132260     \t0.02       %\n",
      "DYJetsToLL           \t3716709.75 \t821064     \t85.10      %\n",
      "WZ                   \t763.81     \t57642      \t0.02       %\n",
      "--------------------------------------------------------------------------------\n",
      "BkgSum               \t4367536.65 \t3080377    \t100.00     %\n",
      "--------------------------------------------------------------------------------\n",
      "--------------------------------------------------------------------------------\n"
     ]
    }
   ],
   "source": [
    "out[0].Update()\n",
    "if len(data+back)>0: printTable(histlet, sign)"
   ]
  },
  {
   "cell_type": "code",
   "execution_count": 10,
   "metadata": {},
   "outputs": [
    {
     "data": {
      "image/png": "[encoded data removed]",
      "text/plain": [
       "<IPython.core.display.Image object>"
      ]
     },
     "metadata": {},
     "output_type": "display_data"
    }
   ],
   "source": [
    "out[0].Draw()"
   ]
  },
  {
   "cell_type": "code",
   "execution_count": null,
   "metadata": {},
   "outputs": [],
   "source": []
  }
 ],
 "metadata": {
  "kernelspec": {
   "display_name": "Python 2",
   "language": "python",
   "name": "python2"
  },
  "language_info": {
   "codemirror_mode": {
    "name": "ipython",
    "version": 2
   },
   "file_extension": ".py",
   "mimetype": "text/x-python",
   "name": "python",
   "nbconvert_exporter": "python",
   "pygments_lexer": "ipython2",
   "version": "2.7.10"
  }
 },
 "nbformat": 4,
 "nbformat_minor": 2
}

{
 "cells": [
  {
   "cell_type": "code",
   "execution_count": 1,
   "metadata": {
    "ExecuteTime": {
     "end_time": "2018-11-08T18:22:55.174599Z",
     "start_time": "2018-11-08T18:22:52.613170Z"
    }
   },
   "outputs": [
    {
     "name": "stdout",
     "output_type": "stream",
     "text": [
      "Welcome to JupyROOT 6.12/06\n"
     ]
    },
    {
     "data": {
      "text/plain": [
       "0L"
      ]
     },
     "execution_count": 1,
     "metadata": {},
     "output_type": "execute_result"
    }
   ],
   "source": [
    "import os, multiprocessing, sys\n",
    "import copy\n",
    "import math\n",
    "from array import array\n",
    "from ROOT import ROOT, gROOT, gStyle, gRandom, TSystemDirectory\n",
    "from ROOT import TFile, TChain, TTree, TCut, TH1, TH1F, TH2F, THStack, TGraph, TGraphAsymmErrors\n",
    "from ROOT import TStyle, TCanvas, TPad\n",
    "from ROOT import TLegend, TLatex, TText, TLine, TBox\n",
    "import time\n",
    "#%jsroot on\n",
    "cwd=os.getcwd()\n",
    "sys.path.append(cwd+\"/Utils/\")\n",
    "\n",
    "from drawUtils import *\n",
    "from variables import *\n",
    "from selections_SSLep import *\n",
    "from samplesVH import *\n",
    "\n",
    "gROOT.SetBatch(True)\n",
    "gStyle.SetOptStat(0)\n",
    "gROOT.Macro('functions.C')"
   ]
  },
  {
   "cell_type": "code",
   "execution_count": 2,
   "metadata": {
    "ExecuteTime": {
     "end_time": "2018-11-08T18:22:55.209654Z",
     "start_time": "2018-11-08T18:22:55.183025Z"
    }
   },
   "outputs": [],
   "source": [
    "NTUPLEDIR   = \"/Users/shoh/Projects/CMS/PhD/Analysis/SSL/datav8-skim/\"\n",
    "LUMI        = 35800. # pb-1                                                                                                                \n",
    "data = [\"data_obs\"]\n",
    "#back = [ \"DYJetsToLL\" , \"WJetsToLNu\" , \"TTbar-DiLep\" , \"ST\" , \"TTbar-SL\" , \"WZ\" , \"WW\" , \"ttV\" ]                                                 \n",
    "back = [ \"ttV\" , \"WW\" ,\"WZ\" , \"TTbar-SL\", \"ST\", \"TTbar-DiLep\", \"WJetsToLNu\" , \"DYJetsToLL\" ]\n",
    "sign=[]\n",
    "BLIND=False\n",
    "POISSON= False\n",
    "SIGNAL      = 1.\n",
    "RATIO       = 4\n",
    "jobs        = []"
   ]
  },
  {
   "cell_type": "code",
   "execution_count": 3,
   "metadata": {
    "ExecuteTime": {
     "end_time": "2018-11-08T18:22:55.242106Z",
     "start_time": "2018-11-08T18:22:55.215165Z"
    }
   },
   "outputs": [
    {
     "name": "stdout",
     "output_type": "stream",
     "text": [
      "(HLT_IsoMu22 || HLT_IsoMu22_eta2p1 || HLT_IsoTkMu22_eta2p1 || HLT_IsoMu24 || HLT_IsoTkMu24 || HLT_Mu45_eta2p1 || HLT_Mu50) && (( (HLT_IsoMu22 || HLT_IsoMu22_eta2p1 || HLT_IsoTkMu22_eta2p1 || HLT_IsoMu24 || HLT_IsoTkMu24 || HLT_Mu45_eta2p1 || HLT_Mu50) ) && ( (( 1==1 ) && ( (Muon_charge[0]!=Muon_charge[1]) && Muon_pt[0]>30 && Muon_pt[1]>15 && Muon_pfRelIso03_all[0]<0.15 && Muon_pfRelIso03_all[1]<0.15 )) ))\n"
     ]
    }
   ],
   "source": [
    "var=\"Zmass\"\n",
    "cutchoice=\"OSmumu\"\n",
    "TRIGGER=muonTrigger\n",
    "cut=TRIGGER+\" && \"+selection[cutchoice]\n",
    "print cut\n",
    "pd = getPrimaryDataset(cut)"
   ]
  },
  {
   "cell_type": "code",
   "execution_count": 4,
   "metadata": {
    "ExecuteTime": {
     "end_time": "2018-11-08T18:22:55.502839Z",
     "start_time": "2018-11-08T18:22:55.247949Z"
    }
   },
   "outputs": [],
   "source": [
    "def plot(vv, ss, PD):\n",
    "    \n",
    "    if vv==\"Zmass\":\n",
    "        vvv=\"invariantMass(Muon_pt[0], Muon_eta[0], Muon_phi[0], Muon_mass[0], Muon_pt[1], Muon_eta[1], Muon_phi[1], Muon_mass[1])\"\n",
    "    elif vv==\"Zpt\":\n",
    "        vvv=\"invariantMassPt(Muon_pt[0], Muon_eta[0], Muon_phi[0], Muon_mass[0], Muon_pt[1], Muon_eta[1], Muon_phi[1], Muon_mass[1])\"\n",
    "    else:\n",
    "        vvv=vv\n",
    "    \n",
    "    histcarrier={}\n",
    "    histlet={}\n",
    "    if not BLIND:\n",
    "        processes=data+back\n",
    "    elif BLIND:\n",
    "        processes=back\n",
    "\n",
    "    for TAG in (processes):\n",
    "        print \"TAG: \", TAG\n",
    "        ENUMLIST=[]\n",
    "        if 'data' in TAG:\n",
    "            for datalet in (samples['%s' %TAG]['files']):\n",
    "                if datalet in pd:\n",
    "                    ENUMLIST.append(datalet)\n",
    "        elif not 'data' in TAG:\n",
    "            ENUMLIST=samples['%s' %TAG]['files']\n",
    "     \n",
    "        for num, bkgs in enumerate(ENUMLIST):\n",
    "         \n",
    "            print num, bkgs\n",
    "            f = TFile.Open(NTUPLEDIR+bkgs+\".root\",\"READ\")\n",
    "            tree = f.Get(\"Events\")\n",
    "            gROOT.cd()\n",
    "            #Define histograms                                                                                                                 \n",
    "            nevents = sample[bkgs]['nevents']\n",
    "            xs = sample[bkgs]['xsec']\n",
    "            LumiMC = nevents/xs\n",
    "            Weight = float(LUMI) / float(LumiMC)\n",
    "        \n",
    "            if num==0:\n",
    "                if variable[vv]['nbins']>0: histlet[TAG] = TH1F(bkgs, \";\"+variable[vv]['title'], variable[vv]['nbins'], variable[var]['min'\\\n",
    "], variable[vv]['max'])\n",
    "                else: histlet[TAG]=TH1F(bkgs,\";\"+variable[vv]['title'], len(variable[vv]['bins'])-1, array('f', variable[var]['bins']))\n",
    "                histlet[TAG].Sumw2()\n",
    "                if 'data' in TAG:\n",
    "                    print \"DATA, NO HLT : \", bkgs\n",
    "                    subcut= ss.replace(TRIGGER,\"(1==1)\")\n",
    "                    tree.Draw(\"%s >> %s\" %(vvv,bkgs),\"%s\" %subcut)\n",
    "                elif not 'data' in TAG:\n",
    "                    print \"MC, With HLT\"\n",
    "                    tree.Draw(\"%s >> %s\" %(vvv,bkgs),\"ZPtCorr*%s*(%s)\" %(Weight,ss))\n",
    "                print histlet[TAG].Print()\n",
    "            elif num>0:\n",
    "                if variable[vv]['nbins']>0: histcarrier[bkgs] = TH1F(bkgs, \";\"+variable[vv]['title'], variable[vv]['nbins'], variable[vv][\\\n",
    "'min'], variable[vv]['max'])\n",
    "                else: histcarrier[bkgs]=TH1F(bkgs,\";\"+variable[vv]['title'], len(variable[vv]['bins'])-1, array('f', variable[vv]['bins']))\n",
    "                histcarrier[bkgs].Sumw2()\n",
    "                if 'data' in TAG:\n",
    "                    print \"DATA, NO HLT : \", bkgs\n",
    "                    subcut= ss.replace(TRIGGER,\"(1==1)\")\n",
    "                    tree.Draw(\"%s >> %s\" %(vvv,bkgs),\"%s\" %subcut)\n",
    "                elif not 'data' in TAG:\n",
    "                    print \"MC, With HLT\"\n",
    "                    tree.Draw(\"%s >> %s\" %(vvv,bkgs),\"%s*(%s)\" %(Weight,ss))\n",
    "                hnew = histcarrier[bkgs].Clone(bkgs)\n",
    "                histlet[TAG].Add(hnew)\n",
    "        histlet[TAG].SetFillColor(samples[TAG]['fillcolor'])\n",
    "        histlet[TAG].SetFillStyle(samples[TAG]['fillstyle'])\n",
    "        histlet[TAG].SetLineColor(samples[TAG]['linecolor'])\n",
    "        histlet[TAG].SetLineStyle(samples[TAG]['linestyle'])\n",
    "    #return histlet\n",
    "    \n",
    "    if len(back)>0:\n",
    "        histlet['BkgSum'] = histlet['data_obs'].Clone(\"BkgSum\") if 'data_obs' in histlet else histlet[back[0]].Clone(\"BkgSum\")\n",
    "        histlet['BkgSum'].Reset(\"MICES\")\n",
    "        histlet['BkgSum'].SetFillStyle(3003)\n",
    "        histlet['BkgSum'].SetFillColor(1)\n",
    "        for i, s in enumerate(back): histlet['BkgSum'].Add(histlet[s])\n",
    "    return histlet\n",
    "    '''       \n",
    "    if len(back)==0 and len(data)==0:\n",
    "        for i, s in enumerate(sign):\n",
    "            histlet[s].Scale(1./histlet[s].Integral())\n",
    "            histlet[s].SetFillStyle(0)\n",
    "    if len(data+back)>0:\n",
    "        out = draw(histlet, data if not BLIND else [], back, sign, SIGNAL, RATIO, POISSON, variable[var]['log'])\n",
    "    else:\n",
    "        out = drawSignal(histlet, sign, variable[var]['log'])\n",
    "    out[0].cd(1)\n",
    "    if len(data+back)>0:\n",
    "        drawCMS(LUMI, \"Preliminary\")\n",
    "    else:\n",
    "        drawCMS(LUMI, \"Simulation\")\n",
    "    out[0].Update()\n",
    "    \n",
    "    for process in histlet:\n",
    "        histlet[process].Delete()\n",
    "\n",
    "    return [out[0],out[1]]\n",
    "'''"
   ]
  },
  {
   "cell_type": "code",
   "execution_count": 5,
   "metadata": {
    "ExecuteTime": {
     "end_time": "2018-11-08T18:25:08.002594Z",
     "start_time": "2018-11-08T18:22:55.512953Z"
    }
   },
   "outputs": [
    {
     "name": "stdout",
     "output_type": "stream",
     "text": [
      "TAG:  data_obs\n",
      "0 SingleMuonRun2016B-03Feb2017_ver1-v1\n",
      "DATA, NO HLT :  SingleMuonRun2016B-03Feb2017_ver1-v1\n",
      "None\n",
      "1 SingleMuonRun2016B-03Feb2017_ver2-v2\n",
      "DATA, NO HLT :  SingleMuonRun2016B-03Feb2017_ver2-v2\n",
      "2 SingleMuonRun2016C-03Feb2017-v1\n",
      "DATA, NO HLT :  SingleMuonRun2016C-03Feb2017-v1\n",
      "3 SingleMuonRun2016D-03Feb2017-v1\n",
      "DATA, NO HLT :  SingleMuonRun2016D-03Feb2017-v1\n",
      "4 SingleMuonRun2016E-03Feb2017-v1\n",
      "DATA, NO HLT :  SingleMuonRun2016E-03Feb2017-v1\n",
      "5 SingleMuonRun2016F-03Feb2017-v1\n",
      "DATA, NO HLT :  SingleMuonRun2016F-03Feb2017-v1\n",
      "6 SingleMuonRun2016G-03Feb2017-v1\n",
      "DATA, NO HLT :  SingleMuonRun2016G-03Feb2017-v1\n",
      "7 SingleMuonRun2016H-03Feb2017_ver2-v1\n",
      "DATA, NO HLT :  SingleMuonRun2016H-03Feb2017_ver2-v1\n",
      "8 SingleMuonRun2016H-03Feb2017_ver3-v1\n",
      "DATA, NO HLT :  SingleMuonRun2016H-03Feb2017_ver3-v1\n",
      "TAG:  ttV\n",
      "0 TTWJetsToLNu_TuneCUETP8M1_13TeV-amcatnloFXFX-madspin-pythia8_ext1-v3\n",
      "MC, With HLT\n",
      "None\n",
      "1 TTZToLLNuNu_M-10_TuneCUETP8M1_13TeV-amcatnlo-pythia8_ext1-v1\n",
      "MC, With HLT\n",
      "2 ttHToNonbb_M125_TuneCUETP8M2_ttHtranche3_13TeV-powheg-pythia8-v1\n",
      "MC, With HLT\n",
      "TAG:  WW\n",
      "0 WW_TuneCUETP8M1_13TeV-pythia8_ext1-v1\n",
      "MC, With HLT\n",
      "None\n",
      "TAG:  WZ\n",
      "0 WZTo3LNu_TuneCUETP8M1_13TeV-powheg-pythia8-v1\n",
      "MC, With HLT\n",
      "None\n",
      "TAG:  TTbar-SL\n",
      "0 TTJets_SingleLeptFromT_TuneCUETP8M1_13TeV-madgraphMLM-pythia8_ext1-v1\n",
      "MC, With HLT\n",
      "None\n",
      "1 TTJets_SingleLeptFromTbar_TuneCUETP8M1_13TeV-madgraphMLM-pythia8_ext1-v1\n",
      "MC, With HLT\n",
      "TAG:  ST\n",
      "0 ST_s-channel_4f_leptonDecays_13TeV-amcatnlo-pythia8_TuneCUETP8M1-v1\n",
      "MC, With HLT\n",
      "None\n",
      "1 ST_t-channel_antitop_4f_inclusiveDecays_13TeV-powhegV2-madspin-pythia8_TuneCUETP8M1-v1\n",
      "MC, With HLT\n",
      "2 ST_t-channel_top_4f_inclusiveDecays_13TeV-powhegV2-madspin-pythia8_TuneCUETP8M1-v1\n",
      "MC, With HLT\n",
      "3 ST_tW_antitop_5f_inclusiveDecays_13TeV-powheg-pythia8_TuneCUETP8M2T4-v1\n",
      "MC, With HLT\n",
      "4 ST_tW_top_5f_inclusiveDecays_13TeV-powheg-pythia8_TuneCUETP8M2T4-v1\n",
      "MC, With HLT\n",
      "TAG:  TTbar-DiLep\n",
      "0 TTJets_DiLept_TuneCUETP8M1_13TeV-madgraphMLM-pythia8_ext1-v1\n",
      "MC, With HLT\n",
      "None\n",
      "TAG:  WJetsToLNu\n",
      "0 WJetsToLNu_TuneCUETP8M1_13TeV-amcatnloFXFX-pythia8-v1\n",
      "MC, With HLT\n",
      "None\n",
      "TAG:  DYJetsToLL\n",
      "0 DYJetsToLL_M-10to50_TuneCUETP8M1_13TeV-amcatnloFXFX-pythia8-v1\n",
      "MC, With HLT\n",
      "None\n",
      "1 DYJetsToLL_M-50_TuneCUETP8M1_13TeV-madgraphMLM-pythia8_ext1-v2\n",
      "MC, With HLT\n",
      "  Ratio:\t1.047 +- 0.001\n",
      "TAG:  data_obs\n",
      "0 SingleMuonRun2016B-03Feb2017_ver1-v1\n",
      "DATA, NO HLT :  SingleMuonRun2016B-03Feb2017_ver1-v1\n",
      "None\n",
      "1 SingleMuonRun2016B-03Feb2017_ver2-v2\n",
      "DATA, NO HLT :  SingleMuonRun2016B-03Feb2017_ver2-v2\n",
      "2 SingleMuonRun2016C-03Feb2017-v1\n",
      "DATA, NO HLT :  SingleMuonRun2016C-03Feb2017-v1\n",
      "3 SingleMuonRun2016D-03Feb2017-v1\n",
      "DATA, NO HLT :  SingleMuonRun2016D-03Feb2017-v1\n",
      "4 SingleMuonRun2016E-03Feb2017-v1\n",
      "DATA, NO HLT :  SingleMuonRun2016E-03Feb2017-v1\n",
      "5 SingleMuonRun2016F-03Feb2017-v1\n",
      "DATA, NO HLT :  SingleMuonRun2016F-03Feb2017-v1\n",
      "6 SingleMuonRun2016G-03Feb2017-v1\n",
      "DATA, NO HLT :  SingleMuonRun2016G-03Feb2017-v1\n",
      "7 SingleMuonRun2016H-03Feb2017_ver2-v1\n",
      "DATA, NO HLT :  SingleMuonRun2016H-03Feb2017_ver2-v1\n",
      "8 SingleMuonRun2016H-03Feb2017_ver3-v1\n",
      "DATA, NO HLT :  SingleMuonRun2016H-03Feb2017_ver3-v1\n",
      "TAG:  ttV\n",
      "0 TTWJetsToLNu_TuneCUETP8M1_13TeV-amcatnloFXFX-madspin-pythia8_ext1-v3\n",
      "MC, With HLT\n",
      "None\n",
      "1 TTZToLLNuNu_M-10_TuneCUETP8M1_13TeV-amcatnlo-pythia8_ext1-v1\n",
      "MC, With HLT\n",
      "2 ttHToNonbb_M125_TuneCUETP8M2_ttHtranche3_13TeV-powheg-pythia8-v1\n",
      "MC, With HLT\n",
      "TAG:  WW\n",
      "0 WW_TuneCUETP8M1_13TeV-pythia8_ext1-v1\n",
      "MC, With HLT\n",
      "None\n",
      "TAG:  WZ\n",
      "0 WZTo3LNu_TuneCUETP8M1_13TeV-powheg-pythia8-v1\n",
      "MC, With HLT\n",
      "None\n",
      "TAG:  TTbar-SL\n",
      "0 TTJets_SingleLeptFromT_TuneCUETP8M1_13TeV-madgraphMLM-pythia8_ext1-v1\n",
      "MC, With HLT\n",
      "None\n",
      "1 TTJets_SingleLeptFromTbar_TuneCUETP8M1_13TeV-madgraphMLM-pythia8_ext1-v1\n",
      "MC, With HLT\n",
      "TAG:  ST\n",
      "0 ST_s-channel_4f_leptonDecays_13TeV-amcatnlo-pythia8_TuneCUETP8M1-v1\n",
      "MC, With HLT\n",
      "None\n",
      "1 ST_t-channel_antitop_4f_inclusiveDecays_13TeV-powhegV2-madspin-pythia8_TuneCUETP8M1-v1\n",
      "MC, With HLT\n",
      "2 ST_t-channel_top_4f_inclusiveDecays_13TeV-powhegV2-madspin-pythia8_TuneCUETP8M1-v1\n",
      "MC, With HLT\n",
      "3 ST_tW_antitop_5f_inclusiveDecays_13TeV-powheg-pythia8_TuneCUETP8M2T4-v1\n",
      "MC, With HLT\n",
      "4 ST_tW_top_5f_inclusiveDecays_13TeV-powheg-pythia8_TuneCUETP8M2T4-v1\n",
      "MC, With HLT\n",
      "TAG:  TTbar-DiLep\n",
      "0 TTJets_DiLept_TuneCUETP8M1_13TeV-madgraphMLM-pythia8_ext1-v1\n",
      "MC, With HLT\n",
      "None\n",
      "TAG:  WJetsToLNu\n",
      "0 WJetsToLNu_TuneCUETP8M1_13TeV-amcatnloFXFX-pythia8-v1\n",
      "MC, With HLT\n",
      "None\n",
      "TAG:  DYJetsToLL\n",
      "0 DYJetsToLL_M-10to50_TuneCUETP8M1_13TeV-amcatnloFXFX-pythia8-v1\n",
      "MC, With HLT\n",
      "None\n",
      "1 DYJetsToLL_M-50_TuneCUETP8M1_13TeV-madgraphMLM-pythia8_ext1-v2\n",
      "MC, With HLT\n",
      "  Ratio:\t1.047 +- 0.001\n",
      "TH1.Print Name  = SingleMuonRun2016B-03Feb2017_ver1-v1, Entries= 6000, Total sum= 5973\n",
      "TH1.Print Name  = TTWJetsToLNu_TuneCUETP8M1_13TeV-amcatnloFXFX-madspin-pythia8_ext1-v3, Entries= 4082, Total sum= 98.8211\n",
      "TH1.Print Name  = WW_TuneCUETP8M1_13TeV-pythia8_ext1-v1, Entries= 5851, Total sum= 2710.04\n",
      "TH1.Print Name  = WZTo3LNu_TuneCUETP8M1_13TeV-powheg-pythia8-v1, Entries= 53232, Total sum= 497.162\n",
      "TH1.Print Name  = TTJets_SingleLeptFromT_TuneCUETP8M1_13TeV-madgraphMLM-pythia8_ext1-v1, Entries= 13754, Total sum= 3516.47\n",
      "TH1.Print Name  = ST_s-channel_4f_leptonDecays_13TeV-amcatnlo-pythia8_TuneCUETP8M1-v1, Entries= 166, Total sum= 20.2556\n",
      "TH1.Print Name  = TTJets_DiLept_TuneCUETP8M1_13TeV-madgraphMLM-pythia8_ext1-v1, Entries= 820263, Total sum= 102754\n",
      "TH1.Print Name  = WJetsToLNu_TuneCUETP8M1_13TeV-amcatnloFXFX-pythia8-v1, Entries= 283, Total sum= 25772\n",
      "TH1.Print Name  = DYJetsToLL_M-10to50_TuneCUETP8M1_13TeV-amcatnloFXFX-pythia8-v1, Entries= 5967, Total sum= 73497.2\n",
      "TH1.Print Name  = SingleMuonRun2016B-03Feb2017_ver1-v1, Entries= 6000, Total sum= 5999\n",
      "TH1.Print Name  = TTWJetsToLNu_TuneCUETP8M1_13TeV-amcatnloFXFX-madspin-pythia8_ext1-v3, Entries= 4082, Total sum= 126.11\n",
      "TH1.Print Name  = WW_TuneCUETP8M1_13TeV-pythia8_ext1-v1, Entries= 5851, Total sum= 3094.29\n",
      "TH1.Print Name  = WZTo3LNu_TuneCUETP8M1_13TeV-powheg-pythia8-v1, Entries= 53232, Total sum= 506.778\n",
      "TH1.Print Name  = TTJets_SingleLeptFromT_TuneCUETP8M1_13TeV-madgraphMLM-pythia8_ext1-v1, Entries= 13754, Total sum= 3637.34\n",
      "TH1.Print Name  = ST_s-channel_4f_leptonDecays_13TeV-amcatnlo-pythia8_TuneCUETP8M1-v1, Entries= 166, Total sum= 20.5027\n",
      "TH1.Print Name  = TTJets_DiLept_TuneCUETP8M1_13TeV-madgraphMLM-pythia8_ext1-v1, Entries= 820263, Total sum= 114787\n",
      "TH1.Print Name  = WJetsToLNu_TuneCUETP8M1_13TeV-amcatnloFXFX-pythia8-v1, Entries= 283, Total sum= 28379.3\n",
      "TH1.Print Name  = DYJetsToLL_M-10to50_TuneCUETP8M1_13TeV-amcatnloFXFX-pythia8-v1, Entries= 5967, Total sum= 73497.2\n"
     ]
    },
    {
     "name": "stderr",
     "output_type": "stream",
     "text": [
      "Info in <TCanvas::MakeDefCanvas>:  created default TCanvas with name c1\n",
      "Warning in <TCanvas::Constructor>: Deleting canvas with same name: c1\n",
      "Warning in <TCanvas::Constructor>: Deleting canvas with same name: c1\n",
      "Info in <TH1F::Chi2TestX>: There is a bin in h2 with less than 10 effective events.\n",
      "\n"
     ]
    }
   ],
   "source": [
    "Canvases={}\n",
    "for var in [ 'Zmass' , 'Zpt']:\n",
    "    Canvases[var]=plot(var, cut, pd)"
   ]
  },
  {
   "cell_type": "code",
   "execution_count": 10,
   "metadata": {
    "ExecuteTime": {
     "end_time": "2018-11-08T18:38:10.684712Z",
     "start_time": "2018-11-08T18:38:10.515611Z"
    }
   },
   "outputs": [
    {
     "name": "stderr",
     "output_type": "stream",
     "text": [
      "Warning in <TCanvas::Constructor>: Deleting canvas with same name: c2\n"
     ]
    },
    {
     "data": {
      "image/png": "[encoded data removed]",
      "text/plain": [
       "<IPython.core.display.Image object>"
      ]
     },
     "metadata": {},
     "output_type": "display_data"
    }
   ],
   "source": [
    "c2=TCanvas('c2','c2',1000,900)\n",
    "c2.Divide(2,2)\n",
    "c2.cd(1)\n",
    "Canvases['Zmass'][1].Draw()\n",
    "c2.cd(2)\n",
    "Canvases['Zpt'][1].Draw()\n",
    "c2.Draw()"
   ]
  },
  {
   "cell_type": "code",
   "execution_count": 7,
   "metadata": {
    "ExecuteTime": {
     "end_time": "2018-11-08T18:25:08.053523Z",
     "start_time": "2018-11-08T18:25:08.028461Z"
    }
   },
   "outputs": [
    {
     "data": {
      "text/plain": [
       "[None, <ROOT.THStack object (\"Bkg\") at 0x7f848404a5e0>]"
      ]
     },
     "execution_count": 7,
     "metadata": {},
     "output_type": "execute_result"
    }
   ],
   "source": [
    "Canvases['Zmass']"
   ]
  },
  {
   "cell_type": "code",
   "execution_count": null,
   "metadata": {},
   "outputs": [],
   "source": []
  }
 ],
 "metadata": {
  "kernelspec": {
   "display_name": "Python 2",
   "language": "python",
   "name": "python2"
  },
  "language_info": {
   "codemirror_mode": {
    "name": "ipython",
    "version": 2
   },
   "file_extension": ".py",
   "mimetype": "text/x-python",
   "name": "python",
   "nbconvert_exporter": "python",
   "pygments_lexer": "ipython2",
   "version": "2.7.10"
  }
 },
 "nbformat": 4,
 "nbformat_minor": 2
}

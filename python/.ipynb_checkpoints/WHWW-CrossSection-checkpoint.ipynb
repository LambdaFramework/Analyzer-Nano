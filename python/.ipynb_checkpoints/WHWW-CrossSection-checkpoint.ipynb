{
 "cells": [
  {
   "cell_type": "markdown",
   "metadata": {},
   "source": [
    "# Take a closer look at LHC\n",
    "\n",
    "\n",
    "Cross section $\\sigma$ is a measurement of the probability an event occur, it is measured in barn $1b = 10^{-24} cm^{2}$. The __Number of events per second ($N_{ev}$)__ for a __specific result__ is gotten from:\n",
    "\n",
    "\\begin{equation}\n",
    "N_{\\mbox{events/sec}} = Luminosity * \\mbox{Cross section}\n",
    "\\end{equation}\n",
    "\n",
    "1.) Total cross section ($\\sigma_{tot}$) of p-p interaction is a fundamental quantity giving the upper bound on the probability (cross section) of any process in p-p collisions.\n",
    "\n",
    "\\begin{equation}\n",
    "\\sigma_{tot} = \\sigma_{elastic} + \\sigma_{inelastic}\n",
    "\\end{equation}\n",
    "\\begin{equation}\n",
    "\\sigma_{inelastic} = \\sigma_{diffraction} + \\sigma_{non-diffraction}\n",
    "\\end{equation}\n",
    "\n",
    "2.) The \n"
   ]
  },
  {
   "cell_type": "code",
   "execution_count": null,
   "metadata": {},
   "outputs": [],
   "source": []
  }
 ],
 "metadata": {
  "kernelspec": {
   "display_name": "Python 2",
   "language": "python",
   "name": "python2"
  },
  "language_info": {
   "codemirror_mode": {
    "name": "ipython",
    "version": 2
   },
   "file_extension": ".py",
   "mimetype": "text/x-python",
   "name": "python",
   "nbconvert_exporter": "python",
   "pygments_lexer": "ipython2",
   "version": "2.7.10"
  }
 },
 "nbformat": 4,
 "nbformat_minor": 2
}

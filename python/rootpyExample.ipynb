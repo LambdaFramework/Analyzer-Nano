{
 "cells": [
  {
   "cell_type": "code",
   "execution_count": 1,
   "metadata": {},
   "outputs": [
    {
     "name": "stdout",
     "output_type": "stream",
     "text": [
      "Automatically created module for IPython interactive environment\n",
      "Welcome to JupyROOT 6.12/06\n"
     ]
    },
    {
     "name": "stderr",
     "output_type": "stream",
     "text": [
      "/System/Library/Frameworks/Python.framework/Versions/2.7/lib/python2.7/inspect.py:253: RuntimeWarning: creating converter for unknown type \"_Atomic(bool)\"\n",
      "  value = getattr(object, key)\n",
      "INFO:rootpy.plotting.style] using ROOT style 'ATLAS'\n",
      "INFO:rootpy.plotting.style] using matplotlib style 'ATLAS'\n"
     ]
    },
    {
     "ename": "AttributeError",
     "evalue": "'module' object has no attribute 'to_rgba'",
     "output_type": "error",
     "traceback": [
      "\u001b[0;31m---------------------------------------------------------------------------\u001b[0m",
      "\u001b[0;31mAttributeError\u001b[0m                            Traceback (most recent call last)",
      "\u001b[0;32m<ipython-input-1-d82d6d9791ac>\u001b[0m in \u001b[0;36m<module>\u001b[0;34m()\u001b[0m\n\u001b[1;32m     82\u001b[0m \u001b[0;34m\u001b[0m\u001b[0m\n\u001b[1;32m     83\u001b[0m \u001b[0;31m#if not ROOT.gROOT.IsBatch():\u001b[0m\u001b[0;34m\u001b[0m\u001b[0;34m\u001b[0m\u001b[0m\n\u001b[0;32m---> 84\u001b[0;31m \u001b[0mplt\u001b[0m\u001b[0;34m.\u001b[0m\u001b[0mshow\u001b[0m\u001b[0;34m(\u001b[0m\u001b[0;34m)\u001b[0m\u001b[0;34m\u001b[0m\u001b[0m\n\u001b[0m\u001b[1;32m     85\u001b[0m     \u001b[0;31m# wait for you to close the ROOT canvas before exiting\u001b[0m\u001b[0;34m\u001b[0m\u001b[0;34m\u001b[0m\u001b[0m\n\u001b[1;32m     86\u001b[0m     \u001b[0;31m#wait(True)\u001b[0m\u001b[0;34m\u001b[0m\u001b[0;34m\u001b[0m\u001b[0m\n",
      "\u001b[0;32m/System/Library/Frameworks/Python.framework/Versions/2.7/Extras/lib/python/matplotlib/pyplot.pyc\u001b[0m in \u001b[0;36mshow\u001b[0;34m(*args, **kw)\u001b[0m\n\u001b[1;32m    143\u001b[0m     \"\"\"\n\u001b[1;32m    144\u001b[0m     \u001b[0;32mglobal\u001b[0m \u001b[0m_show\u001b[0m\u001b[0;34m\u001b[0m\u001b[0m\n\u001b[0;32m--> 145\u001b[0;31m     \u001b[0m_show\u001b[0m\u001b[0;34m(\u001b[0m\u001b[0;34m*\u001b[0m\u001b[0margs\u001b[0m\u001b[0;34m,\u001b[0m \u001b[0;34m**\u001b[0m\u001b[0mkw\u001b[0m\u001b[0;34m)\u001b[0m\u001b[0;34m\u001b[0m\u001b[0m\n\u001b[0m\u001b[1;32m    146\u001b[0m \u001b[0;34m\u001b[0m\u001b[0m\n\u001b[1;32m    147\u001b[0m \u001b[0;34m\u001b[0m\u001b[0m\n",
      "\u001b[0;32m/Users/shoh/Library/Python/2.7/lib/python/site-packages/ipykernel/pylab/backend_inline.pyc\u001b[0m in \u001b[0;36mshow\u001b[0;34m(close, block)\u001b[0m\n\u001b[1;32m     37\u001b[0m             display(\n\u001b[1;32m     38\u001b[0m                 \u001b[0mfigure_manager\u001b[0m\u001b[0;34m.\u001b[0m\u001b[0mcanvas\u001b[0m\u001b[0;34m.\u001b[0m\u001b[0mfigure\u001b[0m\u001b[0;34m,\u001b[0m\u001b[0;34m\u001b[0m\u001b[0m\n\u001b[0;32m---> 39\u001b[0;31m                 \u001b[0mmetadata\u001b[0m\u001b[0;34m=\u001b[0m\u001b[0m_fetch_figure_metadata\u001b[0m\u001b[0;34m(\u001b[0m\u001b[0mfigure_manager\u001b[0m\u001b[0;34m.\u001b[0m\u001b[0mcanvas\u001b[0m\u001b[0;34m.\u001b[0m\u001b[0mfigure\u001b[0m\u001b[0;34m)\u001b[0m\u001b[0;34m\u001b[0m\u001b[0m\n\u001b[0m\u001b[1;32m     40\u001b[0m             )\n\u001b[1;32m     41\u001b[0m     \u001b[0;32mfinally\u001b[0m\u001b[0;34m:\u001b[0m\u001b[0;34m\u001b[0m\u001b[0m\n",
      "\u001b[0;32m/Users/shoh/Library/Python/2.7/lib/python/site-packages/ipykernel/pylab/backend_inline.pyc\u001b[0m in \u001b[0;36m_fetch_figure_metadata\u001b[0;34m(fig)\u001b[0m\n\u001b[1;32m    172\u001b[0m     \u001b[0;34m\"\"\"Get some metadata to help with displaying a figure.\"\"\"\u001b[0m\u001b[0;34m\u001b[0m\u001b[0m\n\u001b[1;32m    173\u001b[0m     \u001b[0;31m# determine if a background is needed for legibility\u001b[0m\u001b[0;34m\u001b[0m\u001b[0;34m\u001b[0m\u001b[0m\n\u001b[0;32m--> 174\u001b[0;31m     \u001b[0;32mif\u001b[0m \u001b[0m_is_transparent\u001b[0m\u001b[0;34m(\u001b[0m\u001b[0mfig\u001b[0m\u001b[0;34m.\u001b[0m\u001b[0mget_facecolor\u001b[0m\u001b[0;34m(\u001b[0m\u001b[0;34m)\u001b[0m\u001b[0;34m)\u001b[0m\u001b[0;34m:\u001b[0m\u001b[0;34m\u001b[0m\u001b[0m\n\u001b[0m\u001b[1;32m    175\u001b[0m         \u001b[0;31m# the background is transparent\u001b[0m\u001b[0;34m\u001b[0m\u001b[0;34m\u001b[0m\u001b[0m\n\u001b[1;32m    176\u001b[0m         ticksLight = _is_light([label.get_color()\n",
      "\u001b[0;32m/Users/shoh/Library/Python/2.7/lib/python/site-packages/ipykernel/pylab/backend_inline.pyc\u001b[0m in \u001b[0;36m_is_transparent\u001b[0;34m(color)\u001b[0m\n\u001b[1;32m    193\u001b[0m \u001b[0;32mdef\u001b[0m \u001b[0m_is_transparent\u001b[0m\u001b[0;34m(\u001b[0m\u001b[0mcolor\u001b[0m\u001b[0;34m)\u001b[0m\u001b[0;34m:\u001b[0m\u001b[0;34m\u001b[0m\u001b[0m\n\u001b[1;32m    194\u001b[0m     \u001b[0;34m\"\"\"Determine transparency from alpha.\"\"\"\u001b[0m\u001b[0;34m\u001b[0m\u001b[0m\n\u001b[0;32m--> 195\u001b[0;31m     \u001b[0mrgba\u001b[0m \u001b[0;34m=\u001b[0m \u001b[0mcolors\u001b[0m\u001b[0;34m.\u001b[0m\u001b[0mto_rgba\u001b[0m\u001b[0;34m(\u001b[0m\u001b[0mcolor\u001b[0m\u001b[0;34m)\u001b[0m\u001b[0;34m\u001b[0m\u001b[0m\n\u001b[0m\u001b[1;32m    196\u001b[0m     \u001b[0;32mreturn\u001b[0m \u001b[0mrgba\u001b[0m\u001b[0;34m[\u001b[0m\u001b[0;36m3\u001b[0m\u001b[0;34m]\u001b[0m \u001b[0;34m<\u001b[0m \u001b[0;36m.5\u001b[0m\u001b[0;34m\u001b[0m\u001b[0m\n",
      "\u001b[0;31mAttributeError\u001b[0m: 'module' object has no attribute 'to_rgba'"
     ]
    }
   ],
   "source": [
    "print(__doc__)\n",
    "import ROOT\n",
    "import numpy as np\n",
    "from rootpy.plotting import Hist, HistStack, Legend, Canvas\n",
    "from rootpy.plotting.style import get_style, set_style\n",
    "from rootpy.plotting.utils import draw\n",
    "from rootpy.interactive import wait\n",
    "import rootpy.plotting.root2matplotlib as rplt\n",
    "import matplotlib.pyplot as plt\n",
    "from matplotlib.ticker import AutoMinorLocator, MultipleLocator\n",
    "\n",
    "# set the style\n",
    "style = get_style('ATLAS')\n",
    "style.SetEndErrorSize(3)\n",
    "set_style(style)\n",
    "\n",
    "# set the random seed\n",
    "ROOT.gRandom.SetSeed(42)\n",
    "np.random.seed(42)\n",
    "\n",
    "# signal distribution\n",
    "signal = 126 + 10 * np.random.randn(100)\n",
    "signal_obs = 126 + 10 * np.random.randn(100)\n",
    "\n",
    "# create histograms\n",
    "h1 = Hist(30, 40, 200, title='Background', markersize=0, legendstyle='F')\n",
    "h2 = h1.Clone(title='Signal')\n",
    "h3 = h1.Clone(title='Data', drawstyle='E1 X0', legendstyle='LEP')\n",
    "h3.markersize = 1.2\n",
    "\n",
    "# fill the histograms with our distributions\n",
    "h1.FillRandom('landau', 1000)\n",
    "map(h2.Fill, signal)\n",
    "h3.FillRandom('landau', 1000)\n",
    "map(h3.Fill, signal_obs)\n",
    "\n",
    "# set visual attributes\n",
    "h1.fillstyle = 'solid'\n",
    "h1.fillcolor = 'green'\n",
    "h1.linecolor = 'green'\n",
    "h1.linewidth = 0\n",
    "\n",
    "h2.fillstyle = 'solid'\n",
    "h2.fillcolor = 'red'\n",
    "h2.linecolor = 'red'\n",
    "h2.linewidth = 0\n",
    "\n",
    "stack = HistStack([h1, h2], drawstyle='HIST E1 X0')\n",
    "\n",
    "# plot with ROOT\n",
    "canvas = Canvas(width=700, height=500)\n",
    "draw([stack, h3], xtitle='Mass', ytitle='Events', pad=canvas)\n",
    "# set the number of expected legend entries\n",
    "legend = Legend([h1, h2, h3], leftmargin=0.45, margin=0.3)\n",
    "legend.Draw()\n",
    "label = ROOT.TText(0.3, 0.8, 'ROOT')\n",
    "label.SetTextFont(43)\n",
    "label.SetTextSize(25)\n",
    "label.SetNDC()\n",
    "label.Draw()\n",
    "canvas.Modified()\n",
    "canvas.Update()\n",
    "\n",
    "# plot with matplotlib\n",
    "%matplotlib inline\n",
    "set_style('ATLAS', mpl=True)\n",
    "fig = plt.figure(figsize=(7, 5), dpi=100)\n",
    "axes = plt.axes()\n",
    "axes.xaxis.set_minor_locator(AutoMinorLocator())\n",
    "axes.yaxis.set_minor_locator(AutoMinorLocator())\n",
    "axes.yaxis.set_major_locator(MultipleLocator(20))\n",
    "rplt.bar(stack, stacked=True, axes=axes)\n",
    "rplt.errorbar(h3, xerr=False, emptybins=False, axes=axes)\n",
    "plt.xlabel('Mass', position=(1., 0.), va='bottom', ha='right')\n",
    "plt.ylabel('Events', position=(0., 1.), va='top', ha='right')\n",
    "axes.xaxis.set_label_coords(1., -0.20)\n",
    "axes.yaxis.set_label_coords(-0.18, 1.)\n",
    "leg = plt.legend()\n",
    "axes.text(0.3, 0.8, 'matplotlib',\n",
    "          verticalalignment='center', horizontalalignment='center',\n",
    "          transform=axes.transAxes, fontsize=20)\n",
    "\n",
    "#if not ROOT.gROOT.IsBatch():\n",
    "plt.show()\n",
    "    # wait for you to close the ROOT canvas before exiting\n",
    "    #wait(True)"
   ]
  },
  {
   "cell_type": "code",
   "execution_count": null,
   "metadata": {},
   "outputs": [],
   "source": [
    "\n",
    "plt.show()"
   ]
  },
  {
   "cell_type": "code",
   "execution_count": null,
   "metadata": {},
   "outputs": [],
   "source": []
  }
 ],
 "metadata": {
  "kernelspec": {
   "display_name": "Python 2",
   "language": "python",
   "name": "python2"
  },
  "language_info": {
   "codemirror_mode": {
    "name": "ipython",
    "version": 2
   },
   "file_extension": ".py",
   "mimetype": "text/x-python",
   "name": "python",
   "nbconvert_exporter": "python",
   "pygments_lexer": "ipython2",
   "version": "2.7.10"
  }
 },
 "nbformat": 4,
 "nbformat_minor": 2
}

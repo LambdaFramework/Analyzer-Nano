{
 "cells": [
  {
   "cell_type": "code",
   "execution_count": 1,
   "metadata": {
    "ExecuteTime": {
     "end_time": "2018-11-12T00:11:37.494003Z",
     "start_time": "2018-11-12T00:11:34.780692Z"
    }
   },
   "outputs": [
    {
     "name": "stdout",
     "output_type": "stream",
     "text": [
      "Welcome to JupyROOT 6.12/06\n"
     ]
    },
    {
     "data": {
      "text/plain": [
       "0L"
      ]
     },
     "execution_count": 1,
     "metadata": {},
     "output_type": "execute_result"
    }
   ],
   "source": [
    "import os, multiprocessing, sys\n",
    "import copy\n",
    "import math\n",
    "from array import array\n",
    "from ROOT import ROOT, gROOT, gStyle, gRandom, TSystemDirectory\n",
    "from ROOT import TFile, TChain, TTree, TCut, TH1, TH1F, TH2F, THStack, TGraph, TGraphAsymmErrors\n",
    "from ROOT import TStyle, TCanvas, TPad\n",
    "from ROOT import TLegend, TLatex, TText, TLine, TBox\n",
    "import time\n",
    "#%jsroot on\n",
    "cwd=os.getcwd()\n",
    "sys.path.append(cwd+\"/Utils/\")\n",
    "\n",
    "from drawLambda import *\n",
    "from variables import *\n",
    "from selections_SSLep import *\n",
    "from samplesVH import *\n",
    "\n",
    "gROOT.SetBatch(True)\n",
    "gStyle.SetOptStat(0)\n",
    "gROOT.Macro('functions.C')"
   ]
  },
  {
   "cell_type": "code",
   "execution_count": 2,
   "metadata": {
    "ExecuteTime": {
     "end_time": "2018-11-12T00:11:37.514453Z",
     "start_time": "2018-11-12T00:11:37.501283Z"
    }
   },
   "outputs": [],
   "source": [
    "NTUPLEDIR   = \"/Users/shoh/Projects/CMS/PhD/Analysis/SSL/datav8-skim/\"\n",
    "LUMI        = 35800. # pb-1                                                                                                                \n",
    "data = [\"data_obs\"]\n",
    "#back = [ \"DYJetsToLL\" , \"WJetsToLNu\" , \"TTbar-DiLep\" , \"ST\" , \"TTbar-SL\" , \"WZ\" , \"WW\" , \"ttV\" ]                                                 \n",
    "back        = [ \"ttV\" , \"VV\" , \"TTbar-SL\", \"ST\", \"TTbar-DiLep\", \"WJetsToLNu\" , \"DYJetsToLL\" ]\n",
    "sign=[]\n",
    "BLIND=False\n",
    "POISSON= False\n",
    "SIGNAL      = 1.\n",
    "RATIO       = 4\n",
    "jobs        = []"
   ]
  },
  {
   "cell_type": "code",
   "execution_count": 3,
   "metadata": {
    "ExecuteTime": {
     "end_time": "2018-11-12T00:11:37.539949Z",
     "start_time": "2018-11-12T00:11:37.520886Z"
    }
   },
   "outputs": [
    {
     "name": "stdout",
     "output_type": "stream",
     "text": [
      "(HLT_IsoMu22 || HLT_IsoMu22_eta2p1 || HLT_IsoTkMu22_eta2p1 || HLT_IsoMu24 || HLT_IsoTkMu24 || HLT_Mu45_eta2p1 || HLT_Mu50) && (( (HLT_IsoMu22 || HLT_IsoMu22_eta2p1 || HLT_IsoTkMu22_eta2p1 || HLT_IsoMu24 || HLT_IsoTkMu24 || HLT_Mu45_eta2p1 || HLT_Mu50) ) && ( (( 1==1 ) && ( (Muon_charge[0]!=Muon_charge[1]) && Muon_pt[0]>17 && Muon_pt[1]>8 && Muon_pfRelIso03_all[0]<0.15 && Muon_pfRelIso03_all[1]<0.15 )) ))\n"
     ]
    }
   ],
   "source": [
    "var=\"Zmass\"\n",
    "cutchoice=\"OSmumu\"\n",
    "TRIGGER=muonTrigger\n",
    "cut=TRIGGER+\" && \"+selection[cutchoice]\n",
    "print cut\n",
    "pd = getPrimaryDataset(cut)"
   ]
  },
  {
   "cell_type": "code",
   "execution_count": 4,
   "metadata": {
    "ExecuteTime": {
     "end_time": "2018-11-12T00:11:37.693617Z",
     "start_time": "2018-11-12T00:11:37.547217Z"
    }
   },
   "outputs": [],
   "source": [
    "def plot(vv, ss, PD):\n",
    "    \n",
    "    if vv==\"Zmass\":\n",
    "        vvv=\"invariantMass(Muon_pt[0], Muon_eta[0], Muon_phi[0], Muon_mass[0], Muon_pt[1], Muon_eta[1], Muon_phi[1], Muon_mass[1])\"\n",
    "    elif vv==\"Zpt\":\n",
    "        vvv=\"invariantMassPt(Muon_pt[0], Muon_eta[0], Muon_phi[0], Muon_mass[0], Muon_pt[1], Muon_eta[1], Muon_phi[1], Muon_mass[1])\"\n",
    "    else:\n",
    "        vvv=vv\n",
    "    \n",
    "    histcarrier={}\n",
    "    histlet={}\n",
    "    if not BLIND:\n",
    "        processes=data+back\n",
    "    elif BLIND:\n",
    "        processes=back\n",
    "\n",
    "    for TAG in (processes):\n",
    "        #print \"TAG: \", TAG\n",
    "        ENUMLIST=[]\n",
    "        if 'data' in TAG:\n",
    "            for datalet in (samples['%s' %TAG]['files']):\n",
    "                if datalet in pd:\n",
    "                    ENUMLIST.append(datalet)\n",
    "        elif not 'data' in TAG:\n",
    "            ENUMLIST=samples['%s' %TAG]['files']\n",
    "     \n",
    "        for num, bkgs in enumerate(ENUMLIST):\n",
    "         \n",
    "            #print num, bkgs\n",
    "            f = TFile.Open(NTUPLEDIR+bkgs+\".root\",\"READ\")\n",
    "            tree = f.Get(\"Events\")\n",
    "            gROOT.cd()\n",
    "            #Define histograms\n",
    "            if not 'data' in TAG:\n",
    "                nevents = sample[bkgs]['nevents']\n",
    "                xs = sample[bkgs]['xsec']\n",
    "                LumiMC = nevents/xs\n",
    "                Weight = float(LUMI) / float(LumiMC)\n",
    "        \n",
    "            if num==0:\n",
    "                if variable[vv]['nbins']>0: histlet[TAG] = TH1F(bkgs, \";\"+variable[vv]['title'], variable[vv]['nbins'], variable[var]['min'\\\n",
    "], variable[vv]['max'])\n",
    "                else: histlet[TAG]=TH1F(bkgs,\";\"+variable[vv]['title'], len(variable[vv]['bins'])-1, array('f', variable[var]['bins']))\n",
    "                histlet[TAG].Sumw2()\n",
    "                if 'data' in TAG:\n",
    "                    print \"DATA, NO HLT : \", bkgs\n",
    "                    subcut= ss.replace(TRIGGER,\"(1==1)\")\n",
    "                    tree.Draw(\"%s >> %s\" %(vvv,bkgs),\"%s\" %subcut)\n",
    "                elif not 'data' in TAG:\n",
    "                    print \"MC, With HLT\"\n",
    "                    tree.Draw(\"%s >> %s\" %(vvv,bkgs),\"%s*(%s)\" %(Weight,ss))\n",
    "                #print histlet[TAG].Print()\n",
    "            elif num>0:\n",
    "                if variable[vv]['nbins']>0: histcarrier[bkgs] = TH1F(bkgs, \";\"+variable[vv]['title'], variable[vv]['nbins'], variable[vv][\\\n",
    "'min'], variable[vv]['max'])\n",
    "                else: histcarrier[bkgs]=TH1F(bkgs,\";\"+variable[vv]['title'], len(variable[vv]['bins'])-1, array('f', variable[vv]['bins']))\n",
    "                histcarrier[bkgs].Sumw2()\n",
    "                if 'data' in TAG:\n",
    "                    #print \"DATA, NO HLT : \", bkgs\n",
    "                    subcut= ss.replace(TRIGGER,\"(1==1)\")\n",
    "                    tree.Draw(\"%s >> %s\" %(vvv,bkgs),\"%s\" %subcut)\n",
    "                elif not 'data' in TAG:\n",
    "                    #print \"MC, With HLT\"\n",
    "                    tree.Draw(\"%s >> %s\" %(vvv,bkgs),\"%s*(%s)\" %(Weight,ss))\n",
    "                hnew = histcarrier[bkgs].Clone(bkgs)\n",
    "                histlet[TAG].Add(hnew)\n",
    "        histlet[TAG].SetFillColor(samples[TAG]['fillcolor'])\n",
    "        histlet[TAG].SetFillStyle(samples[TAG]['fillstyle'])\n",
    "        histlet[TAG].SetLineColor(samples[TAG]['linecolor'])\n",
    "        histlet[TAG].SetLineStyle(samples[TAG]['linestyle'])\n",
    "    #return histlet\n",
    "    \n",
    "    if len(back)>0:\n",
    "        histlet['BkgSum'] = histlet['data_obs'].Clone(\"BkgSum\") if 'data_obs' in histlet else histlet[back[0]].Clone(\"BkgSum\")\n",
    "        histlet['BkgSum'].Reset(\"MICES\")\n",
    "        histlet['BkgSum'].SetFillStyle(3003)\n",
    "        histlet['BkgSum'].SetFillColor(1)\n",
    "        for i, s in enumerate(back): histlet['BkgSum'].Add(histlet[s])\n",
    "    #return histlet\n",
    "    \n",
    "    if len(back)==0 and len(data)==0:\n",
    "        for i, s in enumerate(sign):\n",
    "            histlet[s].Scale(1./histlet[s].Integral())\n",
    "            histlet[s].SetFillStyle(0)\n",
    "    if len(data+back)>0:\n",
    "        out = draw(histlet, data if not BLIND else [], back, sign, SIGNAL, RATIO, POISSON, variable[var]['log'])\n",
    "    else:\n",
    "        out = drawSignal(histlet, sign, variable[var]['log'])\n",
    "    out[0].cd(1)\n",
    "    if len(data+back)>0:\n",
    "        drawCMS(LUMI, \"Preliminary\")\n",
    "    else:\n",
    "        drawCMS(LUMI, \"Simulation\")\n",
    "    out[0].Update()\n",
    "    \n",
    "    #for process in histlet:\n",
    "     #   histlet[process].Delete()\n",
    "\n",
    "    return out"
   ]
  },
  {
   "cell_type": "code",
   "execution_count": 5,
   "metadata": {
    "ExecuteTime": {
     "end_time": "2018-11-12T00:12:57.112110Z",
     "start_time": "2018-11-12T00:11:37.700183Z"
    }
   },
   "outputs": [
    {
     "name": "stdout",
     "output_type": "stream",
     "text": [
      "DATA, NO HLT :  SingleMuonRun2016B-03Feb2017_ver1-v1\n",
      "MC, With HLT\n",
      "MC, With HLT\n",
      "MC, With HLT\n",
      "MC, With HLT\n",
      "MC, With HLT\n",
      "MC, With HLT\n",
      "MC, With HLT\n",
      "  Ratio:\t1.149 +- 0.002\n"
     ]
    },
    {
     "name": "stderr",
     "output_type": "stream",
     "text": [
      "Info in <TCanvas::MakeDefCanvas>:  created default TCanvas with name c1\n",
      "Warning in <TCanvas::Constructor>: Deleting canvas with same name: c1\n",
      "Info in <TH1F::Chi2TestX>: There is a bin in h2 with less than 10 effective events.\n",
      "\n"
     ]
    },
    {
     "data": {
      "image/png": "[encoded data removed]",
      "text/plain": [
       "<IPython.core.display.Image object>"
      ]
     },
     "metadata": {},
     "output_type": "display_data"
    }
   ],
   "source": [
    "canvas=plot(var, cut, pd)\n",
    "canvas[0].Draw()"
   ]
  }
 ],
 "metadata": {
  "kernelspec": {
   "display_name": "Python 2",
   "language": "python",
   "name": "python2"
  },
  "language_info": {
   "codemirror_mode": {
    "name": "ipython",
    "version": 2
   },
   "file_extension": ".py",
   "mimetype": "text/x-python",
   "name": "python",
   "nbconvert_exporter": "python",
   "pygments_lexer": "ipython2",
   "version": "2.7.10"
  },
  "varInspector": {
   "cols": {
    "lenName": 16,
    "lenType": 16,
    "lenVar": 40
   },
   "kernels_config": {
    "python": {
     "delete_cmd_postfix": "",
     "delete_cmd_prefix": "del ",
     "library": "var_list.py",
     "varRefreshCmd": "print(var_dic_list())"
    },
    "r": {
     "delete_cmd_postfix": ") ",
     "delete_cmd_prefix": "rm(",
     "library": "var_list.r",
     "varRefreshCmd": "cat(var_dic_list()) "
    }
   },
   "types_to_exclude": [
    "module",
    "function",
    "builtin_function_or_method",
    "instance",
    "_Feature"
   ],
   "window_display": false
  }
 },
 "nbformat": 4,
 "nbformat_minor": 2
}

{
 "cells": [
  {
   "cell_type": "markdown",
   "metadata": {},
   "source": [
    "# Simple Plotter"
   ]
  },
  {
   "cell_type": "code",
   "execution_count": 1,
   "metadata": {
    "ExecuteTime": {
     "end_time": "2018-11-19T15:40:03.692519Z",
     "start_time": "2018-11-19T15:40:00.896072Z"
    }
   },
   "outputs": [
    {
     "name": "stdout",
     "output_type": "stream",
     "text": [
      "Welcome to JupyROOT 6.12/06\n"
     ]
    }
   ],
   "source": [
    "import os, multiprocessing, sys\n",
    "import copy\n",
    "import math\n",
    "from array import array\n",
    "from ROOT import ROOT, gROOT, gStyle, gRandom, TSystemDirectory\n",
    "from ROOT import TFile, TChain, TTree, TCut, TH1, TH1F, TH2F, THStack, TGraph, TGraphAsymmErrors\n",
    "from ROOT import TStyle, TCanvas, TPad\n",
    "from ROOT import TLegend, TLatex, TText, TLine, TBox\n",
    "import time\n",
    "\n",
    "cwd=os.getcwd()\n",
    "sys.path.append(cwd+\"/Utils/\")\n",
    "\n",
    "from drawLambda import *\n",
    "from variables import *\n",
    "from selections_SSLep import *\n",
    "from samplesVH import *\n",
    "\n",
    "gROOT.SetBatch(True)\n",
    "gStyle.SetOptStat(0)\n",
    "gROOT.Macro('functions.C')\n",
    "%jsroot"
   ]
  },
  {
   "cell_type": "markdown",
   "metadata": {},
   "source": [
    "# Environment Path and Options"
   ]
  },
  {
   "cell_type": "code",
   "execution_count": 2,
   "metadata": {
    "ExecuteTime": {
     "end_time": "2018-11-19T15:40:03.714307Z",
     "start_time": "2018-11-19T15:40:03.697663Z"
    }
   },
   "outputs": [],
   "source": [
    "#NTUPLEDIR   = \"/Users/shoh/Projects/CMS/PhD/Analysis/SSL/datav8-skim/\"\n",
    "#####NTUPLEDIR   = \"/Users/shoh/Projects/CMS/PhD/Analysis/SSL/VHv9-skim_reprocess/\"\n",
    "#NTUPLEDIR   = \"/Users/shoh/Projects/CMS/PhD/Analysis/SSL/dataset-v09-VH-reprocess/\"\n",
    "NTUPLEDIR   = \"/Users/shoh/Projects/CMS/PhD/Analysis/SSL/dataset-v10-VH/\"\n",
    "LUMI        = 35800. # pb-1                                                                                                                \n",
    "data = [\"data_obs\"]\n",
    "#back = [ \"ttV\", \"WJetsToLNu\", \"TTbar-SL\", \"WW\", \"WZ\", \"ST\", \"TTbar-DiLep\", \"DYJetsToLL_Pt\" ]   #DYJetsToLL                                              \n",
    "back = [ \"ttV\" ,\"VV\", \"VVV\", \"WJetsToLNu_HT\" , \"TTbar-SL\", \"ST\", \"TTbar-DiLep\" , \"DYJetsToLL\" ] #WJetsToLNu, \"VVV\"\n",
    "sign=[]\n",
    "BLIND=False\n",
    "POISSON= False\n",
    "SIGNAL      = 1.\n",
    "RATIO       = 4\n",
    "jobs        = []"
   ]
  },
  {
   "cell_type": "markdown",
   "metadata": {},
   "source": [
    "# Selection option"
   ]
  },
  {
   "cell_type": "code",
   "execution_count": 3,
   "metadata": {
    "ExecuteTime": {
     "end_time": "2018-11-19T15:40:04.919737Z",
     "start_time": "2018-11-19T15:40:03.721807Z"
    }
   },
   "outputs": [
    {
     "name": "stdout",
     "output_type": "stream",
     "text": [
      "CHOOSE SELECTION\n"
     ]
    },
    {
     "data": {
      "text/html": [
       "<div>\n",
       "<style>\n",
       "    .dataframe thead tr:only-child th {\n",
       "        text-align: right;\n",
       "    }\n",
       "\n",
       "    .dataframe thead th {\n",
       "        text-align: left;\n",
       "    }\n",
       "\n",
       "    .dataframe tbody tr th {\n",
       "        vertical-align: top;\n",
       "    }\n",
       "</style>\n",
       "<table border=\"1\" class=\"dataframe\">\n",
       "  <thead>\n",
       "    <tr style=\"text-align: right;\">\n",
       "      <th></th>\n",
       "      <th>Selection Region</th>\n",
       "      <th>Description</th>\n",
       "    </tr>\n",
       "  </thead>\n",
       "  <tbody>\n",
       "    <tr>\n",
       "      <th>0</th>\n",
       "      <td>OSemu</td>\n",
       "      <td>(( (HLT_IsoMu22 || HLT_IsoMu22_eta2p1 || HLT_IsoTkMu22_eta2p1 || HLT_IsoMu24 || HLT_IsoTkMu24 || HLT_Mu45_eta2p1 || HLT_Mu50) ) &amp;&amp; ( (( 1==1 &amp;&amp; cleanedJet==1 ) &amp;&amp; ( (Muon_charge[0]!=Electron_charge[0]) &amp;&amp; Muon_pt[0]&gt;27 &amp;&amp; Electron_pt[0]&gt;25 &amp;&amp; Muon_pfRelIso03_all[0]&lt;0.1 &amp;&amp; Muon_mediumId[0]&gt;0 &amp;&amp; Electron_cutBased[0]&gt;0 &amp;&amp; Electron_pfRelIso03_all[0]&lt;0.1 )) ))</td>\n",
       "    </tr>\n",
       "    <tr>\n",
       "      <th>1</th>\n",
       "      <td>SSmumu2b</td>\n",
       "      <td>(( (HLT_IsoMu22 || HLT_IsoMu22_eta2p1 || HLT_IsoTkMu22_eta2p1 || HLT_IsoMu24 || HLT_IsoTkMu24 || HLT_Mu45_eta2p1 || HLT_Mu50) ) &amp;&amp; ( (( 1==1 &amp;&amp; cleanedJet==1 ) &amp;&amp; ( (Muon_charge[0]==Muon_charge[1]) &amp;&amp; Muon_pt[0]&gt;25 &amp;&amp; Muon_pt[1]&gt;15 &amp;&amp; Muon_pfRelIso03_all[0]&lt;0.1 &amp;&amp; Jet_btagCSVV2[1]&gt;0.8 )) ))</td>\n",
       "    </tr>\n",
       "    <tr>\n",
       "      <th>2</th>\n",
       "      <td>Trigger</td>\n",
       "      <td>(( (HLT_IsoMu22 || HLT_IsoMu22_eta2p1 || HLT_IsoTkMu22_eta2p1 || HLT_IsoMu24 || HLT_IsoTkMu24 || HLT_Mu45_eta2p1 || HLT_Mu50) ) &amp;&amp; ( 1==1 ))</td>\n",
       "    </tr>\n",
       "    <tr>\n",
       "      <th>3</th>\n",
       "      <td>OSmumu</td>\n",
       "      <td>(( (HLT_IsoMu22 || HLT_IsoMu22_eta2p1 || HLT_IsoTkMu22_eta2p1 || HLT_IsoMu24 || HLT_IsoTkMu24 || HLT_Mu45_eta2p1 || HLT_Mu50) ) &amp;&amp; ( (( 1==1 &amp;&amp; cleanedJet==1 ) &amp;&amp; ( (Muon_charge[0]!=Muon_charge[1]) &amp;&amp; Muon_pt[0]&gt;17 &amp;&amp; Muon_pt[1]&gt;8 &amp;&amp; Muon_mediumId[0]&gt;0 &amp;&amp; Muon_mediumId[1]&gt;0 &amp;&amp; Muon_pfRelIso03_all[0]&lt;0.15 &amp;&amp; Muon_pfRelIso03_all[1]&lt;0.15 )) ))</td>\n",
       "    </tr>\n",
       "    <tr>\n",
       "      <th>4</th>\n",
       "      <td>SSmumu</td>\n",
       "      <td>(( (HLT_IsoMu22 || HLT_IsoMu22_eta2p1 || HLT_IsoTkMu22_eta2p1 || HLT_IsoMu24 || HLT_IsoTkMu24 || HLT_Mu45_eta2p1 || HLT_Mu50) ) &amp;&amp; ( (( 1==1 &amp;&amp; cleanedJet==1 ) &amp;&amp; ( (Muon_charge[0]==Muon_charge[1]) &amp;&amp; Muon_pt[0]&gt;25 &amp;&amp; Muon_pt[1]&gt;15 &amp;&amp; Muon_pfRelIso03_all[0]&lt;0.1 )) ))</td>\n",
       "    </tr>\n",
       "    <tr>\n",
       "      <th>5</th>\n",
       "      <td>SSmumu1b</td>\n",
       "      <td>(( (HLT_IsoMu22 || HLT_IsoMu22_eta2p1 || HLT_IsoTkMu22_eta2p1 || HLT_IsoMu24 || HLT_IsoTkMu24 || HLT_Mu45_eta2p1 || HLT_Mu50) ) &amp;&amp; ( (( 1==1 &amp;&amp; cleanedJet==1 ) &amp;&amp; ( (Muon_charge[0]==Muon_charge[1]) &amp;&amp; Muon_pt[0]&gt;25 &amp;&amp; Muon_pt[1]&gt;15 &amp;&amp; Muon_pfRelIso03_all[0]&lt;0.1 &amp;&amp; Jet_btagCSVV2[0]&gt;0.8 )) ))</td>\n",
       "    </tr>\n",
       "    <tr>\n",
       "      <th>6</th>\n",
       "      <td>DiLepTT</td>\n",
       "      <td>(( (( (HLT_IsoMu22 || HLT_IsoMu22_eta2p1 || HLT_IsoTkMu22_eta2p1 || HLT_IsoMu24 || HLT_IsoTkMu24 || HLT_Mu45_eta2p1 || HLT_Mu50) ) &amp;&amp; ( (( 1==1 &amp;&amp; cleanedJet==1 ) &amp;&amp; ( Muon_pt[0]&gt;24 &amp;&amp; Electron_pt[0]&gt;20 )) )) ) &amp;&amp; ( invariantMass(Electron_pt[0], Electron_eta[0], Electron_phi[0], Electron_mass[0], Muon_pt[0], Muon_eta[0], Muon_phi[0], Muon_mass[0])&gt;15 ))</td>\n",
       "    </tr>\n",
       "    <tr>\n",
       "      <th>7</th>\n",
       "      <td>OSee</td>\n",
       "      <td>(( (HLT_Ele25_WPTight_Gsf || HLT_Ele27_eta2p1_WPLoose_Gsf || HLT_Ele105_CaloIdVT_GsfTrkIdT) ) &amp;&amp; ( (( 1==1 &amp;&amp; cleanedJet==1 ) &amp;&amp; ( (Electron_charge[0]!=Electron_charge[1]) &amp;&amp; Electron_pt[0]&gt;25 &amp;&amp; Electron_pt[1]&gt;17 &amp;&amp; Electron_pfRelIso03_all[0]&lt;0.1 &amp;&amp; Electron_pfRelIso03_all[1]&lt;0.1 )) ))</td>\n",
       "    </tr>\n",
       "  </tbody>\n",
       "</table>\n",
       "</div>"
      ],
      "text/plain": [
       "  Selection Region  \\\n",
       "0            OSemu   \n",
       "1         SSmumu2b   \n",
       "2          Trigger   \n",
       "3           OSmumu   \n",
       "4           SSmumu   \n",
       "5         SSmumu1b   \n",
       "6          DiLepTT   \n",
       "7             OSee   \n",
       "\n",
       "                                                                                                                                                                                                                                                                                                                                                             Description  \n",
       "0  (( (HLT_IsoMu22 || HLT_IsoMu22_eta2p1 || HLT_IsoTkMu22_eta2p1 || HLT_IsoMu24 || HLT_IsoTkMu24 || HLT_Mu45_eta2p1 || HLT_Mu50) ) && ( (( 1==1 && cleanedJet==1 ) && ( (Muon_charge[0]!=Electron_charge[0]) && Muon_pt[0]>27 && Electron_pt[0]>25 && Muon_pfRelIso03_all[0]<0.1 && Muon_mediumId[0]>0 && Electron_cutBased[0]>0 && Electron_pfRelIso03_all[0]<0.1 )) ))  \n",
       "1                                                                    (( (HLT_IsoMu22 || HLT_IsoMu22_eta2p1 || HLT_IsoTkMu22_eta2p1 || HLT_IsoMu24 || HLT_IsoTkMu24 || HLT_Mu45_eta2p1 || HLT_Mu50) ) && ( (( 1==1 && cleanedJet==1 ) && ( (Muon_charge[0]==Muon_charge[1]) && Muon_pt[0]>25 && Muon_pt[1]>15 && Muon_pfRelIso03_all[0]<0.1 && Jet_btagCSVV2[1]>0.8 )) ))  \n",
       "2                                                                                                                                                                                                                           (( (HLT_IsoMu22 || HLT_IsoMu22_eta2p1 || HLT_IsoTkMu22_eta2p1 || HLT_IsoMu24 || HLT_IsoTkMu24 || HLT_Mu45_eta2p1 || HLT_Mu50) ) && ( 1==1 ))  \n",
       "3                 (( (HLT_IsoMu22 || HLT_IsoMu22_eta2p1 || HLT_IsoTkMu22_eta2p1 || HLT_IsoMu24 || HLT_IsoTkMu24 || HLT_Mu45_eta2p1 || HLT_Mu50) ) && ( (( 1==1 && cleanedJet==1 ) && ( (Muon_charge[0]!=Muon_charge[1]) && Muon_pt[0]>17 && Muon_pt[1]>8 && Muon_mediumId[0]>0 && Muon_mediumId[1]>0 && Muon_pfRelIso03_all[0]<0.15 && Muon_pfRelIso03_all[1]<0.15 )) ))  \n",
       "4                                                                                            (( (HLT_IsoMu22 || HLT_IsoMu22_eta2p1 || HLT_IsoTkMu22_eta2p1 || HLT_IsoMu24 || HLT_IsoTkMu24 || HLT_Mu45_eta2p1 || HLT_Mu50) ) && ( (( 1==1 && cleanedJet==1 ) && ( (Muon_charge[0]==Muon_charge[1]) && Muon_pt[0]>25 && Muon_pt[1]>15 && Muon_pfRelIso03_all[0]<0.1 )) ))  \n",
       "5                                                                    (( (HLT_IsoMu22 || HLT_IsoMu22_eta2p1 || HLT_IsoTkMu22_eta2p1 || HLT_IsoMu24 || HLT_IsoTkMu24 || HLT_Mu45_eta2p1 || HLT_Mu50) ) && ( (( 1==1 && cleanedJet==1 ) && ( (Muon_charge[0]==Muon_charge[1]) && Muon_pt[0]>25 && Muon_pt[1]>15 && Muon_pfRelIso03_all[0]<0.1 && Jet_btagCSVV2[0]>0.8 )) ))  \n",
       "6    (( (( (HLT_IsoMu22 || HLT_IsoMu22_eta2p1 || HLT_IsoTkMu22_eta2p1 || HLT_IsoMu24 || HLT_IsoTkMu24 || HLT_Mu45_eta2p1 || HLT_Mu50) ) && ( (( 1==1 && cleanedJet==1 ) && ( Muon_pt[0]>24 && Electron_pt[0]>20 )) )) ) && ( invariantMass(Electron_pt[0], Electron_eta[0], Electron_phi[0], Electron_mass[0], Muon_pt[0], Muon_eta[0], Muon_phi[0], Muon_mass[0])>15 ))  \n",
       "7                                                                        (( (HLT_Ele25_WPTight_Gsf || HLT_Ele27_eta2p1_WPLoose_Gsf || HLT_Ele105_CaloIdVT_GsfTrkIdT) ) && ( (( 1==1 && cleanedJet==1 ) && ( (Electron_charge[0]!=Electron_charge[1]) && Electron_pt[0]>25 && Electron_pt[1]>17 && Electron_pfRelIso03_all[0]<0.1 && Electron_pfRelIso03_all[1]<0.1 )) ))  "
      ]
     },
     "metadata": {},
     "output_type": "display_data"
    }
   ],
   "source": [
    "import pandas as pd\n",
    "from collections import OrderedDict\n",
    "from IPython.display import display, HTML\n",
    "pd.set_option('display.max_colwidth',10000)\n",
    "ALLTABLE={}\n",
    "TABLE=[]\n",
    "#Selection=['OSSF','OSOF','SSSF','SSOF']\n",
    "for sel in selection:\n",
    "    TABLE.append(OrderedDict({\n",
    "        'Selection Region' : sel,\n",
    "        'Description' : selection[sel]\n",
    "    }))\n",
    "\n",
    "ALLTABLE=pd.DataFrame(TABLE)\n",
    "print \"CHOOSE SELECTION\"\n",
    "display(ALLTABLE)"
   ]
  },
  {
   "cell_type": "code",
   "execution_count": 4,
   "metadata": {
    "ExecuteTime": {
     "end_time": "2018-11-19T15:40:04.952668Z",
     "start_time": "2018-11-19T15:40:04.925997Z"
    }
   },
   "outputs": [
    {
     "name": "stdout",
     "output_type": "stream",
     "text": [
      "Selected (( (HLT_IsoMu22 || HLT_IsoMu22_eta2p1 || HLT_IsoTkMu22_eta2p1 || HLT_IsoMu24 || HLT_IsoTkMu24 || HLT_Mu45_eta2p1 || HLT_Mu50) ) && ( (( 1==1 && cleanedJet==1 ) && ( (Muon_charge[0]!=Electron_charge[0]) && Muon_pt[0]>27 && Electron_pt[0]>25 && Muon_pfRelIso03_all[0]<0.1 && Muon_mediumId[0]>0 && Electron_cutBased[0]>0 && Electron_pfRelIso03_all[0]<0.1 )) ))\n"
     ]
    }
   ],
   "source": [
    "#var=\"MHTju_pt\"\n",
    "#var=\"Jet_jetId[0]\"\n",
    "var=\"Zmass\"\n",
    "#var=\"nJet\"\n",
    "#var=\"nElectron\"\n",
    "cr=\"OSemu\"\n",
    "#cr=\"Trigger\"\n",
    "#cut=selection[cr]\n",
    "primaryDataset = getPrimaryDataset(selection[cr])\n",
    "print \"Selected\", selection[cr]"
   ]
  },
  {
   "cell_type": "code",
   "execution_count": 5,
   "metadata": {
    "ExecuteTime": {
     "end_time": "2018-11-19T15:52:30.800913Z",
     "start_time": "2018-11-19T15:40:04.959678Z"
    },
    "scrolled": true
   },
   "outputs": [
    {
     "name": "stdout",
     "output_type": "stream",
     "text": [
      "\u001b[92mZmass: \u001b[0mInv( \u001b[92mElectron^(+/-)\u001b[0m , \u001b[91mMuon^(-/+)\u001b[0m )\n",
      "VAR =  invariantMass(Electron_pt[0], Electron_eta[0], Electron_phi[0], Electron_mass[0], Muon_pt[0], Muon_eta[0], Muon_phi[0], Muon_mass[0])\n",
      "\u001b[94mDATA, NO HLT :  SingleMuonRun2016B-03Feb2017_ver1-v1\u001b[0m\n",
      "\u001b[94mDATA, NO HLT :  SingleMuonRun2016B-03Feb2017_ver2-v2\u001b[0m\n",
      "\u001b[94mDATA, NO HLT :  SingleMuonRun2016C-03Feb2017-v1\u001b[0m\n",
      "\u001b[94mDATA, NO HLT :  SingleMuonRun2016D-03Feb2017-v1\u001b[0m\n",
      "\u001b[94mDATA, NO HLT :  SingleMuonRun2016E-03Feb2017-v1\u001b[0m\n",
      "\u001b[94mDATA, NO HLT :  SingleMuonRun2016F-03Feb2017-v1\u001b[0m\n",
      "\u001b[94mDATA, NO HLT :  SingleMuonRun2016G-03Feb2017-v1\u001b[0m\n",
      "\u001b[94mDATA, NO HLT :  SingleMuonRun2016H-03Feb2017_ver2-v1\u001b[0m\n",
      "\u001b[94mDATA, NO HLT :  SingleMuonRun2016H-03Feb2017_ver3-v1\u001b[0m\n",
      "\u001b[35mMC, With HLT :  TTWJetsToLNu_TuneCUETP8M1_13TeV-amcatnloFXFX-madspin-pythia8_ext1-v3\u001b[0m\n",
      "\u001b[35mMC, With HLT :  TTZToLLNuNu_M-10_TuneCUETP8M1_13TeV-amcatnlo-pythia8_ext1-v1\u001b[0m\n",
      "\u001b[35mMC, With HLT :  ttHToNonbb_M125_TuneCUETP8M2_ttHtranche3_13TeV-powheg-pythia8-v1\u001b[0m\n",
      "\u001b[35mMC, With HLT :  WW_TuneCUETP8M1_13TeV-pythia8_ext1-v1\u001b[0m\n",
      "\u001b[35mMC, With HLT :  WZTo3LNu_TuneCUETP8M1_13TeV-powheg-pythia8-v1\u001b[0m\n",
      "\u001b[35mMC, With HLT :  ZZTo2L2Nu_13TeV_powheg_pythia8-v1\u001b[0m\n",
      "\u001b[35mMC, With HLT :  ZZTo4L_13TeV-amcatnloFXFX-pythia8_ext1-v1\u001b[0m\n",
      "\u001b[35mMC, With HLT :  ZZTo2L2Q_13TeV_amcatnloFXFX_madspin_pythia8-v1\u001b[0m\n",
      "\u001b[35mMC, With HLT :  WWW_4F_TuneCUETP8M1_13TeV-amcatnlo-pythia8-v1\u001b[0m\n",
      "\u001b[35mMC, With HLT :  ZZZ_TuneCUETP8M1_13TeV-amcatnlo-pythia8-v1\u001b[0m\n",
      "\u001b[35mMC, With HLT :  WWZ_TuneCUETP8M1_13TeV-amcatnlo-pythia8-v1\u001b[0m\n",
      "\u001b[35mMC, With HLT :  WJetsToLNu_HT-70To100_TuneCUETP8M1_13TeV-madgraphMLM-pythia8-v1\u001b[0m\n",
      "\u001b[35mMC, With HLT :  WJetsToLNu_HT-100To200_TuneCUETP8M1_13TeV-madgraphMLM-pythia8_ext2-v1\u001b[0m\n",
      "\u001b[35mMC, With HLT :  WJetsToLNu_HT-200To400_TuneCUETP8M1_13TeV-madgraphMLM-pythia8_ext2-v1\u001b[0m\n",
      "\u001b[35mMC, With HLT :  WJetsToLNu_HT-400To600_TuneCUETP8M1_13TeV-madgraphMLM-pythia8_ext1-v1\u001b[0m\n",
      "\u001b[35mMC, With HLT :  WJetsToLNu_HT-600To800_TuneCUETP8M1_13TeV-madgraphMLM-pythia8_ext1-v1\u001b[0m\n",
      "\u001b[35mMC, With HLT :  WJetsToLNu_HT-800To1200_TuneCUETP8M1_13TeV-madgraphMLM-pythia8_ext1-v1\u001b[0m\n",
      "\u001b[35mMC, With HLT :  TTJets_SingleLeptFromT_TuneCUETP8M1_13TeV-madgraphMLM-pythia8_ext1-v1\u001b[0m\n",
      "\u001b[35mMC, With HLT :  TTJets_SingleLeptFromTbar_TuneCUETP8M1_13TeV-madgraphMLM-pythia8_ext1-v1\u001b[0m\n",
      "\u001b[35mMC, With HLT :  ST_s-channel_4f_leptonDecays_13TeV-amcatnlo-pythia8_TuneCUETP8M1-v1\u001b[0m\n",
      "\u001b[35mMC, With HLT :  ST_t-channel_antitop_4f_inclusiveDecays_13TeV-powhegV2-madspin-pythia8_TuneCUETP8M1-v1\u001b[0m\n",
      "\u001b[35mMC, With HLT :  ST_t-channel_top_4f_inclusiveDecays_13TeV-powhegV2-madspin-pythia8_TuneCUETP8M1-v1\u001b[0m\n",
      "\u001b[35mMC, With HLT :  ST_tW_antitop_5f_inclusiveDecays_13TeV-powheg-pythia8_TuneCUETP8M2T4-v1\u001b[0m\n",
      "\u001b[35mMC, With HLT :  ST_tW_top_5f_inclusiveDecays_13TeV-powheg-pythia8_TuneCUETP8M2T4-v1\u001b[0m\n",
      "\u001b[35mMC, With HLT :  TTJets_DiLept_TuneCUETP8M1_13TeV-madgraphMLM-pythia8_ext1-v1\u001b[0m\n",
      "\u001b[35mMC, With HLT :  DYJetsToLL_M-10to50_TuneCUETP8M1_13TeV-amcatnloFXFX-pythia8-v1\u001b[0m\n",
      "\u001b[35mMC, With HLT :  DYJetsToLL_M-50_TuneCUETP8M1_13TeV-madgraphMLM-pythia8_ext1-v2\u001b[0m\n"
     ]
    },
    {
     "name": "stderr",
     "output_type": "stream",
     "text": [
      "Info in <TCanvas::MakeDefCanvas>:  created default TCanvas with name c1\n"
     ]
    }
   ],
   "source": [
    "if not BLIND:\n",
    "    processes=data+back\n",
    "elif BLIND:\n",
    "    processes=back\n",
    "\n",
    "if not sign:\n",
    "    Histlist=ProjectDraw(var, cr, LUMI, processes, primaryDataset, NTUPLEDIR)\n",
    "else:\n",
    "    Histlist=ProjectDraw(var, cr, LUMI, processes, primaryDataset, NTUPLEDIR)"
   ]
  },
  {
   "cell_type": "code",
   "execution_count": 6,
   "metadata": {
    "ExecuteTime": {
     "end_time": "2018-11-19T15:52:30.826620Z",
     "start_time": "2018-11-19T15:52:30.806238Z"
    }
   },
   "outputs": [],
   "source": [
    "if len(back)>0:\n",
    "    #If data_obs present, dummy BkgSum == first background process                                                                        \\\n",
    "                                                                                                                                           \n",
    "    Histlist['BkgSum'] = Histlist['data_obs'].Clone(\"BkgSum\") if 'data_obs' in Histlist else Histlist[back[0]].Clone(\"BkgSum\")\n",
    "    Histlist['BkgSum'].Reset(\"MICES\")\n",
    "    Histlist['BkgSum'].SetFillStyle(3003)\n",
    "    Histlist['BkgSum'].SetFillColor(1)\n",
    "    for i, s in enumerate(back): Histlist['BkgSum'].Add(Histlist[s])\n",
    "\n",
    "if len(back)==0 and len(data)==0:\n",
    "    for i, s in enumerate(sign):\n",
    "        Histlist[s].Scale(1./Histlist[s].Integral())\n",
    "        Histlist[s].SetFillStyle(0)"
   ]
  },
  {
   "cell_type": "code",
   "execution_count": 7,
   "metadata": {
    "ExecuteTime": {
     "end_time": "2018-11-19T15:52:31.233780Z",
     "start_time": "2018-11-19T15:52:30.833213Z"
    }
   },
   "outputs": [
    {
     "name": "stdout",
     "output_type": "stream",
     "text": [
      "  Ratio:\t0.959 +- 0.001\n",
      "Sample                  Events          Entries         %\n",
      "--------------------------------------------------------------------------------\n",
      "data_obs             \t1882096.00 \t1882096    \t95.86      %\n",
      "--------------------------------------------------------------------------------\n",
      "VVV                  \t1045.22    \t41655      \t0.05       %\n",
      "TTbar-DiLep          \t1563481.15 \t11160198   \t79.63      %\n",
      "TTbar-SL             \t24706.56   \t187380     \t1.26       %\n",
      "ttV                  \t3246.46    \t683014     \t0.17       %\n",
      "ST                   \t12315.08   \t93579      \t0.63       %\n",
      "VV                   \t77309.26   \t1035047    \t3.94       %\n",
      "WJetsToLNu_HT        \t105856.40  \t76459      \t5.39       %\n",
      "DYJetsToLL           \t175489.81  \t39493      \t8.94       %\n",
      "--------------------------------------------------------------------------------\n",
      "BkgSum               \t1963449.95 \t13316825   \t100.00     %\n",
      "--------------------------------------------------------------------------------\n",
      "--------------------------------------------------------------------------------\n"
     ]
    },
    {
     "name": "stderr",
     "output_type": "stream",
     "text": [
      "Warning in <TCanvas::Constructor>: Deleting canvas with same name: c1\n"
     ]
    }
   ],
   "source": [
    "if len(data+back)>0:\n",
    "    out = draw(Histlist, data if not BLIND else [], back, sign, SIGNAL, RATIO, POISSON, variable[var]['log'])\n",
    "    out[0].cd(1)\n",
    "    drawCMS(LUMI, \"Preliminary\")\n",
    "    out[0].Update()\n",
    "    printTable(Histlist, sign)\n",
    "else:\n",
    "    out = drawSignal(Histlist, sign, variable[var]['log'])\n",
    "    out[0].cd(1)\n",
    "    drawCMS(LUMI, \"Simulation\")\n",
    "    out[0].Update()"
   ]
  },
  {
   "cell_type": "code",
   "execution_count": 8,
   "metadata": {
    "ExecuteTime": {
     "end_time": "2018-11-19T15:52:31.366656Z",
     "start_time": "2018-11-19T15:52:31.247275Z"
    },
    "scrolled": false
   },
   "outputs": [
    {
     "data": {
      "text/html": [
       "\n",
       "<div id=\"root_plot_1\"\n",
       "     style=\"width: 796px; height: 772px\">\n",
       "</div>\n",
       "\n",
       "<script>\n",
       " requirejs.config({\n",
       "     paths: {\n",
       "       'JSRootCore' : 'https://root.cern.ch/js/notebook//scripts/JSRootCore',\n",
       "     }\n",
       "   });\n",
       " require(['JSRootCore'],\n",
       "     function(Core) {\n",
       "       var obj = Core.JSONR_unref({\"_typename\":\"TCanvas\",\"fUniqueID\":0,\"fBits\":53673992,\"fLineColor\":1,\"fLineStyle\":1,\"fLineWidth\":1,\"fFillColor\":0,\"fFillStyle\":1001,\"fLeftMargin\":0.1,\"fRightMargin\":0.1,\"fBottomMargin\":0.1,\"fTopMargin\":0.1,\"fXfile\":2,\"fYfile\":2,\"fAfile\":1,\"fXstat\":0.99,\"fYstat\":0.99,\"fAstat\":2,\"fFrameFillColor\":0,\"fFrameLineColor\":1,\"fFrameFillStyle\":1001,\"fFrameLineStyle\":1,\"fFrameLineWidth\":1,\"fFrameBorderSize\":1,\"fFrameBorderMode\":0,\"fX1\":0,\"fY1\":0,\"fX2\":1,\"fY2\":1,\"fXtoAbsPixelk\":5e-5,\"fXtoPixelk\":5e-5,\"fXtoPixel\":796,\"fYtoAbsPixelk\":772.00005,\"fYtoPixelk\":772.00005,\"fYtoPixel\":-772,\"fUtoAbsPixelk\":5e-5,\"fUtoPixelk\":5e-5,\"fUtoPixel\":796,\"fVtoAbsPixelk\":772.00005,\"fVtoPixelk\":772,\"fVtoPixel\":-772,\"fAbsPixeltoXk\":0,\"fPixeltoXk\":0,\"fPixeltoX\":0.00125628140703518,\"fAbsPixeltoYk\":1,\"fPixeltoYk\":0,\"fPixeltoY\":-0.00129533678756477,\"fXlowNDC\":0,\"fYlowNDC\":0,\"fXUpNDC\":0,\"fYUpNDC\":0,\"fWNDC\":1,\"fHNDC\":1,\"fAbsXlowNDC\":0,\"fAbsYlowNDC\":0,\"fAbsWNDC\":1,\"fAbsHNDC\":1,\"fUxmin\":0,\"fUymin\":0,\"fUxmax\":1,\"fUymax\":1,\"fTheta\":30,\"fPhi\":30,\"fAspectRatio\":0,\"fNumber\":0,\"fTickx\":0,\"fTicky\":0,\"fLogx\":0,\"fLogy\":0,\"fLogz\":0,\"fPadPaint\":0,\"fCrosshair\":0,\"fCrosshairPos\":0,\"fBorderSize\":2,\"fBorderMode\":0,\"fModified\":false,\"fGridx\":false,\"fGridy\":false,\"fAbsCoord\":false,\"fEditable\":true,\"fFixedAspectRatio\":false,\"fPrimitives\":{\"_typename\":\"TList\",\"name\":\"TList\",\"arr\":[{\"_typename\":\"TPad\",\"fUniqueID\":0,\"fBits\":50331657,\"fLineColor\":1,\"fLineStyle\":1,\"fLineWidth\":1,\"fFillColor\":0,\"fFillStyle\":1001,\"fLeftMargin\":0.1,\"fRightMargin\":0.05,\"fBottomMargin\":0.01,\"fTopMargin\":0.06,\"fXfile\":2,\"fYfile\":2,\"fAfile\":1,\"fXstat\":0.99,\"fYstat\":0.99,\"fAstat\":2,\"fFrameFillColor\":0,\"fFrameLineColor\":1,\"fFrameFillStyle\":1001,\"fFrameLineStyle\":1,\"fFrameLineWidth\":1,\"fFrameBorderSize\":1,\"fFrameBorderMode\":0,\"fX1\":-35.2941196579423,\"fY1\":-857.235264874928,\"fX2\":317.647059828971,\"fY2\":84966.2936204996,\"fXtoAbsPixelk\":79.6000538549305,\"fXtoPixelk\":79.6000538549305,\"fXtoPixel\":2.25533331405868,\"fYtoAbsPixelk\":573.216796563457,\"fYtoPixelk\":573.216796563457,\"fYtoPixel\":-0.0067464016863407,\"fUtoAbsPixelk\":5e-5,\"fUtoPixelk\":5e-5,\"fUtoPixel\":796,\"fVtoAbsPixelk\":579.00005,\"fVtoPixelk\":579,\"fVtoPixel\":-579,\"fAbsPixeltoXk\":-35.2941196579423,\"fPixeltoXk\":-35.2941196579423,\"fPixeltoX\":0.443393441566474,\"fAbsPixeltoYk\":84966.2936204996,\"fPixeltoYk\":-857.235264874928,\"fPixeltoY\":-148.227165605137,\"fXlowNDC\":0,\"fYlowNDC\":0.25,\"fXUpNDC\":0,\"fYUpNDC\":0,\"fWNDC\":1,\"fHNDC\":0.75,\"fAbsXlowNDC\":0,\"fAbsYlowNDC\":0.25,\"fAbsWNDC\":1,\"fAbsHNDC\":0.75,\"fUxmin\":0,\"fUymin\":1,\"fUxmax\":300,\"fUymax\":79816.88203125,\"fTheta\":30,\"fPhi\":30,\"fAspectRatio\":0,\"fNumber\":1,\"fTickx\":1,\"fTicky\":1,\"fLogx\":0,\"fLogy\":0,\"fLogz\":0,\"fPadPaint\":0,\"fCrosshair\":0,\"fCrosshairPos\":0,\"fBorderSize\":2,\"fBorderMode\":0,\"fModified\":false,\"fGridx\":false,\"fGridy\":false,\"fAbsCoord\":false,\"fEditable\":true,\"fFixedAspectRatio\":false,\"fPrimitives\":{\"_typename\":\"TList\",\"name\":\"TList\",\"arr\":[{\"_typename\":\"TFrame\",\"fUniqueID\":0,\"fBits\":50331656,\"fLineColor\":1,\"fLineStyle\":1,\"fLineWidth\":1,\"fFillColor\":0,\"fFillStyle\":1001,\"fX1\":0,\"fY1\":1,\"fX2\":300,\"fY2\":79816.88203125,\"fBorderSize\":1,\"fBorderMode\":0},{\"_typename\":\"THStack\",\"fUniqueID\":0,\"fBits\":50331656,\"fName\":\"Bkg\",\"fTitle\":\";m_{Z} (GeV);Events\",\"fHists\":{\"_typename\":\"TList\",\"name\":\"TList\",\"arr\":[{\"_typename\":\"TH1F\",\"fUniqueID\":0,\"fBits\":50332168,\"fName\":\"TTWJetsToLNu_TuneCUETP8M1_13TeV-amcatnloFXFX-madspin-pythia8_ext1-v3\",\"fTitle\":\"\",\"fLineColor\":602,\"fLineStyle\":1,\"fLineWidth\":1,\"fFillColor\":38,\"fFillStyle\":1001,\"fMarkerColor\":1,\"fMarkerStyle\":1,\"fMarkerSize\":1,\"fNcells\":102,\"fXaxis\":{\"_typename\":\"TAxis\",\"fUniqueID\":0,\"fBits\":50331648,\"fName\":\"xaxis\",\"fTitle\":\"m_{Z} (GeV)\",\"fNdivisions\":510,\"fAxisColor\":1,\"fLabelColor\":1,\"fLabelFont\":42,\"fLabelOffset\":0.005,\"fLabelSize\":0.035,\"fTickLength\":0.03,\"fTitleOffset\":1,\"fTitleSize\":0.035,\"fTitleColor\":1,\"fTitleFont\":42,\"fNbins\":100,\"fXmin\":0,\"fXmax\":300,\"fXbins\":[],\"fFirst\":0,\"fLast\":0,\"fBits2\":0,\"fTimeDisplay\":false,\"fTimeFormat\":\"\",\"fLabels\":null,\"fModLabs\":null},\"fYaxis\":{\"_typename\":\"TAxis\",\"fUniqueID\":0,\"fBits\":50331648,\"fName\":\"yaxis\",\"fTitle\":\"\",\"fNdivisions\":510,\"fAxisColor\":1,\"fLabelColor\":1,\"fLabelFont\":42,\"fLabelOffset\":0.005,\"fLabelSize\":0.035,\"fTickLength\":0.03,\"fTitleOffset\":0,\"fTitleSize\":0.035,\"fTitleColor\":1,\"fTitleFont\":42,\"fNbins\":1,\"fXmin\":0,\"fXmax\":1,\"fXbins\":[],\"fFirst\":0,\"fLast\":0,\"fBits2\":0,\"fTimeDisplay\":false,\"fTimeFormat\":\"\",\"fLabels\":null,\"fModLabs\":null},\"fZaxis\":{\"_typename\":\"TAxis\",\"fUniqueID\":0,\"fBits\":50331648,\"fName\":\"zaxis\",\"fTitle\":\"\",\"fNdivisions\":510,\"fAxisColor\":1,\"fLabelColor\":1,\"fLabelFont\":42,\"fLabelOffset\":0.005,\"fLabelSize\":0.035,\"fTickLength\":0.03,\"fTitleOffset\":1,\"fTitleSize\":0.035,\"fTitleColor\":1,\"fTitleFont\":42,\"fNbins\":1,\"fXmin\":0,\"fXmax\":1,\"fXbins\":[],\"fFirst\":0,\"fLast\":0,\"fBits2\":0,\"fTimeDisplay\":false,\"fTimeFormat\":\"\",\"fLabels\":null,\"fModLabs\":null},\"fBarOffset\":0,\"fBarWidth\":1000,\"fEntries\":683016,\"fTsumw\":0,\"fTsumw2\":52.4028926869113,\"fTsumwx\":386006.312981908,\"fTsumwx2\":64344977.8947657,\"fMaximum\":-1111,\"fMinimum\":-1111,\"fNormFactor\":0,\"fContour\":[],\"fSumw2\":[0,0.037602305896843,0.0721135507502634,0.0317137119851373,0.0576018432998426,0.0813509586595297,0.110766541826855,0.19217162365362,0.182473053872709,0.263749479148967,0.36000195369241,0.388198161998241,0.319392839038975,0.36929203621653,0.377547986196879,0.504880969494763,0.45792685733366,0.489506244764268,0.676598118228505,0.651185389940471,0.648583305115548,0.864682877828075,0.827060834129861,0.771855971763111,0.869276039597481,0.845590257413009,1.00156546729818,0.843531681599524,0.8510920215502,0.855555556809326,0.80903432822598,0.90574388284064,0.983649958781974,0.818594039209793,1.02300458404099,0.936125974919495,0.938990224796207,0.968401744550525,0.957771806541468,0.825288431742629,0.935906799472716,1.01484115553897,1.02475324796997,0.870393790171345,1.00924048116909,0.951963046030038,0.855380664640987,0.746251972048838,0.792588315547318,0.979561539144343,0.707677032829045,0.709047419503283,0.616550781575677,0.727984091195416,0.616382556532504,0.659138836805853,0.624294614044135,0.614241151507577,0.651814979956498,0.499552981759292,0.634295977021038,0.591907707353817,0.51277803681846,0.467576819953527,0.467495802138475,0.473074304688524,0.394743112724096,0.386316110628765,0.387939141614764,0.448338380916848,0.48049980546624,0.517014472457664,0.349310711820494,0.383521373351562,0.428298426626484,0.31395984679319,0.375814934649155,0.223741869836108,0.330542721279971,0.347714267557547,0.350255638126758,0.346128040168691,0.298475460005215,0.358241288017919,0.284970919931579,0.284802301442469,0.299458097205898,0.21383796494876,0.204275805805207,0.276473966262414,0.248949701412192,0.232044248566513,0.146290683264944,0.173877569556394,0.25534753907591,0.187608846405943,0.203298760665484,0.165606355094264,0.234281357728543,0.192150961402782,7.16899061392565,0],\"fOption\":\"\",\"fFunctions\":{\"_typename\":\"TList\",\"name\":\"TList\",\"arr\":[],\"opt\":[]},\"fBufferSize\":0,\"fBuffer\":[],\"fBinStatErrOpt\":0,\"fArray\":[0,1.852951,3.479667,2.515292,4.738568,7.043178,9.468676,12.76891,13.37649,16.48804,21.67376,24.96874,21.87659,23.98075,25.55509,29.94881,29.98507,31.45065,37.65784,36.72263,37.48927,45.84217,45.4852,44.028,47.93849,47.9141,54.49446,47.85074,48.21299,48.44522,47.70498,49.98718,52.92211,46.92715,52.34948,50.47319,50.73095,53.68767,52.92402,48.84529,51.62482,53.39458,50.9167,48.40026,52.00269,49.92387,45.90725,43.58963,43.01009,49.57978,39.96949,38.61975,34.46296,38.98454,34.95491,36.28823,34.11561,34.21389,34.73704,28.04362,34.21264,31.45626,28.1706,27.34687,25.1767,26.35649,22.93118,21.9487,21.57544,24.14626,25.63086,26.6928,18.28885,21.24455,22.1121,17.58305,20.45095,13.69477,17.90075,17.85707,18.51373,17.29945,14.98043,17.33843,14.97311,15.60509,15.34103,11.88351,12.01996,13.44156,12.95689,12.25488,8.422404,9.551086,12.68105,10.27461,11.10063,8.734011,11.13506,9.220652,351.4092,0]},{\"_typename\":\"TH1F\",\"fUniqueID\":0,\"fBits\":50332168,\"fName\":\"WW_TuneCUETP8M1_13TeV-pythia8_ext1-v1\",\"fTitle\":\"\",\"fLineColor\":602,\"fLineStyle\":1,\"fLineWidth\":1,\"fFillColor\":9,\"fFillStyle\":1001,\"fMarkerColor\":1,\"fMarkerStyle\":1,\"fMarkerSize\":1,\"fNcells\":102,\"fXaxis\":{\"_typename\":\"TAxis\",\"fUniqueID\":0,\"fBits\":50331648,\"fName\":\"xaxis\",\"fTitle\":\"m_{Z} (GeV)\",\"fNdivisions\":510,\"fAxisColor\":1,\"fLabelColor\":1,\"fLabelFont\":42,\"fLabelOffset\":0.005,\"fLabelSize\":0.035,\"fTickLength\":0.03,\"fTitleOffset\":1,\"fTitleSize\":0.035,\"fTitleColor\":1,\"fTitleFont\":42,\"fNbins\":100,\"fXmin\":0,\"fXmax\":300,\"fXbins\":[],\"fFirst\":0,\"fLast\":0,\"fBits2\":0,\"fTimeDisplay\":false,\"fTimeFormat\":\"\",\"fLabels\":null,\"fModLabs\":null},\"fYaxis\":{\"_typename\":\"TAxis\",\"fUniqueID\":0,\"fBits\":50331648,\"fName\":\"yaxis\",\"fTitle\":\"\",\"fNdivisions\":510,\"fAxisColor\":1,\"fLabelColor\":1,\"fLabelFont\":42,\"fLabelOffset\":0.005,\"fLabelSize\":0.035,\"fTickLength\":0.03,\"fTitleOffset\":0,\"fTitleSize\":0.035,\"fTitleColor\":1,\"fTitleFont\":42,\"fNbins\":1,\"fXmin\":0,\"fXmax\":1,\"fXbins\":[],\"fFirst\":0,\"fLast\":0,\"fBits2\":0,\"fTimeDisplay\":false,\"fTimeFormat\":\"\",\"fLabels\":null,\"fModLabs\":null},\"fZaxis\":{\"_typename\":\"TAxis\",\"fUniqueID\":0,\"fBits\":50331648,\"fName\":\"zaxis\",\"fTitle\":\"\",\"fNdivisions\":510,\"fAxisColor\":1,\"fLabelColor\":1,\"fLabelFont\":42,\"fLabelOffset\":0.005,\"fLabelSize\":0.035,\"fTickLength\":0.03,\"fTitleOffset\":1,\"fTitleSize\":0.035,\"fTitleColor\":1,\"fTitleFont\":42,\"fNbins\":1,\"fXmin\":0,\"fXmax\":1,\"fXbins\":[],\"fFirst\":0,\"fLast\":0,\"fBits2\":0,\"fTimeDisplay\":false,\"fTimeFormat\":\"\",\"fLabels\":null,\"fModLabs\":null},\"fBarOffset\":0,\"fBarWidth\":1000,\"fEntries\":1035049,\"fTsumw\":0,\"fTsumw2\":36355.5657821772,\"fTsumwx\":8581209.30905783,\"fTsumwx2\":1260249052.82754,\"fMaximum\":-1111,\"fMinimum\":-1111,\"fNormFactor\":0,\"fContour\":[],\"fSumw2\":[0,12.0912185522879,8.44729135932773,7.3461492127689,56.9521544384918,72.9617967202867,100.735753061915,133.808333103228,166.884996053181,155.7255814924,186.26635543996,223.558862718369,219.676273628449,287.222869391904,311.898192834933,327.358204576014,412.859533588158,408.668028449751,495.574455166751,614.146837869448,670.53524156506,776.728973662716,821.584642651148,896.988863263112,898.142058077321,906.220358593304,972.349304839408,973.456197386146,980.714108662368,929.455854768089,1028.07610163141,893.871433543041,898.585931502744,894.918934023823,878.707659085553,762.964288551872,792.106127015321,757.393751062646,743.349534408697,723.437020590394,705.796027249908,572.107311706201,610.196930800017,614.100004368401,605.138480628951,544.869356644329,532.244435537545,489.948003797076,431.932727941892,502.230423148071,432.179686883281,446.181085410577,389.566059064508,367.706640912562,372.706839454225,347.785684702376,360.106447687448,367.082103404633,296.759831602697,298.713806164025,295.888798352887,249.375776609921,244.293978402904,242.638899294439,222.715221767209,224.922330060461,187.147838077041,217.615163172539,199.95921105824,155.12818439395,146.460215190156,181.21080307916,182.591459328354,162.96252952235,189.006664108886,168.814198018158,163.227707111622,135.740548382289,146.675637987895,117.267376006289,132.11176028936,118.357833611356,118.083791368248,119.497326909232,81.6615980236053,108.251722126795,85.5696664649715,103.768621078245,94.8168860376815,79.9607307666093,93.1072625529837,66.4918537662374,78.2572755912667,73.2239686740546,76.0183302374882,68.7169553889958,66.7582527507312,95.33484857724,52.7486503404636,61.7158805610825,2028.68370033616,0],\"fOption\":\"\",\"fFunctions\":{\"_typename\":\"TList\",\"name\":\"TList\",\"arr\":[],\"opt\":[]},\"fBufferSize\":0,\"fBuffer\":[],\"fBinStatErrOpt\":0,\"fArray\":[0,29.06037,22.36475,22.16974,118.7362,154.2428,211.0029,275.0024,340.5652,324.856,383.0365,458.0376,454.9751,586.209,635.8973,670.9155,840.4957,835.3035,1008.311,1240.979,1355.579,1562.262,1652.581,1800.366,1806.766,1816.055,1938.182,1936.459,1946.891,1848.657,2031.146,1778.283,1781.241,1772.781,1745.434,1523.889,1578.465,1516.665,1485.449,1446.88,1412.217,1155.872,1226.311,1231.035,1214.2,1095.208,1069.671,990.8615,878.1381,1008.446,873.8125,898.8898,790.4395,748.1966,753.5864,706.4871,728.2834,739.0382,605.5869,607.4199,599.0543,511.0652,497.3507,496.1301,455.433,456.8079,388.1764,439.5417,405.1005,320.1942,304.7343,370.5236,371.5267,331.767,380.4682,340.6259,330.5459,275.8196,297.887,242.1319,269.9062,241.4897,240.7752,244.7244,171.4077,220.0426,177.8372,210.8426,194.5168,165.9787,188.5263,138.2664,160.4228,151.5852,155.9012,140.1982,137.4454,190.8016,110.6695,127.2071,4185.943,0]},{\"_typename\":\"TH1F\",\"fUniqueID\":0,\"fBits\":50332168,\"fName\":\"WWW_4F_TuneCUETP8M1_13TeV-amcatnlo-pythia8-v1\",\"fTitle\":\"\",\"fLineColor\":602,\"fLineStyle\":1,\"fLineWidth\":1,\"fFillColor\":46,\"fFillStyle\":1001,\"fMarkerColor\":1,\"fMarkerStyle\":1,\"fMarkerSize\":1,\"fNcells\":102,\"fXaxis\":{\"_typename\":\"TAxis\",\"fUniqueID\":0,\"fBits\":50331648,\"fName\":\"xaxis\",\"fTitle\":\"m_{Z} (GeV)\",\"fNdivisions\":510,\"fAxisColor\":1,\"fLabelColor\":1,\"fLabelFont\":42,\"fLabelOffset\":0.005,\"fLabelSize\":0.035,\"fTickLength\":0.03,\"fTitleOffset\":1,\"fTitleSize\":0.035,\"fTitleColor\":1,\"fTitleFont\":42,\"fNbins\":100,\"fXmin\":0,\"fXmax\":300,\"fXbins\":[],\"fFirst\":0,\"fLast\":0,\"fBits2\":0,\"fTimeDisplay\":false,\"fTimeFormat\":\"\",\"fLabels\":null,\"fModLabs\":null},\"fYaxis\":{\"_typename\":\"TAxis\",\"fUniqueID\":0,\"fBits\":50331648,\"fName\":\"yaxis\",\"fTitle\":\"\",\"fNdivisions\":510,\"fAxisColor\":1,\"fLabelColor\":1,\"fLabelFont\":42,\"fLabelOffset\":0.005,\"fLabelSize\":0.035,\"fTickLength\":0.03,\"fTitleOffset\":0,\"fTitleSize\":0.035,\"fTitleColor\":1,\"fTitleFont\":42,\"fNbins\":1,\"fXmin\":0,\"fXmax\":1,\"fXbins\":[],\"fFirst\":0,\"fLast\":0,\"fBits2\":0,\"fTimeDisplay\":false,\"fTimeFormat\":\"\",\"fLabels\":null,\"fModLabs\":null},\"fZaxis\":{\"_typename\":\"TAxis\",\"fUniqueID\":0,\"fBits\":50331648,\"fName\":\"zaxis\",\"fTitle\":\"\",\"fNdivisions\":510,\"fAxisColor\":1,\"fLabelColor\":1,\"fLabelFont\":42,\"fLabelOffset\":0.005,\"fLabelSize\":0.035,\"fTickLength\":0.03,\"fTitleOffset\":1,\"fTitleSize\":0.035,\"fTitleColor\":1,\"fTitleFont\":42,\"fNbins\":1,\"fXmin\":0,\"fXmax\":1,\"fXbins\":[],\"fFirst\":0,\"fLast\":0,\"fBits2\":0,\"fTimeDisplay\":false,\"fTimeFormat\":\"\",\"fLabels\":null,\"fModLabs\":null},\"fBarOffset\":0,\"fBarWidth\":1000,\"fEntries\":41657,\"fTsumw\":0,\"fTsumw2\":26.1755019301425,\"fTsumwx\":120803.811681688,\"fTsumwx2\":19771117.6241462,\"fMaximum\":-1111,\"fMinimum\":-1111,\"fNormFactor\":0,\"fContour\":[],\"fSumw2\":[0,0.00348780072001667,0.00845438868115617,0.0398285011779685,0.0364747454080741,0.0630234365765498,0.0903230342760781,0.112091131156766,0.138105810090469,0.134915022172944,0.159334637811478,0.185092380851108,0.223215686087615,0.255631856147333,0.24886949637016,0.337276542244748,0.293578548750964,0.391618991594767,0.326661516083535,0.401768273383436,0.446924512810816,0.443185694448819,0.409535611382205,0.396530541473487,0.464771583653157,0.54200202619451,0.414177058329375,0.534092860235751,0.539869804823926,0.510946537874721,0.472418577963764,0.579487928542562,0.430570570627917,0.453099595236492,0.538542733376044,0.528030851542026,0.521702730668736,0.439546684728337,0.472014015081394,0.506750229632197,0.474252055137666,0.480249075173388,0.493168811222492,0.44357901153294,0.395588630670665,0.32290937614965,0.32670962232831,0.380686002583718,0.396808335622826,0.290742358974139,0.312073254694459,0.370077401467375,0.327915309070771,0.29196253540845,0.231179475128096,0.336522771510167,0.27694249845812,0.285119810798577,0.214322139696238,0.252960140461408,0.273343678608963,0.276146821367971,0.248593623460049,0.247578849197278,0.294579213011956,0.231144788508167,0.197921351180604,0.196573554841039,0.137569820135016,0.194444894311795,0.219333590008552,0.14456703294958,0.197425269459362,0.207613495347112,0.186580083911435,0.197736997109365,0.17020251106182,0.161204820897494,0.133037815457206,0.138452850376963,0.122944796352372,0.139149415463408,0.116806419838811,0.0966979034291444,0.104044549251581,0.109753507614641,0.138064698425671,0.119078829567272,0.120741217760369,0.122646333792803,0.144949006182493,0.0729527347097488,0.100226724021881,0.0842608004266912,0.0837362108038985,0.0788567296680687,0.0734083033510476,0.062814191926554,0.0555559755838006,0.109386495555728,3.05041334707446,0],\"fOption\":\"\",\"fFunctions\":{\"_typename\":\"TList\",\"name\":\"TList\",\"arr\":[],\"opt\":[]},\"fBufferSize\":0,\"fBuffer\":[],\"fBinStatErrOpt\":0,\"fArray\":[0,0.1290392,0.2887402,1.404882,1.263028,2.252572,3.181023,4.045107,4.737186,4.782415,5.608619,6.374247,8.203045,9.042434,8.911736,11.77563,10.02527,13.95008,11.49333,14.23398,15.51703,15.37975,14.39292,14.01882,16.43935,18.93248,15.11717,18.51741,19.19695,17.90061,16.79826,20.31158,15.47008,16.11893,18.55257,18.65026,18.21602,15.80629,17.01581,18.01291,16.72447,16.58046,17.95114,15.62317,14.12274,11.65687,11.78236,13.80653,14.14115,10.47497,11.05259,13.38429,11.91573,10.47242,8.258301,11.99962,10.11893,10.03663,7.78601,9.107456,9.849854,9.707151,8.668422,9.00113,10.31643,8.42135,7.106036,6.98147,5.032414,7.268895,7.909669,5.200503,6.970579,7.300228,6.875921,7.215737,6.287075,6.003675,5.094306,5.079492,4.59455,5.113278,4.461492,3.49541,3.863872,3.979417,5.040157,4.309211,4.516046,4.520312,5.15202,2.851118,3.830374,3.107069,3.222482,2.925838,2.722518,2.16438,2.10502,3.871042,114.0231,0]},{\"_typename\":\"TH1F\",\"fUniqueID\":0,\"fBits\":50332168,\"fName\":\"WJetsToLNu_HT-70To100_TuneCUETP8M1_13TeV-madgraphMLM-pythia8-v1\",\"fTitle\":\"\",\"fLineColor\":881,\"fLineStyle\":1,\"fLineWidth\":1,\"fFillColor\":881,\"fFillStyle\":1001,\"fMarkerColor\":1,\"fMarkerStyle\":1,\"fMarkerSize\":1,\"fNcells\":102,\"fXaxis\":{\"_typename\":\"TAxis\",\"fUniqueID\":0,\"fBits\":50331648,\"fName\":\"xaxis\",\"fTitle\":\"m_{Z} (GeV)\",\"fNdivisions\":510,\"fAxisColor\":1,\"fLabelColor\":1,\"fLabelFont\":42,\"fLabelOffset\":0.005,\"fLabelSize\":0.035,\"fTickLength\":0.03,\"fTitleOffset\":1,\"fTitleSize\":0.035,\"fTitleColor\":1,\"fTitleFont\":42,\"fNbins\":100,\"fXmin\":0,\"fXmax\":300,\"fXbins\":[],\"fFirst\":0,\"fLast\":0,\"fBits2\":0,\"fTimeDisplay\":false,\"fTimeFormat\":\"\",\"fLabels\":null,\"fModLabs\":null},\"fYaxis\":{\"_typename\":\"TAxis\",\"fUniqueID\":0,\"fBits\":50331648,\"fName\":\"yaxis\",\"fTitle\":\"\",\"fNdivisions\":510,\"fAxisColor\":1,\"fLabelColor\":1,\"fLabelFont\":42,\"fLabelOffset\":0.005,\"fLabelSize\":0.035,\"fTickLength\":0.03,\"fTitleOffset\":0,\"fTitleSize\":0.035,\"fTitleColor\":1,\"fTitleFont\":42,\"fNbins\":1,\"fXmin\":0,\"fXmax\":1,\"fXbins\":[],\"fFirst\":0,\"fLast\":0,\"fBits2\":0,\"fTimeDisplay\":false,\"fTimeFormat\":\"\",\"fLabels\":null,\"fModLabs\":null},\"fZaxis\":{\"_typename\":\"TAxis\",\"fUniqueID\":0,\"fBits\":50331648,\"fName\":\"zaxis\",\"fTitle\":\"\",\"fNdivisions\":510,\"fAxisColor\":1,\"fLabelColor\":1,\"fLabelFont\":42,\"fLabelOffset\":0.005,\"fLabelSize\":0.035,\"fTickLength\":0.03,\"fTitleOffset\":1,\"fTitleSize\":0.035,\"fTitleColor\":1,\"fTitleFont\":42,\"fNbins\":1,\"fXmin\":0,\"fXmax\":1,\"fXbins\":[],\"fFirst\":0,\"fLast\":0,\"fBits2\":0,\"fTimeDisplay\":false,\"fTimeFormat\":\"\",\"fLabels\":null,\"fModLabs\":null},\"fBarOffset\":0,\"fBarWidth\":1000,\"fEntries\":76461,\"fTsumw\":0,\"fTsumw2\":575038.702228037,\"fTsumwx\":10781476.3489853,\"fTsumwx2\":1585027129.9539,\"fMaximum\":-1111,\"fMinimum\":-1111,\"fNormFactor\":0,\"fContour\":[],\"fSumw2\":[0,12854.1664911143,5049.39644401869,4227.88007402517,3608.12090437606,3201.82749903737,4903.30376170729,1703.76716784638,4333.85341934606,4415.82488056534,3847.92053597381,4316.99292517796,3296.15011532079,3042.59079695454,4181.24716592979,8621.39478254269,7051.8348996597,6276.47981455907,14686.0106336194,9279.00552036489,11339.4041233998,17001.6781636353,16504.949725923,14415.0325233082,12292.3116801829,21710.8021023191,13751.8906987426,13917.8136862432,13405.8180948555,17947.4231494918,17033.4591725332,17457.7061542645,13944.2365485849,13040.8878316467,8083.2743593922,10746.9114721812,8968.14968208832,8142.31215140003,13800.7091404351,13372.8923468776,10421.0885967907,11507.685229473,10601.3422252546,9009.40122017096,7161.09357850739,6002.03500164556,10372.194992671,5475.9198057373,6593.90815072738,7065.78027179222,4783.7252915555,6231.12485781626,7762.14554669555,4369.15718252939,4163.21939299547,3351.55858349888,4655.79966170074,5218.97776353544,3538.26713043715,3062.61107258481,1545.8796166877,5224.68019059098,1598.41455846773,1661.17661738629,2709.96802806813,4336.59145854795,1268.65544023025,1114.66514638426,4772.02848107756,1334.21598694478,2645.86453473836,1116.89101882622,2280.37727335784,940.873373143872,757.49898339091,1317.29099052043,1162.01422030869,478.450012826066,1538.9442875856,760.927755546259,2119.99231829794,3349.50444244329,420.133102794594,577.231837861999,550.883496554407,535.111612923381,1023.26075345747,542.648356454657,536.572732575094,2500.27050790117,417.872448053012,2180.42698798542,317.487645824642,439.461512884821,303.202408015757,475.012720527622,1407.05739129785,168.009264096436,390.999493469808,825.131339500055,15088.541519691,0],\"fOption\":\"\",\"fFunctions\":{\"_typename\":\"TList\",\"name\":\"TList\",\"arr\":[],\"opt\":[]},\"fBufferSize\":0,\"fBuffer\":[],\"fBinStatErrOpt\":0,\"fArray\":[0,2959.839,1135.958,870.6209,780.4807,698.3605,1022.274,715.105,958.2977,829.8926,751.3897,790.1748,686.0679,662.4298,864.2947,1332.721,1254.317,1105.717,1848.321,1464.942,1804.693,2257.476,2189.399,2052.128,2007.811,2565.546,2177.76,2114.496,1883.325,2487.772,2512.908,2385.069,2086.854,1975.358,1661.056,1757.557,1801.532,1532.11,1885.177,1871.162,1679.106,1896.764,1654.173,1498.248,1423.76,1291.413,1534.34,1098.925,1280.713,1170.766,1146.088,1115.986,1063.623,761.7892,902.3439,757.818,851.0926,944.1271,693.8339,843.494,484.5911,744.4547,618.931,506.2065,545.8904,789.7774,323.4323,429.705,727.3369,482.2881,497.8485,332.9346,562.4955,426.8514,339.2214,437.3446,380.8075,261.0953,409.4781,318.9777,417.6154,411.9855,193.3379,283.0799,249.5558,270.7265,277.8852,255.5811,220.688,351.5312,199.0728,306.6069,153.8118,196.4425,143.7339,217.1234,296.8423,117.6276,206.2315,199.43,5919.029,0]},{\"_typename\":\"TH1F\",\"fUniqueID\":0,\"fBits\":50332168,\"fName\":\"TTJets_SingleLeptFromT_TuneCUETP8M1_13TeV-madgraphMLM-pythia8_ext1-v1\",\"fTitle\":\"\",\"fLineColor\":798,\"fLineStyle\":1,\"fLineWidth\":1,\"fFillColor\":798,\"fFillStyle\":1001,\"fMarkerColor\":1,\"fMarkerStyle\":1,\"fMarkerSize\":1,\"fNcells\":102,\"fXaxis\":{\"_typename\":\"TAxis\",\"fUniqueID\":0,\"fBits\":50331648,\"fName\":\"xaxis\",\"fTitle\":\"m_{Z} (GeV)\",\"fNdivisions\":510,\"fAxisColor\":1,\"fLabelColor\":1,\"fLabelFont\":42,\"fLabelOffset\":0.005,\"fLabelSize\":0.035,\"fTickLength\":0.03,\"fTitleOffset\":1,\"fTitleSize\":0.035,\"fTitleColor\":1,\"fTitleFont\":42,\"fNbins\":100,\"fXmin\":0,\"fXmax\":300,\"fXbins\":[],\"fFirst\":0,\"fLast\":0,\"fBits2\":0,\"fTimeDisplay\":false,\"fTimeFormat\":\"\",\"fLabels\":null,\"fModLabs\":null},\"fYaxis\":{\"_typename\":\"TAxis\",\"fUniqueID\":0,\"fBits\":50331648,\"fName\":\"yaxis\",\"fTitle\":\"\",\"fNdivisions\":510,\"fAxisColor\":1,\"fLabelColor\":1,\"fLabelFont\":42,\"fLabelOffset\":0.005,\"fLabelSize\":0.035,\"fTickLength\":0.03,\"fTitleOffset\":0,\"fTitleSize\":0.035,\"fTitleColor\":1,\"fTitleFont\":42,\"fNbins\":1,\"fXmin\":0,\"fXmax\":1,\"fXbins\":[],\"fFirst\":0,\"fLast\":0,\"fBits2\":0,\"fTimeDisplay\":false,\"fTimeFormat\":\"\",\"fLabels\":null,\"fModLabs\":null},\"fZaxis\":{\"_typename\":\"TAxis\",\"fUniqueID\":0,\"fBits\":50331648,\"fName\":\"zaxis\",\"fTitle\":\"\",\"fNdivisions\":510,\"fAxisColor\":1,\"fLabelColor\":1,\"fLabelFont\":42,\"fLabelOffset\":0.005,\"fLabelSize\":0.035,\"fTickLength\":0.03,\"fTitleOffset\":1,\"fTitleSize\":0.035,\"fTitleColor\":1,\"fTitleFont\":42,\"fNbins\":1,\"fXmin\":0,\"fXmax\":1,\"fXbins\":[],\"fFirst\":0,\"fLast\":0,\"fBits2\":0,\"fTimeDisplay\":false,\"fTimeFormat\":\"\",\"fLabels\":null,\"fModLabs\":null},\"fBarOffset\":0,\"fBarWidth\":1000,\"fEntries\":187382,\"fTsumw\":0,\"fTsumw2\":3104.42384346923,\"fTsumwx\":2417151.84703573,\"fTsumwx2\":330943819.436844,\"fMaximum\":-1111,\"fMinimum\":-1111,\"fNormFactor\":0,\"fContour\":[],\"fSumw2\":[0,47.8055405525556,19.2799422288136,13.8611691587249,13.5327649626154,14.1978508331401,16.7650380525124,19.0591967715511,18.9395422740718,24.8426162960819,24.6682995292614,28.1477166838929,31.3430501244918,36.4589049249468,42.4447216590747,44.6128573561322,47.8905907276006,50.0742412090552,54.0929365022606,58.3656703850439,68.9708738184495,73.0179045368684,77.5696647993014,81.04446702808,88.1333415214935,88.0808870877982,95.8061692452744,89.6853706553633,96.4455977986988,94.9620799187326,83.8884727914558,89.3673082465178,82.0717204994955,73.1062744831174,75.3510832496332,66.3254313215941,65.0133807097111,57.4891406723073,50.7976080019672,52.4064793768867,44.8670673363341,39.6990569840261,35.7426040475022,35.716847103121,32.610282117894,33.4448984387614,34.0316015405852,30.9775906163342,29.727782361133,30.1884345770385,30.2792116134946,24.4352594315243,25.7650326634506,23.5797442460972,22.5224017508199,21.371205601851,18.9592734751996,19.6522962618141,17.7529726483599,16.5260718388027,18.0443654318278,17.4728343331525,14.7778865286197,15.3678376383036,16.7429993884579,15.964356527051,15.1886627916617,14.1651554645096,12.4389809544439,11.4542943664564,10.9472134601088,12.4290655402396,9.80040511849456,10.9369991640623,12.329241871169,11.8084276430098,8.36324416562642,9.91292193716284,10.4515584126461,7.65631666657597,8.48882477907816,8.97188630422403,7.99423776776665,6.30755352389364,8.37335883439219,6.96329387996145,6.12867755909405,7.25354686393456,5.39770281490467,6.64252549906666,6.38965457292102,5.20814228159191,2.94343092332372,4.23163354462931,4.6828406187972,6.16137292772448,5.41629421653764,4.93829002577467,3.98381995286657,3.63588381019086,158.477838781478,0],\"fOption\":\"\",\"fFunctions\":{\"_typename\":\"TList\",\"name\":\"TList\",\"arr\":[],\"opt\":[]},\"fBufferSize\":0,\"fBuffer\":[],\"fBinStatErrOpt\":0,\"fArray\":[0,362.7912,146.1352,105.0898,102.2624,107.4208,127.4376,144.3095,143.7899,188.7154,186.9998,213.7711,237.4878,276.7259,321.5696,338.4913,363.3114,379.5009,409.3058,441.6558,522.9323,553.4377,588.6913,614.2587,668.1626,667.4364,726.9831,679.3206,731.7146,719.63,636.7092,677.9168,622.7677,553.4433,571.2488,503.2121,493.1618,436.3547,385.7372,397.7039,340.4439,300.8762,270.846,270.287,247.1046,253.3672,257.8329,235.5089,225.2332,228.8913,229.631,185.2593,195.0472,178.3242,170.8875,161.9085,143.7329,149.0631,134.6108,125.213,136.7044,132.6919,112.0591,116.7349,126.8924,121.1058,115.1326,107.4948,94.02853,87.06555,83.29736,93.99096,74.40087,82.86288,93.54678,89.59464,63.15111,75.28892,79.1107,58.22973,64.15459,68.02959,60.56561,47.84258,63.45319,52.89954,46.63703,55.12061,40.96524,50.36504,48.54936,39.52145,22.36573,31.92997,35.35455,46.56328,41.03574,37.31182,30.26531,27.75964,1200.819,0]},{\"_typename\":\"TH1F\",\"fUniqueID\":0,\"fBits\":50332168,\"fName\":\"ST_s-channel_4f_leptonDecays_13TeV-amcatnlo-pythia8_TuneCUETP8M1-v1\",\"fTitle\":\"\",\"fLineColor\":801,\"fLineStyle\":1,\"fLineWidth\":1,\"fFillColor\":801,\"fFillStyle\":1001,\"fMarkerColor\":1,\"fMarkerStyle\":1,\"fMarkerSize\":1,\"fNcells\":102,\"fXaxis\":{\"_typename\":\"TAxis\",\"fUniqueID\":0,\"fBits\":50331648,\"fName\":\"xaxis\",\"fTitle\":\"m_{Z} (GeV)\",\"fNdivisions\":510,\"fAxisColor\":1,\"fLabelColor\":1,\"fLabelFont\":42,\"fLabelOffset\":0.005,\"fLabelSize\":0.035,\"fTickLength\":0.03,\"fTitleOffset\":1,\"fTitleSize\":0.035,\"fTitleColor\":1,\"fTitleFont\":42,\"fNbins\":100,\"fXmin\":0,\"fXmax\":300,\"fXbins\":[],\"fFirst\":0,\"fLast\":0,\"fBits2\":0,\"fTimeDisplay\":false,\"fTimeFormat\":\"\",\"fLabels\":null,\"fModLabs\":null},\"fYaxis\":{\"_typename\":\"TAxis\",\"fUniqueID\":0,\"fBits\":50331648,\"fName\":\"yaxis\",\"fTitle\":\"\",\"fNdivisions\":510,\"fAxisColor\":1,\"fLabelColor\":1,\"fLabelFont\":42,\"fLabelOffset\":0.005,\"fLabelSize\":0.035,\"fTickLength\":0.03,\"fTitleOffset\":0,\"fTitleSize\":0.035,\"fTitleColor\":1,\"fTitleFont\":42,\"fNbins\":1,\"fXmin\":0,\"fXmax\":1,\"fXbins\":[],\"fFirst\":0,\"fLast\":0,\"fBits2\":0,\"fTimeDisplay\":false,\"fTimeFormat\":\"\",\"fLabels\":null,\"fModLabs\":null},\"fZaxis\":{\"_typename\":\"TAxis\",\"fUniqueID\":0,\"fBits\":50331648,\"fName\":\"zaxis\",\"fTitle\":\"\",\"fNdivisions\":510,\"fAxisColor\":1,\"fLabelColor\":1,\"fLabelFont\":42,\"fLabelOffset\":0.005,\"fLabelSize\":0.035,\"fTickLength\":0.03,\"fTitleOffset\":1,\"fTitleSize\":0.035,\"fTitleColor\":1,\"fTitleFont\":42,\"fNbins\":1,\"fXmin\":0,\"fXmax\":1,\"fXbins\":[],\"fFirst\":0,\"fLast\":0,\"fBits2\":0,\"fTimeDisplay\":false,\"fTimeFormat\":\"\",\"fLabels\":null,\"fModLabs\":null},\"fBarOffset\":0,\"fBarWidth\":1000,\"fEntries\":93581,\"fTsumw\":0,\"fTsumw2\":1545.4094732827,\"fTsumwx\":1408156.41580119,\"fTsumwx2\":214982824.747428,\"fMaximum\":-1111,\"fMinimum\":-1111,\"fNormFactor\":0,\"fContour\":[],\"fSumw2\":[0,1.92619315495923,1.01912461831836,1.55371616905034,2.75547983448731,4.69513557418995,6.57790834849493,7.92945868371344,10.137832922754,9.26247861169432,10.7103385903925,13.4252065683496,16.3154104045305,16.2215246450368,17.4612326559588,17.2513538278606,16.8464742453797,23.2458753116917,18.6766766914304,24.0765447346592,24.5642250574751,24.7126263054659,28.8320376924178,31.21136145534,30.5433299116127,31.812431020101,32.0570919631488,33.6483956571996,33.0384458651233,35.5035230064364,32.6769875037458,32.9418055746222,31.3671710776752,36.0875947258575,33.5004831980876,32.7097875913523,28.6852675836544,29.8408086351403,29.0708058733019,28.5311849670534,28.6653570326978,28.9764540775447,25.7007120968468,24.7042514163381,24.4751999707265,25.1976887004423,22.7743350188287,22.5886336611197,21.8324370761019,20.7137338216368,21.4639876581741,18.5146421185304,18.5964544810854,18.3659806835428,16.9130599598033,15.5325015896881,15.2582800603989,16.3227025378971,17.8020934653191,15.2206968665165,12.3587308527477,13.7495118857072,13.1487543581238,10.8413893937278,9.54631828691708,11.720724574608,10.7698026041919,11.3606812953407,10.4941446349672,10.1882453894521,10.2000514798451,10.2277895083111,9.06832735072872,8.6925816051381,8.2887498568543,6.15815387958318,7.84205265113368,6.80966320947435,6.41103918529723,6.53845474543286,6.40270946242856,6.370433825942,7.22164243707552,6.00224480714615,4.06373783887936,4.37701034760696,5.09059299760842,4.08010367578556,4.62191590534091,4.96456767907628,3.76467780626327,4.30670464318147,3.82140372011941,3.81924442983667,3.63748506048414,3.42222798285843,2.36407402861586,3.28947141100382,2.43870355028624,3.90796300264283,85.1185846273565,0],\"fOption\":\"\",\"fFunctions\":{\"_typename\":\"TList\",\"name\":\"TList\",\"arr\":[],\"opt\":[]},\"fBufferSize\":0,\"fBuffer\":[],\"fBinStatErrOpt\":0,\"fArray\":[0,15.36351,7.861748,12.37715,20.95153,35.80515,49.81669,60.0614,77.56326,70.31577,81.05801,101.0787,123.3543,123.775,132.6014,130.0908,126.2655,175.3353,141.9267,184.4928,185.594,187.0243,219.5232,235.421,231.8036,240.3967,243.2251,254.1683,249.0603,267.8839,246.9156,252.4006,238.1829,270.5666,253.2471,246.7456,216.3069,225.2217,221.0774,215.8429,217.097,218.3882,194.2556,185.4261,184.4783,190.9461,171.9746,170.4844,163.6223,156.0809,162.1078,139.4158,140.1487,138.968,127.5999,117.9153,114.8338,123.7349,133.8535,114.4983,93.34933,103.9967,99.21036,82.27766,71.84547,88.10441,81.12012,85.6666,78.99591,76.87,77.10943,77.4153,68.666,65.51309,63.34875,46.96448,59.51647,51.51048,48.37308,49.47665,48.50357,48.30469,55.21024,45.56876,30.55556,33.14406,38.32158,30.9264,34.93066,37.48239,28.30233,32.61345,28.95646,28.83678,27.49053,25.54152,17.96621,25.28227,18.50514,29.85754,642.9203,0]},{\"_typename\":\"TH1F\",\"fUniqueID\":0,\"fBits\":50332168,\"fName\":\"TTJets_DiLept_TuneCUETP8M1_13TeV-madgraphMLM-pythia8_ext1-v1\",\"fTitle\":\"\",\"fLineColor\":798,\"fLineStyle\":1,\"fLineWidth\":1,\"fFillColor\":41,\"fFillStyle\":1001,\"fMarkerColor\":1,\"fMarkerStyle\":1,\"fMarkerSize\":1,\"fNcells\":102,\"fXaxis\":{\"_typename\":\"TAxis\",\"fUniqueID\":0,\"fBits\":50331648,\"fName\":\"xaxis\",\"fTitle\":\"m_{Z} (GeV)\",\"fNdivisions\":510,\"fAxisColor\":1,\"fLabelColor\":1,\"fLabelFont\":42,\"fLabelOffset\":0.005,\"fLabelSize\":0.035,\"fTickLength\":0.03,\"fTitleOffset\":1,\"fTitleSize\":0.035,\"fTitleColor\":1,\"fTitleFont\":42,\"fNbins\":100,\"fXmin\":0,\"fXmax\":300,\"fXbins\":[],\"fFirst\":0,\"fLast\":0,\"fBits2\":0,\"fTimeDisplay\":false,\"fTimeFormat\":\"\",\"fLabels\":null,\"fModLabs\":null},\"fYaxis\":{\"_typename\":\"TAxis\",\"fUniqueID\":0,\"fBits\":50331648,\"fName\":\"yaxis\",\"fTitle\":\"\",\"fNdivisions\":510,\"fAxisColor\":1,\"fLabelColor\":1,\"fLabelFont\":42,\"fLabelOffset\":0.005,\"fLabelSize\":0.035,\"fTickLength\":0.03,\"fTitleOffset\":0,\"fTitleSize\":0.035,\"fTitleColor\":1,\"fTitleFont\":42,\"fNbins\":1,\"fXmin\":0,\"fXmax\":1,\"fXbins\":[],\"fFirst\":0,\"fLast\":0,\"fBits2\":0,\"fTimeDisplay\":false,\"fTimeFormat\":\"\",\"fLabels\":null,\"fModLabs\":null},\"fZaxis\":{\"_typename\":\"TAxis\",\"fUniqueID\":0,\"fBits\":50331648,\"fName\":\"zaxis\",\"fTitle\":\"\",\"fNdivisions\":510,\"fAxisColor\":1,\"fLabelColor\":1,\"fLabelFont\":42,\"fLabelOffset\":0.005,\"fLabelSize\":0.035,\"fTickLength\":0.03,\"fTitleOffset\":1,\"fTitleSize\":0.035,\"fTitleColor\":1,\"fTitleFont\":42,\"fNbins\":1,\"fXmin\":0,\"fXmax\":1,\"fXbins\":[],\"fFirst\":0,\"fLast\":0,\"fBits2\":0,\"fTimeDisplay\":false,\"fTimeFormat\":\"\",\"fLabels\":null,\"fModLabs\":null},\"fBarOffset\":0,\"fBarWidth\":1000,\"fEntries\":11160200,\"fTsumw\":0,\"fTsumw2\":210264.543621744,\"fTsumwx\":177468148.896368,\"fTsumwx2\":26445590952.4385,\"fMaximum\":-1111,\"fMinimum\":-1111,\"fNormFactor\":0,\"fContour\":[],\"fSumw2\":[0,46.3526736389744,103.48048273924,167.03419080551,342.492578426322,635.948494926332,908.10882552371,1132.48632813901,1328.59379353491,1477.46698329948,1651.88703968506,1849.48343289015,1992.36172910716,2138.08074285488,2323.96162514022,2504.47453085029,2685.84944739726,2831.92110194189,3028.32243466855,3266.17865218818,3475.98033519764,3728.1968696139,3909.6501507824,4075.861513062,4284.42895327788,4433.87028654512,4521.81498306278,4612.65917057723,4693.76655386596,4702.93521458555,4703.52294924707,4702.62175609941,4652.62512756008,4618.34060563852,4530.23917987779,4440.11986511254,4413.00570606143,4297.94685049266,4214.3513904702,4106.61962701496,3945.63910322319,3891.2932381874,3727.55036148622,3596.99490200587,3479.91815742986,3363.93851755537,3236.96823951033,3134.48690569556,3007.98681537974,2898.82489757895,2786.72430647053,2636.16627734291,2532.05887763125,2485.17724279684,2344.47356482748,2236.31079595129,2127.99129783202,2051.05683063824,1984.36853771041,1894.19044947691,1825.40590292297,1726.21588321274,1662.05484932946,1579.81117902657,1534.34010737983,1463.06748409209,1408.95671292092,1368.61852398484,1287.1780910527,1230.87311047849,1165.32110456294,1139.14732096964,1085.13450557539,1007.63189487547,996.62166554955,932.65654322012,892.396718905578,854.566197858678,802.532089158229,773.7918642096,754.886399263842,700.83440155882,697.738999008115,656.969804653584,611.949329580681,614.888002888311,570.847085584618,567.96718574314,543.772108843646,511.250790905866,488.427094883267,471.010557746708,450.322297660988,436.608488892044,410.336749521825,400.306077965112,375.32735485025,360.222574049028,348.546245440042,343.922732769369,8693.55561048561,0],\"fOption\":\"\",\"fFunctions\":{\"_typename\":\"TList\",\"name\":\"TList\",\"arr\":[],\"opt\":[]},\"fBufferSize\":0,\"fBuffer\":[],\"fBinStatErrOpt\":0,\"fArray\":[0,331.1581,739.2629,1193.346,2446.969,4543.199,6489.979,8094.964,9493.184,10554.37,11797.66,13206.16,14224.61,15263.32,16589.73,17885.45,19187.36,20235.86,21645.62,23352.95,24858.9,26669.31,27971.78,29164.84,30661.93,31734.62,32365.89,33017.96,33600.15,33665.96,33670.18,33663.71,33304.84,33058.75,32426.36,31779.48,31584.86,30758.96,30158.92,29385.62,28230.11,27840.01,26664.67,25727.54,24887.17,24054.67,23143.28,22407.67,21499.65,20716.09,19911.43,18830.73,18083.45,17746.93,16736.96,15963.51,15191.4,14643,14167.64,13524.83,13034.53,12327.49,11870.14,11283.9,10959.77,10451.73,10066.02,9778.485,9197.967,8796.617,8329.354,8142.611,7756.254,7201.873,7123.116,6665.57,6377.589,6106.985,5734.782,5529.201,5393.969,5007.332,4985.19,4693.566,4371.532,4392.552,4077.557,4056.993,3884.226,3652.004,3489.029,3364.665,3216.938,3119.013,2931.417,2859.792,2681.429,2573.572,2490.196,2457.181,62300.09,0]},{\"_typename\":\"TH1F\",\"fUniqueID\":0,\"fBits\":50332168,\"fName\":\"DYJetsToLL_M-10to50_TuneCUETP8M1_13TeV-amcatnloFXFX-pythia8-v1\",\"fTitle\":\"\",\"fLineColor\":418,\"fLineStyle\":1,\"fLineWidth\":1,\"fFillColor\":418,\"fFillStyle\":1001,\"fMarkerColor\":1,\"fMarkerStyle\":1,\"fMarkerSize\":1,\"fNcells\":102,\"fXaxis\":{\"_typename\":\"TAxis\",\"fUniqueID\":0,\"fBits\":50331656,\"fName\":\"xaxis\",\"fTitle\":\"m_{Z} (GeV)\",\"fNdivisions\":510,\"fAxisColor\":1,\"fLabelColor\":1,\"fLabelFont\":42,\"fLabelOffset\":0.005,\"fLabelSize\":0.035,\"fTickLength\":0.03,\"fTitleOffset\":1,\"fTitleSize\":0.035,\"fTitleColor\":1,\"fTitleFont\":42,\"fNbins\":100,\"fXmin\":0,\"fXmax\":300,\"fXbins\":[],\"fFirst\":0,\"fLast\":0,\"fBits2\":0,\"fTimeDisplay\":false,\"fTimeFormat\":\"\",\"fLabels\":null,\"fModLabs\":null},\"fYaxis\":{\"_typename\":\"TAxis\",\"fUniqueID\":0,\"fBits\":50331648,\"fName\":\"yaxis\",\"fTitle\":\"\",\"fNdivisions\":510,\"fAxisColor\":1,\"fLabelColor\":1,\"fLabelFont\":42,\"fLabelOffset\":0.005,\"fLabelSize\":0.035,\"fTickLength\":0.03,\"fTitleOffset\":0,\"fTitleSize\":0.035,\"fTitleColor\":1,\"fTitleFont\":42,\"fNbins\":1,\"fXmin\":0,\"fXmax\":1,\"fXbins\":[],\"fFirst\":0,\"fLast\":0,\"fBits2\":0,\"fTimeDisplay\":false,\"fTimeFormat\":\"\",\"fLabels\":null,\"fModLabs\":null},\"fZaxis\":{\"_typename\":\"TAxis\",\"fUniqueID\":0,\"fBits\":50331648,\"fName\":\"zaxis\",\"fTitle\":\"\",\"fNdivisions\":510,\"fAxisColor\":1,\"fLabelColor\":1,\"fLabelFont\":42,\"fLabelOffset\":0.005,\"fLabelSize\":0.035,\"fTickLength\":0.03,\"fTitleOffset\":1,\"fTitleSize\":0.035,\"fTitleColor\":1,\"fTitleFont\":42,\"fNbins\":1,\"fXmin\":0,\"fXmax\":1,\"fXbins\":[],\"fFirst\":0,\"fLast\":0,\"fBits2\":0,\"fTimeDisplay\":false,\"fTimeFormat\":\"\",\"fLabels\":null,\"fModLabs\":null},\"fBarOffset\":0,\"fBarWidth\":1000,\"fEntries\":39495,\"fTsumw\":0,\"fTsumw2\":791153.919852012,\"fTsumwx\":12613522.6100151,\"fTsumwx2\":1065845298.47792,\"fMaximum\":-1111,\"fMinimum\":-1111,\"fNormFactor\":0,\"fContour\":[],\"fSumw2\":[0,3612.16482169019,1818.32110773679,1902.39972939424,2685.70772687386,1355.99797870091,2820.55197284265,5508.60128865589,1541.07709678626,1907.082907273,2484.98681856784,4783.08368230576,3674.63839069843,7214.43253542805,9028.07046528607,8475.9240323244,9805.1030283026,15842.6534406867,21585.5072151548,38878.883696507,59369.9951536936,72342.3925016154,78656.1254205588,71679.8792164683,68775.7793741636,60384.4647156911,39160.2801331417,35281.2991606475,24021.5392461557,20862.331197744,20034.0022582215,13561.4784517193,7743.91241135092,7527.86188485886,4854.3928548767,5837.36025627274,3679.32156857719,3274.7888306708,2670.59668884799,3299.26622445419,1560.34056049609,3099.60682053777,1830.02905243369,635.694302424331,2564.91301454133,1868.55597985334,2088.00959967438,1136.54435887987,2107.27306338421,924.646258071754,828.328939522613,2247.33123942656,1078.75396775038,751.275084683301,751.275084683301,712.748157263644,308.215419357252,751.275084683301,693.484693553816,770.538548393129,654.957766134159,1488.50063573033,462.323129035877,558.640447585018,616.430838714503,1088.65107570269,943.909721781583,539.37698387519,577.903911294847,385.269274196564,539.37698387519,654.957766134159,231.161564517939,173.371173388454,1201.89026902228,38.5269274196565,231.161564517939,809.065475812785,0,462.323129035877,809.065475812785,231.161564517939,154.107709678626,0,38.5269274196565,269.688491937595,269.688491937595,308.215419357252,115.580782258969,96.3173185491411,231.161564517939,327.47888306708,0,154.107709678626,115.580782258969,192.634637098282,115.580782258969,0,857.489511184755,308.215419357252,5909.20018103849,0],\"fOption\":\"\",\"fFunctions\":{\"_typename\":\"TList\",\"name\":\"TList\",\"arr\":[],\"opt\":[]},\"fBufferSize\":0,\"fBuffer\":[],\"fBinStatErrOpt\":0,\"fArray\":[0,733.9644,302.9927,388.927,322.545,197.6562,353.2682,698.6058,351.1213,434.5124,566.183,778.1552,792.7175,1554.714,1812.122,1931.174,2234.012,3320.225,4650.937,8724.726,13526.62,16192.71,17586.61,16153.05,15535.94,13512.92,8900.117,7949.592,5473.109,4753.287,4564.553,3089.851,1764.39,1492.57,1106.035,1151.921,838.3034,746.1336,541.6946,618.1539,355.5103,505.8854,416.9564,144.8375,428.5786,425.7344,364.4389,258.9521,368.8279,210.6729,188.7278,267.1832,245.7851,171.1717,171.1717,162.3936,70.22425,171.1717,158.0046,175.5607,149.2266,205.5865,105.3364,127.2814,140.4485,159.0027,215.0619,122.8924,131.6705,87.78031,122.8924,149.2266,52.66819,39.50114,162.5441,8.778032,52.66819,184.3387,0,105.3364,184.3387,52.66819,35.11213,0,8.778032,61.44622,61.44622,70.22425,26.3341,21.94508,52.66819,74.61327,0,35.11213,26.3341,43.89016,26.3341,0,106.3346,70.22425,1301.846,0]}],\"opt\":[\"\",\"\",\"\",\"\",\"\",\"\",\"\",\"\"]},\"fHistogram\":{\"_typename\":\"TH1F\",\"fUniqueID\":0,\"fBits\":50332160,\"fName\":\"Bkg\",\"fTitle\":\"\",\"fLineColor\":602,\"fLineStyle\":1,\"fLineWidth\":1,\"fFillColor\":0,\"fFillStyle\":1001,\"fMarkerColor\":1,\"fMarkerStyle\":1,\"fMarkerSize\":1,\"fNcells\":102,\"fXaxis\":{\"_typename\":\"TAxis\",\"fUniqueID\":0,\"fBits\":50331656,\"fName\":\"xaxis\",\"fTitle\":\"m_{Z} (GeV)\",\"fNdivisions\":510,\"fAxisColor\":1,\"fLabelColor\":1,\"fLabelFont\":42,\"fLabelOffset\":0.010368,\"fLabelSize\":0.042,\"fTickLength\":0.03,\"fTitleOffset\":1.2,\"fTitleSize\":0.0504,\"fTitleColor\":1,\"fTitleFont\":42,\"fNbins\":100,\"fXmin\":0,\"fXmax\":300,\"fXbins\":[],\"fFirst\":0,\"fLast\":0,\"fBits2\":0,\"fTimeDisplay\":false,\"fTimeFormat\":\"\",\"fLabels\":null,\"fModLabs\":null},\"fYaxis\":{\"_typename\":\"TAxis\",\"fUniqueID\":0,\"fBits\":50331656,\"fName\":\"yaxis\",\"fTitle\":\"Events\",\"fNdivisions\":510,\"fAxisColor\":1,\"fLabelColor\":1,\"fLabelFont\":42,\"fLabelOffset\":0.005,\"fLabelSize\":0.042,\"fTickLength\":0.03,\"fTitleOffset\":0,\"fTitleSize\":0.0504,\"fTitleColor\":1,\"fTitleFont\":42,\"fNbins\":1,\"fXmin\":0,\"fXmax\":1,\"fXbins\":[],\"fFirst\":0,\"fLast\":0,\"fBits2\":0,\"fTimeDisplay\":false,\"fTimeFormat\":\"\",\"fLabels\":null,\"fModLabs\":null},\"fZaxis\":{\"_typename\":\"TAxis\",\"fUniqueID\":0,\"fBits\":50331648,\"fName\":\"zaxis\",\"fTitle\":\"\",\"fNdivisions\":510,\"fAxisColor\":1,\"fLabelColor\":1,\"fLabelFont\":42,\"fLabelOffset\":0.005,\"fLabelSize\":0.035,\"fTickLength\":0.03,\"fTitleOffset\":1,\"fTitleSize\":0.035,\"fTitleColor\":1,\"fTitleFont\":42,\"fNbins\":1,\"fXmin\":0,\"fXmax\":1,\"fXbins\":[],\"fFirst\":0,\"fLast\":0,\"fBits2\":0,\"fTimeDisplay\":false,\"fTimeFormat\":\"\",\"fLabels\":null,\"fModLabs\":null},\"fBarOffset\":0,\"fBarWidth\":1000,\"fEntries\":0,\"fTsumw\":0,\"fTsumw2\":0,\"fTsumwx\":0,\"fTsumwx2\":0,\"fMaximum\":79816.88203125,\"fMinimum\":1,\"fNormFactor\":0,\"fContour\":[],\"fSumw2\":[],\"fOption\":\"\",\"fFunctions\":{\"_typename\":\"TList\",\"name\":\"TList\",\"arr\":[],\"opt\":[]},\"fBufferSize\":0,\"fBuffer\":[],\"fBinStatErrOpt\":0,\"fArray\":[0,0,0,0,0,0,0,0,0,0,0,0,0,0,0,0,0,0,0,0,0,0,0,0,0,0,0,0,0,0,0,0,0,0,0,0,0,0,0,0,0,0,0,0,0,0,0,0,0,0,0,0,0,0,0,0,0,0,0,0,0,0,0,0,0,0,0,0,0,0,0,0,0,0,0,0,0,0,0,0,0,0,0,0,0,0,0,0,0,0,0,0,0,0,0,0,0,0,0,0,0,0]},\"fMaximum\":-1111,\"fMinimum\":1},{\"_typename\":\"TH1F\",\"fUniqueID\":0,\"fBits\":50332168,\"fName\":\"BkgSum\",\"fTitle\":\"\",\"fLineColor\":1,\"fLineStyle\":1,\"fLineWidth\":1,\"fFillColor\":1,\"fFillStyle\":3003,\"fMarkerColor\":1,\"fMarkerStyle\":0,\"fMarkerSize\":1,\"fNcells\":102,\"fXaxis\":{\"_typename\":\"TAxis\",\"fUniqueID\":0,\"fBits\":50331656,\"fName\":\"xaxis\",\"fTitle\":\"m_{Z} (GeV)\",\"fNdivisions\":510,\"fAxisColor\":1,\"fLabelColor\":1,\"fLabelFont\":42,\"fLabelOffset\":0.010368,\"fLabelSize\":0.042,\"fTickLength\":0.03,\"fTitleOffset\":1.2,\"fTitleSize\":0.0504,\"fTitleColor\":1,\"fTitleFont\":42,\"fNbins\":100,\"fXmin\":0,\"fXmax\":300,\"fXbins\":[],\"fFirst\":0,\"fLast\":0,\"fBits2\":0,\"fTimeDisplay\":false,\"fTimeFormat\":\"\",\"fLabels\":null,\"fModLabs\":null},\"fYaxis\":{\"_typename\":\"TAxis\",\"fUniqueID\":0,\"fBits\":50331656,\"fName\":\"yaxis\",\"fTitle\":\"Events \\/ 3.0 GeV\",\"fNdivisions\":510,\"fAxisColor\":1,\"fLabelColor\":1,\"fLabelFont\":42,\"fLabelOffset\":0.005,\"fLabelSize\":0.042,\"fTickLength\":0.03,\"fTitleOffset\":0,\"fTitleSize\":0.0504,\"fTitleColor\":1,\"fTitleFont\":42,\"fNbins\":1,\"fXmin\":0,\"fXmax\":1,\"fXbins\":[],\"fFirst\":0,\"fLast\":0,\"fBits2\":0,\"fTimeDisplay\":false,\"fTimeFormat\":\"\",\"fLabels\":null,\"fModLabs\":null},\"fZaxis\":{\"_typename\":\"TAxis\",\"fUniqueID\":0,\"fBits\":50331648,\"fName\":\"zaxis\",\"fTitle\":\"\",\"fNdivisions\":510,\"fAxisColor\":1,\"fLabelColor\":1,\"fLabelFont\":42,\"fLabelOffset\":0.005,\"fLabelSize\":0.035,\"fTickLength\":0.03,\"fTitleOffset\":1,\"fTitleSize\":0.035,\"fTitleColor\":1,\"fTitleFont\":42,\"fNbins\":1,\"fXmin\":0,\"fXmax\":1,\"fXbins\":[],\"fFirst\":0,\"fLast\":0,\"fBits2\":0,\"fTimeDisplay\":false,\"fTimeFormat\":\"\",\"fLabels\":null,\"fModLabs\":null},\"fBarOffset\":0,\"fBarWidth\":1000,\"fEntries\":13316827,\"fTsumw\":0,\"fTsumw2\":1617541.14319534,\"fTsumwx\":213776475.551926,\"fTsumwx2\":30986755173.4011,\"fMaximum\":-1111,\"fMinimum\":-1111,\"fNormFactor\":0,\"fContour\":[],\"fSumw2\":[0,16574.5480288099,7000.02496064061,6320.14657097863,6709.65568550054,5285.77313018746,8756.24434911268,8505.95603595458,7399.8072597812,7990.60411203932,8206.95872437783,11215.2651168873,9231.02757780898,12735.6322980917,15905.7098209886,19991.8579189891,20021.1354793268,25433.9236273945,39869.1876114375,52121.7098757126,74950.54546055,93948.034907942,99999.9482388526,91181.1863310982,86370.672784758,87556.6383735401,58535.6141235205,54909.9396057084,43232.7130090297,44573.9775216093,42916.9073948346,36739.4721412588,27354.2131311052,26192.4748190113,18457.0271669974,21887.8552578578,17947.7424249911,16561.1794813629,21510.3049538589,21584.4849219424,16707.8068709835,19140.8632011966,16832.079808178,13917.9255002907,13869.553542308,11839.31631526,16287.4052942396,10291.5922363619,12193.8503735216,11443.6543228878,8883.72117399112,11604.8324863673,11807.8304043769,8016.28182247834,7671.95790570277,6686.30259021604,7487.23161722556,8425.26614202363,6549.30139653741,6058.55315844641,4353.44282003792,8720.86288689154,3995.77452778299,4069.19152599349,5110.50558862019,7141.62164859805,3835.22084286955,3266.38454384214,6860.52832903451,3127.77187904492,4518.86993670207,3115.52534556314,3798.68027123003,2305.05968656805,3166.25045231019,2475.76693754486,2465.5515251063,2294.92976671719,2505.4781928664,2128.99106332797,3831.42068833991,4415.6858397172,1405.69476493427,1366.4637069473,1295.8474637208,1539.67468991271,1961.02279079699,1534.26614996753,1301.0871454592,3199.80556160098,1241.11660109398,3055.2281264735,853.078571127626,1111.71069647399,913.797679463201,1146.52045746667,1972.78085646697,632.022868706504,1656.49626127153,1546.83075645755,31973.7968389211,0],\"fOption\":\"\",\"fFunctions\":{\"_typename\":\"TList\",\"name\":\"TList\",\"arr\":[],\"opt\":[]},\"fBufferSize\":0,\"fBuffer\":[],\"fBinStatErrOpt\":0,\"fArray\":[0,4434.159,2358.344,2596.451,3797.947,5745.98,8266.428,10004.86,11382.63,12423.93,13793.61,15578.72,16549.29,18500.2,20390.68,22330.57,24045.77,26097.34,29753.57,35460.7,42307.33,47483.44,50268.46,50078.11,50976.8,50603.82,46421.77,46018.37,43951.66,43809.54,43726.92,41917.54,39866.67,39186.51,37834.28,37031.93,36581.57,35284.94,34747.99,34002.22,32302.83,31987.77,30496.08,29121.4,28451.41,27372.92,26599.22,25219.79,24473.34,23551,22562.82,21489.47,20564.87,19794.84,18905.77,17918.33,17143.8,16814.38,15936.05,15428.17,14541.52,14066.45,13339.87,12648.87,12335.77,12101.31,11218.98,10992.72,10661.71,9882.23,9448.776,9198.596,8911.271,8176.913,8191.233,7613.676,7291.016,6974.736,6592.625,6326.29,6401.596,5852.222,5589.634,5335.615,4914.119,5050.396,4700.065,4695.88,4418.196,4297.269,4024.257,3971.392,3594.748,3575.578,3336.135,3346.309,3214.876,2955.494,2975.442,2924.752,76016.09,0]},{\"_typename\":\"TH1F\",\"fUniqueID\":0,\"fBits\":50332168,\"fName\":\"SingleMuonRun2016B-03Feb2017_ver1-v1\",\"fTitle\":\"\",\"fLineColor\":1,\"fLineStyle\":1,\"fLineWidth\":1,\"fFillColor\":0,\"fFillStyle\":1,\"fMarkerColor\":1,\"fMarkerStyle\":20,\"fMarkerSize\":1.25,\"fNcells\":102,\"fXaxis\":{\"_typename\":\"TAxis\",\"fUniqueID\":0,\"fBits\":50331648,\"fName\":\"xaxis\",\"fTitle\":\"m_{Z} (GeV)\",\"fNdivisions\":510,\"fAxisColor\":1,\"fLabelColor\":1,\"fLabelFont\":42,\"fLabelOffset\":0.005,\"fLabelSize\":0.035,\"fTickLength\":0.03,\"fTitleOffset\":1,\"fTitleSize\":0.035,\"fTitleColor\":1,\"fTitleFont\":42,\"fNbins\":100,\"fXmin\":0,\"fXmax\":300,\"fXbins\":[],\"fFirst\":0,\"fLast\":0,\"fBits2\":0,\"fTimeDisplay\":false,\"fTimeFormat\":\"\",\"fLabels\":null,\"fModLabs\":null},\"fYaxis\":{\"_typename\":\"TAxis\",\"fUniqueID\":0,\"fBits\":50331648,\"fName\":\"yaxis\",\"fTitle\":\"\",\"fNdivisions\":510,\"fAxisColor\":1,\"fLabelColor\":1,\"fLabelFont\":42,\"fLabelOffset\":0.005,\"fLabelSize\":0.035,\"fTickLength\":0.03,\"fTitleOffset\":0,\"fTitleSize\":0.035,\"fTitleColor\":1,\"fTitleFont\":42,\"fNbins\":1,\"fXmin\":0,\"fXmax\":1,\"fXbins\":[],\"fFirst\":0,\"fLast\":0,\"fBits2\":0,\"fTimeDisplay\":false,\"fTimeFormat\":\"\",\"fLabels\":null,\"fModLabs\":null},\"fZaxis\":{\"_typename\":\"TAxis\",\"fUniqueID\":0,\"fBits\":50331648,\"fName\":\"zaxis\",\"fTitle\":\"\",\"fNdivisions\":510,\"fAxisColor\":1,\"fLabelColor\":1,\"fLabelFont\":42,\"fLabelOffset\":0.005,\"fLabelSize\":0.035,\"fTickLength\":0.03,\"fTitleOffset\":1,\"fTitleSize\":0.035,\"fTitleColor\":1,\"fTitleFont\":42,\"fNbins\":1,\"fXmin\":0,\"fXmax\":1,\"fXbins\":[],\"fFirst\":0,\"fLast\":0,\"fBits2\":0,\"fTimeDisplay\":false,\"fTimeFormat\":\"\",\"fLabels\":null,\"fModLabs\":null},\"fBarOffset\":0,\"fBarWidth\":1000,\"fEntries\":1882098,\"fTsumw\":0,\"fTsumw2\":1809899,\"fTsumwx\":199154146.672048,\"fTsumwx2\":28850197362.6035,\"fMaximum\":-1111,\"fMinimum\":-1111,\"fNormFactor\":0,\"fContour\":[],\"fSumw2\":[0,36685,12544,2981,4390,6663,8359,9797,11313,11836,13526,15118,16077,18111,18968,21109,23360,24171,28285,33946,39834,43452,46712,46894,48077,45246,44340,43252,41787,40399,40710,39667,37483,36882,36201,34848,33952,32948,31022,30776,29922,29004,28089,27043,26455,24915,24728,23157,22471,21030,20227,20160,19596,17716,17369,16486,16094,15535,15011,14399,13554,13111,11781,12019,11837,11232,10163,9419,9598,9173,8917,8687,7933,7727,7305,7572,6579,6264,6641,6264,5641,5493,5560,5093,4864,4656,4423,4318,4298,3845,3744,3648,3549,3605,3330,3146,2944,2881,2781,2795,74578,0],\"fOption\":\"\",\"fFunctions\":{\"_typename\":\"TList\",\"name\":\"TList\",\"arr\":[],\"opt\":[]},\"fBufferSize\":0,\"fBuffer\":[],\"fBinStatErrOpt\":0,\"fArray\":[0,36685,12544,2981,4390,6663,8359,9797,11313,11836,13526,15118,16077,18111,18968,21109,23360,24171,28285,33946,39834,43452,46712,46894,48077,45246,44340,43252,41787,40399,40710,39667,37483,36882,36201,34848,33952,32948,31022,30776,29922,29004,28089,27043,26455,24915,24728,23157,22471,21030,20227,20160,19596,17716,17369,16486,16094,15535,15011,14399,13554,13111,11781,12019,11837,11232,10163,9419,9598,9173,8917,8687,7933,7727,7305,7572,6579,6264,6641,6264,5641,5493,5560,5093,4864,4656,4423,4318,4298,3845,3744,3648,3549,3605,3330,3146,2944,2881,2781,2795,74578,0]},{\"_typename\":\"TLegend\",\"fUniqueID\":0,\"fBits\":50331656,\"fLineColor\":1,\"fLineStyle\":1,\"fLineWidth\":1,\"fFillColor\":0,\"fFillStyle\":0,\"fX1\":211.764705982897,\"fY1\":33472.1762892749,\"fX2\":300.000000854625,\"fY2\":76383.9407319621,\"fX1NDC\":0.7,\"fY1NDC\":0.4,\"fX2NDC\":0.95,\"fY2NDC\":0.9,\"fBorderSize\":0,\"fInit\":1,\"fShadowColor\":1,\"fCornerRadius\":0,\"fOption\":\"brNDC\",\"fName\":\"TPave\",\"fTextAngle\":0,\"fTextSize\":0,\"fTextAlign\":12,\"fTextColor\":1,\"fTextFont\":42,\"fPrimitives\":{\"_typename\":\"TList\",\"name\":\"TList\",\"arr\":[{\"_typename\":\"TLegendEntry\",\"fUniqueID\":0,\"fBits\":50331656,\"fTextAngle\":0,\"fTextSize\":0,\"fTextAlign\":0,\"fTextColor\":0,\"fTextFont\":42,\"fLineColor\":1,\"fLineStyle\":1,\"fLineWidth\":1,\"fFillColor\":0,\"fFillStyle\":0,\"fMarkerColor\":1,\"fMarkerStyle\":20,\"fMarkerSize\":1.25,\"fObject\":{\"$ref\":57},\"fLabel\":\"Data\",\"fOption\":\"pl\"},{\"_typename\":\"TLegendEntry\",\"fUniqueID\":0,\"fBits\":50331656,\"fTextAngle\":0,\"fTextSize\":0,\"fTextAlign\":0,\"fTextColor\":0,\"fTextFont\":42,\"fLineColor\":418,\"fLineStyle\":1,\"fLineWidth\":1,\"fFillColor\":418,\"fFillStyle\":1001,\"fMarkerColor\":1,\"fMarkerStyle\":21,\"fMarkerSize\":1,\"fObject\":{\"$ref\":42},\"fLabel\":\"Z(ll) + jets\",\"fOption\":\"f\"},{\"_typename\":\"TLegendEntry\",\"fUniqueID\":0,\"fBits\":50331656,\"fTextAngle\":0,\"fTextSize\":0,\"fTextAlign\":0,\"fTextColor\":0,\"fTextFont\":42,\"fLineColor\":798,\"fLineStyle\":1,\"fLineWidth\":1,\"fFillColor\":41,\"fFillStyle\":1001,\"fMarkerColor\":1,\"fMarkerStyle\":21,\"fMarkerSize\":1,\"fObject\":{\"$ref\":37},\"fLabel\":\"t#bar{t} di-lept\",\"fOption\":\"f\"},{\"_typename\":\"TLegendEntry\",\"fUniqueID\":0,\"fBits\":50331656,\"fTextAngle\":0,\"fTextSize\":0,\"fTextAlign\":0,\"fTextColor\":0,\"fTextFont\":42,\"fLineColor\":801,\"fLineStyle\":1,\"fLineWidth\":1,\"fFillColor\":801,\"fFillStyle\":1001,\"fMarkerColor\":1,\"fMarkerStyle\":21,\"fMarkerSize\":1,\"fObject\":{\"$ref\":32},\"fLabel\":\"Single-t\",\"fOption\":\"f\"},{\"_typename\":\"TLegendEntry\",\"fUniqueID\":0,\"fBits\":50331656,\"fTextAngle\":0,\"fTextSize\":0,\"fTextAlign\":0,\"fTextColor\":0,\"fTextFont\":42,\"fLineColor\":798,\"fLineStyle\":1,\"fLineWidth\":1,\"fFillColor\":798,\"fFillStyle\":1001,\"fMarkerColor\":1,\"fMarkerStyle\":21,\"fMarkerSize\":1,\"fObject\":{\"$ref\":27},\"fLabel\":\"t#bar{t} sing.lept\",\"fOption\":\"f\"},{\"_typename\":\"TLegendEntry\",\"fUniqueID\":0,\"fBits\":50331656,\"fTextAngle\":0,\"fTextSize\":0,\"fTextAlign\":0,\"fTextColor\":0,\"fTextFont\":42,\"fLineColor\":881,\"fLineStyle\":1,\"fLineWidth\":1,\"fFillColor\":881,\"fFillStyle\":1001,\"fMarkerColor\":1,\"fMarkerStyle\":21,\"fMarkerSize\":1,\"fObject\":{\"$ref\":22},\"fLabel\":\"W(l#nu) + jets\",\"fOption\":\"f\"},{\"_typename\":\"TLegendEntry\",\"fUniqueID\":0,\"fBits\":50331656,\"fTextAngle\":0,\"fTextSize\":0,\"fTextAlign\":0,\"fTextColor\":0,\"fTextFont\":42,\"fLineColor\":602,\"fLineStyle\":1,\"fLineWidth\":1,\"fFillColor\":46,\"fFillStyle\":1001,\"fMarkerColor\":1,\"fMarkerStyle\":21,\"fMarkerSize\":1,\"fObject\":{\"$ref\":17},\"fLabel\":\"WWW,WWZ\",\"fOption\":\"f\"},{\"_typename\":\"TLegendEntry\",\"fUniqueID\":0,\"fBits\":50331656,\"fTextAngle\":0,\"fTextSize\":0,\"fTextAlign\":0,\"fTextColor\":0,\"fTextFont\":42,\"fLineColor\":602,\"fLineStyle\":1,\"fLineWidth\":1,\"fFillColor\":9,\"fFillStyle\":1001,\"fMarkerColor\":1,\"fMarkerStyle\":21,\"fMarkerSize\":1,\"fObject\":{\"$ref\":12},\"fLabel\":\"WW, WZ, ZZ\",\"fOption\":\"f\"},{\"_typename\":\"TLegendEntry\",\"fUniqueID\":0,\"fBits\":50331656,\"fTextAngle\":0,\"fTextSize\":0,\"fTextAlign\":0,\"fTextColor\":0,\"fTextFont\":42,\"fLineColor\":602,\"fLineStyle\":1,\"fLineWidth\":1,\"fFillColor\":38,\"fFillStyle\":1001,\"fMarkerColor\":1,\"fMarkerStyle\":21,\"fMarkerSize\":1,\"fObject\":{\"$ref\":7},\"fLabel\":\"ttW,ttZ,ttH\",\"fOption\":\"f\"},{\"_typename\":\"TLegendEntry\",\"fUniqueID\":0,\"fBits\":50331656,\"fTextAngle\":0,\"fTextSize\":0,\"fTextAlign\":0,\"fTextColor\":0,\"fTextFont\":42,\"fLineColor\":1,\"fLineStyle\":1,\"fLineWidth\":1,\"fFillColor\":1,\"fFillStyle\":3003,\"fMarkerColor\":1,\"fMarkerStyle\":21,\"fMarkerSize\":1,\"fObject\":{\"$ref\":52},\"fLabel\":\"MC stat.\",\"fOption\":\"f\"}],\"opt\":[\"pl\",\"f\",\"f\",\"f\",\"f\",\"f\",\"f\",\"f\",\"f\",\"f\"]},\"fEntrySeparation\":0.1,\"fMargin\":0.25,\"fNColumns\":1,\"fColumnSeparation\":0},{\"_typename\":\"TLatex\",\"fUniqueID\":0,\"fBits\":50348041,\"fName\":\"\",\"fTitle\":\"35.8 fb^{-1}  (13 TeV)\",\"fTextAngle\":0,\"fTextSize\":0.04,\"fTextAlign\":33,\"fTextColor\":1,\"fTextFont\":42,\"fX\":0.95,\"fY\":0.985,\"fLineColor\":1,\"fLineStyle\":1,\"fLineWidth\":2,\"fLimitFactorSize\":3,\"fOriginSize\":0.04},{\"_typename\":\"TLatex\",\"fUniqueID\":0,\"fBits\":50348041,\"fName\":\"\",\"fTitle\":\"CMS\",\"fTextAngle\":0,\"fTextSize\":0.05,\"fTextAlign\":11,\"fTextColor\":1,\"fTextFont\":62,\"fX\":0.15,\"fY\":0.87,\"fLineColor\":1,\"fLineStyle\":1,\"fLineWidth\":2,\"fLimitFactorSize\":3,\"fOriginSize\":0.04},{\"_typename\":\"TLatex\",\"fUniqueID\":0,\"fBits\":50348041,\"fName\":\"\",\"fTitle\":\"Preliminary\",\"fTextAngle\":0,\"fTextSize\":0.04,\"fTextAlign\":11,\"fTextColor\":1,\"fTextFont\":52,\"fX\":0.15,\"fY\":0.83,\"fLineColor\":1,\"fLineStyle\":1,\"fLineWidth\":2,\"fLimitFactorSize\":3,\"fOriginSize\":0.04}],\"opt\":[\"\",\"hist\",\"SAME, E2\",\"SAME, PE\",\"\",\"\",\"\",\"\"]},\"fExecs\":{\"_typename\":\"TList\",\"name\":\"TList\",\"arr\":[],\"opt\":[]},\"fName\":\"TopPad\",\"fTitle\":\"\",\"fNumPaletteColor\":0,\"fNextPaletteColor\":0},{\"_typename\":\"TPad\",\"fUniqueID\":0,\"fBits\":50331657,\"fLineColor\":1,\"fLineStyle\":1,\"fLineWidth\":1,\"fFillColor\":0,\"fFillStyle\":1001,\"fLeftMargin\":0.1,\"fRightMargin\":0.05,\"fBottomMargin\":0.4,\"fTopMargin\":0.04,\"fXfile\":2,\"fYfile\":2,\"fAfile\":1,\"fXstat\":0.99,\"fYstat\":0.99,\"fAstat\":2,\"fFrameFillColor\":0,\"fFrameLineColor\":1,\"fFrameFillStyle\":1001,\"fFrameLineStyle\":1,\"fFrameLineWidth\":1,\"fFrameBorderSize\":1,\"fFrameBorderMode\":0,\"fX1\":-35.2941196579423,\"fY1\":-1.42857144377669,\"fX2\":317.647059828971,\"fY2\":2.14285713905583,\"fXtoAbsPixelk\":79.6000538549305,\"fXtoPixelk\":79.6000538549305,\"fXtoPixel\":2.25533331405868,\"fYtoAbsPixelk\":694.800049424815,\"fYtoPixelk\":115.800049424815,\"fYtoPixel\":-54.0399998274446,\"fUtoAbsPixelk\":5e-5,\"fUtoPixelk\":5e-5,\"fUtoPixel\":796,\"fVtoAbsPixelk\":772.00005,\"fVtoPixelk\":193,\"fVtoPixel\":-193,\"fAbsPixeltoXk\":-35.2941196579423,\"fPixeltoXk\":-35.2941196579423,\"fPixeltoX\":0.443393441566474,\"fAbsPixeltoYk\":12.8571428875534,\"fPixeltoYk\":-1.42857144377669,\"fPixeltoY\":-0.0185048113100131,\"fXlowNDC\":0,\"fYlowNDC\":0,\"fXUpNDC\":0,\"fYUpNDC\":0,\"fWNDC\":1,\"fHNDC\":0.25,\"fAbsXlowNDC\":0,\"fAbsYlowNDC\":0,\"fAbsWNDC\":1,\"fAbsHNDC\":0.25,\"fUxmin\":0,\"fUymin\":0,\"fUxmax\":300,\"fUymax\":2,\"fTheta\":30,\"fPhi\":30,\"fAspectRatio\":0,\"fNumber\":2,\"fTickx\":1,\"fTicky\":1,\"fLogx\":0,\"fLogy\":0,\"fLogz\":0,\"fPadPaint\":0,\"fCrosshair\":0,\"fCrosshairPos\":0,\"fBorderSize\":2,\"fBorderMode\":0,\"fModified\":false,\"fGridx\":false,\"fGridy\":false,\"fAbsCoord\":false,\"fEditable\":true,\"fFixedAspectRatio\":false,\"fPrimitives\":{\"_typename\":\"TList\",\"name\":\"TList\",\"arr\":[{\"_typename\":\"TFrame\",\"fUniqueID\":0,\"fBits\":50331656,\"fLineColor\":1,\"fLineStyle\":1,\"fLineWidth\":1,\"fFillColor\":0,\"fFillStyle\":1001,\"fX1\":0,\"fY1\":0,\"fX2\":300,\"fY2\":2,\"fBorderSize\":1,\"fBorderMode\":0},{\"_typename\":\"TH1F\",\"fUniqueID\":0,\"fBits\":50332168,\"fName\":\"BkgErr;\",\"fTitle\":\"\",\"fLineColor\":1,\"fLineStyle\":1,\"fLineWidth\":1,\"fFillColor\":1,\"fFillStyle\":3003,\"fMarkerColor\":1,\"fMarkerStyle\":0,\"fMarkerSize\":1,\"fNcells\":102,\"fXaxis\":{\"_typename\":\"TAxis\",\"fUniqueID\":0,\"fBits\":50331656,\"fName\":\"xaxis\",\"fTitle\":\"m_{Z} (GeV)\",\"fNdivisions\":510,\"fAxisColor\":1,\"fLabelColor\":1,\"fLabelFont\":42,\"fLabelOffset\":0.031104,\"fLabelSize\":0.126,\"fTickLength\":0.03,\"fTitleOffset\":1.2,\"fTitleSize\":0.1512,\"fTitleColor\":1,\"fTitleFont\":42,\"fNbins\":100,\"fXmin\":0,\"fXmax\":300,\"fXbins\":[],\"fFirst\":0,\"fLast\":0,\"fBits2\":0,\"fTimeDisplay\":false,\"fTimeFormat\":\"\",\"fLabels\":null,\"fModLabs\":null},\"fYaxis\":{\"_typename\":\"TAxis\",\"fUniqueID\":0,\"fBits\":50331656,\"fName\":\"yaxis\",\"fTitle\":\"Data \\/ Bkg\",\"fNdivisions\":505,\"fAxisColor\":1,\"fLabelColor\":1,\"fLabelFont\":42,\"fLabelOffset\":0.005,\"fLabelSize\":0.126,\"fTickLength\":0.03,\"fTitleOffset\":0,\"fTitleSize\":0.1512,\"fTitleColor\":1,\"fTitleFont\":42,\"fNbins\":1,\"fXmin\":0,\"fXmax\":1,\"fXbins\":[],\"fFirst\":0,\"fLast\":0,\"fBits2\":0,\"fTimeDisplay\":false,\"fTimeFormat\":\"\",\"fLabels\":null,\"fModLabs\":null},\"fZaxis\":{\"_typename\":\"TAxis\",\"fUniqueID\":0,\"fBits\":50331648,\"fName\":\"zaxis\",\"fTitle\":\"\",\"fNdivisions\":510,\"fAxisColor\":1,\"fLabelColor\":1,\"fLabelFont\":42,\"fLabelOffset\":0.005,\"fLabelSize\":0.035,\"fTickLength\":0.03,\"fTitleOffset\":1,\"fTitleSize\":0.035,\"fTitleColor\":1,\"fTitleFont\":42,\"fNbins\":1,\"fXmin\":0,\"fXmax\":1,\"fXbins\":[],\"fFirst\":0,\"fLast\":0,\"fBits2\":0,\"fTimeDisplay\":false,\"fTimeFormat\":\"\",\"fLabels\":null,\"fModLabs\":null},\"fBarOffset\":0,\"fBarWidth\":1000,\"fEntries\":13316927,\"fTsumw\":0,\"fTsumw2\":1617541.14319534,\"fTsumwx\":213776475.551926,\"fTsumwx2\":30986755173.4011,\"fMaximum\":2,\"fMinimum\":0,\"fNormFactor\":0,\"fContour\":[],\"fSumw2\":[0,8.42983618768851e-4,0.00125859343788195,9.37490579269475e-4,4.65160132421499e-4,1.60095906671465e-4,1.28139234564256e-4,8.49769035500084e-5,5.71129780469104e-5,5.17679900495213e-5,4.31346501896822e-5,4.62110864832696e-5,3.37047459052386e-5,3.72107038457129e-5,3.82551125229034e-5,4.00916267794311e-5,3.4626724729027e-5,3.73440095786727e-5,4.50359261917871e-5,4.14499551383661e-5,4.18739104606223e-5,4.16680711727168e-5,3.9573876836595e-5,3.63587816430549e-5,3.32369489288286e-5,3.41918344528075e-5,2.71629459808083e-5,2.59291664645989e-5,2.23800908244288e-5,2.32243742901249e-5,2.24455683046104e-5,2.09093935926916e-5,1.72109303935697e-5,1.70570265003304e-5,1.28940949879573e-5,1.59606480763334e-5,1.34117375728938e-5,1.33018627576992e-5,1.78150537529362e-5,1.86692587770525e-5,1.60117335057771e-5,1.87065435669364e-5,1.80988007364482e-5,1.64115649734017e-5,1.71338424534229e-5,1.58009948700709e-5,2.30204574767577e-5,1.61807806008966e-5,2.03589065544308e-5,2.06322162786896e-5,1.74505080156567e-5,2.51297123471636e-5,2.79201741994045e-5,2.04582740695015e-5,2.1464342137341e-5,2.08252944674898e-5,2.54745807611963e-5,2.98003706717888e-5,2.57889507894359e-5,2.54530623266554e-5,2.05879657799932e-5,4.40748267238237e-5,2.24542260125411e-5,2.54333985548194e-5,3.35838924149948e-5,4.87677036831926e-5,3.047077619945e-5,2.70307010930353e-5,6.03537240564689e-5,3.20276529992257e-5,5.06149370439274e-5,3.68203766181976e-5,4.78358490617908e-5,3.44749315236671e-5,4.71896399029353e-5,4.27091516757233e-5,4.63807775351817e-5,4.71752065744493e-5,5.76466158022038e-5,5.31955912764137e-5,9.34939026571034e-5,1.28930764409944e-4,4.49908622351757e-5,4.79986578404304e-5,5.36614750303431e-5,6.03640250403237e-5,8.87717606299918e-5,6.9577153029774e-5,6.66524891758783e-5,1.73276073458306e-4,7.66374685907485e-5,1.93712707209991e-4,6.60164608427214e-5,8.69559492323644e-5,8.21037163217006e-5,1.02388136955825e-4,1.90875592513121e-4,7.23556969188808e-5,1.87105913120324e-4,1.80827630697333e-4,5.53328708005558e-6,0],\"fOption\":\"\",\"fFunctions\":{\"_typename\":\"TList\",\"name\":\"TList\",\"arr\":[],\"opt\":[]},\"fBufferSize\":0,\"fBuffer\":[],\"fBinStatErrOpt\":0,\"fArray\":[0,1,1,1,1,1,1,1,1,1,1,1,1,1,1,1,1,1,1,1,1,1,1,1,1,1,1,1,1,1,1,1,1,1,1,1,1,1,1,1,1,1,1,1,1,1,1,1,1,1,1,1,1,1,1,1,1,1,1,1,1,1,1,1,1,1,1,1,1,1,1,1,1,1,1,1,1,1,1,1,1,1,1,1,1,1,1,1,1,1,1,1,1,1,1,1,1,1,1,1,1,0]},{\"_typename\":\"TH1F\",\"fUniqueID\":0,\"fBits\":50332168,\"fName\":\"errLine\",\"fTitle\":\"\",\"fLineColor\":1,\"fLineStyle\":1,\"fLineWidth\":1,\"fFillColor\":1,\"fFillStyle\":0,\"fMarkerColor\":1,\"fMarkerStyle\":0,\"fMarkerSize\":1,\"fNcells\":102,\"fXaxis\":{\"_typename\":\"TAxis\",\"fUniqueID\":0,\"fBits\":50331656,\"fName\":\"xaxis\",\"fTitle\":\"m_{Z} (GeV)\",\"fNdivisions\":510,\"fAxisColor\":1,\"fLabelColor\":1,\"fLabelFont\":42,\"fLabelOffset\":0.031104,\"fLabelSize\":0.126,\"fTickLength\":0.03,\"fTitleOffset\":1.2,\"fTitleSize\":0.1512,\"fTitleColor\":1,\"fTitleFont\":42,\"fNbins\":100,\"fXmin\":0,\"fXmax\":300,\"fXbins\":[],\"fFirst\":0,\"fLast\":0,\"fBits2\":0,\"fTimeDisplay\":false,\"fTimeFormat\":\"\",\"fLabels\":null,\"fModLabs\":null},\"fYaxis\":{\"_typename\":\"TAxis\",\"fUniqueID\":0,\"fBits\":50331656,\"fName\":\"yaxis\",\"fTitle\":\"Data \\/ Bkg\",\"fNdivisions\":505,\"fAxisColor\":1,\"fLabelColor\":1,\"fLabelFont\":42,\"fLabelOffset\":0.005,\"fLabelSize\":0.126,\"fTickLength\":0.03,\"fTitleOffset\":0,\"fTitleSize\":0.1512,\"fTitleColor\":1,\"fTitleFont\":42,\"fNbins\":1,\"fXmin\":0,\"fXmax\":1,\"fXbins\":[],\"fFirst\":0,\"fLast\":0,\"fBits2\":0,\"fTimeDisplay\":false,\"fTimeFormat\":\"\",\"fLabels\":null,\"fModLabs\":null},\"fZaxis\":{\"_typename\":\"TAxis\",\"fUniqueID\":0,\"fBits\":50331648,\"fName\":\"zaxis\",\"fTitle\":\"\",\"fNdivisions\":510,\"fAxisColor\":1,\"fLabelColor\":1,\"fLabelFont\":42,\"fLabelOffset\":0.005,\"fLabelSize\":0.035,\"fTickLength\":0.03,\"fTitleOffset\":1,\"fTitleSize\":0.035,\"fTitleColor\":1,\"fTitleFont\":42,\"fNbins\":1,\"fXmin\":0,\"fXmax\":1,\"fXbins\":[],\"fFirst\":0,\"fLast\":0,\"fBits2\":0,\"fTimeDisplay\":false,\"fTimeFormat\":\"\",\"fLabels\":null,\"fModLabs\":null},\"fBarOffset\":0,\"fBarWidth\":1000,\"fEntries\":13316927,\"fTsumw\":0,\"fTsumw2\":1617541.14319534,\"fTsumwx\":213776475.551926,\"fTsumwx2\":30986755173.4011,\"fMaximum\":2,\"fMinimum\":0,\"fNormFactor\":0,\"fContour\":[],\"fSumw2\":[0,8.42983618768851e-4,0.00125859343788195,9.37490579269475e-4,4.65160132421499e-4,1.60095906671465e-4,1.28139234564256e-4,8.49769035500084e-5,5.71129780469104e-5,5.17679900495213e-5,4.31346501896822e-5,4.62110864832696e-5,3.37047459052386e-5,3.72107038457129e-5,3.82551125229034e-5,4.00916267794311e-5,3.4626724729027e-5,3.73440095786727e-5,4.50359261917871e-5,4.14499551383661e-5,4.18739104606223e-5,4.16680711727168e-5,3.9573876836595e-5,3.63587816430549e-5,3.32369489288286e-5,3.41918344528075e-5,2.71629459808083e-5,2.59291664645989e-5,2.23800908244288e-5,2.32243742901249e-5,2.24455683046104e-5,2.09093935926916e-5,1.72109303935697e-5,1.70570265003304e-5,1.28940949879573e-5,1.59606480763334e-5,1.34117375728938e-5,1.33018627576992e-5,1.78150537529362e-5,1.86692587770525e-5,1.60117335057771e-5,1.87065435669364e-5,1.80988007364482e-5,1.64115649734017e-5,1.71338424534229e-5,1.58009948700709e-5,2.30204574767577e-5,1.61807806008966e-5,2.03589065544308e-5,2.06322162786896e-5,1.74505080156567e-5,2.51297123471636e-5,2.79201741994045e-5,2.04582740695015e-5,2.1464342137341e-5,2.08252944674898e-5,2.54745807611963e-5,2.98003706717888e-5,2.57889507894359e-5,2.54530623266554e-5,2.05879657799932e-5,4.40748267238237e-5,2.24542260125411e-5,2.54333985548194e-5,3.35838924149948e-5,4.87677036831926e-5,3.047077619945e-5,2.70307010930353e-5,6.03537240564689e-5,3.20276529992257e-5,5.06149370439274e-5,3.68203766181976e-5,4.78358490617908e-5,3.44749315236671e-5,4.71896399029353e-5,4.27091516757233e-5,4.63807775351817e-5,4.71752065744493e-5,5.76466158022038e-5,5.31955912764137e-5,9.34939026571034e-5,1.28930764409944e-4,4.49908622351757e-5,4.79986578404304e-5,5.36614750303431e-5,6.03640250403237e-5,8.87717606299918e-5,6.9577153029774e-5,6.66524891758783e-5,1.73276073458306e-4,7.66374685907485e-5,1.93712707209991e-4,6.60164608427214e-5,8.69559492323644e-5,8.21037163217006e-5,1.02388136955825e-4,1.90875592513121e-4,7.23556969188808e-5,1.87105913120324e-4,1.80827630697333e-4,5.53328708005558e-6,0],\"fOption\":\"\",\"fFunctions\":{\"_typename\":\"TList\",\"name\":\"TList\",\"arr\":[],\"opt\":[]},\"fBufferSize\":0,\"fBuffer\":[],\"fBinStatErrOpt\":0,\"fArray\":[0,1,1,1,1,1,1,1,1,1,1,1,1,1,1,1,1,1,1,1,1,1,1,1,1,1,1,1,1,1,1,1,1,1,1,1,1,1,1,1,1,1,1,1,1,1,1,1,1,1,1,1,1,1,1,1,1,1,1,1,1,1,1,1,1,1,1,1,1,1,1,1,1,1,1,1,1,1,1,1,1,1,1,1,1,1,1,1,1,1,1,1,1,1,1,1,1,1,1,1,1,0]},{\"_typename\":\"TH1F\",\"fUniqueID\":0,\"fBits\":50332168,\"fName\":\"Residues\",\"fTitle\":\"\",\"fLineColor\":1,\"fLineStyle\":1,\"fLineWidth\":1,\"fFillColor\":0,\"fFillStyle\":1,\"fMarkerColor\":1,\"fMarkerStyle\":20,\"fMarkerSize\":1.25,\"fNcells\":102,\"fXaxis\":{\"_typename\":\"TAxis\",\"fUniqueID\":0,\"fBits\":50331656,\"fName\":\"xaxis\",\"fTitle\":\"m_{Z} (GeV)\",\"fNdivisions\":510,\"fAxisColor\":1,\"fLabelColor\":1,\"fLabelFont\":42,\"fLabelOffset\":0.015,\"fLabelSize\":0.105,\"fTickLength\":0.03,\"fTitleOffset\":1,\"fTitleSize\":0.105,\"fTitleColor\":1,\"fTitleFont\":42,\"fNbins\":100,\"fXmin\":0,\"fXmax\":300,\"fXbins\":[],\"fFirst\":0,\"fLast\":0,\"fBits2\":0,\"fTimeDisplay\":false,\"fTimeFormat\":\"\",\"fLabels\":null,\"fModLabs\":null},\"fYaxis\":{\"_typename\":\"TAxis\",\"fUniqueID\":0,\"fBits\":50331656,\"fName\":\"yaxis\",\"fTitle\":\"\",\"fNdivisions\":505,\"fAxisColor\":1,\"fLabelColor\":1,\"fLabelFont\":42,\"fLabelOffset\":0.005,\"fLabelSize\":0.105,\"fTickLength\":0.03,\"fTitleOffset\":0,\"fTitleSize\":0.105,\"fTitleColor\":1,\"fTitleFont\":42,\"fNbins\":1,\"fXmin\":0,\"fXmax\":1,\"fXbins\":[],\"fFirst\":0,\"fLast\":0,\"fBits2\":0,\"fTimeDisplay\":false,\"fTimeFormat\":\"\",\"fLabels\":null,\"fModLabs\":null},\"fZaxis\":{\"_typename\":\"TAxis\",\"fUniqueID\":0,\"fBits\":50331648,\"fName\":\"zaxis\",\"fTitle\":\"\",\"fNdivisions\":510,\"fAxisColor\":1,\"fLabelColor\":1,\"fLabelFont\":42,\"fLabelOffset\":0.005,\"fLabelSize\":0.035,\"fTickLength\":0.03,\"fTitleOffset\":1,\"fTitleSize\":0.035,\"fTitleColor\":1,\"fTitleFont\":42,\"fNbins\":1,\"fXmin\":0,\"fXmax\":1,\"fXbins\":[],\"fFirst\":0,\"fLast\":0,\"fBits2\":0,\"fTimeDisplay\":false,\"fTimeFormat\":\"\",\"fLabels\":null,\"fModLabs\":null},\"fBarOffset\":0,\"fBarWidth\":1000,\"fEntries\":1882198,\"fTsumw\":0,\"fTsumw2\":1809899,\"fTsumwx\":199154146.672048,\"fTsumwx2\":28850197362.6035,\"fMaximum\":2,\"fMinimum\":0,\"fNormFactor\":0,\"fContour\":[],\"fSumw2\":[0,0.00186580376133224,0.00225539139839673,4.42182690767814e-4,3.04345420547171e-4,2.01809460958485e-4,1.22325944664982e-4,9.78747974431545e-5,8.73156689034901e-5,7.668080180608e-5,7.10908020936674e-5,6.22918137175488e-5,5.87010704226642e-5,5.29163406712587e-5,4.56202824332257e-5,4.23319409889946e-5,4.04013194209337e-5,3.54896896267265e-5,3.19505173957762e-5,2.69956641960173e-5,2.22547459666772e-5,1.92719414554123e-5,1.84857589163512e-5,1.86991283506464e-5,1.85008723694148e-5,1.76690627962625e-5,2.05755938982298e-5,2.04241402554783e-5,2.16316948484144e-5,2.10490862407758e-5,2.12913544136376e-5,2.25755261929814e-5,2.3583837007126e-5,2.40182440083351e-5,2.52900496074297e-5,2.54111998462888e-5,2.5371175008665e-5,2.64636812030133e-5,2.56927365143859e-5,2.66193569223639e-5,2.86754026820792e-5,2.834587886201e-5,3.0202875680229e-5,3.18882258398661e-5,3.26813549349387e-5,3.32520710406555e-5,3.49503105130312e-5,3.64081988257455e-5,3.75176810581521e-5,3.79158174564075e-5,3.97323845176595e-5,4.36555203630865e-5,4.63356700489808e-5,4.52128295189147e-5,4.85943957417119e-5,5.13476319623075e-5,5.47582769881797e-5,5.49476717509418e-5,5.91082799311832e-5,6.04927669786249e-5,6.40985306841809e-5,6.62623711289682e-5,6.62032441556505e-5,7.51215604568382e-5,7.77873201824686e-5,7.66995053395397e-5,8.07448935022235e-5,7.79461726499046e-5,8.44359232571686e-5,9.39293760296892e-5,9.98774914840963e-5,1.02666027781734e-4,9.98983234996792e-5,1.15566550157317e-4,1.08873358151256e-4,1.30623642954565e-4,1.23761005315354e-4,1.28764504373073e-4,1.52797648222376e-4,1.56514129859513e-4,1.37651056302364e-4,1.60386566121556e-4,1.77954133619665e-4,1.78897663464061e-4,2.01419859863865e-4,1.82541742375256e-4,2.00220772093566e-4,1.95816186643316e-4,2.20179255077352e-4,2.08214683555284e-4,2.31187530769347e-4,2.31296625537981e-4,2.7464342378349e-4,2.81976415246272e-4,2.99196836997739e-4,2.80948391949989e-4,2.84845497418803e-4,3.2982471544095e-4,3.1412177410422e-4,3.267411290402e-4,1.29062396291347e-5,0],\"fOption\":\"\",\"fFunctions\":{\"_typename\":\"TList\",\"name\":\"TList\",\"arr\":[],\"opt\":[]},\"fBufferSize\":0,\"fBuffer\":[],\"fBinStatErrOpt\":0,\"fArray\":[0,8.273271,5.318988,1.148106,1.155888,1.159593,1.011199,0.9792238,0.9938824,0.9526772,0.9805989,0.9704265,0.9714614,0.9789627,0.9302288,0.9452962,0.9714807,0.9261864,0.9506421,0.9572851,0.9415389,0.915098,0.9292507,0.936417,0.9431153,0.8941221,0.9551554,0.9398856,0.950749,0.9221508,0.9310054,0.9463104,0.940209,0.9411912,0.9568307,0.9410258,0.9281175,0.9337695,0.892771,0.9051173,0.9262966,0.9067215,0.9210693,0.9286298,0.9298308,0.9102062,0.9296511,0.9182073,0.9181829,0.8929555,0.8964747,0.938134,0.9528871,0.8949807,0.9187143,0.9200636,0.938765,0.9239113,0.9419524,0.9332927,0.9320899,0.9320762,0.8831424,0.9502032,0.9595668,0.9281642,0.9058754,0.8568401,0.9002311,0.9282317,0.9437201,0.9443833,0.890221,0.9449776,0.8918071,0.9945261,0.9023435,0.8980985,1.007338,0.9901538,0.8811865,0.9386178,0.9946985,0.9545291,0.9898011,0.921908,0.9410507,0.9195294,0.9727952,0.8947544,0.9303581,0.9185696,0.9872738,1.008229,0.998161,0.9401402,0.9157429,0.9747949,0.9346511,0.9556367,0.9810818,0]},{\"_typename\":\"TLatex\",\"fUniqueID\":0,\"fBits\":50348041,\"fName\":\"\",\"fTitle\":\"Data\\/Bkg = 0.959 #pm 0.001\",\"fTextAngle\":0,\"fTextSize\":0.08,\"fTextAlign\":11,\"fTextColor\":1,\"fTextFont\":62,\"fX\":0.15,\"fY\":0.85,\"fLineColor\":1,\"fLineStyle\":1,\"fLineWidth\":2,\"fLimitFactorSize\":3,\"fOriginSize\":0.04},{\"_typename\":\"TLatex\",\"fUniqueID\":0,\"fBits\":50348041,\"fName\":\"\",\"fTitle\":\"#chi^{2}\\/ndf = 408.80,   K-S = 0.000\",\"fTextAngle\":0,\"fTextSize\":0.08,\"fTextAlign\":11,\"fTextColor\":1,\"fTextFont\":62,\"fX\":0.45,\"fY\":0.85,\"fLineColor\":1,\"fLineStyle\":1,\"fLineWidth\":2,\"fLimitFactorSize\":3,\"fOriginSize\":0.04},{\"_typename\":\"TLatex\",\"fUniqueID\":0,\"fBits\":50348041,\"fName\":\"\",\"fTitle\":\"rel. Yield= 95.857\",\"fTextAngle\":0,\"fTextSize\":0.08,\"fTextAlign\":11,\"fTextColor\":1,\"fTextFont\":62,\"fX\":0.75,\"fY\":0.85,\"fLineColor\":1,\"fLineStyle\":1,\"fLineWidth\":2,\"fLimitFactorSize\":3,\"fOriginSize\":0.04}],\"opt\":[\"\",\"E2\",\"SAME, HIST\",\"SAME, PE0\",\"\",\"\",\"\"]},\"fExecs\":{\"_typename\":\"TList\",\"name\":\"TList\",\"arr\":[],\"opt\":[]},\"fName\":\"BotPad\",\"fTitle\":\"\",\"fNumPaletteColor\":0,\"fNextPaletteColor\":0}],\"opt\":[\"\",\"\"]},\"fExecs\":null,\"fName\":\"c1\",\"fTitle\":\"m_{Z} (GeV)\",\"fNumPaletteColor\":0,\"fNextPaletteColor\":0,\"fDISPLAY\":\"$DISPLAY\",\"fDoubleBuffer\":0,\"fRetained\":true,\"fXsizeUser\":0,\"fYsizeUser\":0,\"fXsizeReal\":20,\"fYsizeReal\":20,\"fWindowTopX\":0,\"fWindowTopY\":0,\"fWindowWidth\":0,\"fWindowHeight\":0,\"fCw\":796,\"fCh\":772,\"fCatt\":{\"_typename\":\"TAttCanvas\",\"fXBetween\":2,\"fYBetween\":2,\"fTitleFromTop\":1.2,\"fXdate\":0.2,\"fYdate\":0.3,\"fAdate\":1},\"kMoveOpaque\":true,\"kResizeOpaque\":true,\"fHighLightColor\":2,\"fBatch\":true,\"kShowEventStatus\":false,\"kAutoExec\":true,\"kMenuBar\":true});\n",
       "       Core.draw(\"root_plot_1\", obj, \"\");\n",
       "     }\n",
       " );\n",
       "</script>\n"
      ],
      "text/plain": [
       "<IPython.core.display.HTML object>"
      ]
     },
     "metadata": {},
     "output_type": "display_data"
    }
   ],
   "source": [
    "out[0].Draw()"
   ]
  },
  {
   "cell_type": "markdown",
   "metadata": {},
   "source": [
    "## NOTES:\n",
    "\n",
    "- OSmumu -> With jet cleaning and kinematics requirement on the jet, quality cut on muon, Zmass look stable, but 30% more data\n",
    "\n",
    "- SSmumu -> MHTju_pt = data (180057) ; BkgSum (233304) = Data more ; nJet = data (180057) ; BkgSum (233281)"
   ]
  },
  {
   "cell_type": "code",
   "execution_count": 9,
   "metadata": {
    "ExecuteTime": {
     "end_time": "2018-11-19T15:52:31.390705Z",
     "start_time": "2018-11-19T15:52:31.372523Z"
    }
   },
   "outputs": [],
   "source": [
    "### TOp up WJet HT and DY PT"
   ]
  }
 ],
 "metadata": {
  "kernelspec": {
   "display_name": "Python 2",
   "language": "python",
   "name": "python2"
  },
  "language_info": {
   "codemirror_mode": {
    "name": "ipython",
    "version": 2
   },
   "file_extension": ".py",
   "mimetype": "text/x-python",
   "name": "python",
   "nbconvert_exporter": "python",
   "pygments_lexer": "ipython2",
   "version": "2.7.10"
  },
  "varInspector": {
   "cols": {
    "lenName": 16,
    "lenType": 16,
    "lenVar": 40
   },
   "kernels_config": {
    "python": {
     "delete_cmd_postfix": "",
     "delete_cmd_prefix": "del ",
     "library": "var_list.py",
     "varRefreshCmd": "print(var_dic_list())"
    },
    "r": {
     "delete_cmd_postfix": ") ",
     "delete_cmd_prefix": "rm(",
     "library": "var_list.r",
     "varRefreshCmd": "cat(var_dic_list()) "
    }
   },
   "types_to_exclude": [
    "module",
    "function",
    "builtin_function_or_method",
    "instance",
    "_Feature"
   ],
   "window_display": false
  }
 },
 "nbformat": 4,
 "nbformat_minor": 2
}

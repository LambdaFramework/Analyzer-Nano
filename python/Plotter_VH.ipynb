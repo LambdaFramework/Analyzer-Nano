{
 "cells": [
  {
   "cell_type": "markdown",
   "metadata": {},
   "source": [
    "# Simple Plotter"
   ]
  },
  {
   "cell_type": "code",
   "execution_count": 1,
   "metadata": {
    "ExecuteTime": {
     "end_time": "2018-11-17T21:52:44.151896Z",
     "start_time": "2018-11-17T21:52:41.276906Z"
    }
   },
   "outputs": [
    {
     "name": "stdout",
     "output_type": "stream",
     "text": [
      "Welcome to JupyROOT 6.12/06\n"
     ]
    }
   ],
   "source": [
    "import os, multiprocessing, sys\n",
    "import copy\n",
    "import math\n",
    "from array import array\n",
    "from ROOT import ROOT, gROOT, gStyle, gRandom, TSystemDirectory\n",
    "from ROOT import TFile, TChain, TTree, TCut, TH1, TH1F, TH2F, THStack, TGraph, TGraphAsymmErrors\n",
    "from ROOT import TStyle, TCanvas, TPad\n",
    "from ROOT import TLegend, TLatex, TText, TLine, TBox\n",
    "import time\n",
    "\n",
    "cwd=os.getcwd()\n",
    "sys.path.append(cwd+\"/Utils/\")\n",
    "\n",
    "from drawLambda import *\n",
    "from variables import *\n",
    "from selections_SSLep import *\n",
    "from samplesVH import *\n",
    "\n",
    "gROOT.SetBatch(True)\n",
    "gStyle.SetOptStat(0)\n",
    "gROOT.Macro('functions.C')\n",
    "%jsroot"
   ]
  },
  {
   "cell_type": "markdown",
   "metadata": {},
   "source": [
    "# Environment Path and Options"
   ]
  },
  {
   "cell_type": "code",
   "execution_count": 2,
   "metadata": {
    "ExecuteTime": {
     "end_time": "2018-11-17T21:52:44.174037Z",
     "start_time": "2018-11-17T21:52:44.157455Z"
    }
   },
   "outputs": [],
   "source": [
    "NTUPLEDIR   = \"/Users/shoh/Projects/CMS/PhD/Analysis/SSL/datav8-skim/\"\n",
    "#NTUPLEDIR   = \"/Users/shoh/Projects/CMS/PhD/Analysis/SSL/VHv9-skim_reprocess/\"\n",
    "LUMI        = 35800. # pb-1                                                                                                                \n",
    "data = [\"data_obs\"]\n",
    "#back = [ \"ttV\", \"WJetsToLNu\", \"TTbar-SL\", \"WW\", \"WZ\", \"ST\", \"TTbar-DiLep\", \"DYJetsToLL_Pt\" ]   #DYJetsToLL                                              \n",
    "back = [ \"ttV\" ,\"VV\", \"VVV\", \"WJetsToLNu\" , \"TTbar-SL\", \"ST\", \"TTbar-DiLep\" , \"DYJetsToLL\" ] #WJetsToLNu, \"VVV\"\n",
    "sign=[]\n",
    "BLIND=False\n",
    "POISSON= False\n",
    "SIGNAL      = 1.\n",
    "RATIO       = 4\n",
    "jobs        = []"
   ]
  },
  {
   "cell_type": "markdown",
   "metadata": {},
   "source": [
    "# Selection option"
   ]
  },
  {
   "cell_type": "code",
   "execution_count": 3,
   "metadata": {
    "ExecuteTime": {
     "end_time": "2018-11-17T21:52:45.476611Z",
     "start_time": "2018-11-17T21:52:44.180201Z"
    }
   },
   "outputs": [
    {
     "name": "stdout",
     "output_type": "stream",
     "text": [
      "CHOOSE SELECTION\n"
     ]
    },
    {
     "data": {
      "text/html": [
       "<div>\n",
       "<style>\n",
       "    .dataframe thead tr:only-child th {\n",
       "        text-align: right;\n",
       "    }\n",
       "\n",
       "    .dataframe thead th {\n",
       "        text-align: left;\n",
       "    }\n",
       "\n",
       "    .dataframe tbody tr th {\n",
       "        vertical-align: top;\n",
       "    }\n",
       "</style>\n",
       "<table border=\"1\" class=\"dataframe\">\n",
       "  <thead>\n",
       "    <tr style=\"text-align: right;\">\n",
       "      <th></th>\n",
       "      <th>Selection Region</th>\n",
       "      <th>Description</th>\n",
       "    </tr>\n",
       "  </thead>\n",
       "  <tbody>\n",
       "    <tr>\n",
       "      <th>0</th>\n",
       "      <td>OSemu</td>\n",
       "      <td>(( (HLT_IsoMu22 || HLT_IsoMu22_eta2p1 || HLT_IsoTkMu22_eta2p1 || HLT_IsoMu24 || HLT_IsoTkMu24 || HLT_Mu45_eta2p1 || HLT_Mu50) ) &amp;&amp; ( (( 1==1 ) &amp;&amp; ( (Muon_charge[0]!=Electron_charge[0]) &amp;&amp; Muon_pt[0]&gt;27 &amp;&amp; Electron_pt[0]&gt;25 &amp;&amp; Muon_pfRelIso03_all[0]&lt;0.1 &amp;&amp; Muon_mediumId[0]&gt;0 &amp;&amp; Electron_cutBased[0]&gt;0 &amp;&amp; Electron_pfRelIso03_all[0]&lt;0.1 )) ))</td>\n",
       "    </tr>\n",
       "    <tr>\n",
       "      <th>1</th>\n",
       "      <td>SSmumu2b</td>\n",
       "      <td>(( (HLT_IsoMu22 || HLT_IsoMu22_eta2p1 || HLT_IsoTkMu22_eta2p1 || HLT_IsoMu24 || HLT_IsoTkMu24 || HLT_Mu45_eta2p1 || HLT_Mu50) ) &amp;&amp; ( (( 1==1 ) &amp;&amp; ( (Muon_charge[0]==Muon_charge[1]) &amp;&amp; Muon_pt[0]&gt;25 &amp;&amp; Muon_pt[1]&gt;15 &amp;&amp; Muon_pfRelIso03_all[0]&lt;0.1 &amp;&amp; Jet_btagCSVV2[1]&gt;0.8 )) ))</td>\n",
       "    </tr>\n",
       "    <tr>\n",
       "      <th>2</th>\n",
       "      <td>Trigger</td>\n",
       "      <td>(( (HLT_IsoMu22 || HLT_IsoMu22_eta2p1 || HLT_IsoTkMu22_eta2p1 || HLT_IsoMu24 || HLT_IsoTkMu24 || HLT_Mu45_eta2p1 || HLT_Mu50) ) &amp;&amp; ( 1==1 ))</td>\n",
       "    </tr>\n",
       "    <tr>\n",
       "      <th>3</th>\n",
       "      <td>OSmumu</td>\n",
       "      <td>(( (HLT_IsoMu22 || HLT_IsoMu22_eta2p1 || HLT_IsoTkMu22_eta2p1 || HLT_IsoMu24 || HLT_IsoTkMu24 || HLT_Mu45_eta2p1 || HLT_Mu50) ) &amp;&amp; ( (( 1==1 ) &amp;&amp; ( (Muon_charge[0]!=Muon_charge[1]) &amp;&amp; Muon_pt[0]&gt;17 &amp;&amp; Muon_pt[1]&gt;8 &amp;&amp; Muon_mediumId[0]&gt;0 &amp;&amp; Muon_mediumId[1]&gt;0 &amp;&amp; Muon_pfRelIso03_all[0]&lt;0.15 &amp;&amp; Muon_pfRelIso03_all[1]&lt;0.15 )) ))</td>\n",
       "    </tr>\n",
       "    <tr>\n",
       "      <th>4</th>\n",
       "      <td>SSmumu</td>\n",
       "      <td>(( (HLT_IsoMu22 || HLT_IsoMu22_eta2p1 || HLT_IsoTkMu22_eta2p1 || HLT_IsoMu24 || HLT_IsoTkMu24 || HLT_Mu45_eta2p1 || HLT_Mu50) ) &amp;&amp; ( (( 1==1 ) &amp;&amp; ( (Muon_charge[0]==Muon_charge[1]) &amp;&amp; Muon_pt[0]&gt;25 &amp;&amp; Muon_pt[1]&gt;15 &amp;&amp; Muon_pfRelIso03_all[0]&lt;0.1 )) ))</td>\n",
       "    </tr>\n",
       "    <tr>\n",
       "      <th>5</th>\n",
       "      <td>SSmumu1b</td>\n",
       "      <td>(( (HLT_IsoMu22 || HLT_IsoMu22_eta2p1 || HLT_IsoTkMu22_eta2p1 || HLT_IsoMu24 || HLT_IsoTkMu24 || HLT_Mu45_eta2p1 || HLT_Mu50) ) &amp;&amp; ( (( 1==1 ) &amp;&amp; ( (Muon_charge[0]==Muon_charge[1]) &amp;&amp; Muon_pt[0]&gt;25 &amp;&amp; Muon_pt[1]&gt;15 &amp;&amp; Muon_pfRelIso03_all[0]&lt;0.1 &amp;&amp; Jet_btagCSVV2[0]&gt;0.8 )) ))</td>\n",
       "    </tr>\n",
       "    <tr>\n",
       "      <th>6</th>\n",
       "      <td>DiLepTT</td>\n",
       "      <td>(( (( (HLT_IsoMu22 || HLT_IsoMu22_eta2p1 || HLT_IsoTkMu22_eta2p1 || HLT_IsoMu24 || HLT_IsoTkMu24 || HLT_Mu45_eta2p1 || HLT_Mu50) ) &amp;&amp; ( (( 1==1 ) &amp;&amp; ( Muon_pt[0]&gt;24 &amp;&amp; Electron_pt[0]&gt;20 )) )) ) &amp;&amp; ( invariantMass(Electron_pt[0], Electron_eta[0], Electron_phi[0], Electron_mass[0], Muon_pt[0], Muon_eta[0], Muon_phi[0], Muon_mass[0])&gt;15 ))</td>\n",
       "    </tr>\n",
       "    <tr>\n",
       "      <th>7</th>\n",
       "      <td>OSee</td>\n",
       "      <td>(( (HLT_Ele25_WPTight_Gsf || HLT_Ele27_eta2p1_WPLoose_Gsf || HLT_Ele105_CaloIdVT_GsfTrkIdT) ) &amp;&amp; ( (( 1==1 ) &amp;&amp; ( (Electron_charge[0]!=Electron_charge[1]) &amp;&amp; Electron_pt[0]&gt;25 &amp;&amp; Electron_pt[1]&gt;17 &amp;&amp; Electron_pfRelIso03_all[0]&lt;0.15 &amp;&amp; Electron_pfRelIso03_all[1]&lt;0.15 )) ))</td>\n",
       "    </tr>\n",
       "  </tbody>\n",
       "</table>\n",
       "</div>"
      ],
      "text/plain": [
       "  Selection Region  \\\n",
       "0            OSemu   \n",
       "1         SSmumu2b   \n",
       "2          Trigger   \n",
       "3           OSmumu   \n",
       "4           SSmumu   \n",
       "5         SSmumu1b   \n",
       "6          DiLepTT   \n",
       "7             OSee   \n",
       "\n",
       "                                                                                                                                                                                                                                                                                                                                            Description  \n",
       "0  (( (HLT_IsoMu22 || HLT_IsoMu22_eta2p1 || HLT_IsoTkMu22_eta2p1 || HLT_IsoMu24 || HLT_IsoTkMu24 || HLT_Mu45_eta2p1 || HLT_Mu50) ) && ( (( 1==1 ) && ( (Muon_charge[0]!=Electron_charge[0]) && Muon_pt[0]>27 && Electron_pt[0]>25 && Muon_pfRelIso03_all[0]<0.1 && Muon_mediumId[0]>0 && Electron_cutBased[0]>0 && Electron_pfRelIso03_all[0]<0.1 )) ))  \n",
       "1                                                                    (( (HLT_IsoMu22 || HLT_IsoMu22_eta2p1 || HLT_IsoTkMu22_eta2p1 || HLT_IsoMu24 || HLT_IsoTkMu24 || HLT_Mu45_eta2p1 || HLT_Mu50) ) && ( (( 1==1 ) && ( (Muon_charge[0]==Muon_charge[1]) && Muon_pt[0]>25 && Muon_pt[1]>15 && Muon_pfRelIso03_all[0]<0.1 && Jet_btagCSVV2[1]>0.8 )) ))  \n",
       "2                                                                                                                                                                                                          (( (HLT_IsoMu22 || HLT_IsoMu22_eta2p1 || HLT_IsoTkMu22_eta2p1 || HLT_IsoMu24 || HLT_IsoTkMu24 || HLT_Mu45_eta2p1 || HLT_Mu50) ) && ( 1==1 ))  \n",
       "3                 (( (HLT_IsoMu22 || HLT_IsoMu22_eta2p1 || HLT_IsoTkMu22_eta2p1 || HLT_IsoMu24 || HLT_IsoTkMu24 || HLT_Mu45_eta2p1 || HLT_Mu50) ) && ( (( 1==1 ) && ( (Muon_charge[0]!=Muon_charge[1]) && Muon_pt[0]>17 && Muon_pt[1]>8 && Muon_mediumId[0]>0 && Muon_mediumId[1]>0 && Muon_pfRelIso03_all[0]<0.15 && Muon_pfRelIso03_all[1]<0.15 )) ))  \n",
       "4                                                                                            (( (HLT_IsoMu22 || HLT_IsoMu22_eta2p1 || HLT_IsoTkMu22_eta2p1 || HLT_IsoMu24 || HLT_IsoTkMu24 || HLT_Mu45_eta2p1 || HLT_Mu50) ) && ( (( 1==1 ) && ( (Muon_charge[0]==Muon_charge[1]) && Muon_pt[0]>25 && Muon_pt[1]>15 && Muon_pfRelIso03_all[0]<0.1 )) ))  \n",
       "5                                                                    (( (HLT_IsoMu22 || HLT_IsoMu22_eta2p1 || HLT_IsoTkMu22_eta2p1 || HLT_IsoMu24 || HLT_IsoTkMu24 || HLT_Mu45_eta2p1 || HLT_Mu50) ) && ( (( 1==1 ) && ( (Muon_charge[0]==Muon_charge[1]) && Muon_pt[0]>25 && Muon_pt[1]>15 && Muon_pfRelIso03_all[0]<0.1 && Jet_btagCSVV2[0]>0.8 )) ))  \n",
       "6    (( (( (HLT_IsoMu22 || HLT_IsoMu22_eta2p1 || HLT_IsoTkMu22_eta2p1 || HLT_IsoMu24 || HLT_IsoTkMu24 || HLT_Mu45_eta2p1 || HLT_Mu50) ) && ( (( 1==1 ) && ( Muon_pt[0]>24 && Electron_pt[0]>20 )) )) ) && ( invariantMass(Electron_pt[0], Electron_eta[0], Electron_phi[0], Electron_mass[0], Muon_pt[0], Muon_eta[0], Muon_phi[0], Muon_mass[0])>15 ))  \n",
       "7                                                                      (( (HLT_Ele25_WPTight_Gsf || HLT_Ele27_eta2p1_WPLoose_Gsf || HLT_Ele105_CaloIdVT_GsfTrkIdT) ) && ( (( 1==1 ) && ( (Electron_charge[0]!=Electron_charge[1]) && Electron_pt[0]>25 && Electron_pt[1]>17 && Electron_pfRelIso03_all[0]<0.15 && Electron_pfRelIso03_all[1]<0.15 )) ))  "
      ]
     },
     "metadata": {},
     "output_type": "display_data"
    }
   ],
   "source": [
    "import pandas as pd\n",
    "from collections import OrderedDict\n",
    "from IPython.display import display, HTML\n",
    "pd.set_option('display.max_colwidth',10000)\n",
    "ALLTABLE={}\n",
    "TABLE=[]\n",
    "#Selection=['OSSF','OSOF','SSSF','SSOF']\n",
    "for sel in selection:\n",
    "    TABLE.append(OrderedDict({\n",
    "        'Selection Region' : sel,\n",
    "        'Description' : selection[sel]\n",
    "    }))\n",
    "\n",
    "ALLTABLE=pd.DataFrame(TABLE)\n",
    "print \"CHOOSE SELECTION\"\n",
    "display(ALLTABLE)"
   ]
  },
  {
   "cell_type": "code",
   "execution_count": 4,
   "metadata": {
    "ExecuteTime": {
     "end_time": "2018-11-17T21:52:45.518006Z",
     "start_time": "2018-11-17T21:52:45.483362Z"
    }
   },
   "outputs": [
    {
     "name": "stdout",
     "output_type": "stream",
     "text": [
      "Selected (( (HLT_IsoMu22 || HLT_IsoMu22_eta2p1 || HLT_IsoTkMu22_eta2p1 || HLT_IsoMu24 || HLT_IsoTkMu24 || HLT_Mu45_eta2p1 || HLT_Mu50) ) && ( (( 1==1 ) && ( (Muon_charge[0]!=Electron_charge[0]) && Muon_pt[0]>27 && Electron_pt[0]>25 && Muon_pfRelIso03_all[0]<0.1 && Muon_mediumId[0]>0 && Electron_cutBased[0]>0 && Electron_pfRelIso03_all[0]<0.1 )) ))\n"
     ]
    }
   ],
   "source": [
    "#var=\"MHTju_pt\"\n",
    "#var=\"Jet_jetId[0]\"\n",
    "var=\"Zmass\"\n",
    "#var=\"nJet\"\n",
    "#var=\"nElectron\"\n",
    "cr=\"OSemu\"\n",
    "#cr=\"Trigger\"\n",
    "#cut=selection[cr]\n",
    "primaryDataset = getPrimaryDataset(selection[cr])\n",
    "print \"Selected\", selection[cr]"
   ]
  },
  {
   "cell_type": "code",
   "execution_count": 5,
   "metadata": {
    "ExecuteTime": {
     "end_time": "2018-11-17T21:54:30.969182Z",
     "start_time": "2018-11-17T21:52:45.525334Z"
    },
    "scrolled": true
   },
   "outputs": [
    {
     "name": "stdout",
     "output_type": "stream",
     "text": [
      "\u001b[92mZmass: \u001b[0mInv( \u001b[92mElectron^(+/-)\u001b[0m , \u001b[91mMuon^(-/+)\u001b[0m )\n",
      "VAR =  invariantMass(Electron_pt[0], Electron_eta[0], Electron_phi[0], Electron_mass[0], Muon_pt[0], Muon_eta[0], Muon_phi[0], Muon_mass[0])\n",
      "\u001b[94mDATA, NO HLT :  SingleMuonRun2016B-03Feb2017_ver1-v1\u001b[0m\n",
      "\u001b[94mDATA, NO HLT :  SingleMuonRun2016B-03Feb2017_ver2-v2\u001b[0m\n",
      "\u001b[94mDATA, NO HLT :  SingleMuonRun2016C-03Feb2017-v1\u001b[0m\n",
      "\u001b[94mDATA, NO HLT :  SingleMuonRun2016D-03Feb2017-v1\u001b[0m\n",
      "\u001b[94mDATA, NO HLT :  SingleMuonRun2016E-03Feb2017-v1\u001b[0m\n",
      "\u001b[94mDATA, NO HLT :  SingleMuonRun2016F-03Feb2017-v1\u001b[0m\n",
      "\u001b[94mDATA, NO HLT :  SingleMuonRun2016G-03Feb2017-v1\u001b[0m\n",
      "\u001b[94mDATA, NO HLT :  SingleMuonRun2016H-03Feb2017_ver2-v1\u001b[0m\n",
      "\u001b[94mDATA, NO HLT :  SingleMuonRun2016H-03Feb2017_ver3-v1\u001b[0m\n",
      "\u001b[35mMC, With HLT :  TTWJetsToLNu_TuneCUETP8M1_13TeV-amcatnloFXFX-madspin-pythia8_ext1-v3\u001b[0m\n",
      "\u001b[35mMC, With HLT :  TTZToLLNuNu_M-10_TuneCUETP8M1_13TeV-amcatnlo-pythia8_ext1-v1\u001b[0m\n",
      "\u001b[35mMC, With HLT :  ttHToNonbb_M125_TuneCUETP8M2_ttHtranche3_13TeV-powheg-pythia8-v1\u001b[0m\n",
      "\u001b[35mMC, With HLT :  WW_TuneCUETP8M1_13TeV-pythia8_ext1-v1\u001b[0m\n",
      "\u001b[35mMC, With HLT :  WZTo3LNu_TuneCUETP8M1_13TeV-powheg-pythia8-v1\u001b[0m\n",
      "\u001b[35mMC, With HLT :  ZZTo2L2Nu_13TeV_powheg_pythia8-v1\u001b[0m\n",
      "\u001b[35mMC, With HLT :  ZZTo4L_13TeV-amcatnloFXFX-pythia8_ext1-v1\u001b[0m\n",
      "\u001b[35mMC, With HLT :  ZZTo2L2Q_13TeV_amcatnloFXFX_madspin_pythia8-v1\u001b[0m\n",
      "\u001b[35mMC, With HLT :  WWW_4F_TuneCUETP8M1_13TeV-amcatnlo-pythia8-v1\u001b[0m\n",
      "\u001b[35mMC, With HLT :  ZZZ_TuneCUETP8M1_13TeV-amcatnlo-pythia8-v1\u001b[0m\n",
      "\u001b[35mMC, With HLT :  WWZ_TuneCUETP8M1_13TeV-amcatnlo-pythia8-v1\u001b[0m\n",
      "\u001b[35mMC, With HLT :  WJetsToLNu_TuneCUETP8M1_13TeV-amcatnloFXFX-pythia8-v1\u001b[0m\n",
      "\u001b[35mMC, With HLT :  TTJets_SingleLeptFromT_TuneCUETP8M1_13TeV-madgraphMLM-pythia8_ext1-v1\u001b[0m\n",
      "\u001b[35mMC, With HLT :  TTJets_SingleLeptFromTbar_TuneCUETP8M1_13TeV-madgraphMLM-pythia8_ext1-v1\u001b[0m\n",
      "\u001b[35mMC, With HLT :  ST_s-channel_4f_leptonDecays_13TeV-amcatnlo-pythia8_TuneCUETP8M1-v1\u001b[0m\n",
      "\u001b[35mMC, With HLT :  ST_t-channel_antitop_4f_inclusiveDecays_13TeV-powhegV2-madspin-pythia8_TuneCUETP8M1-v1\u001b[0m\n",
      "\u001b[35mMC, With HLT :  ST_t-channel_top_4f_inclusiveDecays_13TeV-powhegV2-madspin-pythia8_TuneCUETP8M1-v1\u001b[0m\n",
      "\u001b[35mMC, With HLT :  ST_tW_antitop_5f_inclusiveDecays_13TeV-powheg-pythia8_TuneCUETP8M2T4-v1\u001b[0m\n",
      "\u001b[35mMC, With HLT :  ST_tW_top_5f_inclusiveDecays_13TeV-powheg-pythia8_TuneCUETP8M2T4-v1\u001b[0m\n",
      "\u001b[35mMC, With HLT :  TTJets_DiLept_TuneCUETP8M1_13TeV-madgraphMLM-pythia8_ext1-v1\u001b[0m\n",
      "\u001b[35mMC, With HLT :  DYJetsToLL_M-10to50_TuneCUETP8M1_13TeV-amcatnloFXFX-pythia8-v1\u001b[0m\n",
      "\u001b[35mMC, With HLT :  DYJetsToLL_M-50_TuneCUETP8M1_13TeV-madgraphMLM-pythia8_ext1-v2\u001b[0m\n"
     ]
    },
    {
     "name": "stderr",
     "output_type": "stream",
     "text": [
      "Info in <TCanvas::MakeDefCanvas>:  created default TCanvas with name c1\n"
     ]
    }
   ],
   "source": [
    "if not BLIND:\n",
    "    processes=data+back\n",
    "elif BLIND:\n",
    "    processes=back\n",
    "\n",
    "if not sign:\n",
    "    Histlist=ProjectDraw(var, cr, LUMI, processes, primaryDataset, NTUPLEDIR)\n",
    "else:\n",
    "    Histlist=ProjectDraw(var, cr, LUMI, processes, primaryDataset, NTUPLEDIR)"
   ]
  },
  {
   "cell_type": "code",
   "execution_count": 6,
   "metadata": {
    "ExecuteTime": {
     "end_time": "2018-11-17T21:54:30.990777Z",
     "start_time": "2018-11-17T21:54:30.974449Z"
    }
   },
   "outputs": [],
   "source": [
    "if len(back)>0:\n",
    "    #If data_obs present, dummy BkgSum == first background process                                                                        \\\n",
    "                                                                                                                                           \n",
    "    Histlist['BkgSum'] = Histlist['data_obs'].Clone(\"BkgSum\") if 'data_obs' in Histlist else Histlist[back[0]].Clone(\"BkgSum\")\n",
    "    Histlist['BkgSum'].Reset(\"MICES\")\n",
    "    Histlist['BkgSum'].SetFillStyle(3003)\n",
    "    Histlist['BkgSum'].SetFillColor(1)\n",
    "    for i, s in enumerate(back): Histlist['BkgSum'].Add(Histlist[s])\n",
    "\n",
    "if len(back)==0 and len(data)==0:\n",
    "    for i, s in enumerate(sign):\n",
    "        Histlist[s].Scale(1./Histlist[s].Integral())\n",
    "        Histlist[s].SetFillStyle(0)"
   ]
  },
  {
   "cell_type": "code",
   "execution_count": 7,
   "metadata": {
    "ExecuteTime": {
     "end_time": "2018-11-17T21:54:31.186086Z",
     "start_time": "2018-11-17T21:54:30.996996Z"
    }
   },
   "outputs": [
    {
     "name": "stdout",
     "output_type": "stream",
     "text": [
      "  Ratio:\t0.943 +- 0.006\n",
      "Sample                  Events          Entries         %\n",
      "--------------------------------------------------------------------------------\n",
      "data_obs             \t86583.00   \t86583      \t94.26      %\n",
      "--------------------------------------------------------------------------------\n",
      "VVV                  \t41.08      \t2081       \t0.04       %\n",
      "TTbar-DiLep          \t76323.76   \t545296     \t83.09      %\n",
      "TTbar-SL             \t825.16     \t6257       \t0.90       %\n",
      "WJetsToLNu           \t1704.76    \t17         \t1.86       %\n",
      "ST                   \t570.79     \t4332       \t0.62       %\n",
      "VV                   \t1999.68    \t149437     \t2.18       %\n",
      "DYJetsToLL           \t10183.12   \t2284       \t11.09      %\n",
      "ttV                  \t204.56     \t40770      \t0.22       %\n",
      "--------------------------------------------------------------------------------\n",
      "BkgSum               \t91852.92   \t750474     \t100.00     %\n",
      "--------------------------------------------------------------------------------\n",
      "--------------------------------------------------------------------------------\n"
     ]
    },
    {
     "name": "stderr",
     "output_type": "stream",
     "text": [
      "Warning in <TCanvas::Constructor>: Deleting canvas with same name: c1\n",
      "Info in <TH1F::Chi2TestX>: There is a bin in h2 with less than 10 effective events.\n",
      "\n"
     ]
    }
   ],
   "source": [
    "if len(data+back)>0:\n",
    "    out = draw(Histlist, data if not BLIND else [], back, sign, SIGNAL, RATIO, POISSON, variable[var]['log'])\n",
    "    out[0].cd(1)\n",
    "    drawCMS(LUMI, \"Preliminary\")\n",
    "    out[0].Update()\n",
    "    printTable(Histlist, sign)\n",
    "else:\n",
    "    out = drawSignal(Histlist, sign, variable[var]['log'])\n",
    "    out[0].cd(1)\n",
    "    drawCMS(LUMI, \"Simulation\")\n",
    "    out[0].Update()"
   ]
  },
  {
   "cell_type": "code",
   "execution_count": 8,
   "metadata": {
    "ExecuteTime": {
     "end_time": "2018-11-17T21:54:31.268219Z",
     "start_time": "2018-11-17T21:54:31.192931Z"
    },
    "scrolled": false
   },
   "outputs": [
    {
     "data": {
      "text/html": [
       "\n",
       "<div id=\"root_plot_1\"\n",
       "     style=\"width: 796px; height: 772px\">\n",
       "</div>\n",
       "\n",
       "<script>\n",
       " requirejs.config({\n",
       "     paths: {\n",
       "       'JSRootCore' : 'https://root.cern.ch/js/notebook//scripts/JSRootCore',\n",
       "     }\n",
       "   });\n",
       " require(['JSRootCore'],\n",
       "     function(Core) {\n",
       "       var obj = Core.JSONR_unref({\"_typename\":\"TCanvas\",\"fUniqueID\":0,\"fBits\":53673992,\"fLineColor\":1,\"fLineStyle\":1,\"fLineWidth\":1,\"fFillColor\":0,\"fFillStyle\":1001,\"fLeftMargin\":0.1,\"fRightMargin\":0.1,\"fBottomMargin\":0.1,\"fTopMargin\":0.1,\"fXfile\":2,\"fYfile\":2,\"fAfile\":1,\"fXstat\":0.99,\"fYstat\":0.99,\"fAstat\":2,\"fFrameFillColor\":0,\"fFrameLineColor\":1,\"fFrameFillStyle\":1001,\"fFrameLineStyle\":1,\"fFrameLineWidth\":1,\"fFrameBorderSize\":1,\"fFrameBorderMode\":0,\"fX1\":0,\"fY1\":0,\"fX2\":1,\"fY2\":1,\"fXtoAbsPixelk\":5e-5,\"fXtoPixelk\":5e-5,\"fXtoPixel\":796,\"fYtoAbsPixelk\":772.00005,\"fYtoPixelk\":772.00005,\"fYtoPixel\":-772,\"fUtoAbsPixelk\":5e-5,\"fUtoPixelk\":5e-5,\"fUtoPixel\":796,\"fVtoAbsPixelk\":772.00005,\"fVtoPixelk\":772,\"fVtoPixel\":-772,\"fAbsPixeltoXk\":0,\"fPixeltoXk\":0,\"fPixeltoX\":0.00125628140703518,\"fAbsPixeltoYk\":1,\"fPixeltoYk\":0,\"fPixeltoY\":-0.00129533678756477,\"fXlowNDC\":0,\"fYlowNDC\":0,\"fXUpNDC\":0,\"fYUpNDC\":0,\"fWNDC\":1,\"fHNDC\":1,\"fAbsXlowNDC\":0,\"fAbsYlowNDC\":0,\"fAbsWNDC\":1,\"fAbsHNDC\":1,\"fUxmin\":0,\"fUymin\":0,\"fUxmax\":1,\"fUymax\":1,\"fTheta\":30,\"fPhi\":30,\"fAspectRatio\":0,\"fNumber\":0,\"fTickx\":0,\"fTicky\":0,\"fLogx\":0,\"fLogy\":0,\"fLogz\":0,\"fPadPaint\":0,\"fCrosshair\":0,\"fCrosshairPos\":0,\"fBorderSize\":2,\"fBorderMode\":0,\"fModified\":false,\"fGridx\":false,\"fGridy\":false,\"fAbsCoord\":false,\"fEditable\":true,\"fFixedAspectRatio\":false,\"fPrimitives\":{\"_typename\":\"TList\",\"name\":\"TList\",\"arr\":[{\"_typename\":\"TPad\",\"fUniqueID\":0,\"fBits\":50331657,\"fLineColor\":1,\"fLineStyle\":1,\"fLineWidth\":1,\"fFillColor\":0,\"fFillStyle\":1001,\"fLeftMargin\":0.1,\"fRightMargin\":0.05,\"fBottomMargin\":0.01,\"fTopMargin\":0.06,\"fXfile\":2,\"fYfile\":2,\"fAfile\":1,\"fXstat\":0.99,\"fYstat\":0.99,\"fAstat\":2,\"fFrameFillColor\":0,\"fFrameLineColor\":1,\"fFrameFillStyle\":1001,\"fFrameLineStyle\":1,\"fFrameLineWidth\":1,\"fFrameBorderSize\":1,\"fFrameBorderMode\":0,\"fX1\":-35.2941196579423,\"fY1\":-38.7097090409695,\"fX2\":317.647059828971,\"fY2\":3932.26130600363,\"fXtoAbsPixelk\":79.6000538549305,\"fXtoPixelk\":79.6000538549305,\"fXtoPixel\":2.25533331405868,\"fYtoAbsPixelk\":573.355858327533,\"fYtoPixelk\":573.355858327533,\"fYtoPixel\":-0.145808165762574,\"fUtoAbsPixelk\":5e-5,\"fUtoPixelk\":5e-5,\"fUtoPixel\":796,\"fVtoAbsPixelk\":579.00005,\"fVtoPixelk\":579,\"fVtoPixel\":-579,\"fAbsPixeltoXk\":-35.2941196579423,\"fPixeltoXk\":-35.2941196579423,\"fPixeltoX\":0.443393441566474,\"fAbsPixeltoYk\":3932.26130600363,\"fPixeltoYk\":-38.7097090409695,\"fPixeltoY\":-6.85832645085423,\"fXlowNDC\":0,\"fYlowNDC\":0.25,\"fXUpNDC\":0,\"fYUpNDC\":0,\"fWNDC\":1,\"fHNDC\":0.75,\"fAbsXlowNDC\":0,\"fAbsYlowNDC\":0.25,\"fAbsWNDC\":1,\"fAbsHNDC\":0.75,\"fUxmin\":0,\"fUymin\":1,\"fUxmax\":300,\"fUymax\":3694.00305175781,\"fTheta\":30,\"fPhi\":30,\"fAspectRatio\":0,\"fNumber\":1,\"fTickx\":1,\"fTicky\":1,\"fLogx\":0,\"fLogy\":0,\"fLogz\":0,\"fPadPaint\":0,\"fCrosshair\":0,\"fCrosshairPos\":0,\"fBorderSize\":2,\"fBorderMode\":0,\"fModified\":false,\"fGridx\":false,\"fGridy\":false,\"fAbsCoord\":false,\"fEditable\":true,\"fFixedAspectRatio\":false,\"fPrimitives\":{\"_typename\":\"TList\",\"name\":\"TList\",\"arr\":[{\"_typename\":\"TFrame\",\"fUniqueID\":0,\"fBits\":50331656,\"fLineColor\":1,\"fLineStyle\":1,\"fLineWidth\":1,\"fFillColor\":0,\"fFillStyle\":1001,\"fX1\":0,\"fY1\":1,\"fX2\":300,\"fY2\":3694.00305175781,\"fBorderSize\":1,\"fBorderMode\":0},{\"_typename\":\"THStack\",\"fUniqueID\":0,\"fBits\":50331656,\"fName\":\"Bkg\",\"fTitle\":\";m_{Z} (GeV);Events\",\"fHists\":{\"_typename\":\"TList\",\"name\":\"TList\",\"arr\":[{\"_typename\":\"TH1F\",\"fUniqueID\":0,\"fBits\":50332168,\"fName\":\"TTWJetsToLNu_TuneCUETP8M1_13TeV-amcatnloFXFX-madspin-pythia8_ext1-v3\",\"fTitle\":\"\",\"fLineColor\":602,\"fLineStyle\":1,\"fLineWidth\":1,\"fFillColor\":38,\"fFillStyle\":1001,\"fMarkerColor\":1,\"fMarkerStyle\":1,\"fMarkerSize\":1,\"fNcells\":102,\"fXaxis\":{\"_typename\":\"TAxis\",\"fUniqueID\":0,\"fBits\":50331656,\"fName\":\"xaxis\",\"fTitle\":\"m_{Z} (GeV)\",\"fNdivisions\":510,\"fAxisColor\":1,\"fLabelColor\":1,\"fLabelFont\":42,\"fLabelOffset\":0.005,\"fLabelSize\":0.035,\"fTickLength\":0.03,\"fTitleOffset\":1,\"fTitleSize\":0.035,\"fTitleColor\":1,\"fTitleFont\":42,\"fNbins\":100,\"fXmin\":0,\"fXmax\":300,\"fXbins\":[],\"fFirst\":0,\"fLast\":0,\"fBits2\":0,\"fTimeDisplay\":false,\"fTimeFormat\":\"\",\"fLabels\":null,\"fModLabs\":null},\"fYaxis\":{\"_typename\":\"TAxis\",\"fUniqueID\":0,\"fBits\":50331648,\"fName\":\"yaxis\",\"fTitle\":\"\",\"fNdivisions\":510,\"fAxisColor\":1,\"fLabelColor\":1,\"fLabelFont\":42,\"fLabelOffset\":0.005,\"fLabelSize\":0.035,\"fTickLength\":0.03,\"fTitleOffset\":0,\"fTitleSize\":0.035,\"fTitleColor\":1,\"fTitleFont\":42,\"fNbins\":1,\"fXmin\":0,\"fXmax\":1,\"fXbins\":[],\"fFirst\":0,\"fLast\":0,\"fBits2\":0,\"fTimeDisplay\":false,\"fTimeFormat\":\"\",\"fLabels\":null,\"fModLabs\":null},\"fZaxis\":{\"_typename\":\"TAxis\",\"fUniqueID\":0,\"fBits\":50331648,\"fName\":\"zaxis\",\"fTitle\":\"\",\"fNdivisions\":510,\"fAxisColor\":1,\"fLabelColor\":1,\"fLabelFont\":42,\"fLabelOffset\":0.005,\"fLabelSize\":0.035,\"fTickLength\":0.03,\"fTitleOffset\":1,\"fTitleSize\":0.035,\"fTitleColor\":1,\"fTitleFont\":42,\"fNbins\":1,\"fXmin\":0,\"fXmax\":1,\"fXbins\":[],\"fFirst\":0,\"fLast\":0,\"fBits2\":0,\"fTimeDisplay\":false,\"fTimeFormat\":\"\",\"fLabels\":null,\"fModLabs\":null},\"fBarOffset\":0,\"fBarWidth\":1000,\"fEntries\":40772,\"fTsumw\":0,\"fTsumw2\":3.11039153204333,\"fTsumwx\":24718.032090612,\"fTsumwx2\":4176737.03444975,\"fMaximum\":-1111,\"fMinimum\":-1111,\"fNormFactor\":0,\"fContour\":[],\"fSumw2\":[0,0.00333860922627651,0.00450296969132155,0.00170709895162312,0.00232374829303509,0.00331868826338031,0.00548763186459725,0.0144102285770473,0.0144861345696384,0.0157204156140029,0.019151995468961,0.0229175496414176,0.0185031218151498,0.0235983454993448,0.0275077158986166,0.0296765383273415,0.0312159853642164,0.0237633530175951,0.0348582033535193,0.0380596316048334,0.0335506917075782,0.0516351208211839,0.0362191458106329,0.0421578300029504,0.0447316508625257,0.0461896444018109,0.0579276253232587,0.0496175665042141,0.042163150370303,0.0516010073361813,0.0436848677251684,0.0585045984673314,0.0509634242556563,0.054236103178128,0.0584859771815971,0.0556524253823166,0.0512553947150988,0.0631328842722258,0.0672588782191142,0.0585633192311803,0.0499572996771787,0.0497232789705122,0.0664280383761161,0.0601342195693814,0.0659183256276865,0.0555156828954676,0.0519153475917287,0.0419698941876701,0.0445140145386924,0.057377223601273,0.0440448543839887,0.0397345817945349,0.0368514992816209,0.0412879795883723,0.0302982820581407,0.0403622951514274,0.0331006820845379,0.0390807050889924,0.0441212890426688,0.0363306921030344,0.0415432665571114,0.0368624573319476,0.0241726438322432,0.0271403838998503,0.0339825788761371,0.024107711097317,0.0224549193532529,0.0261859965232309,0.0153470982019648,0.0258520222057324,0.0298412888731098,0.0234384323704817,0.0246918633666694,0.0229023443430945,0.029271510061655,0.0207590050097622,0.0194978048130131,0.0121739191948736,0.024250741105721,0.0220705069312178,0.0167858054095966,0.0226987793688756,0.0225322304083196,0.019430423244878,0.0197913167147612,0.015992314103221,0.0205804852226628,0.0138496398158079,0.0115046404680384,0.018633606708907,0.0117959458815618,0.0189605980442552,0.0103152348158739,0.011664085273952,0.0147985856525825,0.0155557259912142,0.00803350558823301,0.0123576229694956,0.0153586001257186,0.0119573858252326,0.423391563777865,0],\"fOption\":\"\",\"fFunctions\":{\"_typename\":\"TList\",\"name\":\"TList\",\"arr\":[],\"opt\":[]},\"fBufferSize\":0,\"fBuffer\":[],\"fBinStatErrOpt\":0,\"fArray\":[0,0.1588834,0.2303284,0.1629288,0.2763718,0.4085477,0.6288914,0.8732359,0.8986551,0.9851395,1.234926,1.532809,1.349812,1.473281,1.666031,1.708167,1.970786,1.760891,2.089214,2.222631,2.124055,2.780757,2.360917,2.5663,2.709377,2.723068,3.282537,2.96651,2.575527,3.041699,2.771506,3.291285,3.034058,3.184822,3.258992,3.090357,2.973421,3.562393,3.634164,3.322793,3.060483,3.1154,3.432033,3.319854,3.433712,3.101542,2.913641,2.630813,2.686493,3.035661,2.616393,2.3657,2.253275,2.510404,2.116114,2.392116,2.016842,2.329804,2.322629,2.05772,2.350262,2.130174,1.585065,1.773976,1.845309,1.578675,1.545815,1.57002,1.082706,1.521925,1.747013,1.480178,1.279769,1.400227,1.572745,1.224285,1.233224,0.8561718,1.294182,1.196364,1.062951,1.187858,1.075572,1.04459,0.9972624,0.9614775,1.09124,0.7866887,0.7576747,0.9373502,0.6958837,0.9733359,0.6069058,0.6796442,0.8032121,0.8057559,0.5813984,0.6781048,0.7825499,0.6213131,22.56793,0]},{\"_typename\":\"TH1F\",\"fUniqueID\":0,\"fBits\":50332168,\"fName\":\"WW_TuneCUETP8M1_13TeV-pythia8_ext1-v1\",\"fTitle\":\"\",\"fLineColor\":602,\"fLineStyle\":1,\"fLineWidth\":1,\"fFillColor\":9,\"fFillStyle\":1001,\"fMarkerColor\":1,\"fMarkerStyle\":1,\"fMarkerSize\":1,\"fNcells\":102,\"fXaxis\":{\"_typename\":\"TAxis\",\"fUniqueID\":0,\"fBits\":50331648,\"fName\":\"xaxis\",\"fTitle\":\"m_{Z} (GeV)\",\"fNdivisions\":510,\"fAxisColor\":1,\"fLabelColor\":1,\"fLabelFont\":42,\"fLabelOffset\":0.005,\"fLabelSize\":0.035,\"fTickLength\":0.03,\"fTitleOffset\":1,\"fTitleSize\":0.035,\"fTitleColor\":1,\"fTitleFont\":42,\"fNbins\":100,\"fXmin\":0,\"fXmax\":300,\"fXbins\":[],\"fFirst\":0,\"fLast\":0,\"fBits2\":0,\"fTimeDisplay\":false,\"fTimeFormat\":\"\",\"fLabels\":null,\"fModLabs\":null},\"fYaxis\":{\"_typename\":\"TAxis\",\"fUniqueID\":0,\"fBits\":50331648,\"fName\":\"yaxis\",\"fTitle\":\"\",\"fNdivisions\":510,\"fAxisColor\":1,\"fLabelColor\":1,\"fLabelFont\":42,\"fLabelOffset\":0.005,\"fLabelSize\":0.035,\"fTickLength\":0.03,\"fTitleOffset\":0,\"fTitleSize\":0.035,\"fTitleColor\":1,\"fTitleFont\":42,\"fNbins\":1,\"fXmin\":0,\"fXmax\":1,\"fXbins\":[],\"fFirst\":0,\"fLast\":0,\"fBits2\":0,\"fTimeDisplay\":false,\"fTimeFormat\":\"\",\"fLabels\":null,\"fModLabs\":null},\"fZaxis\":{\"_typename\":\"TAxis\",\"fUniqueID\":0,\"fBits\":50331648,\"fName\":\"zaxis\",\"fTitle\":\"\",\"fNdivisions\":510,\"fAxisColor\":1,\"fLabelColor\":1,\"fLabelFont\":42,\"fLabelOffset\":0.005,\"fLabelSize\":0.035,\"fTickLength\":0.03,\"fTitleOffset\":1,\"fTitleSize\":0.035,\"fTitleColor\":1,\"fTitleFont\":42,\"fNbins\":1,\"fXmin\":0,\"fXmax\":1,\"fXbins\":[],\"fFirst\":0,\"fLast\":0,\"fBits2\":0,\"fTimeDisplay\":false,\"fTimeFormat\":\"\",\"fLabels\":null,\"fModLabs\":null},\"fBarOffset\":0,\"fBarWidth\":1000,\"fEntries\":149439,\"fTsumw\":0,\"fTsumw2\":636.477450705343,\"fTsumwx\":229723.715504954,\"fTsumwx2\":35136737.3019014,\"fMaximum\":-1111,\"fMinimum\":-1111,\"fNormFactor\":0,\"fContour\":[],\"fSumw2\":[0,0.00602824281512083,0.00616819408213545,0.00866058587467079,0.852488957743207,1.13477163199114,1.69772319774591,3.38109540726667,2.82193956443623,2.26387293099299,2.8252355338206,2.54418019214537,3.39129324272745,4.23181712447442,3.67354494944862,4.79918396339033,4.80212745467143,6.48629088639678,12.9349402491634,9.0172363078557,11.2700279187838,9.31406459485606,12.9624802429163,14.0925222754886,15.7799127133203,14.3734870594448,17.1821222661751,14.6598199575623,18.8593688110291,16.6173892502426,22.2156715196842,13.535076145833,12.9783845452063,17.4541195238165,16.3371460283839,11.8536311642079,12.6941646462689,11.8559043630399,15.2173704752589,12.4153438765184,14.3734311135637,12.1268566105831,12.1269797004417,10.7279218678111,8.48305458462181,9.87743778730848,10.7121408500789,8.75520884853665,12.3960175353578,7.62957212941217,6.22639765087446,7.067602084813,8.74595976505147,7.62396600883547,7.33393359927412,6.21754292937575,8.45801559535461,6.77131393785369,6.77419811519391,4.81217168525374,3.96440866593496,5.36568639842367,4.24204793014861,4.24182239692994,3.12191982968328,2.56008412407424,2.8410619989756,4.23669902603611,4.51022625567719,2.27038521667331,2.83356498810886,1.71222734495721,2.83225621898536,2.82861790895072,3.94879672149484,2.82633022178933,2.54615343871085,2.54208792068147,1.42263056316371,2.26478254816101,2.54281705200973,3.10103117476043,1.69945593369806,1.70158099228219,1.41971585542112,2.8178517239298,1.69946085933073,1.4159167497768,2.82002998093648,2.53740338455879,2.25540479824409,1.41528001651168,1.13271866113193,1.41530424670891,1.6952772978787,2.81177460470445,0.572554964714823,1.69253758896098,0.851001521478646,1.13190171335435,38.4741127337785,0],\"fOption\":\"\",\"fFunctions\":{\"_typename\":\"TList\",\"name\":\"TList\",\"arr\":[],\"opt\":[]},\"fBufferSize\":0,\"fBuffer\":[],\"fBinStatErrOpt\":0,\"fArray\":[0,0.9077399,1.040028,1.296101,3.396787,4.410927,5.787789,9.095882,8.279047,7.643299,8.787726,8.335508,10.63922,12.27647,11.43258,14.27104,14.70702,18.33373,31.60775,24.98386,30.9535,28.51831,36.65159,40.48015,44.57189,41.47285,46.74683,41.50095,49.01741,44.30835,54.17418,38.37635,37.42549,45.55035,43.76361,35.2737,36.82107,35.68136,41.81061,36.44588,39.70125,34.987,34.93354,32.27292,27.70674,29.47207,30.38436,27.11968,33.61966,24.16981,21.12497,22.63822,25.628,23.24585,21.74492,19.83669,23.83258,20.0426,20.32585,16.22745,13.91125,16.64286,14.01506,13.93572,11.82801,10.55492,10.95744,13.16983,12.963,8.903004,10.01064,7.835775,9.812372,9.311919,11.44044,9.111289,8.406816,8.11364,6.128652,7.716893,8.072131,8.928795,6.051257,6.272898,5.587305,7.972998,5.95036,5.097941,7.952783,7.215322,6.414375,4.928931,4.17405,4.833804,5.260555,6.979085,3.039391,4.959206,3.356728,3.845628,132.2265,0]},{\"_typename\":\"TH1F\",\"fUniqueID\":0,\"fBits\":50332168,\"fName\":\"WWW_4F_TuneCUETP8M1_13TeV-amcatnlo-pythia8-v1\",\"fTitle\":\"\",\"fLineColor\":602,\"fLineStyle\":1,\"fLineWidth\":1,\"fFillColor\":46,\"fFillStyle\":1001,\"fMarkerColor\":1,\"fMarkerStyle\":1,\"fMarkerSize\":1,\"fNcells\":102,\"fXaxis\":{\"_typename\":\"TAxis\",\"fUniqueID\":0,\"fBits\":50331648,\"fName\":\"xaxis\",\"fTitle\":\"m_{Z} (GeV)\",\"fNdivisions\":510,\"fAxisColor\":1,\"fLabelColor\":1,\"fLabelFont\":42,\"fLabelOffset\":0.005,\"fLabelSize\":0.035,\"fTickLength\":0.03,\"fTitleOffset\":1,\"fTitleSize\":0.035,\"fTitleColor\":1,\"fTitleFont\":42,\"fNbins\":100,\"fXmin\":0,\"fXmax\":300,\"fXbins\":[],\"fFirst\":0,\"fLast\":0,\"fBits2\":0,\"fTimeDisplay\":false,\"fTimeFormat\":\"\",\"fLabels\":null,\"fModLabs\":null},\"fYaxis\":{\"_typename\":\"TAxis\",\"fUniqueID\":0,\"fBits\":50331648,\"fName\":\"yaxis\",\"fTitle\":\"\",\"fNdivisions\":510,\"fAxisColor\":1,\"fLabelColor\":1,\"fLabelFont\":42,\"fLabelOffset\":0.005,\"fLabelSize\":0.035,\"fTickLength\":0.03,\"fTitleOffset\":0,\"fTitleSize\":0.035,\"fTitleColor\":1,\"fTitleFont\":42,\"fNbins\":1,\"fXmin\":0,\"fXmax\":1,\"fXbins\":[],\"fFirst\":0,\"fLast\":0,\"fBits2\":0,\"fTimeDisplay\":false,\"fTimeFormat\":\"\",\"fLabels\":null,\"fModLabs\":null},\"fZaxis\":{\"_typename\":\"TAxis\",\"fUniqueID\":0,\"fBits\":50331648,\"fName\":\"zaxis\",\"fTitle\":\"\",\"fNdivisions\":510,\"fAxisColor\":1,\"fLabelColor\":1,\"fLabelFont\":42,\"fLabelOffset\":0.005,\"fLabelSize\":0.035,\"fTickLength\":0.03,\"fTitleOffset\":1,\"fTitleSize\":0.035,\"fTitleColor\":1,\"fTitleFont\":42,\"fNbins\":1,\"fXmin\":0,\"fXmax\":1,\"fXbins\":[],\"fFirst\":0,\"fLast\":0,\"fBits2\":0,\"fTimeDisplay\":false,\"fTimeFormat\":\"\",\"fLabels\":null,\"fModLabs\":null},\"fBarOffset\":0,\"fBarWidth\":1000,\"fEntries\":2083,\"fTsumw\":0,\"fTsumw2\":0.958295350687707,\"fTsumwx\":4938.54525844796,\"fTsumwx2\":850971.851763895,\"fMaximum\":-1111,\"fMinimum\":-1111,\"fNormFactor\":0,\"fContour\":[],\"fSumw2\":[0,0.00153120744650304,5.589592949824e-4,4.03232349078606e-6,0.00209016674148544,0.00376301230294185,0.00569944395900156,5.67023941963972e-4,0.00209823138846701,0.0055537735205574,0.0044358549305926,0.00887170986118519,0.00626243557747474,0.00514048466401916,0.00709304561404201,0.013201746106091,0.0101352988895942,0.0140520462779617,0.00789946170966455,0.0107103874785397,0.0161063935901806,0.0166774498556353,0.00932888279397161,0.0112653144500313,0.0100254478804166,0.0177752068281462,0.0124074269809408,0.0151341454386599,0.0155953506949371,0.0139063758395176,0.0135132486004333,0.0168190879705887,0.0187756812441023,0.0219595726346079,0.0165116177997372,0.0216959865400046,0.0156890724101515,0.0187953713794058,0.0162923872635326,0.0201970376814278,0.0107184521255213,0.0212710721951445,0.0179571681780074,0.0191889701006406,0.0175519439684508,0.011520835897653,0.0131039920673858,0.0155675959126521,0.0157132663510963,0.0103172602394554,0.0123993623339593,0.0167173016083927,0.0132098107530726,0.00934501208793475,0.00765603723251519,0.012237562601552,0.0121317439158652,0.00839292555386804,0.00710917490800515,0.00725484534644931,0.00974217165050984,0.0141780265811024,0.0111115793646056,0.0130918950969135,0.0116866679535511,0.00714902666076254,0.00749826982359867,0.00917514770854587,0.00820693188051602,0.00821499652749759,0.00933291511746239,0.00611676513903058,0.00379123856737735,0.00628259719492867,0.00975023629749142,0.0114150172119663,0.00933694744095318,0.00476348671889799,0.00768426349695069,0.00251555256849603,0.00489302786337901,0.00738841881442112,0.00516064628147309,0.0040386953680175,0.00585721136791808,0.00321211765494102,0.00684155648991107,0.00642423530988205,0.00612482978601215,0.0043381008918874,0.0102930662985107,0.00211436068243015,0.00600691412985303,0.00153927209348461,0.00209419906497622,0.00668378908099455,0.00377107694992342,0.00194449630304128,0.00474332510144406,0.00305838256951529,0.136206203570309,0],\"fOption\":\"\",\"fFunctions\":{\"_typename\":\"TList\",\"name\":\"TList\",\"arr\":[],\"opt\":[]},\"fBufferSize\":0,\"fBuffer\":[],\"fBinStatErrOpt\":0,\"fArray\":[0,0.05676655,0.02364232,0.002008065,0.08040887,0.1493278,0.2115601,0.02765845,0.084425,0.1973997,0.150115,0.3002301,0.2372105,0.1879178,0.2581824,0.4772163,0.3616751,0.5291795,0.2671059,0.3933497,0.5705648,0.6002313,0.3527516,0.414984,0.3865382,0.6374756,0.474317,0.5374405,0.5919702,0.5150191,0.5155774,0.6123836,0.6846563,0.8003014,0.5760306,0.8069881,0.5590748,0.7156476,0.6048058,0.766286,0.3973659,0.7705309,0.6697086,0.6941382,0.6642429,0.4042813,0.5081036,0.5569628,0.5711232,0.3939081,0.4703009,0.6412629,0.4812325,0.3607839,0.2838328,0.4481082,0.4749794,0.3377,0.2662146,0.280375,0.3622336,0.5123486,0.3968074,0.5020794,0.428482,0.3072462,0.2636482,0.3345751,0.3034589,0.3074751,0.3547597,0.2230501,0.1633842,0.2472508,0.3662497,0.4311525,0.3567678,0.1965085,0.2978892,0.09591497,0.2026366,0.2885112,0.1979581,0.1486654,0.2317447,0.1297016,0.2708931,0.2594031,0.2270662,0.1810023,0.3818597,0.09245726,0.2479132,0.06078268,0.08241694,0.2507085,0.1533439,0.06624846,0.1864681,0.111525,5.46212,0]},{\"_typename\":\"TH1F\",\"fUniqueID\":0,\"fBits\":50332168,\"fName\":\"WJetsToLNu_TuneCUETP8M1_13TeV-amcatnloFXFX-pythia8-v1\",\"fTitle\":\"\",\"fLineColor\":881,\"fLineStyle\":1,\"fLineWidth\":1,\"fFillColor\":881,\"fFillStyle\":1001,\"fMarkerColor\":1,\"fMarkerStyle\":1,\"fMarkerSize\":1,\"fNcells\":102,\"fXaxis\":{\"_typename\":\"TAxis\",\"fUniqueID\":0,\"fBits\":50331648,\"fName\":\"xaxis\",\"fTitle\":\"m_{Z} (GeV)\",\"fNdivisions\":510,\"fAxisColor\":1,\"fLabelColor\":1,\"fLabelFont\":42,\"fLabelOffset\":0.005,\"fLabelSize\":0.035,\"fTickLength\":0.03,\"fTitleOffset\":1,\"fTitleSize\":0.035,\"fTitleColor\":1,\"fTitleFont\":42,\"fNbins\":100,\"fXmin\":0,\"fXmax\":300,\"fXbins\":[],\"fFirst\":0,\"fLast\":0,\"fBits2\":0,\"fTimeDisplay\":false,\"fTimeFormat\":\"\",\"fLabels\":null,\"fModLabs\":null},\"fYaxis\":{\"_typename\":\"TAxis\",\"fUniqueID\":0,\"fBits\":50331648,\"fName\":\"yaxis\",\"fTitle\":\"\",\"fNdivisions\":510,\"fAxisColor\":1,\"fLabelColor\":1,\"fLabelFont\":42,\"fLabelOffset\":0.005,\"fLabelSize\":0.035,\"fTickLength\":0.03,\"fTitleOffset\":0,\"fTitleSize\":0.035,\"fTitleColor\":1,\"fTitleFont\":42,\"fNbins\":1,\"fXmin\":0,\"fXmax\":1,\"fXbins\":[],\"fFirst\":0,\"fLast\":0,\"fBits2\":0,\"fTimeDisplay\":false,\"fTimeFormat\":\"\",\"fLabels\":null,\"fModLabs\":null},\"fZaxis\":{\"_typename\":\"TAxis\",\"fUniqueID\":0,\"fBits\":50331648,\"fName\":\"zaxis\",\"fTitle\":\"\",\"fNdivisions\":510,\"fAxisColor\":1,\"fLabelColor\":1,\"fLabelFont\":42,\"fLabelOffset\":0.005,\"fLabelSize\":0.035,\"fTickLength\":0.03,\"fTitleOffset\":1,\"fTitleSize\":0.035,\"fTitleColor\":1,\"fTitleFont\":42,\"fNbins\":1,\"fXmin\":0,\"fXmax\":1,\"fXbins\":[],\"fFirst\":0,\"fLast\":0,\"fBits2\":0,\"fTimeDisplay\":false,\"fTimeFormat\":\"\",\"fLabels\":null,\"fModLabs\":null},\"fBarOffset\":0,\"fBarWidth\":1000,\"fEntries\":19,\"fTsumw\":0,\"fTsumw2\":170953.714819882,\"fTsumwx\":169880.825702324,\"fTsumwx2\":24046238.6783626,\"fMaximum\":-1111,\"fMinimum\":-1111,\"fNormFactor\":0,\"fContour\":[],\"fSumw2\":[0,0,0,0,0,0,0,10056.1008717578,0,0,0,0,0,10056.1008717578,10056.1008717578,0,10056.1008717578,10056.1008717578,0,0,0,0,10056.1008717578,0,10056.1008717578,0,10056.1008717578,10056.1008717578,0,0,0,0,10056.1008717578,0,0,10056.1008717578,0,0,0,10056.1008717578,0,10056.1008717578,0,0,0,0,0,10056.1008717578,0,0,0,0,0,0,0,0,0,0,0,10056.1008717578,0,10056.1008717578,0,0,0,0,0,0,0,0,0,0,0,0,0,0,0,0,0,0,0,0,0,0,0,0,0,0,0,0,0,0,0,0,0,10056.1008717578,0,0,0,0,0,0],\"fOption\":\"\",\"fFunctions\":{\"_typename\":\"TList\",\"name\":\"TList\",\"arr\":[],\"opt\":[]},\"fBufferSize\":0,\"fBuffer\":[],\"fBinStatErrOpt\":0,\"fArray\":[0,0,0,0,0,0,0,100.2801,0,0,0,0,0,100.2801,100.2801,0,100.2801,100.2801,0,0,0,0,100.2801,0,100.2801,0,100.2801,100.2801,0,0,0,0,100.2801,0,0,100.2801,0,0,0,100.2801,0,100.2801,0,0,0,0,0,100.2801,0,0,0,0,0,0,0,0,0,0,0,100.2801,0,100.2801,0,0,0,0,0,0,0,0,0,0,0,0,0,0,0,0,0,0,0,0,0,0,0,0,0,0,0,0,0,0,0,0,0,100.2801,0,0,0,0,0,0]},{\"_typename\":\"TH1F\",\"fUniqueID\":0,\"fBits\":50332168,\"fName\":\"TTJets_SingleLeptFromT_TuneCUETP8M1_13TeV-madgraphMLM-pythia8_ext1-v1\",\"fTitle\":\"\",\"fLineColor\":798,\"fLineStyle\":1,\"fLineWidth\":1,\"fFillColor\":798,\"fFillStyle\":1001,\"fMarkerColor\":1,\"fMarkerStyle\":1,\"fMarkerSize\":1,\"fNcells\":102,\"fXaxis\":{\"_typename\":\"TAxis\",\"fUniqueID\":0,\"fBits\":50331648,\"fName\":\"xaxis\",\"fTitle\":\"m_{Z} (GeV)\",\"fNdivisions\":510,\"fAxisColor\":1,\"fLabelColor\":1,\"fLabelFont\":42,\"fLabelOffset\":0.005,\"fLabelSize\":0.035,\"fTickLength\":0.03,\"fTitleOffset\":1,\"fTitleSize\":0.035,\"fTitleColor\":1,\"fTitleFont\":42,\"fNbins\":100,\"fXmin\":0,\"fXmax\":300,\"fXbins\":[],\"fFirst\":0,\"fLast\":0,\"fBits2\":0,\"fTimeDisplay\":false,\"fTimeFormat\":\"\",\"fLabels\":null,\"fModLabs\":null},\"fYaxis\":{\"_typename\":\"TAxis\",\"fUniqueID\":0,\"fBits\":50331648,\"fName\":\"yaxis\",\"fTitle\":\"\",\"fNdivisions\":510,\"fAxisColor\":1,\"fLabelColor\":1,\"fLabelFont\":42,\"fLabelOffset\":0.005,\"fLabelSize\":0.035,\"fTickLength\":0.03,\"fTitleOffset\":0,\"fTitleSize\":0.035,\"fTitleColor\":1,\"fTitleFont\":42,\"fNbins\":1,\"fXmin\":0,\"fXmax\":1,\"fXbins\":[],\"fFirst\":0,\"fLast\":0,\"fBits2\":0,\"fTimeDisplay\":false,\"fTimeFormat\":\"\",\"fLabels\":null,\"fModLabs\":null},\"fZaxis\":{\"_typename\":\"TAxis\",\"fUniqueID\":0,\"fBits\":50331648,\"fName\":\"zaxis\",\"fTitle\":\"\",\"fNdivisions\":510,\"fAxisColor\":1,\"fLabelColor\":1,\"fLabelFont\":42,\"fLabelOffset\":0.005,\"fLabelSize\":0.035,\"fTickLength\":0.03,\"fTitleOffset\":1,\"fTitleSize\":0.035,\"fTitleColor\":1,\"fTitleFont\":42,\"fNbins\":1,\"fXmin\":0,\"fXmax\":1,\"fXbins\":[],\"fFirst\":0,\"fLast\":0,\"fBits2\":0,\"fTimeDisplay\":false,\"fTimeFormat\":\"\",\"fLabels\":null,\"fModLabs\":null},\"fBarOffset\":0,\"fBarWidth\":1000,\"fEntries\":6259,\"fTsumw\":0,\"fTsumw2\":104.479198341441,\"fTsumwx\":78337.0087723958,\"fTsumwx2\":10416569.8032864,\"fMaximum\":-1111,\"fMinimum\":-1111,\"fNormFactor\":0,\"fContour\":[],\"fSumw2\":[0,2.34738230704296,0.689874406035306,0.466749722502422,0.403339702388783,0.51022928692679,0.540075156820313,0.746417765243139,0.361099564739946,0.777503061912193,0.903653575111321,1.12305997831761,1.21564634129662,1.19514598585997,1.44992586580929,1.4530742463885,1.47233517504962,2.000585963862,1.88559029164266,2.33117013168028,2.41451060748319,2.63763529101608,2.69417865022391,3.06519362916811,3.11801870804934,3.0794968507271,3.33246740415351,3.00798074293212,3.57609244312305,2.86943596197768,3.01484740383793,3.34362224513329,2.83215353143097,2.52635789912332,2.52759732589885,2.25479594406394,2.26471135826819,1.70041756568463,1.77374300000253,1.7028964192357,1.44868643903376,1.15223632118298,1.04410730986945,1.14603918730533,0.942175432433564,1.0646076653061,1.03228294186151,0.899935294784727,1.0751926065385,1.06708651885716,0.987563950661613,0.643246461031726,0.842722408548745,0.595379089252614,0.840243554997682,0.595379089252614,0.384078773727662,0.518335374608129,0.574878733815961,0.538835730044781,0.453685927718958,0.567442173162772,0.470468002829016,0.467989149277953,0.612161164362672,0.533878022942655,0.380360493401067,0.345556916405419,0.280907469516248,0.344317489629888,0.292731837524181,0.451207074167895,0.257928260528533,0.366057271842072,0.502792726273602,0.363578418291009,0.212539742300483,0.327535414519829,0.274710335638591,0.223124683532885,0.277189189189654,0.293971264299712,0.293971264299712,0.15475695631712,0.261646540855127,0.167820751100584,0.192039386863831,0.174017884978241,0.105650157762476,0.212539742300483,0.190799960088299,0.139214307982593,0.0876286558768862,0.192039386863831,0.194518240414894,0.123671659648066,0.2461038925206,0.123671659648066,0.105650157762476,0.157235809868183,4.42996969265157,0],\"fOption\":\"\",\"fFunctions\":{\"_typename\":\"TList\",\"name\":\"TList\",\"arr\":[],\"opt\":[]},\"fBufferSize\":0,\"fBuffer\":[],\"fBinStatErrOpt\":0,\"fArray\":[0,17.79876,5.252305,3.549417,3.04533,3.846096,4.091092,5.664434,2.753349,5.914128,6.853838,8.54263,9.223248,9.079607,10.96842,11.04628,11.18523,15.16556,14.26814,17.60545,18.31694,20.01982,20.43195,23.22288,23.62091,23.34303,25.2909,22.74229,27.13743,21.75559,22.83424,25.33319,21.48241,19.1365,19.1412,17.11814,17.15573,12.90691,13.44858,12.9163,10.96372,8.71916,7.913696,8.695668,7.131723,8.057337,7.802943,6.839743,8.16339,8.066732,7.501566,4.877763,6.359148,4.498523,6.349751,4.498523,2.906387,3.942752,4.354882,4.086393,3.433967,4.326691,3.563512,3.554115,4.628069,4.067599,2.892291,2.628501,2.119716,2.623803,2.230467,3.42457,1.966677,2.772143,3.817905,2.762746,1.596835,2.494257,2.096223,1.702888,2.10562,2.235166,2.235166,1.180006,1.980773,1.295457,1.453193,1.318949,0.7960681,1.596835,1.448495,1.055159,0.6618239,1.453193,1.46259,0.9303123,1.855926,0.9303123,0.7960681,1.189404,33.53886,0]},{\"_typename\":\"TH1F\",\"fUniqueID\":0,\"fBits\":50332168,\"fName\":\"ST_s-channel_4f_leptonDecays_13TeV-amcatnlo-pythia8_TuneCUETP8M1-v1\",\"fTitle\":\"\",\"fLineColor\":801,\"fLineStyle\":1,\"fLineWidth\":1,\"fFillColor\":801,\"fFillStyle\":1001,\"fMarkerColor\":1,\"fMarkerStyle\":1,\"fMarkerSize\":1,\"fNcells\":102,\"fXaxis\":{\"_typename\":\"TAxis\",\"fUniqueID\":0,\"fBits\":50331648,\"fName\":\"xaxis\",\"fTitle\":\"m_{Z} (GeV)\",\"fNdivisions\":510,\"fAxisColor\":1,\"fLabelColor\":1,\"fLabelFont\":42,\"fLabelOffset\":0.005,\"fLabelSize\":0.035,\"fTickLength\":0.03,\"fTitleOffset\":1,\"fTitleSize\":0.035,\"fTitleColor\":1,\"fTitleFont\":42,\"fNbins\":100,\"fXmin\":0,\"fXmax\":300,\"fXbins\":[],\"fFirst\":0,\"fLast\":0,\"fBits2\":0,\"fTimeDisplay\":false,\"fTimeFormat\":\"\",\"fLabels\":null,\"fModLabs\":null},\"fYaxis\":{\"_typename\":\"TAxis\",\"fUniqueID\":0,\"fBits\":50331648,\"fName\":\"yaxis\",\"fTitle\":\"\",\"fNdivisions\":510,\"fAxisColor\":1,\"fLabelColor\":1,\"fLabelFont\":42,\"fLabelOffset\":0.005,\"fLabelSize\":0.035,\"fTickLength\":0.03,\"fTitleOffset\":0,\"fTitleSize\":0.035,\"fTitleColor\":1,\"fTitleFont\":42,\"fNbins\":1,\"fXmin\":0,\"fXmax\":1,\"fXbins\":[],\"fFirst\":0,\"fLast\":0,\"fBits2\":0,\"fTimeDisplay\":false,\"fTimeFormat\":\"\",\"fLabels\":null,\"fModLabs\":null},\"fZaxis\":{\"_typename\":\"TAxis\",\"fUniqueID\":0,\"fBits\":50331648,\"fName\":\"zaxis\",\"fTitle\":\"\",\"fNdivisions\":510,\"fAxisColor\":1,\"fLabelColor\":1,\"fLabelFont\":42,\"fLabelOffset\":0.005,\"fLabelSize\":0.035,\"fTickLength\":0.03,\"fTitleOffset\":1,\"fTitleSize\":0.035,\"fTitleColor\":1,\"fTitleFont\":42,\"fNbins\":1,\"fXmin\":0,\"fXmax\":1,\"fXbins\":[],\"fFirst\":0,\"fLast\":0,\"fBits2\":0,\"fTimeDisplay\":false,\"fTimeFormat\":\"\",\"fLabels\":null,\"fModLabs\":null},\"fBarOffset\":0,\"fBarWidth\":1000,\"fEntries\":4334,\"fTsumw\":0,\"fTsumw2\":71.6097568429165,\"fTsumwx\":65648.7243258484,\"fTsumwx2\":10040729.7355383,\"fMaximum\":-1111,\"fMinimum\":-1111,\"fNormFactor\":0,\"fContour\":[],\"fSumw2\":[0,0.118249612174439,0.092053914447501,0.0862888405733689,0.176369422484169,0.140853296136572,0.271007604571638,0.305881740132216,0.549165126566028,0.462878153770835,0.637551706017081,0.753826117876644,0.703452723379213,0.663422724114075,0.558083686546924,0.931891410598735,0.720158774880283,1.04908714332227,0.873693327274089,0.895488754627268,0.793742514597999,1.1369063720847,1.62662849883727,1.39327033450409,1.20940065733834,1.47750305019641,1.37970333239606,1.47789676659023,1.55293370548719,1.44633718249567,1.34476084120486,1.7510569413279,1.69975849041014,1.61063455889218,1.43903611709795,1.21004451590353,1.36688173196106,1.54978370945246,1.30549458751647,1.51511878319987,1.35202888050082,1.40650799480826,1.11346670851436,1.14833455960717,1.00130871762218,1.01534781177877,1.38996742535605,1.09691985459438,1.25698067752764,1.0537754343077,1.11108698800847,0.947227055264905,0.824454634153899,0.989564002715713,0.667539145081451,0.667942881499389,0.745630473248936,0.79656680174539,0.744338339428952,0.807181231964209,0.701434041289523,0.640862521926756,0.640458785508818,0.439106742329701,0.615072428395932,0.447946245522603,0.473411659423483,0.475834077931112,0.527089585362816,0.491977195433158,0.438218344927655,0.288931149794294,0.508120312935204,0.445523827014974,0.349105217206895,0.348622424000963,0.405609298071795,0.332558363286911,0.385428816390368,0.298253446193129,0.210674339577951,0.295346366701392,0.246594202343486,0.280899119437268,0.158207622892433,0.209463130324137,0.269961877366682,0.14125703255451,0.22843240275175,0.158611359310371,0.226413720662059,0.139642086882758,0.175965686066231,0.228836139169688,0.192512539986215,0.140449559718634,0.104529696953099,0.0883865794510535,0.123498969380712,0.201352043179117,3.9957036102662,0],\"fOption\":\"\",\"fFunctions\":{\"_typename\":\"TList\",\"name\":\"TList\",\"arr\":[],\"opt\":[]},\"fBufferSize\":0,\"fBuffer\":[],\"fBinStatErrOpt\":0,\"fArray\":[0,0.9491248,0.6743081,0.7077178,1.328023,1.061504,2.012689,2.339038,4.184255,3.527707,4.849028,5.69298,5.230806,5.071759,4.225604,7.027704,5.348703,7.910297,6.660206,6.808701,6.08582,8.561839,12.3782,10.63608,9.185431,11.23802,10.39443,11.06353,11.84621,10.85232,10.21481,13.47145,12.86829,12.06424,10.78839,9.176771,10.37623,11.6044,9.886982,11.51276,10.20308,10.53376,8.433926,8.686606,7.554647,7.651089,10.47873,8.305237,9.443218,7.951379,8.366391,7.151823,6.224493,7.502634,5.036432,5.037956,5.592409,6.045315,5.58723,6.093366,5.223188,4.861824,4.860301,3.313202,4.639701,3.405113,3.57515,3.584291,3.976452,3.711457,3.309547,2.208825,3.838622,3.395971,2.642334,2.691373,3.054301,2.513646,2.9119,2.251698,1.589971,2.240425,1.858014,2.119962,1.19324,1.5854,2.070995,1.063028,1.723231,1.194764,1.715613,1.056934,1.3265,1.724754,1.455188,1.059981,0.7919384,0.6647733,0.9297686,1.547099,30.21041,0]},{\"_typename\":\"TH1F\",\"fUniqueID\":0,\"fBits\":50332168,\"fName\":\"TTJets_DiLept_TuneCUETP8M1_13TeV-madgraphMLM-pythia8_ext1-v1\",\"fTitle\":\"\",\"fLineColor\":798,\"fLineStyle\":1,\"fLineWidth\":1,\"fFillColor\":41,\"fFillStyle\":1001,\"fMarkerColor\":1,\"fMarkerStyle\":1,\"fMarkerSize\":1,\"fNcells\":102,\"fXaxis\":{\"_typename\":\"TAxis\",\"fUniqueID\":0,\"fBits\":50331648,\"fName\":\"xaxis\",\"fTitle\":\"m_{Z} (GeV)\",\"fNdivisions\":510,\"fAxisColor\":1,\"fLabelColor\":1,\"fLabelFont\":42,\"fLabelOffset\":0.005,\"fLabelSize\":0.035,\"fTickLength\":0.03,\"fTitleOffset\":1,\"fTitleSize\":0.035,\"fTitleColor\":1,\"fTitleFont\":42,\"fNbins\":100,\"fXmin\":0,\"fXmax\":300,\"fXbins\":[],\"fFirst\":0,\"fLast\":0,\"fBits2\":0,\"fTimeDisplay\":false,\"fTimeFormat\":\"\",\"fLabels\":null,\"fModLabs\":null},\"fYaxis\":{\"_typename\":\"TAxis\",\"fUniqueID\":0,\"fBits\":50331648,\"fName\":\"yaxis\",\"fTitle\":\"\",\"fNdivisions\":510,\"fAxisColor\":1,\"fLabelColor\":1,\"fLabelFont\":42,\"fLabelOffset\":0.005,\"fLabelSize\":0.035,\"fTickLength\":0.03,\"fTitleOffset\":0,\"fTitleSize\":0.035,\"fTitleColor\":1,\"fTitleFont\":42,\"fNbins\":1,\"fXmin\":0,\"fXmax\":1,\"fXbins\":[],\"fFirst\":0,\"fLast\":0,\"fBits2\":0,\"fTimeDisplay\":false,\"fTimeFormat\":\"\",\"fLabels\":null,\"fModLabs\":null},\"fZaxis\":{\"_typename\":\"TAxis\",\"fUniqueID\":0,\"fBits\":50331648,\"fName\":\"zaxis\",\"fTitle\":\"\",\"fNdivisions\":510,\"fAxisColor\":1,\"fLabelColor\":1,\"fLabelFont\":42,\"fLabelOffset\":0.005,\"fLabelSize\":0.035,\"fTickLength\":0.03,\"fTitleOffset\":1,\"fTitleSize\":0.035,\"fTitleColor\":1,\"fTitleFont\":42,\"fNbins\":1,\"fXmin\":0,\"fXmax\":1,\"fXbins\":[],\"fFirst\":0,\"fLast\":0,\"fBits2\":0,\"fTimeDisplay\":false,\"fTimeFormat\":\"\",\"fLabels\":null,\"fModLabs\":null},\"fBarOffset\":0,\"fBarWidth\":1000,\"fEntries\":545298,\"fTsumw\":0,\"fTsumw2\":10263.9042614185,\"fTsumwx\":8723839.09260033,\"fTsumwx2\":1306596175.56144,\"fMaximum\":-1111,\"fMinimum\":-1111,\"fNormFactor\":0,\"fContour\":[],\"fSumw2\":[0,3.03662908454814,5.289611953729,9.10988725364438,17.3577636703849,31.8944009654467,44.8637458297764,54.7180969880209,62.8680176278414,72.5656395430093,78.7564446444092,90.0801324564634,95.134650545581,102.30501341619,109.397011665262,116.371462982029,126.813548801795,134.865513664691,144.347632870633,156.983928093427,166.622776542442,178.651745948327,186.644937345071,196.048691929476,203.238645955468,211.819572013738,217.951603648985,218.598111776663,225.357060384204,227.433722854927,227.100673213396,229.647523413339,223.515491778091,222.790619028877,221.869834725821,217.481415919765,216.972045879776,210.565738069151,205.295717270807,202.141541253955,191.875775832646,188.937102525019,182.217336228247,177.280365071434,174.537603317649,164.977119490171,161.039297257952,155.142359487314,151.478813430473,140.782042590713,138.627015498453,130.575050635557,127.107416132557,122.425129995739,116.861241866633,112.394458439041,105.713874453036,102.77520114541,99.0528816224163,94.7624185932816,92.0196568394969,85.5349844073343,80.069052055149,79.6380466366971,77.2871079905959,73.1141918937663,69.313507749236,66.5315636846829,65.2973208954797,60.8501286232705,57.2257648771965,56.1874336418347,53.2095780234388,49.9770373850484,50.4276339588847,47.9787395358617,45.9412593759065,42.4344425621376,41.200199772934,38.7513053499111,37.3799244730182,35.8322231976677,34.0102457469386,32.6388648700457,29.5826446301134,30.6601581762434,28.230854908605,28.2504460639892,27.0945678963225,24.2538503656164,23.7444803256277,23.0391987317972,22.9412429548763,21.6286355441362,20.296436978012,19.4736084518764,18.7095533918934,17.8671337103736,17.6516310011476,16.9463494073171,434.688555664373,0],\"fOption\":\"\",\"fFunctions\":{\"_typename\":\"TList\",\"name\":\"TList\",\"arr\":[],\"opt\":[]},\"fBufferSize\":0,\"fBuffer\":[],\"fBinStatErrOpt\":0,\"fArray\":[0,21.69515,37.79157,65.08549,124.0124,227.8693,320.5216,390.9183,449.139,518.4161,562.6414,643.5346,679.6426,730.8657,781.5289,831.3524,905.9476,963.4686,1031.209,1121.519,1190.406,1276.375,1333.501,1400.708,1452.093,1513.42,1557.244,1561.865,1610.17,1625.011,1622.631,1640.833,1597.008,1591.828,1585.247,1553.884,1550.244,1504.459,1466.795,1444.252,1370.885,1349.883,1301.858,1266.574,1246.972,1178.645,1150.502,1108.357,1082.175,1005.735,990.3397,932.8187,908.0469,874.598,834.8512,802.9418,755.2176,734.2245,707.6334,676.9835,657.39,611.0654,572.0183,568.9393,552.1449,522.3348,495.1837,475.3103,466.4933,434.7238,408.8324,401.4148,380.1419,357.0495,360.2685,342.7743,328.2191,303.1674,294.3503,276.8561,267.0594,256.003,242.9859,233.1881,211.353,219.0513,201.6951,201.8351,193.5769,173.2814,169.6422,164.6034,163.9035,154.5256,145.0077,139.129,133.6702,127.6516,126.1119,121.073,3105.365,0]},{\"_typename\":\"TH1F\",\"fUniqueID\":0,\"fBits\":50332168,\"fName\":\"DYJetsToLL_M-10to50_TuneCUETP8M1_13TeV-amcatnloFXFX-pythia8-v1\",\"fTitle\":\"\",\"fLineColor\":418,\"fLineStyle\":1,\"fLineWidth\":1,\"fFillColor\":418,\"fFillStyle\":1001,\"fMarkerColor\":1,\"fMarkerStyle\":1,\"fMarkerSize\":1,\"fNcells\":102,\"fXaxis\":{\"_typename\":\"TAxis\",\"fUniqueID\":0,\"fBits\":50331648,\"fName\":\"xaxis\",\"fTitle\":\"m_{Z} (GeV)\",\"fNdivisions\":510,\"fAxisColor\":1,\"fLabelColor\":1,\"fLabelFont\":42,\"fLabelOffset\":0.005,\"fLabelSize\":0.035,\"fTickLength\":0.03,\"fTitleOffset\":1,\"fTitleSize\":0.035,\"fTitleColor\":1,\"fTitleFont\":42,\"fNbins\":100,\"fXmin\":0,\"fXmax\":300,\"fXbins\":[],\"fFirst\":0,\"fLast\":0,\"fBits2\":0,\"fTimeDisplay\":false,\"fTimeFormat\":\"\",\"fLabels\":null,\"fModLabs\":null},\"fYaxis\":{\"_typename\":\"TAxis\",\"fUniqueID\":0,\"fBits\":50331648,\"fName\":\"yaxis\",\"fTitle\":\"\",\"fNdivisions\":510,\"fAxisColor\":1,\"fLabelColor\":1,\"fLabelFont\":42,\"fLabelOffset\":0.005,\"fLabelSize\":0.035,\"fTickLength\":0.03,\"fTitleOffset\":0,\"fTitleSize\":0.035,\"fTitleColor\":1,\"fTitleFont\":42,\"fNbins\":1,\"fXmin\":0,\"fXmax\":1,\"fXbins\":[],\"fFirst\":0,\"fLast\":0,\"fBits2\":0,\"fTimeDisplay\":false,\"fTimeFormat\":\"\",\"fLabels\":null,\"fModLabs\":null},\"fZaxis\":{\"_typename\":\"TAxis\",\"fUniqueID\":0,\"fBits\":50331648,\"fName\":\"zaxis\",\"fTitle\":\"\",\"fNdivisions\":510,\"fAxisColor\":1,\"fLabelColor\":1,\"fLabelFont\":42,\"fLabelOffset\":0.005,\"fLabelSize\":0.035,\"fTickLength\":0.03,\"fTitleOffset\":1,\"fTitleSize\":0.035,\"fTitleColor\":1,\"fTitleFont\":42,\"fNbins\":1,\"fXmin\":0,\"fXmax\":1,\"fXbins\":[],\"fFirst\":0,\"fLast\":0,\"fBits2\":0,\"fTimeDisplay\":false,\"fTimeFormat\":\"\",\"fLabels\":null,\"fModLabs\":null},\"fBarOffset\":0,\"fBarWidth\":1000,\"fEntries\":2286,\"fTsumw\":0,\"fTsumw2\":45877.2657054437,\"fTsumwx\":829797.26371581,\"fTsumwx2\":85995018.676972,\"fMaximum\":-1111,\"fMinimum\":-1111,\"fNormFactor\":0,\"fContour\":[],\"fSumw2\":[0,787.460423163578,211.89810080811,269.688491937595,231.161564517939,154.107709678626,115.580782258969,248.083439288388,115.580782258969,115.580782258969,192.634637098282,325.137294127701,96.3173185491411,327.47888306708,231.161564517939,173.371173388454,385.269274196564,727.328443094715,748.933495743922,768.19695945375,1078.75396775038,1907.082907273,2617.48947559726,2889.51955647423,3655.3749269886,3965.93193528523,3486.6869314789,3005.1003387332,2600.56760082681,2118.98100808111,1637.3944153354,1175.07128629952,847.592403232442,806.723886873407,327.47888306708,633.352713484953,423.796201616221,327.47888306708,288.951955647423,363.664221547358,192.634637098282,267.346902998216,288.951955647423,96.3173185491411,382.927685257186,173.371173388454,173.371173388454,154.107709678626,267.346902998216,96.3173185491411,96.3173185491411,248.083439288388,134.844245968798,115.580782258969,96.3173185491411,134.844245968798,57.7903911294847,77.0538548393129,77.0538548393129,134.844245968798,115.580782258969,228.81997557856,77.0538548393129,57.7903911294847,115.580782258969,77.0538548393129,134.844245968798,96.3173185491411,57.7903911294847,57.7903911294847,57.7903911294847,57.7903911294847,19.2634637098282,38.5269274196565,57.7903911294847,38.5269274196565,38.5269274196565,115.580782258969,0,38.5269274196565,96.3173185491411,38.5269274196565,38.5269274196565,0,0,19.2634637098282,19.2634637098282,57.7903911294847,19.2634637098282,19.2634637098282,0,77.0538548393129,0,57.7903911294847,19.2634637098282,0,0,0,171.029584449075,57.7903911294847,828.328939522613,0],\"fOption\":\"\",\"fFunctions\":{\"_typename\":\"TList\",\"name\":\"TList\",\"arr\":[],\"opt\":[]},\"fBufferSize\":0,\"fBuffer\":[],\"fBinStatErrOpt\":0,\"fArray\":[0,157.1569,48.27917,61.44622,52.66819,35.11213,26.3341,34.26442,26.3341,26.3341,43.89016,51.82048,21.94508,74.61327,52.66819,39.50114,87.78031,121.197,148.3788,152.7679,245.7851,434.5124,574.1133,658.3528,788.3284,881.346,794.413,684.6871,592.5173,482.7915,373.0663,267.7301,193.1168,161.5459,74.61327,122.0447,96.55834,74.61327,65.83524,60.59851,43.89016,38.65343,65.83524,21.94508,64.98753,39.50114,39.50114,35.11213,38.65343,21.94508,21.94508,34.26442,30.72311,26.3341,21.94508,30.72311,13.16705,17.55606,17.55606,30.72311,26.3341,29.8754,17.55606,13.16705,26.3341,17.55606,30.72311,21.94508,13.16705,13.16705,13.16705,13.16705,4.389016,8.778032,13.16705,8.778032,8.778032,26.3341,0,8.778032,21.94508,8.778032,8.778032,0,0,4.389016,4.389016,13.16705,4.389016,4.389016,0,17.55606,0,13.16705,4.389016,0,0,0,16.70835,13.16705,188.7278,0]}],\"opt\":[\"\",\"\",\"\",\"\",\"\",\"\",\"\",\"\"]},\"fHistogram\":{\"_typename\":\"TH1F\",\"fUniqueID\":0,\"fBits\":50332160,\"fName\":\"Bkg\",\"fTitle\":\"\",\"fLineColor\":602,\"fLineStyle\":1,\"fLineWidth\":1,\"fFillColor\":0,\"fFillStyle\":1001,\"fMarkerColor\":1,\"fMarkerStyle\":1,\"fMarkerSize\":1,\"fNcells\":102,\"fXaxis\":{\"_typename\":\"TAxis\",\"fUniqueID\":0,\"fBits\":50331656,\"fName\":\"xaxis\",\"fTitle\":\"m_{Z} (GeV)\",\"fNdivisions\":510,\"fAxisColor\":1,\"fLabelColor\":1,\"fLabelFont\":42,\"fLabelOffset\":0.010368,\"fLabelSize\":0.042,\"fTickLength\":0.03,\"fTitleOffset\":1.2,\"fTitleSize\":0.0504,\"fTitleColor\":1,\"fTitleFont\":42,\"fNbins\":100,\"fXmin\":0,\"fXmax\":300,\"fXbins\":[],\"fFirst\":0,\"fLast\":0,\"fBits2\":0,\"fTimeDisplay\":false,\"fTimeFormat\":\"\",\"fLabels\":null,\"fModLabs\":null},\"fYaxis\":{\"_typename\":\"TAxis\",\"fUniqueID\":0,\"fBits\":50331656,\"fName\":\"yaxis\",\"fTitle\":\"Events\",\"fNdivisions\":510,\"fAxisColor\":1,\"fLabelColor\":1,\"fLabelFont\":42,\"fLabelOffset\":0.005,\"fLabelSize\":0.042,\"fTickLength\":0.03,\"fTitleOffset\":0,\"fTitleSize\":0.0504,\"fTitleColor\":1,\"fTitleFont\":42,\"fNbins\":1,\"fXmin\":0,\"fXmax\":1,\"fXbins\":[],\"fFirst\":0,\"fLast\":0,\"fBits2\":0,\"fTimeDisplay\":false,\"fTimeFormat\":\"\",\"fLabels\":null,\"fModLabs\":null},\"fZaxis\":{\"_typename\":\"TAxis\",\"fUniqueID\":0,\"fBits\":50331648,\"fName\":\"zaxis\",\"fTitle\":\"\",\"fNdivisions\":510,\"fAxisColor\":1,\"fLabelColor\":1,\"fLabelFont\":42,\"fLabelOffset\":0.005,\"fLabelSize\":0.035,\"fTickLength\":0.03,\"fTitleOffset\":1,\"fTitleSize\":0.035,\"fTitleColor\":1,\"fTitleFont\":42,\"fNbins\":1,\"fXmin\":0,\"fXmax\":1,\"fXbins\":[],\"fFirst\":0,\"fLast\":0,\"fBits2\":0,\"fTimeDisplay\":false,\"fTimeFormat\":\"\",\"fLabels\":null,\"fModLabs\":null},\"fBarOffset\":0,\"fBarWidth\":1000,\"fEntries\":0,\"fTsumw\":0,\"fTsumw2\":0,\"fTsumwx\":0,\"fTsumwx2\":0,\"fMaximum\":3694.00305175781,\"fMinimum\":1,\"fNormFactor\":0,\"fContour\":[],\"fSumw2\":[],\"fOption\":\"\",\"fFunctions\":{\"_typename\":\"TList\",\"name\":\"TList\",\"arr\":[],\"opt\":[]},\"fBufferSize\":0,\"fBuffer\":[],\"fBinStatErrOpt\":0,\"fArray\":[0,0,0,0,0,0,0,0,0,0,0,0,0,0,0,0,0,0,0,0,0,0,0,0,0,0,0,0,0,0,0,0,0,0,0,0,0,0,0,0,0,0,0,0,0,0,0,0,0,0,0,0,0,0,0,0,0,0,0,0,0,0,0,0,0,0,0,0,0,0,0,0,0,0,0,0,0,0,0,0,0,0,0,0,0,0,0,0,0,0,0,0,0,0,0,0,0,0,0,0,0,0]},\"fMaximum\":-1111,\"fMinimum\":1},{\"_typename\":\"TH1F\",\"fUniqueID\":0,\"fBits\":50332168,\"fName\":\"BkgSum\",\"fTitle\":\"\",\"fLineColor\":1,\"fLineStyle\":1,\"fLineWidth\":1,\"fFillColor\":1,\"fFillStyle\":3003,\"fMarkerColor\":1,\"fMarkerStyle\":0,\"fMarkerSize\":1,\"fNcells\":102,\"fXaxis\":{\"_typename\":\"TAxis\",\"fUniqueID\":0,\"fBits\":50331656,\"fName\":\"xaxis\",\"fTitle\":\"m_{Z} (GeV)\",\"fNdivisions\":510,\"fAxisColor\":1,\"fLabelColor\":1,\"fLabelFont\":42,\"fLabelOffset\":0.010368,\"fLabelSize\":0.042,\"fTickLength\":0.03,\"fTitleOffset\":1.2,\"fTitleSize\":0.0504,\"fTitleColor\":1,\"fTitleFont\":42,\"fNbins\":100,\"fXmin\":0,\"fXmax\":300,\"fXbins\":[],\"fFirst\":0,\"fLast\":0,\"fBits2\":0,\"fTimeDisplay\":false,\"fTimeFormat\":\"\",\"fLabels\":null,\"fModLabs\":null},\"fYaxis\":{\"_typename\":\"TAxis\",\"fUniqueID\":0,\"fBits\":50331656,\"fName\":\"yaxis\",\"fTitle\":\"Events \\/ 3.0 GeV\",\"fNdivisions\":510,\"fAxisColor\":1,\"fLabelColor\":1,\"fLabelFont\":42,\"fLabelOffset\":0.005,\"fLabelSize\":0.042,\"fTickLength\":0.03,\"fTitleOffset\":0,\"fTitleSize\":0.0504,\"fTitleColor\":1,\"fTitleFont\":42,\"fNbins\":1,\"fXmin\":0,\"fXmax\":1,\"fXbins\":[],\"fFirst\":0,\"fLast\":0,\"fBits2\":0,\"fTimeDisplay\":false,\"fTimeFormat\":\"\",\"fLabels\":null,\"fModLabs\":null},\"fZaxis\":{\"_typename\":\"TAxis\",\"fUniqueID\":0,\"fBits\":50331648,\"fName\":\"zaxis\",\"fTitle\":\"\",\"fNdivisions\":510,\"fAxisColor\":1,\"fLabelColor\":1,\"fLabelFont\":42,\"fLabelOffset\":0.005,\"fLabelSize\":0.035,\"fTickLength\":0.03,\"fTitleOffset\":1,\"fTitleSize\":0.035,\"fTitleColor\":1,\"fTitleFont\":42,\"fNbins\":1,\"fXmin\":0,\"fXmax\":1,\"fXbins\":[],\"fFirst\":0,\"fLast\":0,\"fBits2\":0,\"fTimeDisplay\":false,\"fTimeFormat\":\"\",\"fLabels\":null,\"fModLabs\":null},\"fBarOffset\":0,\"fBarWidth\":1000,\"fEntries\":750476,\"fTsumw\":0,\"fTsumw2\":227911.519879516,\"fTsumwx\":10126883.2079707,\"fTsumwx2\":1477259178.64372,\"fMaximum\":-1111,\"fMinimum\":-1111,\"fNormFactor\":0,\"fContour\":[],\"fSumw2\":[0,792.973582226832,217.980871205391,279.361789471465,249.955940185974,187.795046559693,162.964521123707,10363.3507801993,182.197588508511,191.671950137789,275.78111040804,419.670282132007,196.787126959518,10492.0038929056,10402.3756032043,296.969664275294,10575.219667445,10927.86860791,909.018110147698,937.473552760424,1259.90468241899,2098.89157204996,12877.5641201207,3104.17265778732,13934.8765338793,4196.74595911057,13782.7040349407,13299.0097714466,2849.97081467172,2367.41340071393,1891.12756642985,1423.42388873159,11144.7888024408,1051.18181355993,569.727494859262,10922.3308211986,657.16094969962,553.232655030059,512.627832246491,10637.6187539949,401.745235115829,10527.1414725587,485.53823080105,286.699302424969,567.975297579109,350.372722661812,347.609881203361,10376.1605424117,433.614134529004,246.917489706272,243.325826853857,387.373017408458,272.414860219144,247.265454347189,222.058231034418,254.772169165719,173.137222850853,187.962745729573,184.251382114119,10291.9093105045,212.771253171617,10377.0808633211,162.511165836145,142.617588333716,197.262712918837,153.741211863377,207.882541059011,167.942333398428,128.429489365603,121.781266673225,118.619845381232,116.459745537748,76.0998296276501,92.1733487540507,113.057741499704,90.0763720418212,87.6613240269001,161.234343925509,43.3149044927294,80.0889795069543,136.74960243621,78.079586621269,74.8048874436261,34.7995710566952,31.4478631773648,53.1379619231843,49.6832027837071,87.7923027359091,49.5297736178555,46.4488402692151,26.4391878168022,101.808264941214,24.3538781068971,81.2684098037308,41.6591015508376,10078.6726155488,19.64454652862,19.7860316577063,189.781468024072,76.2422458715982,1310.47687899103,0],\"fOption\":\"\",\"fFunctions\":{\"_typename\":\"TList\",\"name\":\"TList\",\"arr\":[],\"opt\":[]},\"fBufferSize\":0,\"fBuffer\":[],\"fBinStatErrOpt\":0,\"fArray\":[0,198.7233,93.29135,132.2499,184.8075,272.8578,359.5878,543.4631,491.6729,563.0179,628.4072,719.7593,728.268,933.8481,963.028,905.3839,1127.581,1228.645,1234.48,1326.301,1494.242,1771.368,2080.07,2136.381,2421.176,2474.18,2538.126,2425.643,2293.856,2188.276,2086.208,1989.648,1965.9,1834.11,1737.389,1841.675,1714.687,1643.543,1602.015,1670.095,1479.101,1546.942,1423.076,1342.188,1358.45,1266.832,1242.091,1289.202,1175.312,1071.297,1052.364,1004.758,979.7162,939.0504,892.3273,865.8782,803.2078,784.4788,758.0463,836.732,709.005,769.6948,613.9951,605.1855,601.8486,559.8044,545.1412,518.5427,500.1057,464.9585,439.6519,429.7543,401.5917,382.9551,393.2752,367.7732,351.6451,343.6757,307.0792,298.5979,302.0378,279.6618,263.1819,243.9542,221.3433,235.3853,216.9208,223.5282,209.4228,188.7957,180.2985,190.2662,170.9207,176.4448,158.4607,249.435,140.0922,134.9502,148.8719,141.5551,3518.098,0]},{\"_typename\":\"TH1F\",\"fUniqueID\":0,\"fBits\":50332168,\"fName\":\"SingleMuonRun2016B-03Feb2017_ver1-v1\",\"fTitle\":\"\",\"fLineColor\":1,\"fLineStyle\":1,\"fLineWidth\":1,\"fFillColor\":0,\"fFillStyle\":1,\"fMarkerColor\":1,\"fMarkerStyle\":20,\"fMarkerSize\":1.25,\"fNcells\":102,\"fXaxis\":{\"_typename\":\"TAxis\",\"fUniqueID\":0,\"fBits\":50331648,\"fName\":\"xaxis\",\"fTitle\":\"m_{Z} (GeV)\",\"fNdivisions\":510,\"fAxisColor\":1,\"fLabelColor\":1,\"fLabelFont\":42,\"fLabelOffset\":0.005,\"fLabelSize\":0.035,\"fTickLength\":0.03,\"fTitleOffset\":1,\"fTitleSize\":0.035,\"fTitleColor\":1,\"fTitleFont\":42,\"fNbins\":100,\"fXmin\":0,\"fXmax\":300,\"fXbins\":[],\"fFirst\":0,\"fLast\":0,\"fBits2\":0,\"fTimeDisplay\":false,\"fTimeFormat\":\"\",\"fLabels\":null,\"fModLabs\":null},\"fYaxis\":{\"_typename\":\"TAxis\",\"fUniqueID\":0,\"fBits\":50331648,\"fName\":\"yaxis\",\"fTitle\":\"\",\"fNdivisions\":510,\"fAxisColor\":1,\"fLabelColor\":1,\"fLabelFont\":42,\"fLabelOffset\":0.005,\"fLabelSize\":0.035,\"fTickLength\":0.03,\"fTitleOffset\":0,\"fTitleSize\":0.035,\"fTitleColor\":1,\"fTitleFont\":42,\"fNbins\":1,\"fXmin\":0,\"fXmax\":1,\"fXbins\":[],\"fFirst\":0,\"fLast\":0,\"fBits2\":0,\"fTimeDisplay\":false,\"fTimeFormat\":\"\",\"fLabels\":null,\"fModLabs\":null},\"fZaxis\":{\"_typename\":\"TAxis\",\"fUniqueID\":0,\"fBits\":50331648,\"fName\":\"zaxis\",\"fTitle\":\"\",\"fNdivisions\":510,\"fAxisColor\":1,\"fLabelColor\":1,\"fLabelFont\":42,\"fLabelOffset\":0.005,\"fLabelSize\":0.035,\"fTickLength\":0.03,\"fTitleOffset\":1,\"fTitleSize\":0.035,\"fTitleColor\":1,\"fTitleFont\":42,\"fNbins\":1,\"fXmin\":0,\"fXmax\":1,\"fXbins\":[],\"fFirst\":0,\"fLast\":0,\"fBits2\":0,\"fTimeDisplay\":false,\"fTimeFormat\":\"\",\"fLabels\":null,\"fModLabs\":null},\"fBarOffset\":0,\"fBarWidth\":1000,\"fEntries\":86585,\"fTsumw\":0,\"fTsumw2\":83181,\"fTsumwx\":9414526.22650139,\"fTsumwx2\":1376047000.99175,\"fMaximum\":-1111,\"fMinimum\":-1111,\"fNormFactor\":0,\"fContour\":[],\"fSumw2\":[0,898,361,149,194,346,375,431,518,554,589,683,670,820,795,933,994,1031,1201,1272,1517,1628,1744,1976,2258,2252,2271,2321,2084,2042,2036,2048,1815,1643,1669,1597,1577,1495,1502,1461,1421,1319,1347,1291,1259,1210,1243,1117,1063,997,969,930,927,857,828,796,759,768,685,721,651,663,545,544,579,559,465,443,465,443,445,431,368,376,372,358,283,300,311,317,264,279,272,257,237,210,222,216,246,173,182,183,162,170,149,160,120,128,125,140,3513,0],\"fOption\":\"\",\"fFunctions\":{\"_typename\":\"TList\",\"name\":\"TList\",\"arr\":[],\"opt\":[]},\"fBufferSize\":0,\"fBuffer\":[],\"fBinStatErrOpt\":0,\"fArray\":[0,898,361,149,194,346,375,431,518,554,589,683,670,820,795,933,994,1031,1201,1272,1517,1628,1744,1976,2258,2252,2271,2321,2084,2042,2036,2048,1815,1643,1669,1597,1577,1495,1502,1461,1421,1319,1347,1291,1259,1210,1243,1117,1063,997,969,930,927,857,828,796,759,768,685,721,651,663,545,544,579,559,465,443,465,443,445,431,368,376,372,358,283,300,311,317,264,279,272,257,237,210,222,216,246,173,182,183,162,170,149,160,120,128,125,140,3513,0]},{\"_typename\":\"TLegend\",\"fUniqueID\":0,\"fBits\":50331656,\"fLineColor\":1,\"fLineStyle\":1,\"fLineWidth\":1,\"fFillColor\":0,\"fFillStyle\":0,\"fX1\":211.764705982897,\"fY1\":1549.67869697687,\"fX2\":300.000000854625,\"fY2\":3535.16420449917,\"fX1NDC\":0.7,\"fY1NDC\":0.4,\"fX2NDC\":0.95,\"fY2NDC\":0.9,\"fBorderSize\":0,\"fInit\":1,\"fShadowColor\":1,\"fCornerRadius\":0,\"fOption\":\"brNDC\",\"fName\":\"TPave\",\"fTextAngle\":0,\"fTextSize\":0,\"fTextAlign\":12,\"fTextColor\":1,\"fTextFont\":42,\"fPrimitives\":{\"_typename\":\"TList\",\"name\":\"TList\",\"arr\":[{\"_typename\":\"TLegendEntry\",\"fUniqueID\":0,\"fBits\":50331656,\"fTextAngle\":0,\"fTextSize\":0,\"fTextAlign\":0,\"fTextColor\":0,\"fTextFont\":42,\"fLineColor\":1,\"fLineStyle\":1,\"fLineWidth\":1,\"fFillColor\":0,\"fFillStyle\":0,\"fMarkerColor\":1,\"fMarkerStyle\":20,\"fMarkerSize\":1.25,\"fObject\":{\"$ref\":57},\"fLabel\":\"Data\",\"fOption\":\"pl\"},{\"_typename\":\"TLegendEntry\",\"fUniqueID\":0,\"fBits\":50331656,\"fTextAngle\":0,\"fTextSize\":0,\"fTextAlign\":0,\"fTextColor\":0,\"fTextFont\":42,\"fLineColor\":418,\"fLineStyle\":1,\"fLineWidth\":1,\"fFillColor\":418,\"fFillStyle\":1001,\"fMarkerColor\":1,\"fMarkerStyle\":21,\"fMarkerSize\":1,\"fObject\":{\"$ref\":42},\"fLabel\":\"Z(ll) + jets\",\"fOption\":\"f\"},{\"_typename\":\"TLegendEntry\",\"fUniqueID\":0,\"fBits\":50331656,\"fTextAngle\":0,\"fTextSize\":0,\"fTextAlign\":0,\"fTextColor\":0,\"fTextFont\":42,\"fLineColor\":798,\"fLineStyle\":1,\"fLineWidth\":1,\"fFillColor\":41,\"fFillStyle\":1001,\"fMarkerColor\":1,\"fMarkerStyle\":21,\"fMarkerSize\":1,\"fObject\":{\"$ref\":37},\"fLabel\":\"t#bar{t} di-lept\",\"fOption\":\"f\"},{\"_typename\":\"TLegendEntry\",\"fUniqueID\":0,\"fBits\":50331656,\"fTextAngle\":0,\"fTextSize\":0,\"fTextAlign\":0,\"fTextColor\":0,\"fTextFont\":42,\"fLineColor\":801,\"fLineStyle\":1,\"fLineWidth\":1,\"fFillColor\":801,\"fFillStyle\":1001,\"fMarkerColor\":1,\"fMarkerStyle\":21,\"fMarkerSize\":1,\"fObject\":{\"$ref\":32},\"fLabel\":\"Single-t\",\"fOption\":\"f\"},{\"_typename\":\"TLegendEntry\",\"fUniqueID\":0,\"fBits\":50331656,\"fTextAngle\":0,\"fTextSize\":0,\"fTextAlign\":0,\"fTextColor\":0,\"fTextFont\":42,\"fLineColor\":798,\"fLineStyle\":1,\"fLineWidth\":1,\"fFillColor\":798,\"fFillStyle\":1001,\"fMarkerColor\":1,\"fMarkerStyle\":21,\"fMarkerSize\":1,\"fObject\":{\"$ref\":27},\"fLabel\":\"t#bar{t} sing.lept\",\"fOption\":\"f\"},{\"_typename\":\"TLegendEntry\",\"fUniqueID\":0,\"fBits\":50331656,\"fTextAngle\":0,\"fTextSize\":0,\"fTextAlign\":0,\"fTextColor\":0,\"fTextFont\":42,\"fLineColor\":881,\"fLineStyle\":1,\"fLineWidth\":1,\"fFillColor\":881,\"fFillStyle\":1001,\"fMarkerColor\":1,\"fMarkerStyle\":21,\"fMarkerSize\":1,\"fObject\":{\"$ref\":22},\"fLabel\":\"W(l#nu) + jets\",\"fOption\":\"f\"},{\"_typename\":\"TLegendEntry\",\"fUniqueID\":0,\"fBits\":50331656,\"fTextAngle\":0,\"fTextSize\":0,\"fTextAlign\":0,\"fTextColor\":0,\"fTextFont\":42,\"fLineColor\":602,\"fLineStyle\":1,\"fLineWidth\":1,\"fFillColor\":46,\"fFillStyle\":1001,\"fMarkerColor\":1,\"fMarkerStyle\":21,\"fMarkerSize\":1,\"fObject\":{\"$ref\":17},\"fLabel\":\"WWW,WWZ\",\"fOption\":\"f\"},{\"_typename\":\"TLegendEntry\",\"fUniqueID\":0,\"fBits\":50331656,\"fTextAngle\":0,\"fTextSize\":0,\"fTextAlign\":0,\"fTextColor\":0,\"fTextFont\":42,\"fLineColor\":602,\"fLineStyle\":1,\"fLineWidth\":1,\"fFillColor\":9,\"fFillStyle\":1001,\"fMarkerColor\":1,\"fMarkerStyle\":21,\"fMarkerSize\":1,\"fObject\":{\"$ref\":12},\"fLabel\":\"WW, WZ, ZZ\",\"fOption\":\"f\"},{\"_typename\":\"TLegendEntry\",\"fUniqueID\":0,\"fBits\":50331656,\"fTextAngle\":0,\"fTextSize\":0,\"fTextAlign\":0,\"fTextColor\":0,\"fTextFont\":42,\"fLineColor\":602,\"fLineStyle\":1,\"fLineWidth\":1,\"fFillColor\":38,\"fFillStyle\":1001,\"fMarkerColor\":1,\"fMarkerStyle\":21,\"fMarkerSize\":1,\"fObject\":{\"$ref\":7},\"fLabel\":\"ttW,ttZ,ttH\",\"fOption\":\"f\"},{\"_typename\":\"TLegendEntry\",\"fUniqueID\":0,\"fBits\":50331656,\"fTextAngle\":0,\"fTextSize\":0,\"fTextAlign\":0,\"fTextColor\":0,\"fTextFont\":42,\"fLineColor\":1,\"fLineStyle\":1,\"fLineWidth\":1,\"fFillColor\":1,\"fFillStyle\":3003,\"fMarkerColor\":1,\"fMarkerStyle\":21,\"fMarkerSize\":1,\"fObject\":{\"$ref\":52},\"fLabel\":\"MC stat.\",\"fOption\":\"f\"}],\"opt\":[\"pl\",\"f\",\"f\",\"f\",\"f\",\"f\",\"f\",\"f\",\"f\",\"f\"]},\"fEntrySeparation\":0.1,\"fMargin\":0.25,\"fNColumns\":1,\"fColumnSeparation\":0},{\"_typename\":\"TLatex\",\"fUniqueID\":0,\"fBits\":50348041,\"fName\":\"\",\"fTitle\":\"35.8 fb^{-1}  (13 TeV)\",\"fTextAngle\":0,\"fTextSize\":0.04,\"fTextAlign\":33,\"fTextColor\":1,\"fTextFont\":42,\"fX\":0.95,\"fY\":0.985,\"fLineColor\":1,\"fLineStyle\":1,\"fLineWidth\":2,\"fLimitFactorSize\":3,\"fOriginSize\":0.04},{\"_typename\":\"TLatex\",\"fUniqueID\":0,\"fBits\":50348041,\"fName\":\"\",\"fTitle\":\"CMS\",\"fTextAngle\":0,\"fTextSize\":0.05,\"fTextAlign\":11,\"fTextColor\":1,\"fTextFont\":62,\"fX\":0.15,\"fY\":0.87,\"fLineColor\":1,\"fLineStyle\":1,\"fLineWidth\":2,\"fLimitFactorSize\":3,\"fOriginSize\":0.04},{\"_typename\":\"TLatex\",\"fUniqueID\":0,\"fBits\":50348041,\"fName\":\"\",\"fTitle\":\"Preliminary\",\"fTextAngle\":0,\"fTextSize\":0.04,\"fTextAlign\":11,\"fTextColor\":1,\"fTextFont\":52,\"fX\":0.15,\"fY\":0.83,\"fLineColor\":1,\"fLineStyle\":1,\"fLineWidth\":2,\"fLimitFactorSize\":3,\"fOriginSize\":0.04}],\"opt\":[\"\",\"hist\",\"SAME, E2\",\"SAME, PE\",\"\",\"\",\"\",\"\"]},\"fExecs\":{\"_typename\":\"TList\",\"name\":\"TList\",\"arr\":[],\"opt\":[]},\"fName\":\"TopPad\",\"fTitle\":\"\",\"fNumPaletteColor\":0,\"fNextPaletteColor\":0},{\"_typename\":\"TPad\",\"fUniqueID\":0,\"fBits\":50331657,\"fLineColor\":1,\"fLineStyle\":1,\"fLineWidth\":1,\"fFillColor\":0,\"fFillStyle\":1001,\"fLeftMargin\":0.1,\"fRightMargin\":0.05,\"fBottomMargin\":0.4,\"fTopMargin\":0.04,\"fXfile\":2,\"fYfile\":2,\"fAfile\":1,\"fXstat\":0.99,\"fYstat\":0.99,\"fAstat\":2,\"fFrameFillColor\":0,\"fFrameLineColor\":1,\"fFrameFillStyle\":1001,\"fFrameLineStyle\":1,\"fFrameLineWidth\":1,\"fFrameBorderSize\":1,\"fFrameBorderMode\":0,\"fX1\":-35.2941196579423,\"fY1\":-1.42857144377669,\"fX2\":317.647059828971,\"fY2\":2.14285713905583,\"fXtoAbsPixelk\":79.6000538549305,\"fXtoPixelk\":79.6000538549305,\"fXtoPixel\":2.25533331405868,\"fYtoAbsPixelk\":694.800049424815,\"fYtoPixelk\":115.800049424815,\"fYtoPixel\":-54.0399998274446,\"fUtoAbsPixelk\":5e-5,\"fUtoPixelk\":5e-5,\"fUtoPixel\":796,\"fVtoAbsPixelk\":772.00005,\"fVtoPixelk\":193,\"fVtoPixel\":-193,\"fAbsPixeltoXk\":-35.2941196579423,\"fPixeltoXk\":-35.2941196579423,\"fPixeltoX\":0.443393441566474,\"fAbsPixeltoYk\":12.8571428875534,\"fPixeltoYk\":-1.42857144377669,\"fPixeltoY\":-0.0185048113100131,\"fXlowNDC\":0,\"fYlowNDC\":0,\"fXUpNDC\":0,\"fYUpNDC\":0,\"fWNDC\":1,\"fHNDC\":0.25,\"fAbsXlowNDC\":0,\"fAbsYlowNDC\":0,\"fAbsWNDC\":1,\"fAbsHNDC\":0.25,\"fUxmin\":0,\"fUymin\":0,\"fUxmax\":300,\"fUymax\":2,\"fTheta\":30,\"fPhi\":30,\"fAspectRatio\":0,\"fNumber\":2,\"fTickx\":1,\"fTicky\":1,\"fLogx\":0,\"fLogy\":0,\"fLogz\":0,\"fPadPaint\":0,\"fCrosshair\":0,\"fCrosshairPos\":0,\"fBorderSize\":2,\"fBorderMode\":0,\"fModified\":false,\"fGridx\":false,\"fGridy\":false,\"fAbsCoord\":false,\"fEditable\":true,\"fFixedAspectRatio\":false,\"fPrimitives\":{\"_typename\":\"TList\",\"name\":\"TList\",\"arr\":[{\"_typename\":\"TFrame\",\"fUniqueID\":0,\"fBits\":50331656,\"fLineColor\":1,\"fLineStyle\":1,\"fLineWidth\":1,\"fFillColor\":0,\"fFillStyle\":1001,\"fX1\":0,\"fY1\":0,\"fX2\":300,\"fY2\":2,\"fBorderSize\":1,\"fBorderMode\":0},{\"_typename\":\"TH1F\",\"fUniqueID\":0,\"fBits\":50332168,\"fName\":\"BkgErr;\",\"fTitle\":\"\",\"fLineColor\":1,\"fLineStyle\":1,\"fLineWidth\":1,\"fFillColor\":1,\"fFillStyle\":3003,\"fMarkerColor\":1,\"fMarkerStyle\":0,\"fMarkerSize\":1,\"fNcells\":102,\"fXaxis\":{\"_typename\":\"TAxis\",\"fUniqueID\":0,\"fBits\":50331656,\"fName\":\"xaxis\",\"fTitle\":\"m_{Z} (GeV)\",\"fNdivisions\":510,\"fAxisColor\":1,\"fLabelColor\":1,\"fLabelFont\":42,\"fLabelOffset\":0.031104,\"fLabelSize\":0.126,\"fTickLength\":0.03,\"fTitleOffset\":1.2,\"fTitleSize\":0.1512,\"fTitleColor\":1,\"fTitleFont\":42,\"fNbins\":100,\"fXmin\":0,\"fXmax\":300,\"fXbins\":[],\"fFirst\":0,\"fLast\":0,\"fBits2\":0,\"fTimeDisplay\":false,\"fTimeFormat\":\"\",\"fLabels\":null,\"fModLabs\":null},\"fYaxis\":{\"_typename\":\"TAxis\",\"fUniqueID\":0,\"fBits\":50331656,\"fName\":\"yaxis\",\"fTitle\":\"Data \\/ Bkg\",\"fNdivisions\":505,\"fAxisColor\":1,\"fLabelColor\":1,\"fLabelFont\":42,\"fLabelOffset\":0.005,\"fLabelSize\":0.126,\"fTickLength\":0.03,\"fTitleOffset\":0,\"fTitleSize\":0.1512,\"fTitleColor\":1,\"fTitleFont\":42,\"fNbins\":1,\"fXmin\":0,\"fXmax\":1,\"fXbins\":[],\"fFirst\":0,\"fLast\":0,\"fBits2\":0,\"fTimeDisplay\":false,\"fTimeFormat\":\"\",\"fLabels\":null,\"fModLabs\":null},\"fZaxis\":{\"_typename\":\"TAxis\",\"fUniqueID\":0,\"fBits\":50331648,\"fName\":\"zaxis\",\"fTitle\":\"\",\"fNdivisions\":510,\"fAxisColor\":1,\"fLabelColor\":1,\"fLabelFont\":42,\"fLabelOffset\":0.005,\"fLabelSize\":0.035,\"fTickLength\":0.03,\"fTitleOffset\":1,\"fTitleSize\":0.035,\"fTitleColor\":1,\"fTitleFont\":42,\"fNbins\":1,\"fXmin\":0,\"fXmax\":1,\"fXbins\":[],\"fFirst\":0,\"fLast\":0,\"fBits2\":0,\"fTimeDisplay\":false,\"fTimeFormat\":\"\",\"fLabels\":null,\"fModLabs\":null},\"fBarOffset\":0,\"fBarWidth\":1000,\"fEntries\":750576,\"fTsumw\":0,\"fTsumw2\":227911.519879516,\"fTsumwx\":10126883.2079707,\"fTsumwx2\":1477259178.64372,\"fMaximum\":2,\"fMinimum\":0,\"fNormFactor\":0,\"fContour\":[],\"fSumw2\":[0,0.0200798817441266,0.025045840833345,0.0159726304688215,0.00731853747343095,0.00252238472170273,0.00126032700907397,0.0350881214025468,7.53685512135422e-4,6.0466409670147e-4,6.98364667450456e-4,8.10090751453987e-4,3.71034440286483e-4,0.0120311178076472,0.0112164309867104,3.62281821428055e-4,0.00831751464922802,0.00723906300731344,5.96491266471983e-4,5.32936092824539e-4,5.64281633875366e-4,6.68917062182175e-4,0.00297630815021771,6.80124490160243e-4,0.00237711611050391,6.8556720646465e-4,0.00213947844512155,0.00226029794635358,5.41636869538133e-4,4.94390315863802e-4,4.34515937778811e-4,3.59568655540131e-4,0.00288369204151512,3.12483498335649e-4,1.88744023111256e-4,0.0032202492717538,2.23512515675565e-4,2.04807478291786e-4,1.99741796347623e-4,0.00381383606710744,1.8363487891098e-4,0.0043990853521248,2.39754869087239e-4,1.59147514938507e-4,3.07781031297497e-4,2.18319343357112e-4,2.25312652174195e-4,0.00624301996371635,3.13904232368914e-4,2.15145357424665e-4,2.19713088128624e-4,3.83713015158738e-4,2.83811656102449e-4,2.80404954846622e-4,2.78880716128363e-4,3.39811708248112e-4,2.68370382891276e-4,3.05428341786759e-4,3.20641203676749e-4,0.0147001985047345,4.23266941196851e-4,0.017516129103181,4.31075530231515e-4,3.89400119676099e-4,5.4459109184851e-4,4.90588786813045e-4,6.99519855226701e-4,6.24584488917293e-4,5.13500925232834e-4,5.63316031594552e-4,6.13676556619256e-4,6.30573086809601e-4,4.71861143998959e-4,6.28506394405689e-4,7.3098281613409e-4,6.65964097289987e-4,7.08922782946099e-4,0.0013650854945473,4.59342538239722e-4,8.98254208543829e-4,0.00149900685522184,9.98323054188181e-4,0.00107998515724525,5.84732392794204e-4,6.41886749599992e-4,9.59060851247387e-4,0.00105586185617929,0.00175708181229719,0.00112932407136008,0.00130313838383028,8.1332489581353e-4,0.00281228665249445,8.33640344778938e-4,0.00261038064078961,0.00165907764679651,0.161990152844953,0.00100095338586308,0.00108645431295904,0.0085630504573633,0.00380491386245927,1.05879885105963e-4,0],\"fOption\":\"\",\"fFunctions\":{\"_typename\":\"TList\",\"name\":\"TList\",\"arr\":[],\"opt\":[]},\"fBufferSize\":0,\"fBuffer\":[],\"fBinStatErrOpt\":0,\"fArray\":[0,1,1,1,1,1,1,1,1,1,1,1,1,1,1,1,1,1,1,1,1,1,1,1,1,1,1,1,1,1,1,1,1,1,1,1,1,1,1,1,1,1,1,1,1,1,1,1,1,1,1,1,1,1,1,1,1,1,1,1,1,1,1,1,1,1,1,1,1,1,1,1,1,1,1,1,1,1,1,1,1,1,1,1,1,1,1,1,1,1,1,1,1,1,1,1,1,1,1,1,1,0]},{\"_typename\":\"TH1F\",\"fUniqueID\":0,\"fBits\":50332168,\"fName\":\"errLine\",\"fTitle\":\"\",\"fLineColor\":1,\"fLineStyle\":1,\"fLineWidth\":1,\"fFillColor\":1,\"fFillStyle\":0,\"fMarkerColor\":1,\"fMarkerStyle\":0,\"fMarkerSize\":1,\"fNcells\":102,\"fXaxis\":{\"_typename\":\"TAxis\",\"fUniqueID\":0,\"fBits\":50331656,\"fName\":\"xaxis\",\"fTitle\":\"m_{Z} (GeV)\",\"fNdivisions\":510,\"fAxisColor\":1,\"fLabelColor\":1,\"fLabelFont\":42,\"fLabelOffset\":0.031104,\"fLabelSize\":0.126,\"fTickLength\":0.03,\"fTitleOffset\":1.2,\"fTitleSize\":0.1512,\"fTitleColor\":1,\"fTitleFont\":42,\"fNbins\":100,\"fXmin\":0,\"fXmax\":300,\"fXbins\":[],\"fFirst\":0,\"fLast\":0,\"fBits2\":0,\"fTimeDisplay\":false,\"fTimeFormat\":\"\",\"fLabels\":null,\"fModLabs\":null},\"fYaxis\":{\"_typename\":\"TAxis\",\"fUniqueID\":0,\"fBits\":50331656,\"fName\":\"yaxis\",\"fTitle\":\"Data \\/ Bkg\",\"fNdivisions\":505,\"fAxisColor\":1,\"fLabelColor\":1,\"fLabelFont\":42,\"fLabelOffset\":0.005,\"fLabelSize\":0.126,\"fTickLength\":0.03,\"fTitleOffset\":0,\"fTitleSize\":0.1512,\"fTitleColor\":1,\"fTitleFont\":42,\"fNbins\":1,\"fXmin\":0,\"fXmax\":1,\"fXbins\":[],\"fFirst\":0,\"fLast\":0,\"fBits2\":0,\"fTimeDisplay\":false,\"fTimeFormat\":\"\",\"fLabels\":null,\"fModLabs\":null},\"fZaxis\":{\"_typename\":\"TAxis\",\"fUniqueID\":0,\"fBits\":50331648,\"fName\":\"zaxis\",\"fTitle\":\"\",\"fNdivisions\":510,\"fAxisColor\":1,\"fLabelColor\":1,\"fLabelFont\":42,\"fLabelOffset\":0.005,\"fLabelSize\":0.035,\"fTickLength\":0.03,\"fTitleOffset\":1,\"fTitleSize\":0.035,\"fTitleColor\":1,\"fTitleFont\":42,\"fNbins\":1,\"fXmin\":0,\"fXmax\":1,\"fXbins\":[],\"fFirst\":0,\"fLast\":0,\"fBits2\":0,\"fTimeDisplay\":false,\"fTimeFormat\":\"\",\"fLabels\":null,\"fModLabs\":null},\"fBarOffset\":0,\"fBarWidth\":1000,\"fEntries\":750576,\"fTsumw\":0,\"fTsumw2\":227911.519879516,\"fTsumwx\":10126883.2079707,\"fTsumwx2\":1477259178.64372,\"fMaximum\":2,\"fMinimum\":0,\"fNormFactor\":0,\"fContour\":[],\"fSumw2\":[0,0.0200798817441266,0.025045840833345,0.0159726304688215,0.00731853747343095,0.00252238472170273,0.00126032700907397,0.0350881214025468,7.53685512135422e-4,6.0466409670147e-4,6.98364667450456e-4,8.10090751453987e-4,3.71034440286483e-4,0.0120311178076472,0.0112164309867104,3.62281821428055e-4,0.00831751464922802,0.00723906300731344,5.96491266471983e-4,5.32936092824539e-4,5.64281633875366e-4,6.68917062182175e-4,0.00297630815021771,6.80124490160243e-4,0.00237711611050391,6.8556720646465e-4,0.00213947844512155,0.00226029794635358,5.41636869538133e-4,4.94390315863802e-4,4.34515937778811e-4,3.59568655540131e-4,0.00288369204151512,3.12483498335649e-4,1.88744023111256e-4,0.0032202492717538,2.23512515675565e-4,2.04807478291786e-4,1.99741796347623e-4,0.00381383606710744,1.8363487891098e-4,0.0043990853521248,2.39754869087239e-4,1.59147514938507e-4,3.07781031297497e-4,2.18319343357112e-4,2.25312652174195e-4,0.00624301996371635,3.13904232368914e-4,2.15145357424665e-4,2.19713088128624e-4,3.83713015158738e-4,2.83811656102449e-4,2.80404954846622e-4,2.78880716128363e-4,3.39811708248112e-4,2.68370382891276e-4,3.05428341786759e-4,3.20641203676749e-4,0.0147001985047345,4.23266941196851e-4,0.017516129103181,4.31075530231515e-4,3.89400119676099e-4,5.4459109184851e-4,4.90588786813045e-4,6.99519855226701e-4,6.24584488917293e-4,5.13500925232834e-4,5.63316031594552e-4,6.13676556619256e-4,6.30573086809601e-4,4.71861143998959e-4,6.28506394405689e-4,7.3098281613409e-4,6.65964097289987e-4,7.08922782946099e-4,0.0013650854945473,4.59342538239722e-4,8.98254208543829e-4,0.00149900685522184,9.98323054188181e-4,0.00107998515724525,5.84732392794204e-4,6.41886749599992e-4,9.59060851247387e-4,0.00105586185617929,0.00175708181229719,0.00112932407136008,0.00130313838383028,8.1332489581353e-4,0.00281228665249445,8.33640344778938e-4,0.00261038064078961,0.00165907764679651,0.161990152844953,0.00100095338586308,0.00108645431295904,0.0085630504573633,0.00380491386245927,1.05879885105963e-4,0],\"fOption\":\"\",\"fFunctions\":{\"_typename\":\"TList\",\"name\":\"TList\",\"arr\":[],\"opt\":[]},\"fBufferSize\":0,\"fBuffer\":[],\"fBinStatErrOpt\":0,\"fArray\":[0,1,1,1,1,1,1,1,1,1,1,1,1,1,1,1,1,1,1,1,1,1,1,1,1,1,1,1,1,1,1,1,1,1,1,1,1,1,1,1,1,1,1,1,1,1,1,1,1,1,1,1,1,1,1,1,1,1,1,1,1,1,1,1,1,1,1,1,1,1,1,1,1,1,1,1,1,1,1,1,1,1,1,1,1,1,1,1,1,1,1,1,1,1,1,1,1,1,1,1,1,0]},{\"_typename\":\"TH1F\",\"fUniqueID\":0,\"fBits\":50332168,\"fName\":\"Residues\",\"fTitle\":\"\",\"fLineColor\":1,\"fLineStyle\":1,\"fLineWidth\":1,\"fFillColor\":0,\"fFillStyle\":1,\"fMarkerColor\":1,\"fMarkerStyle\":20,\"fMarkerSize\":1.25,\"fNcells\":102,\"fXaxis\":{\"_typename\":\"TAxis\",\"fUniqueID\":0,\"fBits\":50331656,\"fName\":\"xaxis\",\"fTitle\":\"m_{Z} (GeV)\",\"fNdivisions\":510,\"fAxisColor\":1,\"fLabelColor\":1,\"fLabelFont\":42,\"fLabelOffset\":0.015,\"fLabelSize\":0.105,\"fTickLength\":0.03,\"fTitleOffset\":1,\"fTitleSize\":0.105,\"fTitleColor\":1,\"fTitleFont\":42,\"fNbins\":100,\"fXmin\":0,\"fXmax\":300,\"fXbins\":[],\"fFirst\":0,\"fLast\":0,\"fBits2\":0,\"fTimeDisplay\":false,\"fTimeFormat\":\"\",\"fLabels\":null,\"fModLabs\":null},\"fYaxis\":{\"_typename\":\"TAxis\",\"fUniqueID\":0,\"fBits\":50331656,\"fName\":\"yaxis\",\"fTitle\":\"\",\"fNdivisions\":505,\"fAxisColor\":1,\"fLabelColor\":1,\"fLabelFont\":42,\"fLabelOffset\":0.005,\"fLabelSize\":0.105,\"fTickLength\":0.03,\"fTitleOffset\":0,\"fTitleSize\":0.105,\"fTitleColor\":1,\"fTitleFont\":42,\"fNbins\":1,\"fXmin\":0,\"fXmax\":1,\"fXbins\":[],\"fFirst\":0,\"fLast\":0,\"fBits2\":0,\"fTimeDisplay\":false,\"fTimeFormat\":\"\",\"fLabels\":null,\"fModLabs\":null},\"fZaxis\":{\"_typename\":\"TAxis\",\"fUniqueID\":0,\"fBits\":50331648,\"fName\":\"zaxis\",\"fTitle\":\"\",\"fNdivisions\":510,\"fAxisColor\":1,\"fLabelColor\":1,\"fLabelFont\":42,\"fLabelOffset\":0.005,\"fLabelSize\":0.035,\"fTickLength\":0.03,\"fTitleOffset\":1,\"fTitleSize\":0.035,\"fTitleColor\":1,\"fTitleFont\":42,\"fNbins\":1,\"fXmin\":0,\"fXmax\":1,\"fXbins\":[],\"fFirst\":0,\"fLast\":0,\"fBits2\":0,\"fTimeDisplay\":false,\"fTimeFormat\":\"\",\"fLabels\":null,\"fModLabs\":null},\"fBarOffset\":0,\"fBarWidth\":1000,\"fEntries\":86685,\"fTsumw\":0,\"fTsumw2\":83181,\"fTsumwx\":9414526.22650139,\"fTsumwx2\":1376047000.99175,\"fMaximum\":2,\"fMinimum\":0,\"fNormFactor\":0,\"fContour\":[],\"fSumw2\":[0,0.0227393878060715,0.0414786329224192,0.00851913908611866,0.00568018615116422,0.00464732765691842,0.00290015658097732,0.00145927515581083,0.00214277860910278,0.00174769396008023,0.00149153358806813,0.00131839686248986,0.00126325882608715,9.4028907184656e-4,8.57214060958153e-4,0.00113819349264926,7.81790811096234e-4,6.82976180289886e-4,7.88087721284731e-4,7.23108089904753e-4,6.79428571489553e-4,5.18843846787651e-4,4.03079446202831e-4,4.32941766040359e-4,3.85186633298686e-4,3.67879629598928e-4,3.52525566576309e-4,3.94476853814356e-4,3.96064138729606e-4,4.26433771427263e-4,4.67802630040333e-4,5.17341750673012e-4,4.69627657206359e-4,4.88412547803464e-4,5.52920084452837e-4,4.7084621141575e-4,5.36366680615272e-4,5.53451025101877e-4,5.85243639229233e-4,5.23802800504711e-4,6.49528955476641e-4,5.51184155221795e-4,6.65137754709249e-4,7.16637396909546e-4,6.82241498979235e-4,7.53958251815982e-4,8.05683732818513e-4,6.7206490020733e-4,7.69532569252159e-4,8.68710926907428e-4,8.74966645133426e-4,9.21213115164782e-4,9.65782134628504e-4,9.71858551523081e-4,0.00103987693623703,0.00106169414285417,0.00117648370038803,0.00124795456451627,0.00119206283284506,0.0010298228251094,0.00129503762661443,0.00111911950464384,0.00144566167356804,0.0014853263722853,0.00159846854742398,0.001783771107985,0.00156471404969059,0.00164753533544122,0.001859214199268,0.00204915754954332,0.00230219544476641,0.00233365614152786,0.00228180407027514,0.002563847440621,0.0024051922848874,0.00264681116063514,0.00228863925797175,0.00253994055108627,0.00329806866863882,0.00355537785424859,0.00289388636404386,0.00356728492262061,0.00392696216530085,0.00431833555371363,0.00483744026731503,0.00379018636531633,0.00471791911427803,0.00432304039908678,0.00560902465854252,0.00485357522590407,0.00559870189900431,0.00505507541753759,0.00554530720985835,0.005460482246496,0.0059339390474135,0.00257161090987389,0.00611438936137188,0.00702850144306699,0.00564007286019436,0.00698678186423591,2.83832582123559e-4,0],\"fOption\":\"\",\"fFunctions\":{\"_typename\":\"TList\",\"name\":\"TList\",\"arr\":[],\"opt\":[]},\"fBufferSize\":0,\"fBuffer\":[],\"fBinStatErrOpt\":0,\"fArray\":[0,4.518846,3.869598,1.126655,1.049741,1.26806,1.042861,0.7930622,1.053546,0.983983,0.9372904,0.9489284,0.919991,0.8780872,0.8255212,1.030502,0.8815328,0.8391355,0.9728789,0.9590586,1.015231,0.9190635,0.8384334,0.9249286,0.9326047,0.9102005,0.8947545,0.9568598,0.908514,0.9331548,0.9759335,1.029328,0.9232411,0.8958023,0.9606371,0.8671455,0.9197012,0.9096204,0.9375691,0.8748005,0.9607188,0.8526499,0.9465414,0.9618622,0.9267913,0.9551384,1.000732,0.8664274,0.9044408,0.9306475,0.9207838,0.9255961,0.9461924,0.9126241,0.9279106,0.9192979,0.9449609,0.978994,0.9036388,0.8616857,0.9181882,0.8613804,0.8876292,0.8988979,0.962036,0.998563,0.85299,0.8543174,0.9298036,0.9527732,1.012164,1.002899,0.9163536,0.9818384,0.9459025,0.9734261,0.8047887,0.8729159,1.012768,1.061628,0.874063,0.9976335,1.033506,1.053476,1.070735,0.8921542,1.023415,0.9663212,1.174657,0.9163343,1.009437,0.9618102,0.9478078,0.9634739,0.9402962,0.6414497,0.8565785,0.9484978,0.8396482,0.9890144,0.9985509,0]},{\"_typename\":\"TLatex\",\"fUniqueID\":0,\"fBits\":50348041,\"fName\":\"\",\"fTitle\":\"Data\\/Bkg = 0.943 #pm 0.006\",\"fTextAngle\":0,\"fTextSize\":0.08,\"fTextAlign\":11,\"fTextColor\":1,\"fTextFont\":62,\"fX\":0.15,\"fY\":0.85,\"fLineColor\":1,\"fLineStyle\":1,\"fLineWidth\":2,\"fLimitFactorSize\":3,\"fOriginSize\":0.04},{\"_typename\":\"TLatex\",\"fUniqueID\":0,\"fBits\":50348041,\"fName\":\"\",\"fTitle\":\"#chi^{2}\\/ndf = 7.28,   K-S = 0.000\",\"fTextAngle\":0,\"fTextSize\":0.08,\"fTextAlign\":11,\"fTextColor\":1,\"fTextFont\":62,\"fX\":0.45,\"fY\":0.85,\"fLineColor\":1,\"fLineStyle\":1,\"fLineWidth\":2,\"fLimitFactorSize\":3,\"fOriginSize\":0.04},{\"_typename\":\"TLatex\",\"fUniqueID\":0,\"fBits\":50348041,\"fName\":\"\",\"fTitle\":\"rel. Yield= 94.263\",\"fTextAngle\":0,\"fTextSize\":0.08,\"fTextAlign\":11,\"fTextColor\":1,\"fTextFont\":62,\"fX\":0.75,\"fY\":0.85,\"fLineColor\":1,\"fLineStyle\":1,\"fLineWidth\":2,\"fLimitFactorSize\":3,\"fOriginSize\":0.04}],\"opt\":[\"\",\"E2\",\"SAME, HIST\",\"SAME, PE0\",\"\",\"\",\"\"]},\"fExecs\":{\"_typename\":\"TList\",\"name\":\"TList\",\"arr\":[],\"opt\":[]},\"fName\":\"BotPad\",\"fTitle\":\"\",\"fNumPaletteColor\":0,\"fNextPaletteColor\":0}],\"opt\":[\"\",\"\"]},\"fExecs\":null,\"fName\":\"c1\",\"fTitle\":\"m_{Z} (GeV)\",\"fNumPaletteColor\":0,\"fNextPaletteColor\":0,\"fDISPLAY\":\"$DISPLAY\",\"fDoubleBuffer\":0,\"fRetained\":true,\"fXsizeUser\":0,\"fYsizeUser\":0,\"fXsizeReal\":20,\"fYsizeReal\":20,\"fWindowTopX\":0,\"fWindowTopY\":0,\"fWindowWidth\":0,\"fWindowHeight\":0,\"fCw\":796,\"fCh\":772,\"fCatt\":{\"_typename\":\"TAttCanvas\",\"fXBetween\":2,\"fYBetween\":2,\"fTitleFromTop\":1.2,\"fXdate\":0.2,\"fYdate\":0.3,\"fAdate\":1},\"kMoveOpaque\":true,\"kResizeOpaque\":true,\"fHighLightColor\":2,\"fBatch\":true,\"kShowEventStatus\":false,\"kAutoExec\":true,\"kMenuBar\":true});\n",
       "       Core.draw(\"root_plot_1\", obj, \"\");\n",
       "     }\n",
       " );\n",
       "</script>\n"
      ],
      "text/plain": [
       "<IPython.core.display.HTML object>"
      ]
     },
     "metadata": {},
     "output_type": "display_data"
    }
   ],
   "source": [
    "out[0].Draw()"
   ]
  },
  {
   "cell_type": "markdown",
   "metadata": {},
   "source": [
    "## NOTES:\n",
    "\n",
    "- OSmumu -> With jet cleaning and kinematics requirement on the jet, quality cut on muon, Zmass look stable, but 30% more data\n",
    "\n",
    "- SSmumu -> MHTju_pt = data (180057) ; BkgSum (233304) = Data more ; nJet = data (180057) ; BkgSum (233281)"
   ]
  },
  {
   "cell_type": "code",
   "execution_count": 9,
   "metadata": {
    "ExecuteTime": {
     "end_time": "2018-11-17T21:54:31.282144Z",
     "start_time": "2018-11-17T21:54:31.274433Z"
    }
   },
   "outputs": [],
   "source": [
    "### TOp up WJet HT and DY PT"
   ]
  }
 ],
 "metadata": {
  "kernelspec": {
   "display_name": "Python 2",
   "language": "python",
   "name": "python2"
  },
  "language_info": {
   "codemirror_mode": {
    "name": "ipython",
    "version": 2
   },
   "file_extension": ".py",
   "mimetype": "text/x-python",
   "name": "python",
   "nbconvert_exporter": "python",
   "pygments_lexer": "ipython2",
   "version": "2.7.10"
  },
  "varInspector": {
   "cols": {
    "lenName": 16,
    "lenType": 16,
    "lenVar": 40
   },
   "kernels_config": {
    "python": {
     "delete_cmd_postfix": "",
     "delete_cmd_prefix": "del ",
     "library": "var_list.py",
     "varRefreshCmd": "print(var_dic_list())"
    },
    "r": {
     "delete_cmd_postfix": ") ",
     "delete_cmd_prefix": "rm(",
     "library": "var_list.r",
     "varRefreshCmd": "cat(var_dic_list()) "
    }
   },
   "types_to_exclude": [
    "module",
    "function",
    "builtin_function_or_method",
    "instance",
    "_Feature"
   ],
   "window_display": false
  }
 },
 "nbformat": 4,
 "nbformat_minor": 2
}

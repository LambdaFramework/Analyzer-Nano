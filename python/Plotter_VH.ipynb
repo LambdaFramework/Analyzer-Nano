{
 "cells": [
  {
   "cell_type": "markdown",
   "metadata": {},
   "source": [
    "# Simple Plotter"
   ]
  },
  {
   "cell_type": "code",
   "execution_count": 1,
   "metadata": {
    "ExecuteTime": {
     "end_time": "2018-11-22T13:27:28.665706Z",
     "start_time": "2018-11-22T13:27:26.098387Z"
    }
   },
   "outputs": [
    {
     "name": "stdout",
     "output_type": "stream",
     "text": [
      "Welcome to JupyROOT 6.12/06\n"
     ]
    }
   ],
   "source": [
    "import os, multiprocessing, sys\n",
    "import copy\n",
    "import math\n",
    "from array import array\n",
    "from ROOT import ROOT, gROOT, gStyle, gRandom, TSystemDirectory\n",
    "from ROOT import TFile, TChain, TTree, TCut, TH1, TH1F, TH2F, THStack, TGraph, TGraphAsymmErrors\n",
    "from ROOT import TStyle, TCanvas, TPad\n",
    "from ROOT import TLegend, TLatex, TText, TLine, TBox\n",
    "import time\n",
    "\n",
    "cwd=os.getcwd()\n",
    "sys.path.append(cwd+\"/Utils/\")\n",
    "\n",
    "from drawLambda import *\n",
    "from variables import *\n",
    "from selections_SSLep import *\n",
    "from samplesVH import *\n",
    "\n",
    "gROOT.SetBatch(True)\n",
    "gStyle.SetOptStat(0)\n",
    "gROOT.Macro('functions.C')\n",
    "%jsroot"
   ]
  },
  {
   "cell_type": "markdown",
   "metadata": {},
   "source": [
    "# Environment Path and Options"
   ]
  },
  {
   "cell_type": "code",
   "execution_count": 2,
   "metadata": {
    "ExecuteTime": {
     "end_time": "2018-11-22T13:27:28.690609Z",
     "start_time": "2018-11-22T13:27:28.671550Z"
    }
   },
   "outputs": [],
   "source": [
    "#NTUPLEDIR   = \"/Users/shoh/Projects/CMS/PhD/Analysis/SSL/datav7-skim-MC/\"\n",
    "NTUPLEDIR   = \"/Users/shoh/Projects/CMS/PhD/Analysis/SSL/datav8-skim/\" ##Zmass decent agreement but low event at tail\n",
    "#NTUPLEDIR   = \"/Users/shoh/Projects/CMS/PhD/Analysis/SSL/VHv9-skim_reprocess_v1/\" ##Zmass BAD\n",
    "#NTUPLEDIR   = \"/Users/shoh/Projects/CMS/PhD/Analysis/SSL/dataset-v09-VH-reprocess/\"\n",
    "#NTUPLEDIR   = \"/Users/shoh/Projects/CMS/PhD/Analysis/SSL/dataset-v10-VH/\"\n",
    "#NTUPLEDIR   = \"/Users/shoh/Projects/CMS/PhD/Analysis/SSL/dataset-v11-VH/\"\n",
    "\n",
    "LUMI        = 35800. # pb-1                                                                                                                \n",
    "data = [\"data_obs\"]\n",
    "#back = [ \"ttV\", \"WJetsToLNu\", \"TTbar-SL\", \"WW\", \"WZ\", \"ST\", \"TTbar-DiLep\", \"DYJetsToLL_Pt\" ]   #DYJetsToLL                                              \n",
    "back = [ \"ttV\" , \"WW\", \"WZ\", \"TTbar-SL\", \"ST\", \"TTbar-DiLep\", \"WJetsToLNu\", \"DYJetsToLL\" ] #WJetsToLNu, \"VVV\"\n",
    "sign=[]\n",
    "BLIND=False\n",
    "POISSON= False\n",
    "SIGNAL      = 1.\n",
    "RATIO       = 4\n",
    "jobs        = []"
   ]
  },
  {
   "cell_type": "markdown",
   "metadata": {},
   "source": [
    "# Selection option"
   ]
  },
  {
   "cell_type": "code",
   "execution_count": 3,
   "metadata": {
    "ExecuteTime": {
     "end_time": "2018-11-22T13:27:29.888733Z",
     "start_time": "2018-11-22T13:27:28.698357Z"
    }
   },
   "outputs": [
    {
     "name": "stdout",
     "output_type": "stream",
     "text": [
      "CHOOSE SELECTION\n"
     ]
    },
    {
     "data": {
      "text/html": [
       "<div>\n",
       "<style>\n",
       "    .dataframe thead tr:only-child th {\n",
       "        text-align: right;\n",
       "    }\n",
       "\n",
       "    .dataframe thead th {\n",
       "        text-align: left;\n",
       "    }\n",
       "\n",
       "    .dataframe tbody tr th {\n",
       "        vertical-align: top;\n",
       "    }\n",
       "</style>\n",
       "<table border=\"1\" class=\"dataframe\">\n",
       "  <thead>\n",
       "    <tr style=\"text-align: right;\">\n",
       "      <th></th>\n",
       "      <th>Selection Region</th>\n",
       "      <th>Description</th>\n",
       "    </tr>\n",
       "  </thead>\n",
       "  <tbody>\n",
       "    <tr>\n",
       "      <th>0</th>\n",
       "      <td>OSemu</td>\n",
       "      <td>(( (HLT_IsoMu22 || HLT_IsoMu22_eta2p1 || HLT_IsoTkMu22_eta2p1 || HLT_IsoMu24 || HLT_IsoTkMu24 || HLT_Mu45_eta2p1 || HLT_Mu50) ) &amp;&amp; ( (( 1==1 ) &amp;&amp; ( (Muon_charge[0]!=Electron_charge[0]) &amp;&amp; Muon_pt[0]&gt;27 &amp;&amp; Electron_pt[0]&gt;25 &amp;&amp; Muon_pfRelIso03_all[0]&lt;0.1 &amp;&amp; Muon_mediumId[0]&gt;0 &amp;&amp; Electron_cutBased[0]&gt;0 &amp;&amp; Electron_pfRelIso03_all[0]&lt;0.1 )) ))</td>\n",
       "    </tr>\n",
       "    <tr>\n",
       "      <th>1</th>\n",
       "      <td>SSmumu2b</td>\n",
       "      <td>(( (HLT_IsoMu22 || HLT_IsoMu22_eta2p1 || HLT_IsoTkMu22_eta2p1 || HLT_IsoMu24 || HLT_IsoTkMu24 || HLT_Mu45_eta2p1 || HLT_Mu50) ) &amp;&amp; ( (( 1==1 ) &amp;&amp; ( (Muon_charge[0]==Muon_charge[1]) &amp;&amp; Muon_pt[0]&gt;25 &amp;&amp; Muon_pt[1]&gt;15 &amp;&amp; Muon_pfRelIso03_all[0]&lt;0.1 &amp;&amp; Jet_btagCSVV2[1]&gt;0.8 )) ))</td>\n",
       "    </tr>\n",
       "    <tr>\n",
       "      <th>2</th>\n",
       "      <td>Trigger</td>\n",
       "      <td>(( (HLT_IsoMu22 || HLT_IsoMu22_eta2p1 || HLT_IsoTkMu22_eta2p1 || HLT_IsoMu24 || HLT_IsoTkMu24 || HLT_Mu45_eta2p1 || HLT_Mu50) ) &amp;&amp; ( 1==1 ))</td>\n",
       "    </tr>\n",
       "    <tr>\n",
       "      <th>3</th>\n",
       "      <td>OSmumu</td>\n",
       "      <td>(( (HLT_IsoMu22 || HLT_IsoMu22_eta2p1 || HLT_IsoTkMu22_eta2p1 || HLT_IsoMu24 || HLT_IsoTkMu24 || HLT_Mu45_eta2p1 || HLT_Mu50) ) &amp;&amp; ( (( 1==1 ) &amp;&amp; ( (Muon_charge[0]!=Muon_charge[1]) &amp;&amp; Muon_pt[0]&gt;30 &amp;&amp; Muon_pt[1]&gt;15 &amp;&amp; Muon_pfRelIso03_all[0]&lt;0.15 &amp;&amp; Muon_pfRelIso03_all[1]&lt;0.15 )) ))</td>\n",
       "    </tr>\n",
       "    <tr>\n",
       "      <th>4</th>\n",
       "      <td>SSmumu</td>\n",
       "      <td>(( (HLT_IsoMu22 || HLT_IsoMu22_eta2p1 || HLT_IsoTkMu22_eta2p1 || HLT_IsoMu24 || HLT_IsoTkMu24 || HLT_Mu45_eta2p1 || HLT_Mu50) ) &amp;&amp; ( (( 1==1 ) &amp;&amp; ( (Muon_charge[0]==Muon_charge[1]) &amp;&amp; Muon_pt[0]&gt;25 &amp;&amp; Muon_pt[1]&gt;15 &amp;&amp; Muon_pfRelIso03_all[0]&lt;0.1 )) ))</td>\n",
       "    </tr>\n",
       "    <tr>\n",
       "      <th>5</th>\n",
       "      <td>SSmumu1b</td>\n",
       "      <td>(( (HLT_IsoMu22 || HLT_IsoMu22_eta2p1 || HLT_IsoTkMu22_eta2p1 || HLT_IsoMu24 || HLT_IsoTkMu24 || HLT_Mu45_eta2p1 || HLT_Mu50) ) &amp;&amp; ( (( 1==1 ) &amp;&amp; ( (Muon_charge[0]==Muon_charge[1]) &amp;&amp; Muon_pt[0]&gt;25 &amp;&amp; Muon_pt[1]&gt;15 &amp;&amp; Muon_pfRelIso03_all[0]&lt;0.1 &amp;&amp; Jet_btagCSVV2[0]&gt;0.8 )) ))</td>\n",
       "    </tr>\n",
       "    <tr>\n",
       "      <th>6</th>\n",
       "      <td>DiLepTT</td>\n",
       "      <td>(( (( (HLT_IsoMu22 || HLT_IsoMu22_eta2p1 || HLT_IsoTkMu22_eta2p1 || HLT_IsoMu24 || HLT_IsoTkMu24 || HLT_Mu45_eta2p1 || HLT_Mu50) ) &amp;&amp; ( (( 1==1 ) &amp;&amp; ( Muon_pt[0]&gt;24 &amp;&amp; Electron_pt[0]&gt;20 )) )) ) &amp;&amp; ( invariantMass(Electron_pt[0], Electron_eta[0], Electron_phi[0], Electron_mass[0], Muon_pt[0], Muon_eta[0], Muon_phi[0], Muon_mass[0])&gt;15 ))</td>\n",
       "    </tr>\n",
       "    <tr>\n",
       "      <th>7</th>\n",
       "      <td>OSee</td>\n",
       "      <td>(( (HLT_Ele25_WPTight_Gsf || HLT_Ele27_eta2p1_WPLoose_Gsf || HLT_Ele105_CaloIdVT_GsfTrkIdT) ) &amp;&amp; ( (( 1==1 ) &amp;&amp; ( (Electron_charge[0]!=Electron_charge[1]) &amp;&amp; Electron_pt[0]&gt;25 &amp;&amp; Electron_pt[1]&gt;17 &amp;&amp; Electron_pfRelIso03_all[0]&lt;0.1 &amp;&amp; Electron_pfRelIso03_all[1]&lt;0.1 )) ))</td>\n",
       "    </tr>\n",
       "  </tbody>\n",
       "</table>\n",
       "</div>"
      ],
      "text/plain": [
       "  Selection Region  \\\n",
       "0            OSemu   \n",
       "1         SSmumu2b   \n",
       "2          Trigger   \n",
       "3           OSmumu   \n",
       "4           SSmumu   \n",
       "5         SSmumu1b   \n",
       "6          DiLepTT   \n",
       "7             OSee   \n",
       "\n",
       "                                                                                                                                                                                                                                                                                                                                            Description  \n",
       "0  (( (HLT_IsoMu22 || HLT_IsoMu22_eta2p1 || HLT_IsoTkMu22_eta2p1 || HLT_IsoMu24 || HLT_IsoTkMu24 || HLT_Mu45_eta2p1 || HLT_Mu50) ) && ( (( 1==1 ) && ( (Muon_charge[0]!=Electron_charge[0]) && Muon_pt[0]>27 && Electron_pt[0]>25 && Muon_pfRelIso03_all[0]<0.1 && Muon_mediumId[0]>0 && Electron_cutBased[0]>0 && Electron_pfRelIso03_all[0]<0.1 )) ))  \n",
       "1                                                                    (( (HLT_IsoMu22 || HLT_IsoMu22_eta2p1 || HLT_IsoTkMu22_eta2p1 || HLT_IsoMu24 || HLT_IsoTkMu24 || HLT_Mu45_eta2p1 || HLT_Mu50) ) && ( (( 1==1 ) && ( (Muon_charge[0]==Muon_charge[1]) && Muon_pt[0]>25 && Muon_pt[1]>15 && Muon_pfRelIso03_all[0]<0.1 && Jet_btagCSVV2[1]>0.8 )) ))  \n",
       "2                                                                                                                                                                                                          (( (HLT_IsoMu22 || HLT_IsoMu22_eta2p1 || HLT_IsoTkMu22_eta2p1 || HLT_IsoMu24 || HLT_IsoTkMu24 || HLT_Mu45_eta2p1 || HLT_Mu50) ) && ( 1==1 ))  \n",
       "3                                                            (( (HLT_IsoMu22 || HLT_IsoMu22_eta2p1 || HLT_IsoTkMu22_eta2p1 || HLT_IsoMu24 || HLT_IsoTkMu24 || HLT_Mu45_eta2p1 || HLT_Mu50) ) && ( (( 1==1 ) && ( (Muon_charge[0]!=Muon_charge[1]) && Muon_pt[0]>30 && Muon_pt[1]>15 && Muon_pfRelIso03_all[0]<0.15 && Muon_pfRelIso03_all[1]<0.15 )) ))  \n",
       "4                                                                                            (( (HLT_IsoMu22 || HLT_IsoMu22_eta2p1 || HLT_IsoTkMu22_eta2p1 || HLT_IsoMu24 || HLT_IsoTkMu24 || HLT_Mu45_eta2p1 || HLT_Mu50) ) && ( (( 1==1 ) && ( (Muon_charge[0]==Muon_charge[1]) && Muon_pt[0]>25 && Muon_pt[1]>15 && Muon_pfRelIso03_all[0]<0.1 )) ))  \n",
       "5                                                                    (( (HLT_IsoMu22 || HLT_IsoMu22_eta2p1 || HLT_IsoTkMu22_eta2p1 || HLT_IsoMu24 || HLT_IsoTkMu24 || HLT_Mu45_eta2p1 || HLT_Mu50) ) && ( (( 1==1 ) && ( (Muon_charge[0]==Muon_charge[1]) && Muon_pt[0]>25 && Muon_pt[1]>15 && Muon_pfRelIso03_all[0]<0.1 && Jet_btagCSVV2[0]>0.8 )) ))  \n",
       "6    (( (( (HLT_IsoMu22 || HLT_IsoMu22_eta2p1 || HLT_IsoTkMu22_eta2p1 || HLT_IsoMu24 || HLT_IsoTkMu24 || HLT_Mu45_eta2p1 || HLT_Mu50) ) && ( (( 1==1 ) && ( Muon_pt[0]>24 && Electron_pt[0]>20 )) )) ) && ( invariantMass(Electron_pt[0], Electron_eta[0], Electron_phi[0], Electron_mass[0], Muon_pt[0], Muon_eta[0], Muon_phi[0], Muon_mass[0])>15 ))  \n",
       "7                                                                        (( (HLT_Ele25_WPTight_Gsf || HLT_Ele27_eta2p1_WPLoose_Gsf || HLT_Ele105_CaloIdVT_GsfTrkIdT) ) && ( (( 1==1 ) && ( (Electron_charge[0]!=Electron_charge[1]) && Electron_pt[0]>25 && Electron_pt[1]>17 && Electron_pfRelIso03_all[0]<0.1 && Electron_pfRelIso03_all[1]<0.1 )) ))  "
      ]
     },
     "metadata": {},
     "output_type": "display_data"
    }
   ],
   "source": [
    "import pandas as pd\n",
    "from collections import OrderedDict\n",
    "from IPython.display import display, HTML\n",
    "pd.set_option('display.max_colwidth',10000)\n",
    "ALLTABLE={}\n",
    "TABLE=[]\n",
    "#Selection=['OSSF','OSOF','SSSF','SSOF']\n",
    "for sel in selection:\n",
    "    TABLE.append(OrderedDict({\n",
    "        'Selection Region' : sel,\n",
    "        'Description' : selection[sel]\n",
    "    }))\n",
    "\n",
    "ALLTABLE=pd.DataFrame(TABLE)\n",
    "print \"CHOOSE SELECTION\"\n",
    "display(ALLTABLE)"
   ]
  },
  {
   "cell_type": "code",
   "execution_count": 4,
   "metadata": {
    "ExecuteTime": {
     "end_time": "2018-11-22T13:27:29.916387Z",
     "start_time": "2018-11-22T13:27:29.893299Z"
    }
   },
   "outputs": [
    {
     "name": "stdout",
     "output_type": "stream",
     "text": [
      "Selected (( (HLT_IsoMu22 || HLT_IsoMu22_eta2p1 || HLT_IsoTkMu22_eta2p1 || HLT_IsoMu24 || HLT_IsoTkMu24 || HLT_Mu45_eta2p1 || HLT_Mu50) ) && ( (( 1==1 ) && ( (Muon_charge[0]!=Muon_charge[1]) && Muon_pt[0]>30 && Muon_pt[1]>15 && Muon_pfRelIso03_all[0]<0.15 && Muon_pfRelIso03_all[1]<0.15 )) ))\n"
     ]
    }
   ],
   "source": [
    "#var=\"MHTju_pt\"\n",
    "#var=\"Jet_jetId[0]\"\n",
    "var=\"Zmass\"\n",
    "#var=\"nJet\"\n",
    "#var=\"nElectron\"\n",
    "cr=\"OSmumu\"\n",
    "#cr=\"Trigger\"\n",
    "primaryDataset = getPrimaryDataset(selection[cr])\n",
    "print \"Selected\", selection[cr]"
   ]
  },
  {
   "cell_type": "code",
   "execution_count": 5,
   "metadata": {
    "ExecuteTime": {
     "end_time": "2018-11-22T13:28:25.789470Z",
     "start_time": "2018-11-22T13:27:29.922972Z"
    },
    "scrolled": true
   },
   "outputs": [
    {
     "name": "stdout",
     "output_type": "stream",
     "text": [
      "\u001b[92mZmass : \u001b[0mInv( \u001b[92mMuon^(+/-)\u001b[0m , \u001b[91mMuon^(-/+)\u001b[0m )\n",
      "VAR =  invariantMass(Muon_pt[0], Muon_eta[0], Muon_phi[0], Muon_mass[0], Muon_pt[1], Muon_eta[1], Muon_phi[1], Muon_mass[1])\n",
      "\u001b[94mDATA, NO HLT :  SingleMuonRun2016B-03Feb2017_ver1-v1\u001b[0m\n",
      "\u001b[94mDATA, NO HLT :  SingleMuonRun2016B-03Feb2017_ver2-v2\u001b[0m\n",
      "\u001b[94mDATA, NO HLT :  SingleMuonRun2016C-03Feb2017-v1\u001b[0m\n",
      "\u001b[94mDATA, NO HLT :  SingleMuonRun2016D-03Feb2017-v1\u001b[0m\n",
      "\u001b[94mDATA, NO HLT :  SingleMuonRun2016E-03Feb2017-v1\u001b[0m\n",
      "\u001b[94mDATA, NO HLT :  SingleMuonRun2016F-03Feb2017-v1\u001b[0m\n",
      "\u001b[94mDATA, NO HLT :  SingleMuonRun2016G-03Feb2017-v1\u001b[0m\n",
      "\u001b[94mDATA, NO HLT :  SingleMuonRun2016H-03Feb2017_ver2-v1\u001b[0m\n",
      "\u001b[94mDATA, NO HLT :  SingleMuonRun2016H-03Feb2017_ver3-v1\u001b[0m\n",
      "\u001b[35mMC, With HLT :  TTWJetsToLNu_TuneCUETP8M1_13TeV-amcatnloFXFX-madspin-pythia8_ext1-v3\u001b[0m\n",
      "\u001b[35mMC, With HLT :  TTZToLLNuNu_M-10_TuneCUETP8M1_13TeV-amcatnlo-pythia8_ext1-v1\u001b[0m\n",
      "\u001b[35mMC, With HLT :  ttHToNonbb_M125_TuneCUETP8M2_ttHtranche3_13TeV-powheg-pythia8-v1\u001b[0m\n",
      "\u001b[35mMC, With HLT :  WpWpJJ_13TeV-powheg-pythia8_TuneCUETP8M1-v1\u001b[0m\n",
      "\u001b[35mMC, With HLT :  WmWmJJ_13TeV-powheg-pythia8_TuneCUETP8M1-v1\u001b[0m\n",
      "\u001b[35mMC, With HLT :  WZTo3LNu_TuneCUETP8M1_13TeV-powheg-pythia8-v1\u001b[0m\n",
      "\u001b[35mMC, With HLT :  TTJets_SingleLeptFromT_TuneCUETP8M1_13TeV-madgraphMLM-pythia8_ext1-v1\u001b[0m\n",
      "\u001b[35mMC, With HLT :  TTJets_SingleLeptFromTbar_TuneCUETP8M1_13TeV-madgraphMLM-pythia8_ext1-v1\u001b[0m\n",
      "\u001b[35mMC, With HLT :  ST_s-channel_4f_leptonDecays_13TeV-amcatnlo-pythia8_TuneCUETP8M1-v1\u001b[0m\n",
      "\u001b[35mMC, With HLT :  ST_t-channel_antitop_4f_inclusiveDecays_13TeV-powhegV2-madspin-pythia8_TuneCUETP8M1-v1\u001b[0m\n",
      "\u001b[35mMC, With HLT :  ST_t-channel_top_4f_inclusiveDecays_13TeV-powhegV2-madspin-pythia8_TuneCUETP8M1-v1\u001b[0m\n",
      "\u001b[35mMC, With HLT :  ST_tW_antitop_5f_inclusiveDecays_13TeV-powheg-pythia8_TuneCUETP8M2T4-v1\u001b[0m\n",
      "\u001b[35mMC, With HLT :  ST_tW_top_5f_inclusiveDecays_13TeV-powheg-pythia8_TuneCUETP8M2T4-v1\u001b[0m\n",
      "\u001b[35mMC, With HLT :  TTJets_DiLept_TuneCUETP8M1_13TeV-madgraphMLM-pythia8_ext1-v1\u001b[0m\n",
      "\u001b[35mMC, With HLT :  WJetsToLNu_TuneCUETP8M1_13TeV-amcatnloFXFX-pythia8-v1\u001b[0m\n",
      "\u001b[35mMC, With HLT :  DYJetsToLL_M-10to50_TuneCUETP8M1_13TeV-amcatnloFXFX-pythia8-v1\u001b[0m\n",
      "\u001b[35mMC, With HLT :  DYJetsToLL_M-50_TuneCUETP8M1_13TeV-madgraphMLM-pythia8_ext1-v2\u001b[0m\n"
     ]
    },
    {
     "name": "stderr",
     "output_type": "stream",
     "text": [
      "Info in <TCanvas::MakeDefCanvas>:  created default TCanvas with name c1\n"
     ]
    }
   ],
   "source": [
    "if not BLIND:\n",
    "    processes=data+back\n",
    "elif BLIND:\n",
    "    processes=back\n",
    "\n",
    "if not sign:\n",
    "    Histlist=ProjectDraw(var, cr, LUMI, processes, primaryDataset, NTUPLEDIR)\n",
    "else:\n",
    "    Histlist=ProjectDraw(var, cr, LUMI, processes, primaryDataset, NTUPLEDIR)"
   ]
  },
  {
   "cell_type": "code",
   "execution_count": 6,
   "metadata": {
    "ExecuteTime": {
     "end_time": "2018-11-22T13:28:25.813170Z",
     "start_time": "2018-11-22T13:28:25.793848Z"
    }
   },
   "outputs": [],
   "source": [
    "if len(back)>0:\n",
    "    #If data_obs present, dummy BkgSum == first background process                                                                        \\\n",
    "                                                                                                                                           \n",
    "    Histlist['BkgSum'] = Histlist['data_obs'].Clone(\"BkgSum\") if 'data_obs' in Histlist else Histlist[back[0]].Clone(\"BkgSum\")\n",
    "    Histlist['BkgSum'].Reset(\"MICES\")\n",
    "    Histlist['BkgSum'].SetFillStyle(3003)\n",
    "    Histlist['BkgSum'].SetFillColor(1)\n",
    "    for i, s in enumerate(back): Histlist['BkgSum'].Add(Histlist[s])\n",
    "\n",
    "if len(back)==0 and len(data)==0:\n",
    "    for i, s in enumerate(sign):\n",
    "        Histlist[s].Scale(1./Histlist[s].Integral())\n",
    "        Histlist[s].SetFillStyle(0)"
   ]
  },
  {
   "cell_type": "code",
   "execution_count": 7,
   "metadata": {
    "ExecuteTime": {
     "end_time": "2018-11-22T13:28:26.190284Z",
     "start_time": "2018-11-22T13:28:25.818607Z"
    }
   },
   "outputs": [
    {
     "name": "stdout",
     "output_type": "stream",
     "text": [
      "  Ratio:\t1.049 +- 0.001\n",
      "Sample                  Events          Entries         %\n",
      "--------------------------------------------------------------------------------\n",
      "data_obs             \t3659021.00 \t3659021    \t104.87     %\n",
      "--------------------------------------------------------------------------------\n",
      "TTbar-DiLep          \t114807.93  \t820263     \t3.29       %\n",
      "WJetsToLNu           \t28379.27   \t283        \t0.81       %\n",
      "TTbar-SL             \t3564.13    \t27031      \t0.10       %\n",
      "ST                   \t899.58     \t6910       \t0.03       %\n",
      "WW                   \t0.29       \t58         \t0.00       %\n",
      "ttV                  \t667.17     \t110504     \t0.02       %\n",
      "DYJetsToLL           \t3340012.68 \t751016     \t95.73      %\n",
      "WZ                   \t705.38     \t53232      \t0.02       %\n",
      "--------------------------------------------------------------------------------\n",
      "BkgSum               \t3489036.43 \t1769297    \t100.00     %\n",
      "--------------------------------------------------------------------------------\n",
      "--------------------------------------------------------------------------------\n"
     ]
    },
    {
     "name": "stderr",
     "output_type": "stream",
     "text": [
      "Warning in <TCanvas::Constructor>: Deleting canvas with same name: c1\n"
     ]
    }
   ],
   "source": [
    "if len(data+back)>0:\n",
    "    out = draw(Histlist, data if not BLIND else [], back, sign, SIGNAL, RATIO, POISSON, variable[var]['log'])\n",
    "    out[0].cd(1)\n",
    "    drawCMS(LUMI, \"Preliminary\")\n",
    "    out[0].Update()\n",
    "    printTable(Histlist, sign)\n",
    "else:\n",
    "    out = drawSignal(Histlist, sign, variable[var]['log'])\n",
    "    out[0].cd(1)\n",
    "    drawCMS(LUMI, \"Simulation\")\n",
    "    out[0].Update()"
   ]
  },
  {
   "cell_type": "code",
   "execution_count": 8,
   "metadata": {
    "ExecuteTime": {
     "end_time": "2018-11-22T13:28:26.360209Z",
     "start_time": "2018-11-22T13:28:26.211989Z"
    },
    "scrolled": false
   },
   "outputs": [
    {
     "data": {
      "text/html": [
       "\n",
       "<div id=\"root_plot_1\"\n",
       "     style=\"width: 796px; height: 772px\">\n",
       "</div>\n",
       "\n",
       "<script>\n",
       " requirejs.config({\n",
       "     paths: {\n",
       "       'JSRootCore' : 'https://root.cern.ch/js/notebook//scripts/JSRootCore',\n",
       "     }\n",
       "   });\n",
       " require(['JSRootCore'],\n",
       "     function(Core) {\n",
       "       var obj = Core.JSONR_unref({\"_typename\":\"TCanvas\",\"fUniqueID\":0,\"fBits\":53673992,\"fLineColor\":1,\"fLineStyle\":1,\"fLineWidth\":1,\"fFillColor\":0,\"fFillStyle\":1001,\"fLeftMargin\":0.1,\"fRightMargin\":0.1,\"fBottomMargin\":0.1,\"fTopMargin\":0.1,\"fXfile\":2,\"fYfile\":2,\"fAfile\":1,\"fXstat\":0.99,\"fYstat\":0.99,\"fAstat\":2,\"fFrameFillColor\":0,\"fFrameLineColor\":1,\"fFrameFillStyle\":1001,\"fFrameLineStyle\":1,\"fFrameLineWidth\":1,\"fFrameBorderSize\":1,\"fFrameBorderMode\":0,\"fX1\":0,\"fY1\":0,\"fX2\":1,\"fY2\":1,\"fXtoAbsPixelk\":5e-5,\"fXtoPixelk\":5e-5,\"fXtoPixel\":796,\"fYtoAbsPixelk\":772.00005,\"fYtoPixelk\":772.00005,\"fYtoPixel\":-772,\"fUtoAbsPixelk\":5e-5,\"fUtoPixelk\":5e-5,\"fUtoPixel\":796,\"fVtoAbsPixelk\":772.00005,\"fVtoPixelk\":772,\"fVtoPixel\":-772,\"fAbsPixeltoXk\":0,\"fPixeltoXk\":0,\"fPixeltoX\":0.00125628140703518,\"fAbsPixeltoYk\":1,\"fPixeltoYk\":0,\"fPixeltoY\":-0.00129533678756477,\"fXlowNDC\":0,\"fYlowNDC\":0,\"fXUpNDC\":0,\"fYUpNDC\":0,\"fWNDC\":1,\"fHNDC\":1,\"fAbsXlowNDC\":0,\"fAbsYlowNDC\":0,\"fAbsWNDC\":1,\"fAbsHNDC\":1,\"fUxmin\":0,\"fUymin\":0,\"fUxmax\":1,\"fUymax\":1,\"fTheta\":30,\"fPhi\":30,\"fAspectRatio\":0,\"fNumber\":0,\"fTickx\":0,\"fTicky\":0,\"fLogx\":0,\"fLogy\":0,\"fLogz\":0,\"fPadPaint\":0,\"fCrosshair\":0,\"fCrosshairPos\":0,\"fBorderSize\":2,\"fBorderMode\":0,\"fModified\":false,\"fGridx\":false,\"fGridy\":false,\"fAbsCoord\":false,\"fEditable\":true,\"fFixedAspectRatio\":false,\"fPrimitives\":{\"_typename\":\"TList\",\"name\":\"TList\",\"arr\":[{\"_typename\":\"TPad\",\"fUniqueID\":0,\"fBits\":50331657,\"fLineColor\":1,\"fLineStyle\":1,\"fLineWidth\":1,\"fFillColor\":0,\"fFillStyle\":1001,\"fLeftMargin\":0.1,\"fRightMargin\":0.05,\"fBottomMargin\":0.01,\"fTopMargin\":0.06,\"fXfile\":2,\"fYfile\":2,\"fAfile\":1,\"fXstat\":0.99,\"fYstat\":0.99,\"fAstat\":2,\"fFrameFillColor\":0,\"fFrameLineColor\":1,\"fFrameFillStyle\":1001,\"fFrameLineStyle\":1,\"fFrameLineWidth\":1,\"fFrameBorderSize\":1,\"fFrameBorderMode\":0,\"fX1\":-23.5294131052948,\"fY1\":-0.67432572252621,\"fX2\":211.764706552647,\"fY2\":6.75008877980273,\"fXtoAbsPixelk\":79.6000538549305,\"fXtoPixelk\":79.6000538549305,\"fXtoPixel\":3.38299997108802,\"fYtoAbsPixelk\":526.412119568556,\"fYtoPixelk\":526.412119568556,\"fYtoPixel\":-77.9859475542988,\"fUtoAbsPixelk\":5e-5,\"fUtoPixelk\":5e-5,\"fUtoPixel\":796,\"fVtoAbsPixelk\":579.00005,\"fVtoPixelk\":579,\"fVtoPixel\":-579,\"fAbsPixeltoXk\":-23.5294131052948,\"fPixeltoXk\":-23.5294131052948,\"fPixeltoX\":0.295595627710983,\"fAbsPixeltoYk\":6.75008877980273,\"fPixeltoYk\":-0.67432572252621,\"fPixeltoY\":-0.0128228229746614,\"fXlowNDC\":0,\"fYlowNDC\":0.25,\"fXUpNDC\":0,\"fYUpNDC\":0,\"fWNDC\":1,\"fHNDC\":0.75,\"fAbsXlowNDC\":0,\"fAbsYlowNDC\":0.25,\"fAbsWNDC\":1,\"fAbsHNDC\":0.75,\"fUxmin\":0,\"fUymin\":-0.600081579577278,\"fUxmax\":200,\"fUymax\":6.30462392210914,\"fTheta\":30,\"fPhi\":30,\"fAspectRatio\":0,\"fNumber\":1,\"fTickx\":1,\"fTicky\":1,\"fLogx\":0,\"fLogy\":1,\"fLogz\":0,\"fPadPaint\":0,\"fCrosshair\":0,\"fCrosshairPos\":0,\"fBorderSize\":2,\"fBorderMode\":0,\"fModified\":false,\"fGridx\":false,\"fGridy\":false,\"fAbsCoord\":false,\"fEditable\":true,\"fFixedAspectRatio\":false,\"fPrimitives\":{\"_typename\":\"TList\",\"name\":\"TList\",\"arr\":[{\"_typename\":\"TFrame\",\"fUniqueID\":0,\"fBits\":50331656,\"fLineColor\":1,\"fLineStyle\":1,\"fLineWidth\":1,\"fFillColor\":0,\"fFillStyle\":1001,\"fX1\":0,\"fY1\":-0.600081579577278,\"fX2\":200,\"fY2\":6.30462392210914,\"fBorderSize\":1,\"fBorderMode\":0},{\"_typename\":\"THStack\",\"fUniqueID\":0,\"fBits\":50331656,\"fName\":\"Bkg\",\"fTitle\":\";m_{Z} (GeV);Events\",\"fHists\":{\"_typename\":\"TList\",\"name\":\"TList\",\"arr\":[{\"_typename\":\"TH1F\",\"fUniqueID\":0,\"fBits\":50332168,\"fName\":\"TTWJetsToLNu_TuneCUETP8M1_13TeV-amcatnloFXFX-madspin-pythia8_ext1-v3\",\"fTitle\":\"\",\"fLineColor\":602,\"fLineStyle\":1,\"fLineWidth\":1,\"fFillColor\":38,\"fFillStyle\":1001,\"fMarkerColor\":1,\"fMarkerStyle\":1,\"fMarkerSize\":1,\"fNcells\":102,\"fXaxis\":{\"_typename\":\"TAxis\",\"fUniqueID\":0,\"fBits\":50331648,\"fName\":\"xaxis\",\"fTitle\":\"m_{Z} (GeV)\",\"fNdivisions\":510,\"fAxisColor\":1,\"fLabelColor\":1,\"fLabelFont\":42,\"fLabelOffset\":0.005,\"fLabelSize\":0.035,\"fTickLength\":0.03,\"fTitleOffset\":1,\"fTitleSize\":0.035,\"fTitleColor\":1,\"fTitleFont\":42,\"fNbins\":100,\"fXmin\":0,\"fXmax\":200,\"fXbins\":[],\"fFirst\":0,\"fLast\":0,\"fBits2\":0,\"fTimeDisplay\":false,\"fTimeFormat\":\"\",\"fLabels\":null,\"fModLabs\":null},\"fYaxis\":{\"_typename\":\"TAxis\",\"fUniqueID\":0,\"fBits\":50331648,\"fName\":\"yaxis\",\"fTitle\":\"\",\"fNdivisions\":510,\"fAxisColor\":1,\"fLabelColor\":1,\"fLabelFont\":42,\"fLabelOffset\":0.005,\"fLabelSize\":0.035,\"fTickLength\":0.03,\"fTitleOffset\":0,\"fTitleSize\":0.035,\"fTitleColor\":1,\"fTitleFont\":42,\"fNbins\":1,\"fXmin\":0,\"fXmax\":1,\"fXbins\":[],\"fFirst\":0,\"fLast\":0,\"fBits2\":0,\"fTimeDisplay\":false,\"fTimeFormat\":\"\",\"fLabels\":null,\"fModLabs\":null},\"fZaxis\":{\"_typename\":\"TAxis\",\"fUniqueID\":0,\"fBits\":50331648,\"fName\":\"zaxis\",\"fTitle\":\"\",\"fNdivisions\":510,\"fAxisColor\":1,\"fLabelColor\":1,\"fLabelFont\":42,\"fLabelOffset\":0.005,\"fLabelSize\":0.035,\"fTickLength\":0.03,\"fTitleOffset\":1,\"fTitleSize\":0.035,\"fTitleColor\":1,\"fTitleFont\":42,\"fNbins\":1,\"fXmin\":0,\"fXmax\":1,\"fXbins\":[],\"fFirst\":0,\"fLast\":0,\"fBits2\":0,\"fTimeDisplay\":false,\"fTimeFormat\":\"\",\"fLabels\":null,\"fModLabs\":null},\"fBarOffset\":0,\"fBarWidth\":1000,\"fEntries\":110506,\"fTsumw\":0,\"fTsumw2\":7.08793936283343,\"fTsumwx\":55903.1178097753,\"fTsumwx2\":5658295.97363587,\"fMaximum\":-1111,\"fMinimum\":-1111,\"fNormFactor\":0,\"fContour\":[],\"fSumw2\":[0,0.00361031099252509,0.00530643668648335,0.00779726260616334,0.0078082358638282,0.00702650403352858,0.0315685071564921,0.0236339728175506,0.0278390768141336,0.027528257931311,0.0261910457768168,0.0341077292612568,0.026033263585701,0.0360421984603556,0.0389405770294085,0.0371179110951931,0.0303888494756279,0.0286733314848624,0.0339297837622607,0.0397271907389474,0.0454229972771827,0.045492131638091,0.0435842642757554,0.0466961683004753,0.0436400227476447,0.0481056439023438,0.0433105825790877,0.0460456320318664,0.0467871589987378,0.0628581142488638,0.0620011414718921,0.0681696447448941,0.0642144013845437,0.0631310559289749,0.0670716682791054,0.0837069917953578,0.0716441206414731,0.0858008004150566,0.0823272476965587,0.0869055952942225,0.0934694690395863,0.104147639244795,0.126530372926886,0.184138146609053,0.285772069982309,0.62294463090514,0.964145152910771,0.619858828819882,0.257527404082206,0.148129470398737,0.104120266976799,0.0754791890593322,0.0696249042895456,0.0709456858593521,0.0617984692610782,0.0511957981347035,0.0655985596194727,0.0521568049759972,0.0533774525790204,0.0543709412850355,0.0445698631885572,0.0481321849097545,0.0584086351320139,0.0452639751722042,0.0418417967179289,0.0380856591534933,0.0491766403863951,0.0406488392783633,0.0383035074076344,0.0399795605515281,0.05531975074198,0.032520821619143,0.0435368944283323,0.038980962828628,0.0277275440831767,0.0362347287677169,0.0265621860492531,0.0344603846277889,0.0318772531253463,0.0358584180692028,0.0298903658912918,0.0348398841760683,0.0247705507154289,0.0316341331262802,0.0384292462221423,0.0358886624511829,0.0281030533559416,0.0204662483319086,0.0266196821065774,0.0356832235116987,0.0319933639813657,0.0230116987747691,0.0220215352983495,0.0226155730785127,0.0247851665183105,0.0162396357282693,0.0215437295466977,0.0124678847920733,0.0187164956836485,0.0147512766345119,1.04542586034622,0],\"fOption\":\"\",\"fFunctions\":{\"_typename\":\"TList\",\"name\":\"TList\",\"arr\":[],\"opt\":[]},\"fBufferSize\":0,\"fBuffer\":[],\"fBinStatErrOpt\":0,\"fArray\":[0,0.205202,0.3491014,0.4185742,0.4376035,0.5345193,3.048702,2.710717,2.635464,2.449527,2.396971,2.490112,2.477885,2.58659,2.72554,2.574628,2.451167,2.237748,2.464277,2.6012,3.024137,2.859818,2.809471,3.035958,3.120051,3.24972,2.901824,3.147959,3.265531,3.759072,3.831721,4.152898,4.022703,4.163536,4.268358,5.282783,4.726859,5.514938,5.690465,6.51517,7.062686,8.551646,11.39619,18.07428,32.10764,73.39583,115.3884,72.36082,28.6224,14.22814,8.71806,6.036733,5.159519,4.613693,4.084573,3.368167,3.766247,3.049615,3.112457,3.06412,2.641239,2.727329,3.195192,2.746909,2.407213,2.161554,2.661163,2.286177,2.256586,2.187681,2.760308,1.7892,2.265121,2.049162,1.622392,1.961627,1.549218,1.930403,1.77118,1.804222,1.512018,1.773236,1.488008,1.632321,1.942109,1.714565,1.458305,1.105562,1.364714,1.676943,1.58211,1.163549,1.217653,1.291884,1.371249,0.9296255,1.132559,0.7989939,0.974879,0.8273847,52.14031,0]},{\"_typename\":\"TH1F\",\"fUniqueID\":0,\"fBits\":50332168,\"fName\":\"WpWpJJ_13TeV-powheg-pythia8_TuneCUETP8M1-v1\",\"fTitle\":\"\",\"fLineColor\":602,\"fLineStyle\":1,\"fLineWidth\":1,\"fFillColor\":7,\"fFillStyle\":1001,\"fMarkerColor\":1,\"fMarkerStyle\":1,\"fMarkerSize\":1,\"fNcells\":102,\"fXaxis\":{\"_typename\":\"TAxis\",\"fUniqueID\":0,\"fBits\":50331648,\"fName\":\"xaxis\",\"fTitle\":\"m_{Z} (GeV)\",\"fNdivisions\":510,\"fAxisColor\":1,\"fLabelColor\":1,\"fLabelFont\":42,\"fLabelOffset\":0.005,\"fLabelSize\":0.035,\"fTickLength\":0.03,\"fTitleOffset\":1,\"fTitleSize\":0.035,\"fTitleColor\":1,\"fTitleFont\":42,\"fNbins\":100,\"fXmin\":0,\"fXmax\":200,\"fXbins\":[],\"fFirst\":0,\"fLast\":0,\"fBits2\":0,\"fTimeDisplay\":false,\"fTimeFormat\":\"\",\"fLabels\":null,\"fModLabs\":null},\"fYaxis\":{\"_typename\":\"TAxis\",\"fUniqueID\":0,\"fBits\":50331648,\"fName\":\"yaxis\",\"fTitle\":\"\",\"fNdivisions\":510,\"fAxisColor\":1,\"fLabelColor\":1,\"fLabelFont\":42,\"fLabelOffset\":0.005,\"fLabelSize\":0.035,\"fTickLength\":0.03,\"fTitleOffset\":0,\"fTitleSize\":0.035,\"fTitleColor\":1,\"fTitleFont\":42,\"fNbins\":1,\"fXmin\":0,\"fXmax\":1,\"fXbins\":[],\"fFirst\":0,\"fLast\":0,\"fBits2\":0,\"fTimeDisplay\":false,\"fTimeFormat\":\"\",\"fLabels\":null,\"fModLabs\":null},\"fZaxis\":{\"_typename\":\"TAxis\",\"fUniqueID\":0,\"fBits\":50331648,\"fName\":\"zaxis\",\"fTitle\":\"\",\"fNdivisions\":510,\"fAxisColor\":1,\"fLabelColor\":1,\"fLabelFont\":42,\"fLabelOffset\":0.005,\"fLabelSize\":0.035,\"fTickLength\":0.03,\"fTitleOffset\":1,\"fTitleSize\":0.035,\"fTitleColor\":1,\"fTitleFont\":42,\"fNbins\":1,\"fXmin\":0,\"fXmax\":1,\"fXbins\":[],\"fFirst\":0,\"fLast\":0,\"fBits2\":0,\"fTimeDisplay\":false,\"fTimeFormat\":\"\",\"fLabels\":null,\"fModLabs\":null},\"fBarOffset\":0,\"fBarWidth\":1000,\"fEntries\":60,\"fTsumw\":0,\"fTsumw2\":0.00156218829531076,\"fTsumwx\":24.0022472546234,\"fTsumwx2\":3225.98099075789,\"fMaximum\":-1111,\"fMinimum\":-1111,\"fNormFactor\":0,\"fContour\":[],\"fSumw2\":[0,0,6.64861141323757e-5,0,0,6.91582910545296e-6,6.91582910545296e-6,6.91582910545296e-6,6.91582910545296e-6,0,7.34019432378286e-5,0,6.64861141323757e-5,0,0,0,0,0,0,6.64861141323757e-5,0,0,0,0,0,6.91582910545296e-6,6.91582910545296e-6,6.91582910545296e-6,6.91582910545296e-6,0,6.91582910545296e-6,1.38316582109059e-5,0,0,7.34019432378286e-5,0,6.64861141323757e-5,0,0,6.64861141323757e-5,6.64861141323757e-5,0,0,6.64861141323757e-5,0,0,0,6.91582910545296e-6,6.91582910545296e-6,6.91582910545296e-6,0,0,0,0,0,0,0,6.91582910545296e-6,6.64861141323757e-5,6.91582910545296e-6,0,1.32972228264751e-4,0,6.91582910545296e-6,0,0,0,0,0,0,6.64861141323757e-5,0,6.91582910545296e-6,6.91582910545296e-6,0,0,0,6.64861141323757e-5,0,0,1.32972228264751e-4,6.91582910545296e-6,6.64861141323757e-5,0,0,0,1.32972228264751e-4,0,0,0,0,1.32972228264751e-4,0,0,0,6.91582910545296e-6,0,0,0,0,3.35102747584032e-4,0],\"fOption\":\"\",\"fFunctions\":{\"_typename\":\"TList\",\"name\":\"TList\",\"arr\":[],\"opt\":[]},\"fBufferSize\":0,\"fBuffer\":[],\"fBinStatErrOpt\":0,\"fArray\":[0,0,0.008153901,0,0,0.002629797,0.002629797,0.002629797,0.002629797,0,0.0107837,0,0.008153901,0,0,0,0,0,0,0.008153901,0,0,0,0,0,0.002629797,0.002629797,0.002629797,0.002629797,0,0.002629797,0.005259593,0,0,0.0107837,0,0.008153901,0,0,0.008153901,0.008153901,0,0,0.008153901,0,0,0,0.002629797,0.002629797,0.002629797,0,0,0,0,0,0,0,0.002629797,0.008153901,0.002629797,0,0.0163078,0,0.002629797,0,0,0,0,0,0,0.008153901,0,0.002629797,0.002629797,0,0,0,0.008153901,0,0,0.0163078,0.002629797,0.008153901,0,0,0,0.0163078,0,0,0,0,0.0163078,0,0,0,0.002629797,0,0,0,0,0.05891357,0]},{\"_typename\":\"TH1F\",\"fUniqueID\":0,\"fBits\":50332168,\"fName\":\"WZTo3LNu_TuneCUETP8M1_13TeV-powheg-pythia8-v1\",\"fTitle\":\"\",\"fLineColor\":602,\"fLineStyle\":1,\"fLineWidth\":1,\"fFillColor\":602,\"fFillStyle\":1001,\"fMarkerColor\":1,\"fMarkerStyle\":1,\"fMarkerSize\":1,\"fNcells\":102,\"fXaxis\":{\"_typename\":\"TAxis\",\"fUniqueID\":0,\"fBits\":50331656,\"fName\":\"xaxis\",\"fTitle\":\"m_{Z} (GeV)\",\"fNdivisions\":510,\"fAxisColor\":1,\"fLabelColor\":1,\"fLabelFont\":42,\"fLabelOffset\":0.005,\"fLabelSize\":0.035,\"fTickLength\":0.03,\"fTitleOffset\":1,\"fTitleSize\":0.035,\"fTitleColor\":1,\"fTitleFont\":42,\"fNbins\":100,\"fXmin\":0,\"fXmax\":200,\"fXbins\":[],\"fFirst\":0,\"fLast\":0,\"fBits2\":0,\"fTimeDisplay\":false,\"fTimeFormat\":\"\",\"fLabels\":null,\"fModLabs\":null},\"fYaxis\":{\"_typename\":\"TAxis\",\"fUniqueID\":0,\"fBits\":50331648,\"fName\":\"yaxis\",\"fTitle\":\"\",\"fNdivisions\":510,\"fAxisColor\":1,\"fLabelColor\":1,\"fLabelFont\":42,\"fLabelOffset\":0.005,\"fLabelSize\":0.035,\"fTickLength\":0.03,\"fTitleOffset\":0,\"fTitleSize\":0.035,\"fTitleColor\":1,\"fTitleFont\":42,\"fNbins\":1,\"fXmin\":0,\"fXmax\":1,\"fXbins\":[],\"fFirst\":0,\"fLast\":0,\"fBits2\":0,\"fTimeDisplay\":false,\"fTimeFormat\":\"\",\"fLabels\":null,\"fModLabs\":null},\"fZaxis\":{\"_typename\":\"TAxis\",\"fUniqueID\":0,\"fBits\":50331648,\"fName\":\"zaxis\",\"fTitle\":\"\",\"fNdivisions\":510,\"fAxisColor\":1,\"fLabelColor\":1,\"fLabelFont\":42,\"fLabelOffset\":0.005,\"fLabelSize\":0.035,\"fTickLength\":0.03,\"fTitleOffset\":1,\"fTitleSize\":0.035,\"fTitleColor\":1,\"fTitleFont\":42,\"fNbins\":1,\"fXmin\":0,\"fXmax\":1,\"fXbins\":[],\"fFirst\":0,\"fLast\":0,\"fBits2\":0,\"fTimeDisplay\":false,\"fTimeFormat\":\"\",\"fLabels\":null,\"fModLabs\":null},\"fBarOffset\":0,\"fBarWidth\":1000,\"fEntries\":53234,\"fTsumw\":0,\"fTsumw2\":9.12896285236088,\"fTsumwx\":60886.0805475827,\"fTsumwx2\":5739820.7031699,\"fMaximum\":-1111,\"fMinimum\":-1111,\"fNormFactor\":0,\"fContour\":[],\"fSumw2\":[0,1.75587368051264e-4,0.00280939788882023,0.0651429135470184,0.0474085893738411,0.0359954104505091,0.0294986778326124,0.0277428041520998,0.0275672167840485,0.0235287073188694,0.0196657852217416,0.0198413725897929,0.0193146104856391,0.0173831494370752,0.0194901978536903,0.0161540378607163,0.0165052125968188,0.0172075620690239,0.0198413725897929,0.0131690526038448,0.0163296252287676,0.0175587368051264,0.0215972462703055,0.0193146104856391,0.0200169599578441,0.0237042946869207,0.023879882054972,0.0235287073188694,0.0249334062632795,0.0252845809993821,0.027216042047946,0.0263381052076897,0.0284451536243048,0.0294986778326124,0.0352930609783041,0.0445991914850209,0.0403850946517906,0.0475841767418923,0.0561879577764041,0.0732199324773764,0.0949927661157328,0.121506458691473,0.166281237544545,0.31184316565905,0.587690920867597,1.39433928969521,2.27280289205574,1.41224920123645,0.53694617150079,0.238974407917767,0.134675511295318,0.0835795871924008,0.0698837724844025,0.0514470988390201,0.0437212546447646,0.0410874441239957,0.0291475030965099,0.0282695662562536,0.0240554694230232,0.0242310567910745,0.0168563873329214,0.0200169599578441,0.0184366736453828,0.0180854989092802,0.0151005136524087,0.0143981641802037,0.0143981641802037,0.0136958147079986,0.011939941027486,0.0140469894441011,0.0163296252287676,0.0110620041872297,0.0124667031316398,0.0103596547150246,0.012642290499691,0.00842819366646068,0.00895495577061448,0.00877936840256321,0.00755025682620436,0.00825260629840942,0.00965730524281954,0.00877936840256321,0.00807701893035816,0.00825260629840942,0.00614555788179425,0.0068479073539993,0.00579438314569172,0.00632114524984551,0.00421409683323034,0.0068479073539993,0.00702349472205057,0.00877936840256321,0.00526762104153793,0.00368733472907655,0.00561879577764045,0.0068479073539993,0.00544320840958919,0.00579438314569172,0.00614555788179425,0.00614555788179425,0.222293607952897,0],\"fOption\":\"\",\"fFunctions\":{\"_typename\":\"TList\",\"name\":\"TList\",\"arr\":[],\"opt\":[]},\"fBufferSize\":0,\"fBuffer\":[],\"fBinStatErrOpt\":0,\"fArray\":[0,0.01325094,0.212015,4.916075,3.577741,2.716437,2.226157,2.093648,2.080398,1.775627,1.484106,1.497357,1.457604,1.311844,1.470855,1.219087,1.245589,1.298593,1.497357,0.9938208,1.232338,1.325094,1.629866,1.457604,1.510608,1.788878,1.802129,1.775627,1.881634,1.908136,2.053896,1.987642,2.146652,2.226157,2.663434,3.365728,3.047708,3.590992,4.240283,5.525613,7.168715,9.169633,12.54872,23.5335,44.35159,105.2325,171.5085,106.5842,40.52168,18.03461,10.16348,6.307412,5.273847,3.88251,3.299474,3.100711,2.199655,2.133401,1.81538,1.82863,1.272091,1.510608,1.391349,1.364847,1.139581,1.086577,1.086577,1.033574,0.9010642,1.060076,1.232338,0.8348094,0.940817,0.7818056,0.9540679,0.6360452,0.6757981,0.6625471,0.5697905,0.6227943,0.7288018,0.6625471,0.6095433,0.6227943,0.4637829,0.5167867,0.437281,0.4770339,0.3180225,0.5167867,0.5300376,0.6625471,0.3975282,0.2782697,0.4240301,0.5167867,0.4107791,0.437281,0.4637829,0.4637829,16.77584,0]},{\"_typename\":\"TH1F\",\"fUniqueID\":0,\"fBits\":50332168,\"fName\":\"TTJets_SingleLeptFromT_TuneCUETP8M1_13TeV-madgraphMLM-pythia8_ext1-v1\",\"fTitle\":\"\",\"fLineColor\":798,\"fLineStyle\":1,\"fLineWidth\":1,\"fFillColor\":798,\"fFillStyle\":1001,\"fMarkerColor\":1,\"fMarkerStyle\":1,\"fMarkerSize\":1,\"fNcells\":102,\"fXaxis\":{\"_typename\":\"TAxis\",\"fUniqueID\":0,\"fBits\":50331648,\"fName\":\"xaxis\",\"fTitle\":\"m_{Z} (GeV)\",\"fNdivisions\":510,\"fAxisColor\":1,\"fLabelColor\":1,\"fLabelFont\":42,\"fLabelOffset\":0.005,\"fLabelSize\":0.035,\"fTickLength\":0.03,\"fTitleOffset\":1,\"fTitleSize\":0.035,\"fTitleColor\":1,\"fTitleFont\":42,\"fNbins\":100,\"fXmin\":0,\"fXmax\":200,\"fXbins\":[],\"fFirst\":0,\"fLast\":0,\"fBits2\":0,\"fTimeDisplay\":false,\"fTimeFormat\":\"\",\"fLabels\":null,\"fModLabs\":null},\"fYaxis\":{\"_typename\":\"TAxis\",\"fUniqueID\":0,\"fBits\":50331648,\"fName\":\"yaxis\",\"fTitle\":\"\",\"fNdivisions\":510,\"fAxisColor\":1,\"fLabelColor\":1,\"fLabelFont\":42,\"fLabelOffset\":0.005,\"fLabelSize\":0.035,\"fTickLength\":0.03,\"fTitleOffset\":0,\"fTitleSize\":0.035,\"fTitleColor\":1,\"fTitleFont\":42,\"fNbins\":1,\"fXmin\":0,\"fXmax\":1,\"fXbins\":[],\"fFirst\":0,\"fLast\":0,\"fBits2\":0,\"fTimeDisplay\":false,\"fTimeFormat\":\"\",\"fLabels\":null,\"fModLabs\":null},\"fZaxis\":{\"_typename\":\"TAxis\",\"fUniqueID\":0,\"fBits\":50331648,\"fName\":\"zaxis\",\"fTitle\":\"\",\"fNdivisions\":510,\"fAxisColor\":1,\"fLabelColor\":1,\"fLabelFont\":42,\"fLabelOffset\":0.005,\"fLabelSize\":0.035,\"fTickLength\":0.03,\"fTitleOffset\":1,\"fTitleSize\":0.035,\"fTitleColor\":1,\"fTitleFont\":42,\"fNbins\":1,\"fXmin\":0,\"fXmax\":1,\"fXbins\":[],\"fFirst\":0,\"fLast\":0,\"fBits2\":0,\"fTimeDisplay\":false,\"fTimeFormat\":\"\",\"fLabels\":null,\"fModLabs\":null},\"fBarOffset\":0,\"fBarWidth\":1000,\"fEntries\":27033,\"fTsumw\":0,\"fTsumw2\":453.835152861372,\"fTsumwx\":242781.400152597,\"fTsumwx2\":21902118.1985109,\"fMaximum\":-1111,\"fMinimum\":-1111,\"fNormFactor\":0,\"fContour\":[],\"fSumw2\":[0,7.28329310654731,9.74433203175333,5.95512994658242,2.80478651508851,2.15534292017912,1.85641394877729,1.99562825675988,2.15410349340359,2.26223250471713,2.69169979667284,2.5319851332536,3.00121370930709,3.09313054525795,3.80665368730912,3.57857129667411,4.54000765776879,4.62515746009461,5.2261637834775,5.51135943306772,6.20933992678436,6.2335585625476,7.70341488404615,7.60215253363842,8.59839247172876,10.3472473089399,9.78171408958082,10.7537353919079,11.3814392046051,11.7431086690925,11.9941702687152,12.2838533529409,12.5280482916579,12.9313879940466,12.1657093001424,12.9631428177438,12.2483802489171,11.5379058601644,11.9197050349025,11.4174822083763,10.2820279623034,10.1732294239617,9.65241519580247,9.42614213169037,9.23477227185469,8.24529936738938,7.43738053583628,6.84267097361183,6.44867678567992,5.91479876273727,5.83145828693436,5.47350710277363,5.3118834855507,4.0888005836009,4.23297259868562,3.36660145412101,3.25227530892981,2.99806532872787,3.01551693086608,2.34862173381849,2.27033859239847,2.25727479761501,2.22866835449702,1.84582900754489,1.49407495726181,1.41264343526258,1.61031005625669,1.60344339535088,1.32005707228357,1.41827066939286,1.23118898963115,1.04782559019604,1.26475313985127,1.03667074921626,1.25044991829227,1.16530011596645,1.04534673664498,1.02236752765726,1.09693238875068,1.01302201320039,0.813546065683372,1.10751732998308,0.995000511314802,0.996239938090333,1.04410730986945,0.871328851666736,0.742699484916544,0.622746105595073,0.66498624324391,0.660028536141784,0.75700270647554,0.488489504714606,0.668704523570504,0.465510295726891,0.590421382150488,0.576118160591492,0.543793437146907,0.591660808926019,0.465510295726891,0.381599920176599,16.6721528076911,0],\"fOption\":\"\",\"fFunctions\":{\"_typename\":\"TList\",\"name\":\"TList\",\"arr\":[],\"opt\":[]},\"fBufferSize\":0,\"fBuffer\":[],\"fBinStatErrOpt\":0,\"fArray\":[0,55.23341,73.79264,45.12213,21.24681,16.34557,14.09161,15.14677,16.34087,17.14633,20.42255,19.22375,22.78256,23.39471,28.8685,27.14683,34.41748,35.06991,39.65569,41.72576,47.07471,47.23245,58.40829,57.69476,65.22926,78.45164,74.19813,81.57486,86.32777,89.01733,90.89204,93.17693,94.95966,98.00498,92.2016,98.32318,92.84464,87.31638,90.47798,86.59627,78.00665,77.13269,73.18053,71.39975,70.01505,62.44032,56.34496,51.91488,48.97089,44.90329,44.19182,41.51632,40.24437,30.99291,32.06687,25.48623,24.65728,22.7047,22.90271,17.80346,17.24298,17.12754,16.88724,13.98556,11.33356,10.69523,12.23569,12.14373,10.01462,10.78249,9.348095,7.927791,9.607186,7.885505,9.487038,8.83461,7.918394,7.765356,8.311729,7.664001,6.182617,8.417784,7.529757,7.534455,7.913696,6.599445,5.650339,4.734122,5.026103,5.007309,5.770487,3.697756,5.040198,3.544718,4.479729,4.359581,4.105187,4.484427,3.544718,2.89699,126.3601,0]},{\"_typename\":\"TH1F\",\"fUniqueID\":0,\"fBits\":50332168,\"fName\":\"ST_s-channel_4f_leptonDecays_13TeV-amcatnlo-pythia8_TuneCUETP8M1-v1\",\"fTitle\":\"\",\"fLineColor\":801,\"fLineStyle\":1,\"fLineWidth\":1,\"fFillColor\":801,\"fFillStyle\":1001,\"fMarkerColor\":1,\"fMarkerStyle\":1,\"fMarkerSize\":1,\"fNcells\":102,\"fXaxis\":{\"_typename\":\"TAxis\",\"fUniqueID\":0,\"fBits\":50331648,\"fName\":\"xaxis\",\"fTitle\":\"m_{Z} (GeV)\",\"fNdivisions\":510,\"fAxisColor\":1,\"fLabelColor\":1,\"fLabelFont\":42,\"fLabelOffset\":0.005,\"fLabelSize\":0.035,\"fTickLength\":0.03,\"fTitleOffset\":1,\"fTitleSize\":0.035,\"fTitleColor\":1,\"fTitleFont\":42,\"fNbins\":100,\"fXmin\":0,\"fXmax\":200,\"fXbins\":[],\"fFirst\":0,\"fLast\":0,\"fBits2\":0,\"fTimeDisplay\":false,\"fTimeFormat\":\"\",\"fLabels\":null,\"fModLabs\":null},\"fYaxis\":{\"_typename\":\"TAxis\",\"fUniqueID\":0,\"fBits\":50331648,\"fName\":\"yaxis\",\"fTitle\":\"\",\"fNdivisions\":510,\"fAxisColor\":1,\"fLabelColor\":1,\"fLabelFont\":42,\"fLabelOffset\":0.005,\"fLabelSize\":0.035,\"fTickLength\":0.03,\"fTitleOffset\":0,\"fTitleSize\":0.035,\"fTitleColor\":1,\"fTitleFont\":42,\"fNbins\":1,\"fXmin\":0,\"fXmax\":1,\"fXbins\":[],\"fFirst\":0,\"fLast\":0,\"fBits2\":0,\"fTimeDisplay\":false,\"fTimeFormat\":\"\",\"fLabels\":null,\"fModLabs\":null},\"fZaxis\":{\"_typename\":\"TAxis\",\"fUniqueID\":0,\"fBits\":50331648,\"fName\":\"zaxis\",\"fTitle\":\"\",\"fNdivisions\":510,\"fAxisColor\":1,\"fLabelColor\":1,\"fLabelFont\":42,\"fLabelOffset\":0.005,\"fLabelSize\":0.035,\"fTickLength\":0.03,\"fTitleOffset\":1,\"fTitleSize\":0.035,\"fTitleColor\":1,\"fTitleFont\":42,\"fNbins\":1,\"fXmin\":0,\"fXmax\":1,\"fXbins\":[],\"fFirst\":0,\"fLast\":0,\"fBits2\":0,\"fTimeDisplay\":false,\"fTimeFormat\":\"\",\"fLabels\":null,\"fModLabs\":null},\"fBarOffset\":0,\"fBarWidth\":1000,\"fEntries\":6912,\"fTsumw\":0,\"fTsumw2\":105.333501512822,\"fTsumwx\":72620.2537282749,\"fTsumwx2\":8236365.36526338,\"fMaximum\":-1111,\"fMinimum\":-1111,\"fNormFactor\":0,\"fContour\":[],\"fSumw2\":[0,0.496761026759696,0.598551136892574,0.383515046309748,0.330772735103626,0.499560139819256,0.275649762230995,0.397697400210637,0.488666379523483,0.428573236677052,0.383331077512683,0.67225407506103,0.73436335108573,0.749630640121275,0.843533337920012,0.952432146923286,0.810119367139696,1.05849036428727,0.932172608453865,0.843504292858917,0.82711181695857,0.940442893179971,1.39524475104589,1.69967261086561,1.50885220556097,1.47554766611915,1.8417252284537,1.39290060555318,1.41876415253747,1.68824136892004,1.85241725055419,1.93127953538376,1.75878386280829,2.41810477430236,1.85658181547029,2.01702378586183,2.15608995269205,1.92780442407015,1.95678415721433,1.9118963636696,2.04699033211105,2.01840941318352,1.47582753448487,1.38637045661288,1.60539335393186,1.63542265247718,1.94969201543564,1.92972142419544,1.76096934900868,1.52458785108873,1.72279441756255,1.38966683580884,1.59808865561762,1.59151610890761,1.29075303517291,1.55905623960871,1.30588762277704,1.17981332177539,1.34564737082873,1.15409708456988,1.11499631293035,0.959894958813516,0.931243135343945,1.15660926102287,0.903838096141368,1.20007649316133,0.719602125349031,0.980645442734817,1.13347542367916,0.818271387148109,0.917643352618474,0.751807435786954,0.806698438758277,0.73937887061252,0.891848842398053,0.780504608809514,0.772631776033574,0.667539145081451,0.814558702598672,0.586130716536519,0.621085776663267,0.56034249078387,0.654100427715241,0.439669676328725,0.525878376109002,0.569664787182705,0.508524049353142,0.535929088555719,0.607317860337685,0.601871965398802,0.421348679155903,0.488262643105545,0.568619059977748,0.596910628804195,0.438054730656973,0.588230323192379,0.385832552808306,0.289334886212232,0.28562033388462,0.358348456817735,13.4779220101922,0],\"fOption\":\"\",\"fFunctions\":{\"_typename\":\"TList\",\"name\":\"TList\",\"arr\":[],\"opt\":[]},\"fBufferSize\":0,\"fBuffer\":[],\"fBinStatErrOpt\":0,\"fArray\":[0,3.966007,5.089429,2.854199,2.461338,3.845181,2.139318,3.0747,3.69866,3.265759,2.954844,5.038831,5.508021,5.778868,6.375419,7.269184,6.088454,7.953777,7.177345,6.671481,6.339328,7.204855,10.78042,13.15374,11.60291,11.32904,13.99263,10.75987,10.77793,12.84679,14.10913,14.75953,13.43504,18.04755,14.26813,15.08429,16.42684,14.81487,15.03822,14.21546,15.69259,15.23741,11.11896,10.60235,12.20843,12.5165,14.75159,14.76406,13.15782,11.62621,12.99468,10.41664,12.08284,12.11321,9.778091,11.67116,9.792339,8.93789,10.1673,8.681869,8.416914,7.293647,7.013865,8.736614,6.785649,9.091389,5.43164,7.461286,8.439781,6.057872,6.965941,5.685362,6.142404,5.572516,6.72132,5.918757,5.819102,5.036432,6.094722,4.393991,4.720947,4.223038,5.028887,3.303934,3.971881,4.26591,3.840145,4.068362,4.598138,4.570802,3.179943,3.697137,4.324216,4.504919,3.29784,4.402216,2.913424,2.210349,2.196029,2.735769,101.9409,0]},{\"_typename\":\"TH1F\",\"fUniqueID\":0,\"fBits\":50332168,\"fName\":\"TTJets_DiLept_TuneCUETP8M1_13TeV-madgraphMLM-pythia8_ext1-v1\",\"fTitle\":\"\",\"fLineColor\":798,\"fLineStyle\":1,\"fLineWidth\":1,\"fFillColor\":41,\"fFillStyle\":1001,\"fMarkerColor\":1,\"fMarkerStyle\":1,\"fMarkerSize\":1,\"fNcells\":102,\"fXaxis\":{\"_typename\":\"TAxis\",\"fUniqueID\":0,\"fBits\":50331648,\"fName\":\"xaxis\",\"fTitle\":\"m_{Z} (GeV)\",\"fNdivisions\":510,\"fAxisColor\":1,\"fLabelColor\":1,\"fLabelFont\":42,\"fLabelOffset\":0.005,\"fLabelSize\":0.035,\"fTickLength\":0.03,\"fTitleOffset\":1,\"fTitleSize\":0.035,\"fTitleColor\":1,\"fTitleFont\":42,\"fNbins\":100,\"fXmin\":0,\"fXmax\":200,\"fXbins\":[],\"fFirst\":0,\"fLast\":0,\"fBits2\":0,\"fTimeDisplay\":false,\"fTimeFormat\":\"\",\"fLabels\":null,\"fModLabs\":null},\"fYaxis\":{\"_typename\":\"TAxis\",\"fUniqueID\":0,\"fBits\":50331648,\"fName\":\"yaxis\",\"fTitle\":\"\",\"fNdivisions\":510,\"fAxisColor\":1,\"fLabelColor\":1,\"fLabelFont\":42,\"fLabelOffset\":0.005,\"fLabelSize\":0.035,\"fTickLength\":0.03,\"fTitleOffset\":0,\"fTitleSize\":0.035,\"fTitleColor\":1,\"fTitleFont\":42,\"fNbins\":1,\"fXmin\":0,\"fXmax\":1,\"fXbins\":[],\"fFirst\":0,\"fLast\":0,\"fBits2\":0,\"fTimeDisplay\":false,\"fTimeFormat\":\"\",\"fLabels\":null,\"fModLabs\":null},\"fZaxis\":{\"_typename\":\"TAxis\",\"fUniqueID\":0,\"fBits\":50331648,\"fName\":\"zaxis\",\"fTitle\":\"\",\"fNdivisions\":510,\"fAxisColor\":1,\"fLabelColor\":1,\"fLabelFont\":42,\"fLabelOffset\":0.005,\"fLabelSize\":0.035,\"fTickLength\":0.03,\"fTitleOffset\":1,\"fTitleSize\":0.035,\"fTitleColor\":1,\"fTitleFont\":42,\"fNbins\":1,\"fXmin\":0,\"fXmax\":1,\"fXbins\":[],\"fFirst\":0,\"fLast\":0,\"fBits2\":0,\"fTimeDisplay\":false,\"fTimeFormat\":\"\",\"fLabels\":null,\"fModLabs\":null},\"fBarOffset\":0,\"fBarWidth\":1000,\"fEntries\":820265,\"fTsumw\":0,\"fTsumw2\":14382.1022611705,\"fTsumwx\":9471582.43012438,\"fTsumwx2\":1079653169.52904,\"fMaximum\":-1111,\"fMinimum\":-1111,\"fNormFactor\":0,\"fContour\":[],\"fSumw2\":[0,6.15162279063297,15.9863827934923,22.1184144287407,28.9361365024355,39.1235373022106,48.9582973050709,55.0511466295521,65.218956273943,74.7598489460371,84.3203327735154,91.9021099071918,97.9753680762866,108.887641625273,115.470269834356,125.500941391055,128.851028961749,139.332297092284,145.679831436757,153.908116698111,162.841683553296,169.5222675393,178.867248657552,189.309334477319,199.535917587859,207.627064761524,214.895383409054,222.300840144272,232.684152497886,239.462692260811,242.871553297658,251.060656248244,252.960998320509,249.865595769809,257.64328445733,258.231019118856,257.212279038877,262.756576012607,255.429483898915,257.408190592719,253.920964934334,251.472070511312,246.045320469895,242.107498237675,237.934582140845,231.606638951756,232.684152497886,228.43287177952,225.33746922882,216.75654317055,210.546146913766,205.197761493886,203.493330975463,196.558061969464,193.717344438758,188.133865154268,185.861291129704,178.436243239101,173.029084353068,169.914090646984,163.449009370205,163.742876700968,158.512038213393,152.928558928902,149.77438291205,147.207941556723,138.9404739846,133.885955895483,130.947282587856,131.162785297082,125.128709438756,121.68066609114,117.703661548153,112.962601945182,111.728359155979,107.947266166833,102.500924970031,100.228350945467,97.8774122993657,94.7232362825133,91.9412922179602,88.2189726949666,87.7291938103621,82.3220349243294,82.8509961197021,76.405505998308,75.7785890260143,72.2129987460941,72.7027776306986,68.8041377092474,68.0400826492645,65.7479174693158,63.9455311739715,59.7726150771404,59.6354769894511,58.2836872679424,56.7163948372077,53.2879426449755,52.4651141188398,52.1320644773087,1736.07023437093,0],\"fOption\":\"\",\"fFunctions\":{\"_typename\":\"TList\",\"name\":\"TList\",\"arr\":[],\"opt\":[]},\"fBufferSize\":0,\"fBuffer\":[],\"fBinStatErrOpt\":0,\"fArray\":[0,43.9502,114.2146,158.0248,206.734,279.5152,349.7719,393.2975,465.9334,534.0909,602.3882,656.5503,699.9359,777.8901,824.9145,896.5707,920.5028,995.378,1040.73,1099.536,1163.383,1211.128,1277.915,1352.543,1425.63,1483.457,1535.402,1588.328,1662.535,1710.98,1735.343,1793.869,1807.45,1785.328,1840.914,1845.114,1837.834,1877.458,1825.092,1839.234,1814.311,1796.809,1758.025,1729.882,1700.059,1654.834,1662.535,1632.152,1610.03,1548.703,1504.319,1466.095,1453.913,1404.348,1384.046,1344.142,1327.9,1274.835,1236.191,1213.928,1167.724,1169.824,1132.44,1092.536,1069.993,1051.651,992.5789,956.4709,935.4778,937.0173,893.9116,869.2798,840.8692,807.0004,798.1833,771.1723,732.2652,716.0306,699.2361,676.7036,656.8302,630.239,626.7402,588.113,591.8917,545.847,541.3685,515.8969,519.3958,491.545,486.0868,469.7122,456.8365,427.0263,426.0467,416.3899,405.1936,380.7017,374.8236,372.4444,12398.51,0]},{\"_typename\":\"TH1F\",\"fUniqueID\":0,\"fBits\":50332168,\"fName\":\"WJetsToLNu_TuneCUETP8M1_13TeV-amcatnloFXFX-pythia8-v1\",\"fTitle\":\"\",\"fLineColor\":881,\"fLineStyle\":1,\"fLineWidth\":1,\"fFillColor\":881,\"fFillStyle\":1001,\"fMarkerColor\":1,\"fMarkerStyle\":1,\"fMarkerSize\":1,\"fNcells\":102,\"fXaxis\":{\"_typename\":\"TAxis\",\"fUniqueID\":0,\"fBits\":50331648,\"fName\":\"xaxis\",\"fTitle\":\"m_{Z} (GeV)\",\"fNdivisions\":510,\"fAxisColor\":1,\"fLabelColor\":1,\"fLabelFont\":42,\"fLabelOffset\":0.005,\"fLabelSize\":0.035,\"fTickLength\":0.03,\"fTitleOffset\":1,\"fTitleSize\":0.035,\"fTitleColor\":1,\"fTitleFont\":42,\"fNbins\":100,\"fXmin\":0,\"fXmax\":200,\"fXbins\":[],\"fFirst\":0,\"fLast\":0,\"fBits2\":0,\"fTimeDisplay\":false,\"fTimeFormat\":\"\",\"fLabels\":null,\"fModLabs\":null},\"fYaxis\":{\"_typename\":\"TAxis\",\"fUniqueID\":0,\"fBits\":50331648,\"fName\":\"yaxis\",\"fTitle\":\"\",\"fNdivisions\":510,\"fAxisColor\":1,\"fLabelColor\":1,\"fLabelFont\":42,\"fLabelOffset\":0.005,\"fLabelSize\":0.035,\"fTickLength\":0.03,\"fTitleOffset\":0,\"fTitleSize\":0.035,\"fTitleColor\":1,\"fTitleFont\":42,\"fNbins\":1,\"fXmin\":0,\"fXmax\":1,\"fXbins\":[],\"fFirst\":0,\"fLast\":0,\"fBits2\":0,\"fTimeDisplay\":false,\"fTimeFormat\":\"\",\"fLabels\":null,\"fModLabs\":null},\"fZaxis\":{\"_typename\":\"TAxis\",\"fUniqueID\":0,\"fBits\":50331648,\"fName\":\"zaxis\",\"fTitle\":\"\",\"fNdivisions\":510,\"fAxisColor\":1,\"fLabelColor\":1,\"fLabelFont\":42,\"fLabelOffset\":0.005,\"fLabelSize\":0.035,\"fTickLength\":0.03,\"fTitleOffset\":1,\"fTitleSize\":0.035,\"fTitleColor\":1,\"fTitleFont\":42,\"fNbins\":1,\"fXmin\":0,\"fXmax\":1,\"fXbins\":[],\"fFirst\":0,\"fLast\":0,\"fBits2\":0,\"fTimeDisplay\":false,\"fTimeFormat\":\"\",\"fLabels\":null,\"fModLabs\":null},\"fBarOffset\":0,\"fBarWidth\":1000,\"fEntries\":285,\"fTsumw\":0,\"fTsumw2\":2584417.92404174,\"fTsumwx\":1858046.43340495,\"fTsumwx2\":193665644.464877,\"fMaximum\":-1111,\"fMinimum\":-1111,\"fNormFactor\":0,\"fContour\":[],\"fSumw2\":[0,70392.7061023043,80448.806974062,90504.9078458198,60336.6052305465,30168.3026152733,10056.1008717578,30168.3026152733,10056.1008717578,0,30168.3026152733,40224.403487031,0,20112.2017435155,40224.403487031,0,50280.5043587888,40224.403487031,50280.5043587888,60336.6052305465,30168.3026152733,20112.2017435155,30168.3026152733,40224.403487031,60336.6052305465,40224.403487031,30168.3026152733,60336.6052305465,70392.7061023043,70392.7061023043,20112.2017435155,50280.5043587888,50280.5043587888,20112.2017435155,40224.403487031,40224.403487031,60336.6052305465,20112.2017435155,10056.1008717578,20112.2017435155,40224.403487031,20112.2017435155,20112.2017435155,90504.9078458198,40224.403487031,0,20112.2017435155,50280.5043587888,30168.3026152733,40224.403487031,0,20112.2017435155,30168.3026152733,50280.5043587888,40224.403487031,50280.5043587888,20112.2017435155,10056.1008717578,30168.3026152733,0,0,20112.2017435155,30168.3026152733,40224.403487031,10056.1008717578,10056.1008717578,10056.1008717578,0,50280.5043587888,10056.1008717578,40224.403487031,0,20112.2017435155,0,0,10056.1008717578,40224.403487031,30168.3026152733,10056.1008717578,10056.1008717578,10056.1008717578,10056.1008717578,0,0,0,30168.3026152733,0,10056.1008717578,20112.2017435155,0,20112.2017435155,10056.1008717578,0,10056.1008717578,0,20112.2017435155,0,0,0,0,261458.622665702,0],\"fOption\":\"\",\"fFunctions\":{\"_typename\":\"TList\",\"name\":\"TList\",\"arr\":[],\"opt\":[]},\"fBufferSize\":0,\"fBuffer\":[],\"fBinStatErrOpt\":0,\"fArray\":[0,701.9608,802.2408,902.5209,601.6807,300.8403,100.2801,300.8403,100.2801,0,300.8403,401.1205,0,200.5602,401.1205,0,501.4006,401.1205,501.4006,601.6807,300.8403,200.5602,300.8403,401.1205,601.6807,401.1205,300.8403,601.6807,701.9608,701.9608,200.5602,501.4006,501.4006,200.5602,401.1205,401.1205,601.6807,200.5602,100.2801,200.5602,401.1205,200.5602,200.5602,902.5209,401.1205,0,200.5602,501.4006,300.8403,401.1205,0,200.5602,300.8403,501.4006,401.1205,501.4006,200.5602,100.2801,300.8403,0,0,200.5602,300.8403,401.1205,100.2801,100.2801,100.2801,0,501.4006,100.2801,401.1205,0,200.5602,0,0,100.2801,401.1205,300.8403,100.2801,100.2801,100.2801,100.2801,0,0,0,300.8403,0,100.2801,200.5602,0,200.5602,100.2801,0,100.2801,0,200.5602,0,0,0,0,2607.283,0]},{\"_typename\":\"TH1F\",\"fUniqueID\":0,\"fBits\":50332168,\"fName\":\"DYJetsToLL_M-10to50_TuneCUETP8M1_13TeV-amcatnloFXFX-pythia8-v1\",\"fTitle\":\"\",\"fLineColor\":418,\"fLineStyle\":1,\"fLineWidth\":1,\"fFillColor\":418,\"fFillStyle\":1001,\"fMarkerColor\":1,\"fMarkerStyle\":1,\"fMarkerSize\":1,\"fNcells\":102,\"fXaxis\":{\"_typename\":\"TAxis\",\"fUniqueID\":0,\"fBits\":50331648,\"fName\":\"xaxis\",\"fTitle\":\"m_{Z} (GeV)\",\"fNdivisions\":510,\"fAxisColor\":1,\"fLabelColor\":1,\"fLabelFont\":42,\"fLabelOffset\":0.005,\"fLabelSize\":0.035,\"fTickLength\":0.03,\"fTitleOffset\":1,\"fTitleSize\":0.035,\"fTitleColor\":1,\"fTitleFont\":42,\"fNbins\":100,\"fXmin\":0,\"fXmax\":200,\"fXbins\":[],\"fFirst\":0,\"fLast\":0,\"fBits2\":0,\"fTimeDisplay\":false,\"fTimeFormat\":\"\",\"fLabels\":null,\"fModLabs\":null},\"fYaxis\":{\"_typename\":\"TAxis\",\"fUniqueID\":0,\"fBits\":50331648,\"fName\":\"yaxis\",\"fTitle\":\"\",\"fNdivisions\":510,\"fAxisColor\":1,\"fLabelColor\":1,\"fLabelFont\":42,\"fLabelOffset\":0.005,\"fLabelSize\":0.035,\"fTickLength\":0.03,\"fTitleOffset\":0,\"fTitleSize\":0.035,\"fTitleColor\":1,\"fTitleFont\":42,\"fNbins\":1,\"fXmin\":0,\"fXmax\":1,\"fXbins\":[],\"fFirst\":0,\"fLast\":0,\"fBits2\":0,\"fTimeDisplay\":false,\"fTimeFormat\":\"\",\"fLabels\":null,\"fModLabs\":null},\"fZaxis\":{\"_typename\":\"TAxis\",\"fUniqueID\":0,\"fBits\":50331648,\"fName\":\"zaxis\",\"fTitle\":\"\",\"fNdivisions\":510,\"fAxisColor\":1,\"fLabelColor\":1,\"fLabelFont\":42,\"fLabelOffset\":0.005,\"fLabelSize\":0.035,\"fTickLength\":0.03,\"fTitleOffset\":1,\"fTitleSize\":0.035,\"fTitleColor\":1,\"fTitleFont\":42,\"fNbins\":1,\"fXmin\":0,\"fXmax\":1,\"fXbins\":[],\"fFirst\":0,\"fLast\":0,\"fBits2\":0,\"fTimeDisplay\":false,\"fTimeFormat\":\"\",\"fLabels\":null,\"fModLabs\":null},\"fBarOffset\":0,\"fBarWidth\":1000,\"fEntries\":751018,\"fTsumw\":0,\"fTsumw2\":15225182.8499,\"fTsumwx\":295337151.721408,\"fTsumwx2\":26789309982.4742,\"fMaximum\":-1111,\"fMinimum\":-1111,\"fNormFactor\":0,\"fContour\":[],\"fSumw2\":[0,556.29885864564,1074.07078987162,498.508467516155,1105.57295047314,4138.55377631871,101649.457145755,78294.3964266811,70783.1442445578,65129.2708497859,51585.9007655128,51166.7877417753,43067.7345404053,45421.2802063332,44358.9173611585,37286.0416664829,32641.4239036351,36625.8699702752,33684.5232851,31357.2658497,28837.3737772016,31578.5303062656,31732.6380159442,34237.4190504167,34547.4453065185,39531.9992294853,28757.260397479,30705.9611534657,33768.8518833284,42724.0209194604,46634.504052556,51276.9988066253,58751.2227260396,65011.8484317346,71156.8933551686,77111.6452304434,88611.9330652081,103095.716186056,125944.525734846,151699.77671488,185738.317090138,244992.731461556,335068.687768801,540453.39625431,1028649.69864205,2442876.88689663,4035618.59336429,2429527.30654562,877275.059221084,366159.918196503,195755.318219247,120704.863605774,83121.8459079084,61024.3114437997,47811.9169277951,38546.1908833665,30378.4822703987,24811.3412582586,21575.0793550076,18647.0328711139,16682.1595727115,14175.5677014944,12887.2572218752,11307.6531976693,10209.635766209,9398.2287014568,8206.23554038679,7820.96626619023,7146.74503634624,7067.34959256755,6010.20067746639,5567.14101214034,5181.87173794378,4681.02168148825,4315.01587100151,4042.98579012454,4237.9620161622,3674.63839069843,3330.2376328609,3351.84268551011,3351.84268551011,2947.30994760372,2523.5137459875,2966.57341131355,2542.77720969733,2388.6695000187,2157.50793550077,2350.14257259905,1887.81944356317,2003.40022582214,2157.50793550077,2058.84902801225,1560.34056049609,1483.28670565678,1155.80782258969,1541.07709678626,1194.33475000935,1425.49631452729,1194.33475000935,1001.70011291107,33747.2468306791,0],\"fOption\":\"\",\"fFunctions\":{\"_typename\":\"TList\",\"name\":\"TList\",\"arr\":[],\"opt\":[]},\"fBufferSize\":0,\"fBuffer\":[],\"fBinStatErrOpt\":0,\"fArray\":[0,104.4887,200.1994,91.32162,140.599,364.1929,8290.764,6375.182,5776.771,5312.177,4229.771,4178.798,3535.499,3737.845,3651.61,3108.561,2762.622,3091.702,2844.468,2714.889,2541.42,2854.339,2889.451,3282.071,3553.043,4644.213,5973.367,6996.147,7694.024,9712.021,10602.92,11660.59,13363.4,14789.71,16189.7,17568.59,20188.63,23466.12,28693.88,34562.33,42320.56,55826.12,76356.69,123146.7,234441.1,555730.4,917464.1,552698.5,199916.8,83443.16,44603.69,27500.16,18937.86,13881.26,10893.42,8782.47,6921.532,5653.064,4915.686,4248.533,3800.855,3207.504,2936.239,2576.348,2326.179,2119.053,1869.727,1781.947,1628.33,1587.981,1369.377,1268.429,1180.648,1066.533,983.1417,898.9022,965.5855,792.7175,736.5078,763.6898,763.6898,671.52,574.9611,675.909,579.3502,544.2379,491.5695,535.4598,430.1234,456.4575,491.5695,446.8318,355.5103,337.9543,263.3411,351.1213,272.1191,324.7872,272.1191,228.229,7666.833,0]}],\"opt\":[\"\",\"\",\"\",\"\",\"\",\"\",\"\",\"\"]},\"fHistogram\":{\"_typename\":\"TH1F\",\"fUniqueID\":0,\"fBits\":50332160,\"fName\":\"Bkg\",\"fTitle\":\"\",\"fLineColor\":602,\"fLineStyle\":1,\"fLineWidth\":1,\"fFillColor\":0,\"fFillStyle\":1001,\"fMarkerColor\":1,\"fMarkerStyle\":1,\"fMarkerSize\":1,\"fNcells\":102,\"fXaxis\":{\"_typename\":\"TAxis\",\"fUniqueID\":0,\"fBits\":50331656,\"fName\":\"xaxis\",\"fTitle\":\"m_{Z} (GeV)\",\"fNdivisions\":510,\"fAxisColor\":1,\"fLabelColor\":1,\"fLabelFont\":42,\"fLabelOffset\":0.010368,\"fLabelSize\":0.042,\"fTickLength\":0.03,\"fTitleOffset\":1.2,\"fTitleSize\":0.0504,\"fTitleColor\":1,\"fTitleFont\":42,\"fNbins\":100,\"fXmin\":0,\"fXmax\":200,\"fXbins\":[],\"fFirst\":0,\"fLast\":0,\"fBits2\":0,\"fTimeDisplay\":false,\"fTimeFormat\":\"\",\"fLabels\":null,\"fModLabs\":null},\"fYaxis\":{\"_typename\":\"TAxis\",\"fUniqueID\":0,\"fBits\":50331656,\"fName\":\"yaxis\",\"fTitle\":\"Events\",\"fNdivisions\":510,\"fAxisColor\":1,\"fLabelColor\":1,\"fLabelFont\":42,\"fLabelOffset\":0.005,\"fLabelSize\":0.042,\"fTickLength\":0.03,\"fTitleOffset\":0,\"fTitleSize\":0.0504,\"fTitleColor\":1,\"fTitleFont\":42,\"fNbins\":1,\"fXmin\":0,\"fXmax\":1,\"fXbins\":[],\"fFirst\":0,\"fLast\":0,\"fBits2\":0,\"fTimeDisplay\":false,\"fTimeFormat\":\"\",\"fLabels\":null,\"fModLabs\":null},\"fZaxis\":{\"_typename\":\"TAxis\",\"fUniqueID\":0,\"fBits\":50331648,\"fName\":\"zaxis\",\"fTitle\":\"\",\"fNdivisions\":510,\"fAxisColor\":1,\"fLabelColor\":1,\"fLabelFont\":42,\"fLabelOffset\":0.005,\"fLabelSize\":0.035,\"fTickLength\":0.03,\"fTitleOffset\":1,\"fTitleSize\":0.035,\"fTitleColor\":1,\"fTitleFont\":42,\"fNbins\":1,\"fXmin\":0,\"fXmax\":1,\"fXbins\":[],\"fFirst\":0,\"fLast\":0,\"fBits2\":0,\"fTimeDisplay\":false,\"fTimeFormat\":\"\",\"fLabels\":null,\"fModLabs\":null},\"fBarOffset\":0,\"fBarWidth\":1000,\"fEntries\":0,\"fTsumw\":0,\"fTsumw2\":0,\"fTsumwx\":0,\"fTsumwx2\":0,\"fMaximum\":2016619.31315315,\"fMinimum\":0.251141463323298,\"fNormFactor\":0,\"fContour\":[],\"fSumw2\":[],\"fOption\":\"\",\"fFunctions\":{\"_typename\":\"TList\",\"name\":\"TList\",\"arr\":[],\"opt\":[]},\"fBufferSize\":0,\"fBuffer\":[],\"fBinStatErrOpt\":0,\"fArray\":[0,0,0,0,0,0,0,0,0,0,0,0,0,0,0,0,0,0,0,0,0,0,0,0,0,0,0,0,0,0,0,0,0,0,0,0,0,0,0,0,0,0,0,0,0,0,0,0,0,0,0,0,0,0,0,0,0,0,0,0,0,0,0,0,0,0,0,0,0,0,0,0,0,0,0,0,0,0,0,0,0,0,0,0,0,0,0,0,0,0,0,0,0,0,0,0,0,0,0,0,0,0]},\"fMaximum\":-1111,\"fMinimum\":1},{\"_typename\":\"TH1F\",\"fUniqueID\":0,\"fBits\":50332168,\"fName\":\"BkgSum\",\"fTitle\":\"\",\"fLineColor\":1,\"fLineStyle\":1,\"fLineWidth\":1,\"fFillColor\":1,\"fFillStyle\":3003,\"fMarkerColor\":1,\"fMarkerStyle\":0,\"fMarkerSize\":1,\"fNcells\":102,\"fXaxis\":{\"_typename\":\"TAxis\",\"fUniqueID\":0,\"fBits\":50331656,\"fName\":\"xaxis\",\"fTitle\":\"m_{Z} (GeV)\",\"fNdivisions\":510,\"fAxisColor\":1,\"fLabelColor\":1,\"fLabelFont\":42,\"fLabelOffset\":0.010368,\"fLabelSize\":0.042,\"fTickLength\":0.03,\"fTitleOffset\":1.2,\"fTitleSize\":0.0504,\"fTitleColor\":1,\"fTitleFont\":42,\"fNbins\":100,\"fXmin\":0,\"fXmax\":200,\"fXbins\":[],\"fFirst\":0,\"fLast\":0,\"fBits2\":0,\"fTimeDisplay\":false,\"fTimeFormat\":\"\",\"fLabels\":null,\"fModLabs\":null},\"fYaxis\":{\"_typename\":\"TAxis\",\"fUniqueID\":0,\"fBits\":50331656,\"fName\":\"yaxis\",\"fTitle\":\"Events \\/ 2.0 GeV\",\"fNdivisions\":510,\"fAxisColor\":1,\"fLabelColor\":1,\"fLabelFont\":42,\"fLabelOffset\":0.005,\"fLabelSize\":0.042,\"fTickLength\":0.03,\"fTitleOffset\":0,\"fTitleSize\":0.0504,\"fTitleColor\":1,\"fTitleFont\":42,\"fNbins\":1,\"fXmin\":0,\"fXmax\":1,\"fXbins\":[],\"fFirst\":0,\"fLast\":0,\"fBits2\":0,\"fTimeDisplay\":false,\"fTimeFormat\":\"\",\"fLabels\":null,\"fModLabs\":null},\"fZaxis\":{\"_typename\":\"TAxis\",\"fUniqueID\":0,\"fBits\":50331648,\"fName\":\"zaxis\",\"fTitle\":\"\",\"fNdivisions\":510,\"fAxisColor\":1,\"fLabelColor\":1,\"fLabelFont\":42,\"fLabelOffset\":0.005,\"fLabelSize\":0.035,\"fTickLength\":0.03,\"fTitleOffset\":1,\"fTitleSize\":0.035,\"fTitleColor\":1,\"fTitleFont\":42,\"fNbins\":1,\"fXmin\":0,\"fXmax\":1,\"fXbins\":[],\"fFirst\":0,\"fLast\":0,\"fBits2\":0,\"fTimeDisplay\":false,\"fTimeFormat\":\"\",\"fLabels\":null,\"fModLabs\":null},\"fBarOffset\":0,\"fBarWidth\":1000,\"fEntries\":1769299,\"fTsumw\":0,\"fTsumw2\":17824558.2633217,\"fTsumwx\":307098995.439423,\"fTsumwx2\":28104168622.6897,\"fMaximum\":-1111,\"fMinimum\":-1111,\"fNormFactor\":0,\"fContour\":[],\"fSumw2\":[0,70962.9404237722,81549.2152122165,91031.9463129337,61474.3050935975,34348.6778607845,111756.70945263,108520.194897934,80907.1622556719,65206.7725614385,81841.6446746667,91486.3515270237,43169.4908999021,65646.2657780073,84703.499735824,37416.1268832665,83056.1763124726,76995.3352831164,84116.9195828738,91854.1870234,59175.6162803944,51867.4913696446,62088.9717210207,74660.4997078483,95093.7573563129,79975.9243931073,59152.1490328598,91277.0834414092,104407.114068969,113369.709206759,67003.5131609878,101822.873476132,109299.067574858,85389.3578935221,111653.064855904,117609.38820938,149220.267140696,123484.273600846,136270.0710949,172082.876219574,226229.159089119,265368.822568518,355438.355887127,631211.720158754,1069123.75033983,2443120.39154152,4055976.1032809,2480047.04828353,907677.703432212,406608.904724113,195973.657414643,141029.285343498,113500.691334975,111507.176574035,88235.6670046226,89019.8470482455,50681.1982140383,35050.136685193,51920.8497183438,18820.5282894932,16849.0553432376,34454.7977735844,43217.3086321605,51688.0510382877,20417.9658762426,19604.202718523,18403.6703731153,7957.49065557778,57560.7004536673,17256.9038182289,46361.9534221405,5690.66489408327,25413.9046050994,4795.80968058663,4428.92689875276,14209.0243956963,44566.7199238177,33944.902569829,13486.1668355193,13504.3100573045,13501.3591619715,13093.3412780456,2612.92495479265,3050.37124259172,2627.24276630711,32634.8613514989,2234.57177846978,12479.6419056906,22074.0271025919,2073.50879516379,22338.9671299099,12181.7064934265,1625.55070440995,11600.248916324,1216.50217965425,21712.7499705124,1252.00775777447,1479.68351513534,1247.57585681137,1054.59302259989,296973.35786014,0],\"fOption\":\"\",\"fFunctions\":{\"_typename\":\"TList\",\"name\":\"TList\",\"arr\":[],\"opt\":[]},\"fBufferSize\":0,\"fBuffer\":[],\"fBinStatErrOpt\":0,\"fArray\":[0,909.8174,1196.106,1205.178,976.7372,967.9929,8762.324,7092.348,6367.743,5870.905,5160.27,5264.719,4267.669,4749.368,4917.085,4043.342,4228.728,4534.761,4437.394,4468.106,4063.314,4324.649,4541.834,5111.077,5661.817,6623.612,7902.507,9283.416,10160.78,12232.49,12649.71,14069.94,15786.81,16898.04,18545.15,19936.88,22745.2,25655.38,30734.7,36714.98,44643.93,57933.59,78423.52,125902.8,236701,557638.8,919685.2,555077.7,201958.9,85481.77,46184.07,29231.09,20755.37,15838.61,12727.82,10671.64,8490.408,7065.008,6490.723,5493.842,4998.152,4606.563,4398.007,4096.84,3518.119,3294.019,2984.001,2761.342,3086.821,2645.367,2684.724,2153.946,2241.036,1889.825,1800.11,1787.706,2114.934,1824.991,1552.771,1555.158,1533.961,1417.118,1216.366,1277.115,1185.533,1404.022,1044.34,1162.022,1161.386,959.7743,1189.279,1026.061,823.3263,874.8805,698.9606,978.2822,685.8746,713.42,654.1222,607.5973,22969.9,0]},{\"_typename\":\"TH1F\",\"fUniqueID\":0,\"fBits\":50332168,\"fName\":\"SingleMuonRun2016B-03Feb2017_ver1-v1\",\"fTitle\":\"\",\"fLineColor\":1,\"fLineStyle\":1,\"fLineWidth\":1,\"fFillColor\":0,\"fFillStyle\":1,\"fMarkerColor\":1,\"fMarkerStyle\":20,\"fMarkerSize\":1.25,\"fNcells\":102,\"fXaxis\":{\"_typename\":\"TAxis\",\"fUniqueID\":0,\"fBits\":50331648,\"fName\":\"xaxis\",\"fTitle\":\"m_{Z} (GeV)\",\"fNdivisions\":510,\"fAxisColor\":1,\"fLabelColor\":1,\"fLabelFont\":42,\"fLabelOffset\":0.005,\"fLabelSize\":0.035,\"fTickLength\":0.03,\"fTitleOffset\":1,\"fTitleSize\":0.035,\"fTitleColor\":1,\"fTitleFont\":42,\"fNbins\":100,\"fXmin\":0,\"fXmax\":200,\"fXbins\":[],\"fFirst\":0,\"fLast\":0,\"fBits2\":0,\"fTimeDisplay\":false,\"fTimeFormat\":\"\",\"fLabels\":null,\"fModLabs\":null},\"fYaxis\":{\"_typename\":\"TAxis\",\"fUniqueID\":0,\"fBits\":50331648,\"fName\":\"yaxis\",\"fTitle\":\"\",\"fNdivisions\":510,\"fAxisColor\":1,\"fLabelColor\":1,\"fLabelFont\":42,\"fLabelOffset\":0.005,\"fLabelSize\":0.035,\"fTickLength\":0.03,\"fTitleOffset\":0,\"fTitleSize\":0.035,\"fTitleColor\":1,\"fTitleFont\":42,\"fNbins\":1,\"fXmin\":0,\"fXmax\":1,\"fXbins\":[],\"fFirst\":0,\"fLast\":0,\"fBits2\":0,\"fTimeDisplay\":false,\"fTimeFormat\":\"\",\"fLabels\":null,\"fModLabs\":null},\"fZaxis\":{\"_typename\":\"TAxis\",\"fUniqueID\":0,\"fBits\":50331648,\"fName\":\"zaxis\",\"fTitle\":\"\",\"fNdivisions\":510,\"fAxisColor\":1,\"fLabelColor\":1,\"fLabelFont\":42,\"fLabelOffset\":0.005,\"fLabelSize\":0.035,\"fTickLength\":0.03,\"fTitleOffset\":1,\"fTitleSize\":0.035,\"fTitleColor\":1,\"fTitleFont\":42,\"fNbins\":1,\"fXmin\":0,\"fXmax\":1,\"fXbins\":[],\"fFirst\":0,\"fLast\":0,\"fBits2\":0,\"fTimeDisplay\":false,\"fTimeFormat\":\"\",\"fLabels\":null,\"fModLabs\":null},\"fBarOffset\":0,\"fBarWidth\":1000,\"fEntries\":3659023,\"fTsumw\":0,\"fTsumw2\":3637723,\"fTsumwx\":300315489.034337,\"fTsumwx2\":27370560493.3489,\"fMaximum\":-1111,\"fMinimum\":-1111,\"fNormFactor\":0,\"fContour\":[],\"fSumw2\":[0,121523,63524,20686,14525,16419,13152,8673,7761,6982,6496,5859,5582,5310,4924,4859,4688,4475,4592,4723,4845,5029,5338,5920,6799,7674,8533,9412,10386,11734,12954,14157,15204,16354,17862,19926,22637,25725,29456,35704,43746,57081,80214,128327,251222,573078,873906,507581,189666,83855,46580,29844,20689,15619,12459,10039,8428,7400,6392,5667,5274,4581,4174,4011,3570,3288,3054,2895,2743,2468,2373,2325,2173,1970,1882,1837,1684,1609,1555,1558,1412,1403,1278,1231,1176,1133,1074,1118,1036,1009,926,847,884,818,857,786,760,715,688,651,22000,0],\"fOption\":\"\",\"fFunctions\":{\"_typename\":\"TList\",\"name\":\"TList\",\"arr\":[],\"opt\":[]},\"fBufferSize\":0,\"fBuffer\":[],\"fBinStatErrOpt\":0,\"fArray\":[0,121523,63524,20686,14525,16419,13152,8673,7761,6982,6496,5859,5582,5310,4924,4859,4688,4475,4592,4723,4845,5029,5338,5920,6799,7674,8533,9412,10386,11734,12954,14157,15204,16354,17862,19926,22637,25725,29456,35704,43746,57081,80214,128327,251222,573078,873906,507581,189666,83855,46580,29844,20689,15619,12459,10039,8428,7400,6392,5667,5274,4581,4174,4011,3570,3288,3054,2895,2743,2468,2373,2325,2173,1970,1882,1837,1684,1609,1555,1558,1412,1403,1278,1231,1176,1133,1074,1118,1036,1009,926,847,884,818,857,786,760,715,688,651,22000,0]},{\"_typename\":\"TLegend\",\"fUniqueID\":0,\"fBits\":50331656,\"fLineColor\":1,\"fLineStyle\":1,\"fLineWidth\":1,\"fFillColor\":0,\"fFillStyle\":0,\"fX1\":141.176470655265,\"fY1\":2.29544007840537,\"fX2\":200.00000056975,\"fY2\":6.00764732956983,\"fX1NDC\":0.7,\"fY1NDC\":0.4,\"fX2NDC\":0.95,\"fY2NDC\":0.9,\"fBorderSize\":0,\"fInit\":1,\"fShadowColor\":1,\"fCornerRadius\":0,\"fOption\":\"brNDC\",\"fName\":\"TPave\",\"fTextAngle\":0,\"fTextSize\":0,\"fTextAlign\":12,\"fTextColor\":1,\"fTextFont\":42,\"fPrimitives\":{\"_typename\":\"TList\",\"name\":\"TList\",\"arr\":[{\"_typename\":\"TLegendEntry\",\"fUniqueID\":0,\"fBits\":50331656,\"fTextAngle\":0,\"fTextSize\":0,\"fTextAlign\":0,\"fTextColor\":0,\"fTextFont\":42,\"fLineColor\":1,\"fLineStyle\":1,\"fLineWidth\":1,\"fFillColor\":0,\"fFillStyle\":0,\"fMarkerColor\":1,\"fMarkerStyle\":20,\"fMarkerSize\":1.25,\"fObject\":{\"$ref\":57},\"fLabel\":\"Data\",\"fOption\":\"pl\"},{\"_typename\":\"TLegendEntry\",\"fUniqueID\":0,\"fBits\":50331656,\"fTextAngle\":0,\"fTextSize\":0,\"fTextAlign\":0,\"fTextColor\":0,\"fTextFont\":42,\"fLineColor\":418,\"fLineStyle\":1,\"fLineWidth\":1,\"fFillColor\":418,\"fFillStyle\":1001,\"fMarkerColor\":1,\"fMarkerStyle\":21,\"fMarkerSize\":1,\"fObject\":{\"$ref\":42},\"fLabel\":\"Z(ll) + jets\",\"fOption\":\"f\"},{\"_typename\":\"TLegendEntry\",\"fUniqueID\":0,\"fBits\":50331656,\"fTextAngle\":0,\"fTextSize\":0,\"fTextAlign\":0,\"fTextColor\":0,\"fTextFont\":42,\"fLineColor\":881,\"fLineStyle\":1,\"fLineWidth\":1,\"fFillColor\":881,\"fFillStyle\":1001,\"fMarkerColor\":1,\"fMarkerStyle\":21,\"fMarkerSize\":1,\"fObject\":{\"$ref\":37},\"fLabel\":\"W(l#nu) + jets\",\"fOption\":\"f\"},{\"_typename\":\"TLegendEntry\",\"fUniqueID\":0,\"fBits\":50331656,\"fTextAngle\":0,\"fTextSize\":0,\"fTextAlign\":0,\"fTextColor\":0,\"fTextFont\":42,\"fLineColor\":798,\"fLineStyle\":1,\"fLineWidth\":1,\"fFillColor\":41,\"fFillStyle\":1001,\"fMarkerColor\":1,\"fMarkerStyle\":21,\"fMarkerSize\":1,\"fObject\":{\"$ref\":32},\"fLabel\":\"t#bar{t} di-lept\",\"fOption\":\"f\"},{\"_typename\":\"TLegendEntry\",\"fUniqueID\":0,\"fBits\":50331656,\"fTextAngle\":0,\"fTextSize\":0,\"fTextAlign\":0,\"fTextColor\":0,\"fTextFont\":42,\"fLineColor\":801,\"fLineStyle\":1,\"fLineWidth\":1,\"fFillColor\":801,\"fFillStyle\":1001,\"fMarkerColor\":1,\"fMarkerStyle\":21,\"fMarkerSize\":1,\"fObject\":{\"$ref\":27},\"fLabel\":\"Single-t\",\"fOption\":\"f\"},{\"_typename\":\"TLegendEntry\",\"fUniqueID\":0,\"fBits\":50331656,\"fTextAngle\":0,\"fTextSize\":0,\"fTextAlign\":0,\"fTextColor\":0,\"fTextFont\":42,\"fLineColor\":798,\"fLineStyle\":1,\"fLineWidth\":1,\"fFillColor\":798,\"fFillStyle\":1001,\"fMarkerColor\":1,\"fMarkerStyle\":21,\"fMarkerSize\":1,\"fObject\":{\"$ref\":22},\"fLabel\":\"t#bar{t} sing.lept\",\"fOption\":\"f\"},{\"_typename\":\"TLegendEntry\",\"fUniqueID\":0,\"fBits\":50331656,\"fTextAngle\":0,\"fTextSize\":0,\"fTextAlign\":0,\"fTextColor\":0,\"fTextFont\":42,\"fLineColor\":602,\"fLineStyle\":1,\"fLineWidth\":1,\"fFillColor\":602,\"fFillStyle\":1001,\"fMarkerColor\":1,\"fMarkerStyle\":21,\"fMarkerSize\":1,\"fObject\":{\"$ref\":17},\"fLabel\":\"WZ\",\"fOption\":\"f\"},{\"_typename\":\"TLegendEntry\",\"fUniqueID\":0,\"fBits\":50331656,\"fTextAngle\":0,\"fTextSize\":0,\"fTextAlign\":0,\"fTextColor\":0,\"fTextFont\":42,\"fLineColor\":602,\"fLineStyle\":1,\"fLineWidth\":1,\"fFillColor\":7,\"fFillStyle\":1001,\"fMarkerColor\":1,\"fMarkerStyle\":21,\"fMarkerSize\":1,\"fObject\":{\"$ref\":12},\"fLabel\":\"W+W-\",\"fOption\":\"f\"},{\"_typename\":\"TLegendEntry\",\"fUniqueID\":0,\"fBits\":50331656,\"fTextAngle\":0,\"fTextSize\":0,\"fTextAlign\":0,\"fTextColor\":0,\"fTextFont\":42,\"fLineColor\":602,\"fLineStyle\":1,\"fLineWidth\":1,\"fFillColor\":38,\"fFillStyle\":1001,\"fMarkerColor\":1,\"fMarkerStyle\":21,\"fMarkerSize\":1,\"fObject\":{\"$ref\":7},\"fLabel\":\"ttW,ttZ,ttH\",\"fOption\":\"f\"},{\"_typename\":\"TLegendEntry\",\"fUniqueID\":0,\"fBits\":50331656,\"fTextAngle\":0,\"fTextSize\":0,\"fTextAlign\":0,\"fTextColor\":0,\"fTextFont\":42,\"fLineColor\":1,\"fLineStyle\":1,\"fLineWidth\":1,\"fFillColor\":1,\"fFillStyle\":3003,\"fMarkerColor\":1,\"fMarkerStyle\":21,\"fMarkerSize\":1,\"fObject\":{\"$ref\":52},\"fLabel\":\"MC stat.\",\"fOption\":\"f\"}],\"opt\":[\"pl\",\"f\",\"f\",\"f\",\"f\",\"f\",\"f\",\"f\",\"f\",\"f\"]},\"fEntrySeparation\":0.1,\"fMargin\":0.25,\"fNColumns\":1,\"fColumnSeparation\":0},{\"_typename\":\"TLatex\",\"fUniqueID\":0,\"fBits\":50348041,\"fName\":\"\",\"fTitle\":\"35.8 fb^{-1}  (13 TeV)\",\"fTextAngle\":0,\"fTextSize\":0.04,\"fTextAlign\":33,\"fTextColor\":1,\"fTextFont\":42,\"fX\":0.95,\"fY\":0.985,\"fLineColor\":1,\"fLineStyle\":1,\"fLineWidth\":2,\"fLimitFactorSize\":3,\"fOriginSize\":0.04},{\"_typename\":\"TLatex\",\"fUniqueID\":0,\"fBits\":50348041,\"fName\":\"\",\"fTitle\":\"CMS\",\"fTextAngle\":0,\"fTextSize\":0.05,\"fTextAlign\":11,\"fTextColor\":1,\"fTextFont\":62,\"fX\":0.15,\"fY\":0.87,\"fLineColor\":1,\"fLineStyle\":1,\"fLineWidth\":2,\"fLimitFactorSize\":3,\"fOriginSize\":0.04},{\"_typename\":\"TLatex\",\"fUniqueID\":0,\"fBits\":50348041,\"fName\":\"\",\"fTitle\":\"Preliminary\",\"fTextAngle\":0,\"fTextSize\":0.04,\"fTextAlign\":11,\"fTextColor\":1,\"fTextFont\":52,\"fX\":0.15,\"fY\":0.83,\"fLineColor\":1,\"fLineStyle\":1,\"fLineWidth\":2,\"fLimitFactorSize\":3,\"fOriginSize\":0.04}],\"opt\":[\"\",\"hist\",\"SAME, E2\",\"SAME, PE\",\"\",\"\",\"\",\"\"]},\"fExecs\":{\"_typename\":\"TList\",\"name\":\"TList\",\"arr\":[],\"opt\":[]},\"fName\":\"TopPad\",\"fTitle\":\"\",\"fNumPaletteColor\":0,\"fNextPaletteColor\":0},{\"_typename\":\"TPad\",\"fUniqueID\":0,\"fBits\":50331657,\"fLineColor\":1,\"fLineStyle\":1,\"fLineWidth\":1,\"fFillColor\":0,\"fFillStyle\":1001,\"fLeftMargin\":0.1,\"fRightMargin\":0.05,\"fBottomMargin\":0.4,\"fTopMargin\":0.04,\"fXfile\":2,\"fYfile\":2,\"fAfile\":1,\"fXstat\":0.99,\"fYstat\":0.99,\"fAstat\":2,\"fFrameFillColor\":0,\"fFrameLineColor\":1,\"fFrameFillStyle\":1001,\"fFrameLineStyle\":1,\"fFrameLineWidth\":1,\"fFrameBorderSize\":1,\"fFrameBorderMode\":0,\"fX1\":-23.5294131052948,\"fY1\":-1.42857144377669,\"fX2\":211.764706552647,\"fY2\":2.14285713905583,\"fXtoAbsPixelk\":79.6000538549305,\"fXtoPixelk\":79.6000538549305,\"fXtoPixel\":3.38299997108802,\"fYtoAbsPixelk\":694.800049424815,\"fYtoPixelk\":115.800049424815,\"fYtoPixel\":-54.0399998274446,\"fUtoAbsPixelk\":5e-5,\"fUtoPixelk\":5e-5,\"fUtoPixel\":796,\"fVtoAbsPixelk\":772.00005,\"fVtoPixelk\":193,\"fVtoPixel\":-193,\"fAbsPixeltoXk\":-23.5294131052948,\"fPixeltoXk\":-23.5294131052948,\"fPixeltoX\":0.295595627710983,\"fAbsPixeltoYk\":12.8571428875534,\"fPixeltoYk\":-1.42857144377669,\"fPixeltoY\":-0.0185048113100131,\"fXlowNDC\":0,\"fYlowNDC\":0,\"fXUpNDC\":0,\"fYUpNDC\":0,\"fWNDC\":1,\"fHNDC\":0.25,\"fAbsXlowNDC\":0,\"fAbsYlowNDC\":0,\"fAbsWNDC\":1,\"fAbsHNDC\":0.25,\"fUxmin\":0,\"fUymin\":0,\"fUxmax\":200,\"fUymax\":2,\"fTheta\":30,\"fPhi\":30,\"fAspectRatio\":0,\"fNumber\":2,\"fTickx\":1,\"fTicky\":1,\"fLogx\":0,\"fLogy\":0,\"fLogz\":0,\"fPadPaint\":0,\"fCrosshair\":0,\"fCrosshairPos\":0,\"fBorderSize\":2,\"fBorderMode\":0,\"fModified\":false,\"fGridx\":false,\"fGridy\":false,\"fAbsCoord\":false,\"fEditable\":true,\"fFixedAspectRatio\":false,\"fPrimitives\":{\"_typename\":\"TList\",\"name\":\"TList\",\"arr\":[{\"_typename\":\"TFrame\",\"fUniqueID\":0,\"fBits\":50331656,\"fLineColor\":1,\"fLineStyle\":1,\"fLineWidth\":1,\"fFillColor\":0,\"fFillStyle\":1001,\"fX1\":0,\"fY1\":0,\"fX2\":200,\"fY2\":2,\"fBorderSize\":1,\"fBorderMode\":0},{\"_typename\":\"TH1F\",\"fUniqueID\":0,\"fBits\":50332168,\"fName\":\"BkgErr;\",\"fTitle\":\"\",\"fLineColor\":1,\"fLineStyle\":1,\"fLineWidth\":1,\"fFillColor\":1,\"fFillStyle\":3003,\"fMarkerColor\":1,\"fMarkerStyle\":0,\"fMarkerSize\":1,\"fNcells\":102,\"fXaxis\":{\"_typename\":\"TAxis\",\"fUniqueID\":0,\"fBits\":50331656,\"fName\":\"xaxis\",\"fTitle\":\"m_{Z} (GeV)\",\"fNdivisions\":510,\"fAxisColor\":1,\"fLabelColor\":1,\"fLabelFont\":42,\"fLabelOffset\":0.031104,\"fLabelSize\":0.126,\"fTickLength\":0.03,\"fTitleOffset\":1.2,\"fTitleSize\":0.1512,\"fTitleColor\":1,\"fTitleFont\":42,\"fNbins\":100,\"fXmin\":0,\"fXmax\":200,\"fXbins\":[],\"fFirst\":0,\"fLast\":0,\"fBits2\":0,\"fTimeDisplay\":false,\"fTimeFormat\":\"\",\"fLabels\":null,\"fModLabs\":null},\"fYaxis\":{\"_typename\":\"TAxis\",\"fUniqueID\":0,\"fBits\":50331656,\"fName\":\"yaxis\",\"fTitle\":\"Data \\/ Bkg\",\"fNdivisions\":505,\"fAxisColor\":1,\"fLabelColor\":1,\"fLabelFont\":42,\"fLabelOffset\":0.005,\"fLabelSize\":0.126,\"fTickLength\":0.03,\"fTitleOffset\":0,\"fTitleSize\":0.1512,\"fTitleColor\":1,\"fTitleFont\":42,\"fNbins\":1,\"fXmin\":0,\"fXmax\":1,\"fXbins\":[],\"fFirst\":0,\"fLast\":0,\"fBits2\":0,\"fTimeDisplay\":false,\"fTimeFormat\":\"\",\"fLabels\":null,\"fModLabs\":null},\"fZaxis\":{\"_typename\":\"TAxis\",\"fUniqueID\":0,\"fBits\":50331648,\"fName\":\"zaxis\",\"fTitle\":\"\",\"fNdivisions\":510,\"fAxisColor\":1,\"fLabelColor\":1,\"fLabelFont\":42,\"fLabelOffset\":0.005,\"fLabelSize\":0.035,\"fTickLength\":0.03,\"fTitleOffset\":1,\"fTitleSize\":0.035,\"fTitleColor\":1,\"fTitleFont\":42,\"fNbins\":1,\"fXmin\":0,\"fXmax\":1,\"fXbins\":[],\"fFirst\":0,\"fLast\":0,\"fBits2\":0,\"fTimeDisplay\":false,\"fTimeFormat\":\"\",\"fLabels\":null,\"fModLabs\":null},\"fBarOffset\":0,\"fBarWidth\":1000,\"fEntries\":1769399,\"fTsumw\":0,\"fTsumw2\":17824558.2633217,\"fTsumwx\":307098995.439423,\"fTsumwx2\":28104168622.6897,\"fMaximum\":2,\"fMinimum\":0,\"fNormFactor\":0,\"fContour\":[],\"fSumw2\":[0,0.0857280774167651,0.0570007264582081,0.0626745449449665,0.0644374263867772,0.0366577426611988,0.00145557627641175,0.00215739900171118,0.00199533563604614,0.00189183196372579,0.00307347422746274,0.00330069866032249,0.00237025669711126,0.00291030457826137,0.00350336937994342,0.0022886425693602,0.00464464499808214,0.00374417085174754,0.00427196281458664,0.00460099684920642,0.00358411575950133,0.00277327815479908,0.00300989858506063,0.00285802552096189,0.00296647226824304,0.00182292776618897,9.47197988385343e-4,0.00105912234089373,0.00101129157509472,7.57647160388043e-4,4.18731953625211e-4,5.14352257817768e-4,4.38558576952393e-4,2.99041062548635e-4,3.24645973822098e-4,2.95888086021772e-4,2.8843529166174e-4,1.87609510849163e-4,1.44258913944718e-4,1.27658859714119e-4,1.13507268910519e-4,7.90658738959197e-5,5.77925259718215e-5,3.98203086331172e-5,1.90821713791506e-5,7.85667667768426e-6,4.79531348930464e-6,8.04919371017448e-6,2.22538682701088e-5,5.56454729771808e-5,9.18783554410707e-5,1.65051451377663e-4,2.63473840179336e-4,4.44496776951705e-4,5.44673653827763e-4,7.8167211501867e-4,7.03055697961277e-4,7.02205817444047e-4,0.00123241134185508,6.23561702886434e-4,6.74460721938868e-4,0.00162366184574515,0.00223432280106805,0.00307958418167283,0.0016496486218383,0.00180674519867448,0.00206683773517157,0.00104360379681767,0.00604092208060462,0.00246598888162248,0.00643224348506466,0.0012265729180952,0.00506027095912608,0.00134282234149145,0.00136678589745533,0.0044460288355729,0.00996362102184825,0.0101918497352231,0.00559336852378952,0.00558371333015282,0.0057378478503305,0.00651986020162238,0.00176603208820375,0.00187021855263049,0.00186927273758241,0.0165551850108212,0.00204885020862724,0.00924216110369474,0.0163654534633382,0.00225095936939687,0.0157941242424328,0.0115707478715384,0.00239804070074444,0.0151554850899565,0.00249004651652774,0.0226874928067542,0.0026614452545853,0.00290722266580643,0.00291574268209353,0.00285662503033228,5.62858452010669e-4,0],\"fOption\":\"\",\"fFunctions\":{\"_typename\":\"TList\",\"name\":\"TList\",\"arr\":[],\"opt\":[]},\"fBufferSize\":0,\"fBuffer\":[],\"fBinStatErrOpt\":0,\"fArray\":[0,1,1,1,1,1,1,1,1,1,1,1,1,1,1,1,1,1,1,1,1,1,1,1,1,1,1,1,1,1,1,1,1,1,1,1,1,1,1,1,1,1,1,1,1,1,1,1,1,1,1,1,1,1,1,1,1,1,1,1,1,1,1,1,1,1,1,1,1,1,1,1,1,1,1,1,1,1,1,1,1,1,1,1,1,1,1,1,1,1,1,1,1,1,1,1,1,1,1,1,1,0]},{\"_typename\":\"TH1F\",\"fUniqueID\":0,\"fBits\":50332168,\"fName\":\"errLine\",\"fTitle\":\"\",\"fLineColor\":1,\"fLineStyle\":1,\"fLineWidth\":1,\"fFillColor\":1,\"fFillStyle\":0,\"fMarkerColor\":1,\"fMarkerStyle\":0,\"fMarkerSize\":1,\"fNcells\":102,\"fXaxis\":{\"_typename\":\"TAxis\",\"fUniqueID\":0,\"fBits\":50331656,\"fName\":\"xaxis\",\"fTitle\":\"m_{Z} (GeV)\",\"fNdivisions\":510,\"fAxisColor\":1,\"fLabelColor\":1,\"fLabelFont\":42,\"fLabelOffset\":0.031104,\"fLabelSize\":0.126,\"fTickLength\":0.03,\"fTitleOffset\":1.2,\"fTitleSize\":0.1512,\"fTitleColor\":1,\"fTitleFont\":42,\"fNbins\":100,\"fXmin\":0,\"fXmax\":200,\"fXbins\":[],\"fFirst\":0,\"fLast\":0,\"fBits2\":0,\"fTimeDisplay\":false,\"fTimeFormat\":\"\",\"fLabels\":null,\"fModLabs\":null},\"fYaxis\":{\"_typename\":\"TAxis\",\"fUniqueID\":0,\"fBits\":50331656,\"fName\":\"yaxis\",\"fTitle\":\"Data \\/ Bkg\",\"fNdivisions\":505,\"fAxisColor\":1,\"fLabelColor\":1,\"fLabelFont\":42,\"fLabelOffset\":0.005,\"fLabelSize\":0.126,\"fTickLength\":0.03,\"fTitleOffset\":0,\"fTitleSize\":0.1512,\"fTitleColor\":1,\"fTitleFont\":42,\"fNbins\":1,\"fXmin\":0,\"fXmax\":1,\"fXbins\":[],\"fFirst\":0,\"fLast\":0,\"fBits2\":0,\"fTimeDisplay\":false,\"fTimeFormat\":\"\",\"fLabels\":null,\"fModLabs\":null},\"fZaxis\":{\"_typename\":\"TAxis\",\"fUniqueID\":0,\"fBits\":50331648,\"fName\":\"zaxis\",\"fTitle\":\"\",\"fNdivisions\":510,\"fAxisColor\":1,\"fLabelColor\":1,\"fLabelFont\":42,\"fLabelOffset\":0.005,\"fLabelSize\":0.035,\"fTickLength\":0.03,\"fTitleOffset\":1,\"fTitleSize\":0.035,\"fTitleColor\":1,\"fTitleFont\":42,\"fNbins\":1,\"fXmin\":0,\"fXmax\":1,\"fXbins\":[],\"fFirst\":0,\"fLast\":0,\"fBits2\":0,\"fTimeDisplay\":false,\"fTimeFormat\":\"\",\"fLabels\":null,\"fModLabs\":null},\"fBarOffset\":0,\"fBarWidth\":1000,\"fEntries\":1769399,\"fTsumw\":0,\"fTsumw2\":17824558.2633217,\"fTsumwx\":307098995.439423,\"fTsumwx2\":28104168622.6897,\"fMaximum\":2,\"fMinimum\":0,\"fNormFactor\":0,\"fContour\":[],\"fSumw2\":[0,0.0857280774167651,0.0570007264582081,0.0626745449449665,0.0644374263867772,0.0366577426611988,0.00145557627641175,0.00215739900171118,0.00199533563604614,0.00189183196372579,0.00307347422746274,0.00330069866032249,0.00237025669711126,0.00291030457826137,0.00350336937994342,0.0022886425693602,0.00464464499808214,0.00374417085174754,0.00427196281458664,0.00460099684920642,0.00358411575950133,0.00277327815479908,0.00300989858506063,0.00285802552096189,0.00296647226824304,0.00182292776618897,9.47197988385343e-4,0.00105912234089373,0.00101129157509472,7.57647160388043e-4,4.18731953625211e-4,5.14352257817768e-4,4.38558576952393e-4,2.99041062548635e-4,3.24645973822098e-4,2.95888086021772e-4,2.8843529166174e-4,1.87609510849163e-4,1.44258913944718e-4,1.27658859714119e-4,1.13507268910519e-4,7.90658738959197e-5,5.77925259718215e-5,3.98203086331172e-5,1.90821713791506e-5,7.85667667768426e-6,4.79531348930464e-6,8.04919371017448e-6,2.22538682701088e-5,5.56454729771808e-5,9.18783554410707e-5,1.65051451377663e-4,2.63473840179336e-4,4.44496776951705e-4,5.44673653827763e-4,7.8167211501867e-4,7.03055697961277e-4,7.02205817444047e-4,0.00123241134185508,6.23561702886434e-4,6.74460721938868e-4,0.00162366184574515,0.00223432280106805,0.00307958418167283,0.0016496486218383,0.00180674519867448,0.00206683773517157,0.00104360379681767,0.00604092208060462,0.00246598888162248,0.00643224348506466,0.0012265729180952,0.00506027095912608,0.00134282234149145,0.00136678589745533,0.0044460288355729,0.00996362102184825,0.0101918497352231,0.00559336852378952,0.00558371333015282,0.0057378478503305,0.00651986020162238,0.00176603208820375,0.00187021855263049,0.00186927273758241,0.0165551850108212,0.00204885020862724,0.00924216110369474,0.0163654534633382,0.00225095936939687,0.0157941242424328,0.0115707478715384,0.00239804070074444,0.0151554850899565,0.00249004651652774,0.0226874928067542,0.0026614452545853,0.00290722266580643,0.00291574268209353,0.00285662503033228,5.62858452010669e-4,0],\"fOption\":\"\",\"fFunctions\":{\"_typename\":\"TList\",\"name\":\"TList\",\"arr\":[],\"opt\":[]},\"fBufferSize\":0,\"fBuffer\":[],\"fBinStatErrOpt\":0,\"fArray\":[0,1,1,1,1,1,1,1,1,1,1,1,1,1,1,1,1,1,1,1,1,1,1,1,1,1,1,1,1,1,1,1,1,1,1,1,1,1,1,1,1,1,1,1,1,1,1,1,1,1,1,1,1,1,1,1,1,1,1,1,1,1,1,1,1,1,1,1,1,1,1,1,1,1,1,1,1,1,1,1,1,1,1,1,1,1,1,1,1,1,1,1,1,1,1,1,1,1,1,1,1,0]},{\"_typename\":\"TH1F\",\"fUniqueID\":0,\"fBits\":50332168,\"fName\":\"Residues\",\"fTitle\":\"\",\"fLineColor\":1,\"fLineStyle\":1,\"fLineWidth\":1,\"fFillColor\":0,\"fFillStyle\":1,\"fMarkerColor\":1,\"fMarkerStyle\":20,\"fMarkerSize\":1.25,\"fNcells\":102,\"fXaxis\":{\"_typename\":\"TAxis\",\"fUniqueID\":0,\"fBits\":50331656,\"fName\":\"xaxis\",\"fTitle\":\"m_{Z} (GeV)\",\"fNdivisions\":510,\"fAxisColor\":1,\"fLabelColor\":1,\"fLabelFont\":42,\"fLabelOffset\":0.015,\"fLabelSize\":0.105,\"fTickLength\":0.03,\"fTitleOffset\":1,\"fTitleSize\":0.105,\"fTitleColor\":1,\"fTitleFont\":42,\"fNbins\":100,\"fXmin\":0,\"fXmax\":200,\"fXbins\":[],\"fFirst\":0,\"fLast\":0,\"fBits2\":0,\"fTimeDisplay\":false,\"fTimeFormat\":\"\",\"fLabels\":null,\"fModLabs\":null},\"fYaxis\":{\"_typename\":\"TAxis\",\"fUniqueID\":0,\"fBits\":50331656,\"fName\":\"yaxis\",\"fTitle\":\"\",\"fNdivisions\":505,\"fAxisColor\":1,\"fLabelColor\":1,\"fLabelFont\":42,\"fLabelOffset\":0.005,\"fLabelSize\":0.105,\"fTickLength\":0.03,\"fTitleOffset\":0,\"fTitleSize\":0.105,\"fTitleColor\":1,\"fTitleFont\":42,\"fNbins\":1,\"fXmin\":0,\"fXmax\":1,\"fXbins\":[],\"fFirst\":0,\"fLast\":0,\"fBits2\":0,\"fTimeDisplay\":false,\"fTimeFormat\":\"\",\"fLabels\":null,\"fModLabs\":null},\"fZaxis\":{\"_typename\":\"TAxis\",\"fUniqueID\":0,\"fBits\":50331648,\"fName\":\"zaxis\",\"fTitle\":\"\",\"fNdivisions\":510,\"fAxisColor\":1,\"fLabelColor\":1,\"fLabelFont\":42,\"fLabelOffset\":0.005,\"fLabelSize\":0.035,\"fTickLength\":0.03,\"fTitleOffset\":1,\"fTitleSize\":0.035,\"fTitleColor\":1,\"fTitleFont\":42,\"fNbins\":1,\"fXmin\":0,\"fXmax\":1,\"fXbins\":[],\"fFirst\":0,\"fLast\":0,\"fBits2\":0,\"fTimeDisplay\":false,\"fTimeFormat\":\"\",\"fLabels\":null,\"fModLabs\":null},\"fBarOffset\":0,\"fBarWidth\":1000,\"fEntries\":3659123,\"fTsumw\":0,\"fTsumw2\":3637723,\"fTsumwx\":300315489.034337,\"fTsumwx2\":27370560493.3489,\"fMaximum\":2,\"fMinimum\":0,\"fNormFactor\":0,\"fContour\":[],\"fSumw2\":[0,0.14680808165085,0.0444015817700816,0.0142420951022485,0.0152251191264855,0.0175227552918823,1.71298343348967e-4,1.72420640779713e-4,1.91402089006879e-4,2.0256746733306e-4,2.43950236593645e-4,2.11384464764857e-4,3.06484338996573e-4,2.35408931908282e-4,2.03658536903943e-4,2.97211795309969e-4,2.62161066373811e-4,2.17612722900166e-4,2.33209363132406e-4,2.3657613031038e-4,2.9344926079861e-4,2.68893202123266e-4,2.58771214946923e-4,2.26619312090082e-4,2.12096414238968e-4,1.74916986379213e-4,1.36638153761789e-4,1.09210977133056e-4,1.00599220585635e-4,7.84180522486803e-5,8.09547659721701e-5,7.15132530180756e-5,6.10055030837058e-5,5.72731503967826e-5,5.19361147129648e-5,5.01309129469615e-5,4.37561855534708e-5,3.90839620775942e-5,3.11828601468648e-5,2.64868418483258e-5,2.19489344598743e-5,1.70071190133412e-5,1.30424013095982e-5,8.09557329619422e-6,4.48391615721678e-6,1.84292537227485e-6,1.03320461547947e-6,1.64739527640484e-6,4.65011111692872e-6,1.14757721296525e-5,2.18381074931415e-5,3.4927465617637e-5,4.80262297555766e-5,6.22614200494903e-5,7.69086842476589e-5,8.8151200242116e-5,1.16914233112515e-4,1.48254002423938e-4,1.51722734505913e-4,1.87759031834944e-4,2.11116040338324e-4,2.1587689947381e-4,2.15794635687193e-4,2.38976163824399e-4,2.88434490274821e-4,3.03025749046593e-4,3.42981715888312e-4,3.7967157267969e-4,2.87874350668065e-4,3.52673957272418e-4,3.29229306864562e-4,5.01133362735244e-4,4.32675299803186e-4,5.51598205292954e-4,5.80793297747887e-4,5.74800545308457e-4,3.76485813393357e-4,4.83097165774442e-4,6.44934039491865e-4,6.44196210799571e-4,6.00075967720838e-4,6.98627162358788e-4,8.63778733707832e-4,7.54740605386792e-4,8.36719304203023e-4,5.74754230307123e-4,9.84736827551146e-4,8.27967356116129e-4,7.68079594594121e-4,0.00109535006990025,6.54701668319782e-4,8.04519748729908e-4,0.00130409219085391,0.00106870006781828,0.00175418499066791,8.21285621136271e-4,0.00161556378618637,0.00140480324663309,0.00160794307963565,0.0017633938921402,4.16969590587532e-5,0],\"fOption\":\"\",\"fFunctions\":{\"_typename\":\"TList\",\"name\":\"TList\",\"arr\":[],\"opt\":[]},\"fBufferSize\":0,\"fBuffer\":[],\"fBinStatErrOpt\":0,\"fArray\":[0,133.5686,53.109,17.16426,14.87094,16.9619,1.500972,1.222867,1.218799,1.189254,1.258849,1.11288,1.307974,1.118044,1.001406,1.201729,1.108608,0.9868217,1.034842,1.057047,1.192376,1.162869,1.175296,1.158269,1.200851,1.158582,1.079784,1.013851,1.022166,0.9592484,1.024055,1.006187,0.9630824,0.9678043,0.963163,0.9994541,0.9952431,1.002714,0.9583957,0.972464,0.9798868,0.9852834,1.022831,1.019255,1.061347,1.027687,0.950223,0.9144323,0.9391315,0.9809694,1.008573,1.020968,0.9968022,0.9861344,0.9788796,0.9407178,0.9926496,1.047416,0.9847902,1.031518,1.05519,0.9944506,0.9490663,0.9790472,1.014747,0.9981726,1.023458,1.048403,0.8886166,0.9329519,0.8838898,1.079414,0.9696409,1.042424,1.045492,1.027574,0.7962425,0.8816481,1.001435,1.001827,0.9204929,0.9900373,1.050671,0.9638909,0.9919586,0.8069675,1.0284,0.9621162,0.8920373,1.051289,0.778623,0.8254867,1.073693,0.9349849,1.226106,0.8034492,1.108074,1.002215,1.051791,1.071433,0.9577751,0]},{\"_typename\":\"TLatex\",\"fUniqueID\":0,\"fBits\":50348041,\"fName\":\"\",\"fTitle\":\"Data\\/Bkg = 1.049 #pm 0.001\",\"fTextAngle\":0,\"fTextSize\":0.08,\"fTextAlign\":11,\"fTextColor\":1,\"fTextFont\":62,\"fX\":0.15,\"fY\":0.85,\"fLineColor\":1,\"fLineStyle\":1,\"fLineWidth\":2,\"fLimitFactorSize\":3,\"fOriginSize\":0.04},{\"_typename\":\"TLatex\",\"fUniqueID\":0,\"fBits\":50348041,\"fName\":\"\",\"fTitle\":\"#chi^{2}\\/ndf = 1459.84,   K-S = 0.000\",\"fTextAngle\":0,\"fTextSize\":0.08,\"fTextAlign\":11,\"fTextColor\":1,\"fTextFont\":62,\"fX\":0.45,\"fY\":0.85,\"fLineColor\":1,\"fLineStyle\":1,\"fLineWidth\":2,\"fLimitFactorSize\":3,\"fOriginSize\":0.04},{\"_typename\":\"TLatex\",\"fUniqueID\":0,\"fBits\":50348041,\"fName\":\"\",\"fTitle\":\"rel. Yield= 104.872\",\"fTextAngle\":0,\"fTextSize\":0.08,\"fTextAlign\":11,\"fTextColor\":1,\"fTextFont\":62,\"fX\":0.75,\"fY\":0.85,\"fLineColor\":1,\"fLineStyle\":1,\"fLineWidth\":2,\"fLimitFactorSize\":3,\"fOriginSize\":0.04}],\"opt\":[\"\",\"E2\",\"SAME, HIST\",\"SAME, PE0\",\"\",\"\",\"\"]},\"fExecs\":{\"_typename\":\"TList\",\"name\":\"TList\",\"arr\":[],\"opt\":[]},\"fName\":\"BotPad\",\"fTitle\":\"\",\"fNumPaletteColor\":0,\"fNextPaletteColor\":0}],\"opt\":[\"\",\"\"]},\"fExecs\":null,\"fName\":\"c1\",\"fTitle\":\"m_{Z} (GeV)\",\"fNumPaletteColor\":0,\"fNextPaletteColor\":0,\"fDISPLAY\":\"$DISPLAY\",\"fDoubleBuffer\":0,\"fRetained\":true,\"fXsizeUser\":0,\"fYsizeUser\":0,\"fXsizeReal\":20,\"fYsizeReal\":20,\"fWindowTopX\":0,\"fWindowTopY\":0,\"fWindowWidth\":0,\"fWindowHeight\":0,\"fCw\":796,\"fCh\":772,\"fCatt\":{\"_typename\":\"TAttCanvas\",\"fXBetween\":2,\"fYBetween\":2,\"fTitleFromTop\":1.2,\"fXdate\":0.2,\"fYdate\":0.3,\"fAdate\":1},\"kMoveOpaque\":true,\"kResizeOpaque\":true,\"fHighLightColor\":2,\"fBatch\":true,\"kShowEventStatus\":false,\"kAutoExec\":true,\"kMenuBar\":true});\n",
       "       Core.draw(\"root_plot_1\", obj, \"\");\n",
       "     }\n",
       " );\n",
       "</script>\n"
      ],
      "text/plain": [
       "<IPython.core.display.HTML object>"
      ]
     },
     "metadata": {},
     "output_type": "display_data"
    }
   ],
   "source": [
    "out[0].Draw()"
   ]
  },
  {
   "cell_type": "markdown",
   "metadata": {},
   "source": [
    "## NOTES:\n",
    "\n",
    "### Physics Object:\n",
    "\n",
    "- Jet: cleaning from muon and electron:\n",
    "    - Jet:\n",
    "        - puID>4\n",
    "        - pt>30\n",
    "        - |eta|<2.5\n",
    "    - Muon:\n",
    "        - MediumID\n",
    "        - pt>5\n",
    "        - DeltaR>0.4\n",
    "    - Electron:\n",
    "        - Cutbase>4\n",
    "        - pt>15\n",
    "        - DeltaR>0.4\n",
    "        \n",
    "        \n",
    "        \n",
    "\n",
    "- OSmumu -> With jet cleaning and kinematics requirement on the jet, quality cut on muon, Zmass look stable, but 30% more data\n",
    "\n",
    "- SSmumu -> MHTju_pt = data (180057) ; BkgSum (233304) = Data more ; nJet = data (180057) ; BkgSum (233281)"
   ]
  },
  {
   "cell_type": "code",
   "execution_count": 9,
   "metadata": {
    "ExecuteTime": {
     "end_time": "2018-11-22T13:28:26.388801Z",
     "start_time": "2018-11-22T13:28:26.365142Z"
    }
   },
   "outputs": [],
   "source": [
    "### TOp up WJet HT and DY PT"
   ]
  }
 ],
 "metadata": {
  "kernelspec": {
   "display_name": "Python 2",
   "language": "python",
   "name": "python2"
  },
  "language_info": {
   "codemirror_mode": {
    "name": "ipython",
    "version": 2
   },
   "file_extension": ".py",
   "mimetype": "text/x-python",
   "name": "python",
   "nbconvert_exporter": "python",
   "pygments_lexer": "ipython2",
   "version": "2.7.10"
  },
  "varInspector": {
   "cols": {
    "lenName": 16,
    "lenType": 16,
    "lenVar": 40
   },
   "kernels_config": {
    "python": {
     "delete_cmd_postfix": "",
     "delete_cmd_prefix": "del ",
     "library": "var_list.py",
     "varRefreshCmd": "print(var_dic_list())"
    },
    "r": {
     "delete_cmd_postfix": ") ",
     "delete_cmd_prefix": "rm(",
     "library": "var_list.r",
     "varRefreshCmd": "cat(var_dic_list()) "
    }
   },
   "types_to_exclude": [
    "module",
    "function",
    "builtin_function_or_method",
    "instance",
    "_Feature"
   ],
   "window_display": false
  }
 },
 "nbformat": 4,
 "nbformat_minor": 2
}
